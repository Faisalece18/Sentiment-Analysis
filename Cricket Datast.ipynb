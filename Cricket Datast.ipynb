{
 "cells": [
  {
   "cell_type": "code",
   "execution_count": 25,
   "id": "1b80e1bb",
   "metadata": {},
   "outputs": [],
   "source": [
    "import numpy as np\n",
    "import pandas as pd\n",
    "import seaborn as sns\n",
    "from plotly import graph_objects as go\n",
    "from nltk.corpus import stopwords\n",
    "import re\n",
    "from matplotlib import pyplot as plt"
   ]
  },
  {
   "cell_type": "code",
   "execution_count": 26,
   "id": "43e8f0bb",
   "metadata": {},
   "outputs": [],
   "source": [
    "\n",
    "df = pd.read_excel('Datasets/Bangla_ABSA_Datasets-master/Cricket.xlsx')   \n"
   ]
  },
  {
   "cell_type": "code",
   "execution_count": 27,
   "id": "9415c619",
   "metadata": {},
   "outputs": [
    {
     "data": {
      "text/html": [
       "<div>\n",
       "<style scoped>\n",
       "    .dataframe tbody tr th:only-of-type {\n",
       "        vertical-align: middle;\n",
       "    }\n",
       "\n",
       "    .dataframe tbody tr th {\n",
       "        vertical-align: top;\n",
       "    }\n",
       "\n",
       "    .dataframe thead th {\n",
       "        text-align: right;\n",
       "    }\n",
       "</style>\n",
       "<table border=\"1\" class=\"dataframe\">\n",
       "  <thead>\n",
       "    <tr style=\"text-align: right;\">\n",
       "      <th></th>\n",
       "      <th>Source</th>\n",
       "      <th>Date</th>\n",
       "      <th>text</th>\n",
       "      <th>Category</th>\n",
       "      <th>Tag</th>\n",
       "    </tr>\n",
       "  </thead>\n",
       "  <tbody>\n",
       "    <tr>\n",
       "      <th>0</th>\n",
       "      <td>BBC Bangla</td>\n",
       "      <td>2018-06-03 00:00:00</td>\n",
       "      <td>জয় বাংলা কাপ! তাও আবার স্বাধীনতার মাস মার্চে। ...</td>\n",
       "      <td>other</td>\n",
       "      <td>positive</td>\n",
       "    </tr>\n",
       "    <tr>\n",
       "      <th>1</th>\n",
       "      <td>BBC Bangla</td>\n",
       "      <td>2018-06-04 00:00:00</td>\n",
       "      <td>জয় বাংলা কাপ! তাও আবার স্বাধীনতার মাস মার্চে। ...</td>\n",
       "      <td>team</td>\n",
       "      <td>positive</td>\n",
       "    </tr>\n",
       "    <tr>\n",
       "      <th>2</th>\n",
       "      <td>BBC Bangla</td>\n",
       "      <td>15/6/2017</td>\n",
       "      <td>বাংলাদেশের পরে ভারতের সাপর্ট ই করি ?</td>\n",
       "      <td>team</td>\n",
       "      <td>positive</td>\n",
       "    </tr>\n",
       "    <tr>\n",
       "      <th>3</th>\n",
       "      <td>BBC Bangla</td>\n",
       "      <td>15/6/2020</td>\n",
       "      <td>সৌম্যকে বাদ দেওয়া হোক</td>\n",
       "      <td>batting</td>\n",
       "      <td>negative</td>\n",
       "    </tr>\n",
       "    <tr>\n",
       "      <th>4</th>\n",
       "      <td>BBC Bangla</td>\n",
       "      <td>27/1/2018</td>\n",
       "      <td>প্রথমটি হচ্ছে, কোচ অত:পর সাকিব,সাকিব আর সাকিবর...</td>\n",
       "      <td>team</td>\n",
       "      <td>positive</td>\n",
       "    </tr>\n",
       "  </tbody>\n",
       "</table>\n",
       "</div>"
      ],
      "text/plain": [
       "       Source                 Date  \\\n",
       "0  BBC Bangla  2018-06-03 00:00:00   \n",
       "1  BBC Bangla  2018-06-04 00:00:00   \n",
       "2  BBC Bangla            15/6/2017   \n",
       "3  BBC Bangla            15/6/2020   \n",
       "4  BBC Bangla            27/1/2018   \n",
       "\n",
       "                                                text Category       Tag  \n",
       "0  জয় বাংলা কাপ! তাও আবার স্বাধীনতার মাস মার্চে। ...    other  positive  \n",
       "1  জয় বাংলা কাপ! তাও আবার স্বাধীনতার মাস মার্চে। ...     team  positive  \n",
       "2               বাংলাদেশের পরে ভারতের সাপর্ট ই করি ?     team  positive  \n",
       "3                              সৌম্যকে বাদ দেওয়া হোক  batting  negative  \n",
       "4  প্রথমটি হচ্ছে, কোচ অত:পর সাকিব,সাকিব আর সাকিবর...     team  positive  "
      ]
     },
     "execution_count": 27,
     "metadata": {},
     "output_type": "execute_result"
    }
   ],
   "source": [
    "df.head(5)"
   ]
  },
  {
   "cell_type": "code",
   "execution_count": 28,
   "id": "2006ad75",
   "metadata": {},
   "outputs": [],
   "source": [
    "df.drop(columns=['Source', 'Date', 'Category'], inplace=True)"
   ]
  },
  {
   "cell_type": "code",
   "execution_count": 29,
   "id": "1069fd2c",
   "metadata": {},
   "outputs": [
    {
     "data": {
      "text/html": [
       "<div>\n",
       "<style scoped>\n",
       "    .dataframe tbody tr th:only-of-type {\n",
       "        vertical-align: middle;\n",
       "    }\n",
       "\n",
       "    .dataframe tbody tr th {\n",
       "        vertical-align: top;\n",
       "    }\n",
       "\n",
       "    .dataframe thead th {\n",
       "        text-align: right;\n",
       "    }\n",
       "</style>\n",
       "<table border=\"1\" class=\"dataframe\">\n",
       "  <thead>\n",
       "    <tr style=\"text-align: right;\">\n",
       "      <th></th>\n",
       "      <th>text</th>\n",
       "      <th>Tag</th>\n",
       "      <th>sentiment</th>\n",
       "    </tr>\n",
       "  </thead>\n",
       "  <tbody>\n",
       "    <tr>\n",
       "      <th>0</th>\n",
       "      <td>জয় বাংলা কাপ! তাও আবার স্বাধীনতার মাস মার্চে। ...</td>\n",
       "      <td>positive</td>\n",
       "      <td>1</td>\n",
       "    </tr>\n",
       "    <tr>\n",
       "      <th>1</th>\n",
       "      <td>জয় বাংলা কাপ! তাও আবার স্বাধীনতার মাস মার্চে। ...</td>\n",
       "      <td>positive</td>\n",
       "      <td>1</td>\n",
       "    </tr>\n",
       "    <tr>\n",
       "      <th>2</th>\n",
       "      <td>বাংলাদেশের পরে ভারতের সাপর্ট ই করি ?</td>\n",
       "      <td>positive</td>\n",
       "      <td>1</td>\n",
       "    </tr>\n",
       "    <tr>\n",
       "      <th>3</th>\n",
       "      <td>সৌম্যকে বাদ দেওয়া হোক</td>\n",
       "      <td>negative</td>\n",
       "      <td>0</td>\n",
       "    </tr>\n",
       "    <tr>\n",
       "      <th>4</th>\n",
       "      <td>প্রথমটি হচ্ছে, কোচ অত:পর সাকিব,সাকিব আর সাকিবর...</td>\n",
       "      <td>positive</td>\n",
       "      <td>1</td>\n",
       "    </tr>\n",
       "  </tbody>\n",
       "</table>\n",
       "</div>"
      ],
      "text/plain": [
       "                                                text       Tag  sentiment\n",
       "0  জয় বাংলা কাপ! তাও আবার স্বাধীনতার মাস মার্চে। ...  positive          1\n",
       "1  জয় বাংলা কাপ! তাও আবার স্বাধীনতার মাস মার্চে। ...  positive          1\n",
       "2               বাংলাদেশের পরে ভারতের সাপর্ট ই করি ?  positive          1\n",
       "3                              সৌম্যকে বাদ দেওয়া হোক  negative          0\n",
       "4  প্রথমটি হচ্ছে, কোচ অত:পর সাকিব,সাকিব আর সাকিবর...  positive          1"
      ]
     },
     "execution_count": 29,
     "metadata": {},
     "output_type": "execute_result"
    }
   ],
   "source": [
    "# Define the mapping\n",
    "tag_mapping = {\n",
    "    \"negative\": 0,\n",
    "    \"positive\": 1,\n",
    "    \"neutral\": 2\n",
    "}\n",
    "\n",
    "# Create a new column with the mapped values\n",
    "df['sentiment'] = df['Tag'].map(tag_mapping)\n",
    "df.head(5)"
   ]
  },
  {
   "cell_type": "code",
   "execution_count": 30,
   "id": "5f0c85f2",
   "metadata": {},
   "outputs": [
    {
     "data": {
      "text/plain": [
       "text         0\n",
       "Tag          0\n",
       "sentiment    0\n",
       "dtype: int64"
      ]
     },
     "execution_count": 30,
     "metadata": {},
     "output_type": "execute_result"
    }
   ],
   "source": [
    "#check null values\n",
    "df.isnull().sum()"
   ]
  },
  {
   "cell_type": "markdown",
   "id": "326d0c73",
   "metadata": {},
   "source": [
    "### EDA"
   ]
  },
  {
   "cell_type": "code",
   "execution_count": 32,
   "id": "b04b0f73",
   "metadata": {},
   "outputs": [
    {
     "data": {
      "text/html": [
       "<div>\n",
       "<style scoped>\n",
       "    .dataframe tbody tr th:only-of-type {\n",
       "        vertical-align: middle;\n",
       "    }\n",
       "\n",
       "    .dataframe tbody tr th {\n",
       "        vertical-align: top;\n",
       "    }\n",
       "\n",
       "    .dataframe thead th {\n",
       "        text-align: right;\n",
       "    }\n",
       "</style>\n",
       "<table border=\"1\" class=\"dataframe\">\n",
       "  <thead>\n",
       "    <tr style=\"text-align: right;\">\n",
       "      <th></th>\n",
       "      <th>text</th>\n",
       "      <th>Tag</th>\n",
       "      <th>sentiment</th>\n",
       "    </tr>\n",
       "  </thead>\n",
       "  <tbody>\n",
       "    <tr>\n",
       "      <th>count</th>\n",
       "      <td>2979</td>\n",
       "      <td>2979</td>\n",
       "      <td>2979</td>\n",
       "    </tr>\n",
       "    <tr>\n",
       "      <th>unique</th>\n",
       "      <td>2720</td>\n",
       "      <td>3</td>\n",
       "      <td>3</td>\n",
       "    </tr>\n",
       "    <tr>\n",
       "      <th>top</th>\n",
       "      <td>এই পিচে বাংলাদেশকে ৪র্থ ইনিংসে ব্যাট করতে হবে,...</td>\n",
       "      <td>negative</td>\n",
       "      <td>0</td>\n",
       "    </tr>\n",
       "    <tr>\n",
       "      <th>freq</th>\n",
       "      <td>4</td>\n",
       "      <td>2152</td>\n",
       "      <td>2152</td>\n",
       "    </tr>\n",
       "  </tbody>\n",
       "</table>\n",
       "</div>"
      ],
      "text/plain": [
       "                                                     text       Tag  sentiment\n",
       "count                                                2979      2979       2979\n",
       "unique                                               2720         3          3\n",
       "top     এই পিচে বাংলাদেশকে ৪র্থ ইনিংসে ব্যাট করতে হবে,...  negative          0\n",
       "freq                                                    4      2152       2152"
      ]
     },
     "execution_count": 32,
     "metadata": {},
     "output_type": "execute_result"
    }
   ],
   "source": [
    "# Convert sentiment to a categorical type temporarily\n",
    "df['sentiment'] = df['sentiment'].astype('category')\n",
    "\n",
    "# Call describe again\n",
    "df.describe(include='all')"
   ]
  },
  {
   "cell_type": "code",
   "execution_count": 33,
   "id": "955ca84e",
   "metadata": {},
   "outputs": [
    {
     "data": {
      "text/html": [
       "<style type=\"text/css\">\n",
       "#T_79b09_row0_col1 {\n",
       "  background-color: #3f007d;\n",
       "  color: #f1f1f1;\n",
       "}\n",
       "#T_79b09_row1_col1 {\n",
       "  background-color: #e9e8f2;\n",
       "  color: #000000;\n",
       "}\n",
       "#T_79b09_row2_col1 {\n",
       "  background-color: #fcfbfd;\n",
       "  color: #000000;\n",
       "}\n",
       "</style>\n",
       "<table id=\"T_79b09\">\n",
       "  <thead>\n",
       "    <tr>\n",
       "      <th class=\"blank level0\" >&nbsp;</th>\n",
       "      <th id=\"T_79b09_level0_col0\" class=\"col_heading level0 col0\" >sentiment</th>\n",
       "      <th id=\"T_79b09_level0_col1\" class=\"col_heading level0 col1\" >text</th>\n",
       "    </tr>\n",
       "  </thead>\n",
       "  <tbody>\n",
       "    <tr>\n",
       "      <th id=\"T_79b09_level0_row0\" class=\"row_heading level0 row0\" >0</th>\n",
       "      <td id=\"T_79b09_row0_col0\" class=\"data row0 col0\" >negative</td>\n",
       "      <td id=\"T_79b09_row0_col1\" class=\"data row0 col1\" >2152</td>\n",
       "    </tr>\n",
       "    <tr>\n",
       "      <th id=\"T_79b09_level0_row1\" class=\"row_heading level0 row1\" >1</th>\n",
       "      <td id=\"T_79b09_row1_col0\" class=\"data row1 col0\" >positive</td>\n",
       "      <td id=\"T_79b09_row1_col1\" class=\"data row1 col1\" >566</td>\n",
       "    </tr>\n",
       "    <tr>\n",
       "      <th id=\"T_79b09_level0_row2\" class=\"row_heading level0 row2\" >2</th>\n",
       "      <td id=\"T_79b09_row2_col0\" class=\"data row2 col0\" >neutral</td>\n",
       "      <td id=\"T_79b09_row2_col1\" class=\"data row2 col1\" >261</td>\n",
       "    </tr>\n",
       "  </tbody>\n",
       "</table>\n"
      ],
      "text/plain": [
       "<pandas.io.formats.style.Styler at 0x264ff253310>"
      ]
     },
     "execution_count": 33,
     "metadata": {},
     "output_type": "execute_result"
    }
   ],
   "source": [
    "\n",
    "temp = df.groupby('sentiment').count()['text'].reset_index()\n",
    "\n",
    "\n",
    "sentiment_mapping = {0: 'negative', 1: 'positive', 2: 'neutral'}\n",
    "temp['sentiment'] = temp['sentiment'].map(sentiment_mapping)\n",
    "\n",
    "\n",
    "temp = temp.sort_values(by='sentiment')\n",
    "\n",
    "temp.style.background_gradient(cmap='Purples')"
   ]
  },
  {
   "cell_type": "code",
   "execution_count": 34,
   "id": "c854c8cc",
   "metadata": {},
   "outputs": [
    {
     "data": {
      "image/png": "[encoded data removed]",
      "text/plain": [
       "<Figure size 800x500 with 1 Axes>"
      ]
     },
     "metadata": {},
     "output_type": "display_data"
    }
   ],
   "source": [
    "\n",
    "plt.figure(figsize=(8, 5))\n",
    "sns.countplot(x='sentiment', data=df, palette='viridis')\n",
    "plt.title('Distribution of Types')\n",
    "plt.xlabel('sentiment')\n",
    "plt.ylabel('Count')\n",
    "plt.show()"
   ]
  },
  {
   "cell_type": "code",
   "execution_count": 35,
   "id": "34af04c3",
   "metadata": {},
   "outputs": [
    {
     "data": {
      "image/png": "[encoded data removed]",
      "text/plain": [
       "<Figure size 1000x600 with 1 Axes>"
      ]
     },
     "metadata": {},
     "output_type": "display_data"
    }
   ],
   "source": [
    "plt.figure(figsize=(10, 6))\n",
    "sns.countplot(y='Tag', data=df, palette='viridis', order=df['Tag'].value_counts().index)\n",
    "plt.title('Distribution of Tags')\n",
    "plt.xlabel('Count')\n",
    "plt.ylabel('Tag')\n",
    "plt.show()"
   ]
  },
  {
   "cell_type": "code",
   "execution_count": 36,
   "id": "657c9f96",
   "metadata": {},
   "outputs": [
    {
     "data": {
      "application/vnd.plotly.v1+json": {
       "config": {
        "plotlyServerURL": "https://plot.ly"
       },
       "data": [
        {
         "text": [
          "negative",
          "positive",
          "neutral"
         ],
         "title": {
          "position": "top center",
          "text": "Funnel-Chart of Sentiment Distribution"
         },
         "type": "funnelarea",
         "values": {
          "bdata": "aAg2AgUB",
          "dtype": "i2"
         }
        }
       ],
       "layout": {
        "template": {
         "data": {
          "bar": [
           {
            "error_x": {
             "color": "#2a3f5f"
            },
            "error_y": {
             "color": "#2a3f5f"
            },
            "marker": {
             "line": {
              "color": "#E5ECF6",
              "width": 0.5
             },
             "pattern": {
              "fillmode": "overlay",
              "size": 10,
              "solidity": 0.2
             }
            },
            "type": "bar"
           }
          ],
          "barpolar": [
           {
            "marker": {
             "line": {
              "color": "#E5ECF6",
              "width": 0.5
             },
             "pattern": {
              "fillmode": "overlay",
              "size": 10,
              "solidity": 0.2
             }
            },
            "type": "barpolar"
           }
          ],
          "carpet": [
           {
            "aaxis": {
             "endlinecolor": "#2a3f5f",
             "gridcolor": "white",
             "linecolor": "white",
             "minorgridcolor": "white",
             "startlinecolor": "#2a3f5f"
            },
            "baxis": {
             "endlinecolor": "#2a3f5f",
             "gridcolor": "white",
             "linecolor": "white",
             "minorgridcolor": "white",
             "startlinecolor": "#2a3f5f"
            },
            "type": "carpet"
           }
          ],
          "choropleth": [
           {
            "colorbar": {
             "outlinewidth": 0,
             "ticks": ""
            },
            "type": "choropleth"
           }
          ],
          "contour": [
           {
            "colorbar": {
             "outlinewidth": 0,
             "ticks": ""
            },
            "colorscale": [
             [
              0,
              "#0d0887"
             ],
             [
              0.1111111111111111,
              "#46039f"
             ],
             [
              0.2222222222222222,
              "#7201a8"
             ],
             [
              0.3333333333333333,
              "#9c179e"
             ],
             [
              0.4444444444444444,
              "#bd3786"
             ],
             [
              0.5555555555555556,
              "#d8576b"
             ],
             [
              0.6666666666666666,
              "#ed7953"
             ],
             [
              0.7777777777777778,
              "#fb9f3a"
             ],
             [
              0.8888888888888888,
              "#fdca26"
             ],
             [
              1,
              "#f0f921"
             ]
            ],
            "type": "contour"
           }
          ],
          "contourcarpet": [
           {
            "colorbar": {
             "outlinewidth": 0,
             "ticks": ""
            },
            "type": "contourcarpet"
           }
          ],
          "heatmap": [
           {
            "colorbar": {
             "outlinewidth": 0,
             "ticks": ""
            },
            "colorscale": [
             [
              0,
              "#0d0887"
             ],
             [
              0.1111111111111111,
              "#46039f"
             ],
             [
              0.2222222222222222,
              "#7201a8"
             ],
             [
              0.3333333333333333,
              "#9c179e"
             ],
             [
              0.4444444444444444,
              "#bd3786"
             ],
             [
              0.5555555555555556,
              "#d8576b"
             ],
             [
              0.6666666666666666,
              "#ed7953"
             ],
             [
              0.7777777777777778,
              "#fb9f3a"
             ],
             [
              0.8888888888888888,
              "#fdca26"
             ],
             [
              1,
              "#f0f921"
             ]
            ],
            "type": "heatmap"
           }
          ],
          "histogram": [
           {
            "marker": {
             "pattern": {
              "fillmode": "overlay",
              "size": 10,
              "solidity": 0.2
             }
            },
            "type": "histogram"
           }
          ],
          "histogram2d": [
           {
            "colorbar": {
             "outlinewidth": 0,
             "ticks": ""
            },
            "colorscale": [
             [
              0,
              "#0d0887"
             ],
             [
              0.1111111111111111,
              "#46039f"
             ],
             [
              0.2222222222222222,
              "#7201a8"
             ],
             [
              0.3333333333333333,
              "#9c179e"
             ],
             [
              0.4444444444444444,
              "#bd3786"
             ],
             [
              0.5555555555555556,
              "#d8576b"
             ],
             [
              0.6666666666666666,
              "#ed7953"
             ],
             [
              0.7777777777777778,
              "#fb9f3a"
             ],
             [
              0.8888888888888888,
              "#fdca26"
             ],
             [
              1,
              "#f0f921"
             ]
            ],
            "type": "histogram2d"
           }
          ],
          "histogram2dcontour": [
           {
            "colorbar": {
             "outlinewidth": 0,
             "ticks": ""
            },
            "colorscale": [
             [
              0,
              "#0d0887"
             ],
             [
              0.1111111111111111,
              "#46039f"
             ],
             [
              0.2222222222222222,
              "#7201a8"
             ],
             [
              0.3333333333333333,
              "#9c179e"
             ],
             [
              0.4444444444444444,
              "#bd3786"
             ],
             [
              0.5555555555555556,
              "#d8576b"
             ],
             [
              0.6666666666666666,
              "#ed7953"
             ],
             [
              0.7777777777777778,
              "#fb9f3a"
             ],
             [
              0.8888888888888888,
              "#fdca26"
             ],
             [
              1,
              "#f0f921"
             ]
            ],
            "type": "histogram2dcontour"
           }
          ],
          "mesh3d": [
           {
            "colorbar": {
             "outlinewidth": 0,
             "ticks": ""
            },
            "type": "mesh3d"
           }
          ],
          "parcoords": [
           {
            "line": {
             "colorbar": {
              "outlinewidth": 0,
              "ticks": ""
             }
            },
            "type": "parcoords"
           }
          ],
          "pie": [
           {
            "automargin": true,
            "type": "pie"
           }
          ],
          "scatter": [
           {
            "fillpattern": {
             "fillmode": "overlay",
             "size": 10,
             "solidity": 0.2
            },
            "type": "scatter"
           }
          ],
          "scatter3d": [
           {
            "line": {
             "colorbar": {
              "outlinewidth": 0,
              "ticks": ""
             }
            },
            "marker": {
             "colorbar": {
              "outlinewidth": 0,
              "ticks": ""
             }
            },
            "type": "scatter3d"
           }
          ],
          "scattercarpet": [
           {
            "marker": {
             "colorbar": {
              "outlinewidth": 0,
              "ticks": ""
             }
            },
            "type": "scattercarpet"
           }
          ],
          "scattergeo": [
           {
            "marker": {
             "colorbar": {
              "outlinewidth": 0,
              "ticks": ""
             }
            },
            "type": "scattergeo"
           }
          ],
          "scattergl": [
           {
            "marker": {
             "colorbar": {
              "outlinewidth": 0,
              "ticks": ""
             }
            },
            "type": "scattergl"
           }
          ],
          "scattermap": [
           {
            "marker": {
             "colorbar": {
              "outlinewidth": 0,
              "ticks": ""
             }
            },
            "type": "scattermap"
           }
          ],
          "scattermapbox": [
           {
            "marker": {
             "colorbar": {
              "outlinewidth": 0,
              "ticks": ""
             }
            },
            "type": "scattermapbox"
           }
          ],
          "scatterpolar": [
           {
            "marker": {
             "colorbar": {
              "outlinewidth": 0,
              "ticks": ""
             }
            },
            "type": "scatterpolar"
           }
          ],
          "scatterpolargl": [
           {
            "marker": {
             "colorbar": {
              "outlinewidth": 0,
              "ticks": ""
             }
            },
            "type": "scatterpolargl"
           }
          ],
          "scatterternary": [
           {
            "marker": {
             "colorbar": {
              "outlinewidth": 0,
              "ticks": ""
             }
            },
            "type": "scatterternary"
           }
          ],
          "surface": [
           {
            "colorbar": {
             "outlinewidth": 0,
             "ticks": ""
            },
            "colorscale": [
             [
              0,
              "#0d0887"
             ],
             [
              0.1111111111111111,
              "#46039f"
             ],
             [
              0.2222222222222222,
              "#7201a8"
             ],
             [
              0.3333333333333333,
              "#9c179e"
             ],
             [
              0.4444444444444444,
              "#bd3786"
             ],
             [
              0.5555555555555556,
              "#d8576b"
             ],
             [
              0.6666666666666666,
              "#ed7953"
             ],
             [
              0.7777777777777778,
              "#fb9f3a"
             ],
             [
              0.8888888888888888,
              "#fdca26"
             ],
             [
              1,
              "#f0f921"
             ]
            ],
            "type": "surface"
           }
          ],
          "table": [
           {
            "cells": {
             "fill": {
              "color": "#EBF0F8"
             },
             "line": {
              "color": "white"
             }
            },
            "header": {
             "fill": {
              "color": "#C8D4E3"
             },
             "line": {
              "color": "white"
             }
            },
            "type": "table"
           }
          ]
         },
         "layout": {
          "annotationdefaults": {
           "arrowcolor": "#2a3f5f",
           "arrowhead": 0,
           "arrowwidth": 1
          },
          "autotypenumbers": "strict",
          "coloraxis": {
           "colorbar": {
            "outlinewidth": 0,
            "ticks": ""
           }
          },
          "colorscale": {
           "diverging": [
            [
             0,
             "#8e0152"
            ],
            [
             0.1,
             "#c51b7d"
            ],
            [
             0.2,
             "#de77ae"
            ],
            [
             0.3,
             "#f1b6da"
            ],
            [
             0.4,
             "#fde0ef"
            ],
            [
             0.5,
             "#f7f7f7"
            ],
            [
             0.6,
             "#e6f5d0"
            ],
            [
             0.7,
             "#b8e186"
            ],
            [
             0.8,
             "#7fbc41"
            ],
            [
             0.9,
             "#4d9221"
            ],
            [
             1,
             "#276419"
            ]
           ],
           "sequential": [
            [
             0,
             "#0d0887"
            ],
            [
             0.1111111111111111,
             "#46039f"
            ],
            [
             0.2222222222222222,
             "#7201a8"
            ],
            [
             0.3333333333333333,
             "#9c179e"
            ],
            [
             0.4444444444444444,
             "#bd3786"
            ],
            [
             0.5555555555555556,
             "#d8576b"
            ],
            [
             0.6666666666666666,
             "#ed7953"
            ],
            [
             0.7777777777777778,
             "#fb9f3a"
            ],
            [
             0.8888888888888888,
             "#fdca26"
            ],
            [
             1,
             "#f0f921"
            ]
           ],
           "sequentialminus": [
            [
             0,
             "#0d0887"
            ],
            [
             0.1111111111111111,
             "#46039f"
            ],
            [
             0.2222222222222222,
             "#7201a8"
            ],
            [
             0.3333333333333333,
             "#9c179e"
            ],
            [
             0.4444444444444444,
             "#bd3786"
            ],
            [
             0.5555555555555556,
             "#d8576b"
            ],
            [
             0.6666666666666666,
             "#ed7953"
            ],
            [
             0.7777777777777778,
             "#fb9f3a"
            ],
            [
             0.8888888888888888,
             "#fdca26"
            ],
            [
             1,
             "#f0f921"
            ]
           ]
          },
          "colorway": [
           "#636efa",
           "#EF553B",
           "#00cc96",
           "#ab63fa",
           "#FFA15A",
           "#19d3f3",
           "#FF6692",
           "#B6E880",
           "#FF97FF",
           "#FECB52"
          ],
          "font": {
           "color": "#2a3f5f"
          },
          "geo": {
           "bgcolor": "white",
           "lakecolor": "white",
           "landcolor": "#E5ECF6",
           "showlakes": true,
           "showland": true,
           "subunitcolor": "white"
          },
          "hoverlabel": {
           "align": "left"
          },
          "hovermode": "closest",
          "mapbox": {
           "style": "light"
          },
          "paper_bgcolor": "white",
          "plot_bgcolor": "#E5ECF6",
          "polar": {
           "angularaxis": {
            "gridcolor": "white",
            "linecolor": "white",
            "ticks": ""
           },
           "bgcolor": "#E5ECF6",
           "radialaxis": {
            "gridcolor": "white",
            "linecolor": "white",
            "ticks": ""
           }
          },
          "scene": {
           "xaxis": {
            "backgroundcolor": "#E5ECF6",
            "gridcolor": "white",
            "gridwidth": 2,
            "linecolor": "white",
            "showbackground": true,
            "ticks": "",
            "zerolinecolor": "white"
           },
           "yaxis": {
            "backgroundcolor": "#E5ECF6",
            "gridcolor": "white",
            "gridwidth": 2,
            "linecolor": "white",
            "showbackground": true,
            "ticks": "",
            "zerolinecolor": "white"
           },
           "zaxis": {
            "backgroundcolor": "#E5ECF6",
            "gridcolor": "white",
            "gridwidth": 2,
            "linecolor": "white",
            "showbackground": true,
            "ticks": "",
            "zerolinecolor": "white"
           }
          },
          "shapedefaults": {
           "line": {
            "color": "#2a3f5f"
           }
          },
          "ternary": {
           "aaxis": {
            "gridcolor": "white",
            "linecolor": "white",
            "ticks": ""
           },
           "baxis": {
            "gridcolor": "white",
            "linecolor": "white",
            "ticks": ""
           },
           "bgcolor": "#E5ECF6",
           "caxis": {
            "gridcolor": "white",
            "linecolor": "white",
            "ticks": ""
           }
          },
          "title": {
           "x": 0.05
          },
          "xaxis": {
           "automargin": true,
           "gridcolor": "white",
           "linecolor": "white",
           "ticks": "",
           "title": {
            "standoff": 15
           },
           "zerolinecolor": "white",
           "zerolinewidth": 2
          },
          "yaxis": {
           "automargin": true,
           "gridcolor": "white",
           "linecolor": "white",
           "ticks": "",
           "title": {
            "standoff": 15
           },
           "zerolinecolor": "white",
           "zerolinewidth": 2
          }
         }
        }
       }
      }
     },
     "metadata": {},
     "output_type": "display_data"
    }
   ],
   "source": [
    "from plotly import graph_objs as go\n",
    "\n",
    "fig = go.Figure(go.Funnelarea(\n",
    "    text=temp.sentiment,\n",
    "    values=temp.text,\n",
    "    title={\"position\": \"top center\", \"text\": \"Funnel-Chart of Sentiment Distribution\"}\n",
    "))\n",
    "fig.show()"
   ]
  },
  {
   "cell_type": "markdown",
   "id": "6b3596a0",
   "metadata": {},
   "source": [
    "#### Most common WOrds"
   ]
  },
  {
   "cell_type": "code",
   "execution_count": 37,
   "id": "1c1d6d74",
   "metadata": {},
   "outputs": [
    {
     "data": {
      "text/html": [
       "<style type=\"text/css\">\n",
       "#T_10149_row0_col1 {\n",
       "  background-color: #08306b;\n",
       "  color: #f1f1f1;\n",
       "}\n",
       "#T_10149_row1_col1 {\n",
       "  background-color: #4b98ca;\n",
       "  color: #f1f1f1;\n",
       "}\n",
       "#T_10149_row2_col1 {\n",
       "  background-color: #65aad4;\n",
       "  color: #f1f1f1;\n",
       "}\n",
       "#T_10149_row3_col1 {\n",
       "  background-color: #6fb0d7;\n",
       "  color: #f1f1f1;\n",
       "}\n",
       "#T_10149_row4_col1 {\n",
       "  background-color: #77b5d9;\n",
       "  color: #000000;\n",
       "}\n",
       "#T_10149_row5_col1 {\n",
       "  background-color: #89bedc;\n",
       "  color: #000000;\n",
       "}\n",
       "#T_10149_row6_col1 {\n",
       "  background-color: #afd1e7;\n",
       "  color: #000000;\n",
       "}\n",
       "#T_10149_row7_col1 {\n",
       "  background-color: #d5e5f4;\n",
       "  color: #000000;\n",
       "}\n",
       "#T_10149_row8_col1 {\n",
       "  background-color: #e6f0f9;\n",
       "  color: #000000;\n",
       "}\n",
       "#T_10149_row9_col1 {\n",
       "  background-color: #e7f0fa;\n",
       "  color: #000000;\n",
       "}\n",
       "#T_10149_row10_col1 {\n",
       "  background-color: #e8f1fa;\n",
       "  color: #000000;\n",
       "}\n",
       "#T_10149_row11_col1 {\n",
       "  background-color: #ebf3fb;\n",
       "  color: #000000;\n",
       "}\n",
       "#T_10149_row12_col1 {\n",
       "  background-color: #edf4fc;\n",
       "  color: #000000;\n",
       "}\n",
       "#T_10149_row13_col1 {\n",
       "  background-color: #eff6fc;\n",
       "  color: #000000;\n",
       "}\n",
       "#T_10149_row14_col1 {\n",
       "  background-color: #f0f6fd;\n",
       "  color: #000000;\n",
       "}\n",
       "#T_10149_row15_col1, #T_10149_row16_col1 {\n",
       "  background-color: #f5f9fe;\n",
       "  color: #000000;\n",
       "}\n",
       "#T_10149_row17_col1 {\n",
       "  background-color: #f5fafe;\n",
       "  color: #000000;\n",
       "}\n",
       "#T_10149_row18_col1, #T_10149_row19_col1 {\n",
       "  background-color: #f7fbff;\n",
       "  color: #000000;\n",
       "}\n",
       "</style>\n",
       "<table id=\"T_10149\">\n",
       "  <thead>\n",
       "    <tr>\n",
       "      <th class=\"blank level0\" >&nbsp;</th>\n",
       "      <th id=\"T_10149_level0_col0\" class=\"col_heading level0 col0\" >Common_words</th>\n",
       "      <th id=\"T_10149_level0_col1\" class=\"col_heading level0 col1\" >count</th>\n",
       "    </tr>\n",
       "  </thead>\n",
       "  <tbody>\n",
       "    <tr>\n",
       "      <th id=\"T_10149_level0_row0\" class=\"row_heading level0 row0\" >0</th>\n",
       "      <td id=\"T_10149_row0_col0\" class=\"data row0 col0\" >না</td>\n",
       "      <td id=\"T_10149_row0_col1\" class=\"data row0 col1\" >335</td>\n",
       "    </tr>\n",
       "    <tr>\n",
       "      <th id=\"T_10149_level0_row1\" class=\"row_heading level0 row1\" >1</th>\n",
       "      <td id=\"T_10149_row1_col0\" class=\"data row1 col0\" >আর</td>\n",
       "      <td id=\"T_10149_row1_col1\" class=\"data row1 col1\" >249</td>\n",
       "    </tr>\n",
       "    <tr>\n",
       "      <th id=\"T_10149_level0_row2\" class=\"row_heading level0 row2\" >2</th>\n",
       "      <td id=\"T_10149_row2_col0\" class=\"data row2 col0\" >বাংলাদেশ</td>\n",
       "      <td id=\"T_10149_row2_col1\" class=\"data row2 col1\" >233</td>\n",
       "    </tr>\n",
       "    <tr>\n",
       "      <th id=\"T_10149_level0_row3\" class=\"row_heading level0 row3\" >3</th>\n",
       "      <td id=\"T_10149_row3_col0\" class=\"data row3 col0\" >এই</td>\n",
       "      <td id=\"T_10149_row3_col1\" class=\"data row3 col1\" >227</td>\n",
       "    </tr>\n",
       "    <tr>\n",
       "      <th id=\"T_10149_level0_row4\" class=\"row_heading level0 row4\" >4</th>\n",
       "      <td id=\"T_10149_row4_col0\" class=\"data row4 col0\" >কি</td>\n",
       "      <td id=\"T_10149_row4_col1\" class=\"data row4 col1\" >223</td>\n",
       "    </tr>\n",
       "    <tr>\n",
       "      <th id=\"T_10149_level0_row5\" class=\"row_heading level0 row5\" >5</th>\n",
       "      <td id=\"T_10149_row5_col0\" class=\"data row5 col0\" >করে</td>\n",
       "      <td id=\"T_10149_row5_col1\" class=\"data row5 col1\" >214</td>\n",
       "    </tr>\n",
       "    <tr>\n",
       "      <th id=\"T_10149_level0_row6\" class=\"row_heading level0 row6\" >6</th>\n",
       "      <td id=\"T_10149_row6_col0\" class=\"data row6 col0\" >কে</td>\n",
       "      <td id=\"T_10149_row6_col1\" class=\"data row6 col1\" >191</td>\n",
       "    </tr>\n",
       "    <tr>\n",
       "      <th id=\"T_10149_level0_row7\" class=\"row_heading level0 row7\" >7</th>\n",
       "      <td id=\"T_10149_row7_col0\" class=\"data row7 col0\" >জন্য</td>\n",
       "      <td id=\"T_10149_row7_col1\" class=\"data row7 col1\" >160</td>\n",
       "    </tr>\n",
       "    <tr>\n",
       "      <th id=\"T_10149_level0_row8\" class=\"row_heading level0 row8\" >8</th>\n",
       "      <td id=\"T_10149_row8_col0\" class=\"data row8 col0\" >বাংলাদেশের</td>\n",
       "      <td id=\"T_10149_row8_col1\" class=\"data row8 col1\" >142</td>\n",
       "    </tr>\n",
       "    <tr>\n",
       "      <th id=\"T_10149_level0_row9\" class=\"row_heading level0 row9\" >9</th>\n",
       "      <td id=\"T_10149_row9_col0\" class=\"data row9 col0\" >ও</td>\n",
       "      <td id=\"T_10149_row9_col1\" class=\"data row9 col1\" >141</td>\n",
       "    </tr>\n",
       "    <tr>\n",
       "      <th id=\"T_10149_level0_row10\" class=\"row_heading level0 row10\" >10</th>\n",
       "      <td id=\"T_10149_row10_col0\" class=\"data row10 col0\" >ভালো</td>\n",
       "      <td id=\"T_10149_row10_col1\" class=\"data row10 col1\" >139</td>\n",
       "    </tr>\n",
       "    <tr>\n",
       "      <th id=\"T_10149_level0_row11\" class=\"row_heading level0 row11\" >11</th>\n",
       "      <td id=\"T_10149_row11_col0\" class=\"data row11 col0\" >আমাদের</td>\n",
       "      <td id=\"T_10149_row11_col1\" class=\"data row11 col1\" >136</td>\n",
       "    </tr>\n",
       "    <tr>\n",
       "      <th id=\"T_10149_level0_row12\" class=\"row_heading level0 row12\" >12</th>\n",
       "      <td id=\"T_10149_row12_col0\" class=\"data row12 col0\" >ক্রিকেট</td>\n",
       "      <td id=\"T_10149_row12_col1\" class=\"data row12 col1\" >134</td>\n",
       "    </tr>\n",
       "    <tr>\n",
       "      <th id=\"T_10149_level0_row13\" class=\"row_heading level0 row13\" >13</th>\n",
       "      <td id=\"T_10149_row13_col0\" class=\"data row13 col0\" >যে</td>\n",
       "      <td id=\"T_10149_row13_col1\" class=\"data row13 col1\" >132</td>\n",
       "    </tr>\n",
       "    <tr>\n",
       "      <th id=\"T_10149_level0_row14\" class=\"row_heading level0 row14\" >14</th>\n",
       "      <td id=\"T_10149_row14_col0\" class=\"data row14 col0\" >করতে</td>\n",
       "      <td id=\"T_10149_row14_col1\" class=\"data row14 col1\" >131</td>\n",
       "    </tr>\n",
       "    <tr>\n",
       "      <th id=\"T_10149_level0_row15\" class=\"row_heading level0 row15\" >15</th>\n",
       "      <td id=\"T_10149_row15_col0\" class=\"data row15 col0\" >করা</td>\n",
       "      <td id=\"T_10149_row15_col1\" class=\"data row15 col1\" >126</td>\n",
       "    </tr>\n",
       "    <tr>\n",
       "      <th id=\"T_10149_level0_row16\" class=\"row_heading level0 row16\" >16</th>\n",
       "      <td id=\"T_10149_row16_col0\" class=\"data row16 col0\" >।</td>\n",
       "      <td id=\"T_10149_row16_col1\" class=\"data row16 col1\" >126</td>\n",
       "    </tr>\n",
       "    <tr>\n",
       "      <th id=\"T_10149_level0_row17\" class=\"row_heading level0 row17\" >17</th>\n",
       "      <td id=\"T_10149_row17_col0\" class=\"data row17 col0\" >রাজ্জাক</td>\n",
       "      <td id=\"T_10149_row17_col1\" class=\"data row17 col1\" >125</td>\n",
       "    </tr>\n",
       "    <tr>\n",
       "      <th id=\"T_10149_level0_row18\" class=\"row_heading level0 row18\" >18</th>\n",
       "      <td id=\"T_10149_row18_col0\" class=\"data row18 col0\" >দলে</td>\n",
       "      <td id=\"T_10149_row18_col1\" class=\"data row18 col1\" >123</td>\n",
       "    </tr>\n",
       "    <tr>\n",
       "      <th id=\"T_10149_level0_row19\" class=\"row_heading level0 row19\" >19</th>\n",
       "      <td id=\"T_10149_row19_col0\" class=\"data row19 col0\" >এর</td>\n",
       "      <td id=\"T_10149_row19_col1\" class=\"data row19 col1\" >123</td>\n",
       "    </tr>\n",
       "  </tbody>\n",
       "</table>\n"
      ],
      "text/plain": [
       "<pandas.io.formats.style.Styler at 0x264ff0713d0>"
      ]
     },
     "execution_count": 37,
     "metadata": {},
     "output_type": "execute_result"
    }
   ],
   "source": [
    "from collections import Counter\n",
    "\n",
    "df['temp_list'] = df['text'].apply(lambda x:str(x).split())\n",
    "top = Counter([item for sublist in df['temp_list'] for item in sublist])\n",
    "temp = pd.DataFrame(top.most_common(20))\n",
    "temp.columns = ['Common_words','count']\n",
    "temp.style.background_gradient(cmap='Blues')"
   ]
  },
  {
   "cell_type": "code",
   "execution_count": 38,
   "id": "a66b19db",
   "metadata": {},
   "outputs": [],
   "source": [
    "df['temp_list'] = df['text'].apply(lambda x: str(x).split())\n",
    "def remove_stopword(x):\n",
    "    return [y for y in x if y not in stopwords.words('bengali')]\n",
    "df['temp_list'] = df['temp_list'].apply(remove_stopword)"
   ]
  },
  {
   "cell_type": "code",
   "execution_count": 39,
   "id": "d9aa4e4e",
   "metadata": {},
   "outputs": [],
   "source": [
    "# Remove punctuation\n",
    "def remove_punctuation(temp_list):\n",
    "    return [re.sub(r'[“”\"\\'।।.,!?()\\[\\]{}<>;:।‘’–—…]', '', word) for word in temp_list]\n",
    "\n",
    "df['temp_list'] = df['temp_list'].apply(remove_punctuation)"
   ]
  },
  {
   "cell_type": "markdown",
   "id": "bc5b492a",
   "metadata": {},
   "source": [
    "#### Most common words after removing stopwords"
   ]
  },
  {
   "cell_type": "code",
   "execution_count": 40,
   "id": "f82a3d5f",
   "metadata": {},
   "outputs": [],
   "source": [
    "def remove_space(x):\n",
    "    return [y for y in x if y != '']\n",
    "df['temp_list'] = df['temp_list'].apply(remove_space)"
   ]
  },
  {
   "cell_type": "code",
   "execution_count": 41,
   "id": "e630f671",
   "metadata": {},
   "outputs": [
    {
     "data": {
      "text/html": [
       "<style type=\"text/css\">\n",
       "#T_1f9a5_row0_col1 {\n",
       "  background-color: #08306b;\n",
       "  color: #f1f1f1;\n",
       "}\n",
       "#T_1f9a5_row1_col1 {\n",
       "  background-color: #8abfdd;\n",
       "  color: #000000;\n",
       "}\n",
       "#T_1f9a5_row2_col1 {\n",
       "  background-color: #9ac8e0;\n",
       "  color: #000000;\n",
       "}\n",
       "#T_1f9a5_row3_col1 {\n",
       "  background-color: #a0cbe2;\n",
       "  color: #000000;\n",
       "}\n",
       "#T_1f9a5_row4_col1 {\n",
       "  background-color: #a3cce3;\n",
       "  color: #000000;\n",
       "}\n",
       "#T_1f9a5_row5_col1 {\n",
       "  background-color: #b2d2e8;\n",
       "  color: #000000;\n",
       "}\n",
       "#T_1f9a5_row6_col1, #T_1f9a5_row7_col1 {\n",
       "  background-color: #c2d9ee;\n",
       "  color: #000000;\n",
       "}\n",
       "#T_1f9a5_row8_col1 {\n",
       "  background-color: #c8dcf0;\n",
       "  color: #000000;\n",
       "}\n",
       "#T_1f9a5_row9_col1 {\n",
       "  background-color: #d2e3f3;\n",
       "  color: #000000;\n",
       "}\n",
       "#T_1f9a5_row10_col1 {\n",
       "  background-color: #d7e6f5;\n",
       "  color: #000000;\n",
       "}\n",
       "#T_1f9a5_row11_col1 {\n",
       "  background-color: #deebf7;\n",
       "  color: #000000;\n",
       "}\n",
       "#T_1f9a5_row12_col1 {\n",
       "  background-color: #dfecf7;\n",
       "  color: #000000;\n",
       "}\n",
       "#T_1f9a5_row13_col1 {\n",
       "  background-color: #e3eef8;\n",
       "  color: #000000;\n",
       "}\n",
       "#T_1f9a5_row14_col1 {\n",
       "  background-color: #eaf2fb;\n",
       "  color: #000000;\n",
       "}\n",
       "#T_1f9a5_row15_col1 {\n",
       "  background-color: #ecf4fb;\n",
       "  color: #000000;\n",
       "}\n",
       "#T_1f9a5_row16_col1 {\n",
       "  background-color: #f4f9fe;\n",
       "  color: #000000;\n",
       "}\n",
       "#T_1f9a5_row17_col1, #T_1f9a5_row18_col1 {\n",
       "  background-color: #f6faff;\n",
       "  color: #000000;\n",
       "}\n",
       "#T_1f9a5_row19_col1 {\n",
       "  background-color: #f7fbff;\n",
       "  color: #000000;\n",
       "}\n",
       "</style>\n",
       "<table id=\"T_1f9a5\">\n",
       "  <thead>\n",
       "    <tr>\n",
       "      <th class=\"blank level0\" >&nbsp;</th>\n",
       "      <th id=\"T_1f9a5_level0_col0\" class=\"col_heading level0 col0\" >Common_words</th>\n",
       "      <th id=\"T_1f9a5_level0_col1\" class=\"col_heading level0 col1\" >count</th>\n",
       "    </tr>\n",
       "  </thead>\n",
       "  <tbody>\n",
       "    <tr>\n",
       "      <th id=\"T_1f9a5_level0_row0\" class=\"row_heading level0 row0\" >0</th>\n",
       "      <td id=\"T_1f9a5_row0_col0\" class=\"data row0 col0\" >বাংলাদেশ</td>\n",
       "      <td id=\"T_1f9a5_row0_col1\" class=\"data row0 col1\" >251</td>\n",
       "    </tr>\n",
       "    <tr>\n",
       "      <th id=\"T_1f9a5_level0_row1\" class=\"row_heading level0 row1\" >1</th>\n",
       "      <td id=\"T_1f9a5_row1_col0\" class=\"data row1 col0\" >না</td>\n",
       "      <td id=\"T_1f9a5_row1_col1\" class=\"data row1 col1\" >151</td>\n",
       "    </tr>\n",
       "    <tr>\n",
       "      <th id=\"T_1f9a5_level0_row2\" class=\"row_heading level0 row2\" >2</th>\n",
       "      <td id=\"T_1f9a5_row2_col0\" class=\"data row2 col0\" >বাংলাদেশের</td>\n",
       "      <td id=\"T_1f9a5_row2_col1\" class=\"data row2 col1\" >144</td>\n",
       "    </tr>\n",
       "    <tr>\n",
       "      <th id=\"T_1f9a5_level0_row3\" class=\"row_heading level0 row3\" >3</th>\n",
       "      <td id=\"T_1f9a5_row3_col0\" class=\"data row3 col0\" >ভালো</td>\n",
       "      <td id=\"T_1f9a5_row3_col1\" class=\"data row3 col1\" >141</td>\n",
       "    </tr>\n",
       "    <tr>\n",
       "      <th id=\"T_1f9a5_level0_row4\" class=\"row_heading level0 row4\" >4</th>\n",
       "      <td id=\"T_1f9a5_row4_col0\" class=\"data row4 col0\" >ক্রিকেট</td>\n",
       "      <td id=\"T_1f9a5_row4_col1\" class=\"data row4 col1\" >140</td>\n",
       "    </tr>\n",
       "    <tr>\n",
       "      <th id=\"T_1f9a5_level0_row5\" class=\"row_heading level0 row5\" >5</th>\n",
       "      <td id=\"T_1f9a5_row5_col0\" class=\"data row5 col0\" >রাজ্জাক</td>\n",
       "      <td id=\"T_1f9a5_row5_col1\" class=\"data row5 col1\" >132</td>\n",
       "    </tr>\n",
       "    <tr>\n",
       "      <th id=\"T_1f9a5_level0_row6\" class=\"row_heading level0 row6\" >6</th>\n",
       "      <td id=\"T_1f9a5_row6_col0\" class=\"data row6 col0\" >দলে</td>\n",
       "      <td id=\"T_1f9a5_row6_col1\" class=\"data row6 col1\" >123</td>\n",
       "    </tr>\n",
       "    <tr>\n",
       "      <th id=\"T_1f9a5_level0_row7\" class=\"row_heading level0 row7\" >7</th>\n",
       "      <td id=\"T_1f9a5_row7_col0\" class=\"data row7 col0\" >খেলা</td>\n",
       "      <td id=\"T_1f9a5_row7_col1\" class=\"data row7 col1\" >123</td>\n",
       "    </tr>\n",
       "    <tr>\n",
       "      <th id=\"T_1f9a5_level0_row8\" class=\"row_heading level0 row8\" >8</th>\n",
       "      <td id=\"T_1f9a5_row8_col0\" class=\"data row8 col0\" >ভাল</td>\n",
       "      <td id=\"T_1f9a5_row8_col1\" class=\"data row8 col1\" >119</td>\n",
       "    </tr>\n",
       "    <tr>\n",
       "      <th id=\"T_1f9a5_level0_row9\" class=\"row_heading level0 row9\" >9</th>\n",
       "      <td id=\"T_1f9a5_row9_col0\" class=\"data row9 col0\" >দিয়ে</td>\n",
       "      <td id=\"T_1f9a5_row9_col1\" class=\"data row9 col1\" >110</td>\n",
       "    </tr>\n",
       "    <tr>\n",
       "      <th id=\"T_1f9a5_level0_row10\" class=\"row_heading level0 row10\" >10</th>\n",
       "      <td id=\"T_1f9a5_row10_col0\" class=\"data row10 col0\" >ম্যাচ</td>\n",
       "      <td id=\"T_1f9a5_row10_col1\" class=\"data row10 col1\" >105</td>\n",
       "    </tr>\n",
       "    <tr>\n",
       "      <th id=\"T_1f9a5_level0_row11\" class=\"row_heading level0 row11\" >11</th>\n",
       "      <td id=\"T_1f9a5_row11_col0\" class=\"data row11 col0\" >একটা</td>\n",
       "      <td id=\"T_1f9a5_row11_col1\" class=\"data row11 col1\" >99</td>\n",
       "    </tr>\n",
       "    <tr>\n",
       "      <th id=\"T_1f9a5_level0_row12\" class=\"row_heading level0 row12\" >12</th>\n",
       "      <td id=\"T_1f9a5_row12_col0\" class=\"data row12 col0\" >দল</td>\n",
       "      <td id=\"T_1f9a5_row12_col1\" class=\"data row12 col1\" >98</td>\n",
       "    </tr>\n",
       "    <tr>\n",
       "      <th id=\"T_1f9a5_level0_row13\" class=\"row_heading level0 row13\" >13</th>\n",
       "      <td id=\"T_1f9a5_row13_col0\" class=\"data row13 col0\" >ব্যাটিং</td>\n",
       "      <td id=\"T_1f9a5_row13_col1\" class=\"data row13 col1\" >95</td>\n",
       "    </tr>\n",
       "    <tr>\n",
       "      <th id=\"T_1f9a5_level0_row14\" class=\"row_heading level0 row14\" >14</th>\n",
       "      <td id=\"T_1f9a5_row14_col0\" class=\"data row14 col0\" >টেস্ট</td>\n",
       "      <td id=\"T_1f9a5_row14_col1\" class=\"data row14 col1\" >89</td>\n",
       "    </tr>\n",
       "    <tr>\n",
       "      <th id=\"T_1f9a5_level0_row15\" class=\"row_heading level0 row15\" >15</th>\n",
       "      <td id=\"T_1f9a5_row15_col0\" class=\"data row15 col0\" >সাব্বির</td>\n",
       "      <td id=\"T_1f9a5_row15_col1\" class=\"data row15 col1\" >87</td>\n",
       "    </tr>\n",
       "    <tr>\n",
       "      <th id=\"T_1f9a5_level0_row16\" class=\"row_heading level0 row16\" >16</th>\n",
       "      <td id=\"T_1f9a5_row16_col0\" class=\"data row16 col0\" >হয়ে</td>\n",
       "      <td id=\"T_1f9a5_row16_col1\" class=\"data row16 col1\" >80</td>\n",
       "    </tr>\n",
       "    <tr>\n",
       "      <th id=\"T_1f9a5_level0_row17\" class=\"row_heading level0 row17\" >17</th>\n",
       "      <td id=\"T_1f9a5_row17_col0\" class=\"data row17 col0\" >দলের</td>\n",
       "      <td id=\"T_1f9a5_row17_col1\" class=\"data row17 col1\" >78</td>\n",
       "    </tr>\n",
       "    <tr>\n",
       "      <th id=\"T_1f9a5_level0_row18\" class=\"row_heading level0 row18\" >18</th>\n",
       "      <td id=\"T_1f9a5_row18_col0\" class=\"data row18 col0\" >ভাই</td>\n",
       "      <td id=\"T_1f9a5_row18_col1\" class=\"data row18 col1\" >78</td>\n",
       "    </tr>\n",
       "    <tr>\n",
       "      <th id=\"T_1f9a5_level0_row19\" class=\"row_heading level0 row19\" >19</th>\n",
       "      <td id=\"T_1f9a5_row19_col0\" class=\"data row19 col0\" >রান</td>\n",
       "      <td id=\"T_1f9a5_row19_col1\" class=\"data row19 col1\" >77</td>\n",
       "    </tr>\n",
       "  </tbody>\n",
       "</table>\n"
      ],
      "text/plain": [
       "<pandas.io.formats.style.Styler at 0x264ff0b6190>"
      ]
     },
     "execution_count": 41,
     "metadata": {},
     "output_type": "execute_result"
    }
   ],
   "source": [
    "top = Counter([item for sublist in df['temp_list'] for item in sublist])\n",
    "temp = pd.DataFrame(top.most_common(20))\n",
    "temp.columns = ['Common_words','count']\n",
    "temp.style.background_gradient(cmap='Blues')"
   ]
  },
  {
   "cell_type": "markdown",
   "id": "64bde65c",
   "metadata": {},
   "source": [
    "#### Most common words Sentiments Wise"
   ]
  },
  {
   "cell_type": "code",
   "execution_count": 42,
   "id": "1bec074a",
   "metadata": {},
   "outputs": [
    {
     "data": {
      "text/html": [
       "<div>\n",
       "<style scoped>\n",
       "    .dataframe tbody tr th:only-of-type {\n",
       "        vertical-align: middle;\n",
       "    }\n",
       "\n",
       "    .dataframe tbody tr th {\n",
       "        vertical-align: top;\n",
       "    }\n",
       "\n",
       "    .dataframe thead th {\n",
       "        text-align: right;\n",
       "    }\n",
       "</style>\n",
       "<table border=\"1\" class=\"dataframe\">\n",
       "  <thead>\n",
       "    <tr style=\"text-align: right;\">\n",
       "      <th></th>\n",
       "      <th>text</th>\n",
       "      <th>Tag</th>\n",
       "      <th>sentiment</th>\n",
       "      <th>temp_list</th>\n",
       "    </tr>\n",
       "  </thead>\n",
       "  <tbody>\n",
       "    <tr>\n",
       "      <th>0</th>\n",
       "      <td>জয় বাংলা কাপ! তাও আবার স্বাধীনতার মাস মার্চে। ...</td>\n",
       "      <td>positive</td>\n",
       "      <td>1</td>\n",
       "      <td>[জয়, বাংলা, কাপ, স্বাধীনতার, মাস, মার্চে, মাথা...</td>\n",
       "    </tr>\n",
       "    <tr>\n",
       "      <th>1</th>\n",
       "      <td>জয় বাংলা কাপ! তাও আবার স্বাধীনতার মাস মার্চে। ...</td>\n",
       "      <td>positive</td>\n",
       "      <td>1</td>\n",
       "      <td>[জয়, বাংলা, কাপ, স্বাধীনতার, মাস, মার্চে, মাথা...</td>\n",
       "    </tr>\n",
       "    <tr>\n",
       "      <th>2</th>\n",
       "      <td>বাংলাদেশের পরে ভারতের সাপর্ট ই করি ?</td>\n",
       "      <td>positive</td>\n",
       "      <td>1</td>\n",
       "      <td>[বাংলাদেশের, ভারতের, সাপর্ট]</td>\n",
       "    </tr>\n",
       "    <tr>\n",
       "      <th>3</th>\n",
       "      <td>সৌম্যকে বাদ দেওয়া হোক</td>\n",
       "      <td>negative</td>\n",
       "      <td>0</td>\n",
       "      <td>[সৌম্যকে, বাদ]</td>\n",
       "    </tr>\n",
       "    <tr>\n",
       "      <th>4</th>\n",
       "      <td>প্রথমটি হচ্ছে, কোচ অত:পর সাকিব,সাকিব আর সাকিবর...</td>\n",
       "      <td>positive</td>\n",
       "      <td>1</td>\n",
       "      <td>[প্রথমটি, হচ্ছে, কোচ, অতপর, সাকিবসাকিব, সাকিবর...</td>\n",
       "    </tr>\n",
       "  </tbody>\n",
       "</table>\n",
       "</div>"
      ],
      "text/plain": [
       "                                                text       Tag sentiment  \\\n",
       "0  জয় বাংলা কাপ! তাও আবার স্বাধীনতার মাস মার্চে। ...  positive         1   \n",
       "1  জয় বাংলা কাপ! তাও আবার স্বাধীনতার মাস মার্চে। ...  positive         1   \n",
       "2               বাংলাদেশের পরে ভারতের সাপর্ট ই করি ?  positive         1   \n",
       "3                              সৌম্যকে বাদ দেওয়া হোক  negative         0   \n",
       "4  প্রথমটি হচ্ছে, কোচ অত:পর সাকিব,সাকিব আর সাকিবর...  positive         1   \n",
       "\n",
       "                                           temp_list  \n",
       "0  [জয়, বাংলা, কাপ, স্বাধীনতার, মাস, মার্চে, মাথা...  \n",
       "1  [জয়, বাংলা, কাপ, স্বাধীনতার, মাস, মার্চে, মাথা...  \n",
       "2                       [বাংলাদেশের, ভারতের, সাপর্ট]  \n",
       "3                                     [সৌম্যকে, বাদ]  \n",
       "4  [প্রথমটি, হচ্ছে, কোচ, অতপর, সাকিবসাকিব, সাকিবর...  "
      ]
     },
     "execution_count": 42,
     "metadata": {},
     "output_type": "execute_result"
    }
   ],
   "source": [
    "df.head(5)"
   ]
  },
  {
   "cell_type": "code",
   "execution_count": 45,
   "id": "31c62222",
   "metadata": {},
   "outputs": [],
   "source": [
    "Positive_sent = df[df['Tag']=='positive']\n",
    "Negative_sent = df[df['Tag']=='negative']\n",
    "Neutral_sent = df[df['Tag']=='neutral']"
   ]
  },
  {
   "cell_type": "code",
   "execution_count": 53,
   "id": "29f8fc35",
   "metadata": {},
   "outputs": [
    {
     "data": {
      "text/html": [
       "<style type=\"text/css\">\n",
       "#T_2423c_row0_col1 {\n",
       "  background-color: #3f007d;\n",
       "  color: #f1f1f1;\n",
       "}\n",
       "#T_2423c_row1_col1 {\n",
       "  background-color: #8380bb;\n",
       "  color: #f1f1f1;\n",
       "}\n",
       "#T_2423c_row2_col1 {\n",
       "  background-color: #a8a6cf;\n",
       "  color: #f1f1f1;\n",
       "}\n",
       "#T_2423c_row3_col1, #T_2423c_row4_col1 {\n",
       "  background-color: #c9c9e2;\n",
       "  color: #000000;\n",
       "}\n",
       "#T_2423c_row5_col1 {\n",
       "  background-color: #d1d2e7;\n",
       "  color: #000000;\n",
       "}\n",
       "#T_2423c_row6_col1, #T_2423c_row7_col1 {\n",
       "  background-color: #eeecf4;\n",
       "  color: #000000;\n",
       "}\n",
       "#T_2423c_row8_col1, #T_2423c_row9_col1 {\n",
       "  background-color: #f3f2f8;\n",
       "  color: #000000;\n",
       "}\n",
       "#T_2423c_row10_col1 {\n",
       "  background-color: #f5f4f9;\n",
       "  color: #000000;\n",
       "}\n",
       "#T_2423c_row11_col1, #T_2423c_row12_col1, #T_2423c_row13_col1 {\n",
       "  background-color: #f7f5fa;\n",
       "  color: #000000;\n",
       "}\n",
       "#T_2423c_row14_col1, #T_2423c_row15_col1, #T_2423c_row16_col1, #T_2423c_row17_col1 {\n",
       "  background-color: #f9f7fb;\n",
       "  color: #000000;\n",
       "}\n",
       "#T_2423c_row18_col1, #T_2423c_row19_col1 {\n",
       "  background-color: #fcfbfd;\n",
       "  color: #000000;\n",
       "}\n",
       "</style>\n",
       "<table id=\"T_2423c\">\n",
       "  <thead>\n",
       "    <tr>\n",
       "      <th class=\"blank level0\" >&nbsp;</th>\n",
       "      <th id=\"T_2423c_level0_col0\" class=\"col_heading level0 col0\" >Common_words</th>\n",
       "      <th id=\"T_2423c_level0_col1\" class=\"col_heading level0 col1\" >count</th>\n",
       "    </tr>\n",
       "  </thead>\n",
       "  <tbody>\n",
       "    <tr>\n",
       "      <th id=\"T_2423c_level0_row0\" class=\"row_heading level0 row0\" >0</th>\n",
       "      <td id=\"T_2423c_row0_col0\" class=\"data row0 col0\" >রাজ্জাক</td>\n",
       "      <td id=\"T_2423c_row0_col1\" class=\"data row0 col1\" >74</td>\n",
       "    </tr>\n",
       "    <tr>\n",
       "      <th id=\"T_2423c_level0_row1\" class=\"row_heading level0 row1\" >1</th>\n",
       "      <td id=\"T_2423c_row1_col0\" class=\"data row1 col0\" >বাংলাদেশ</td>\n",
       "      <td id=\"T_2423c_row1_col1\" class=\"data row1 col1\" >51</td>\n",
       "    </tr>\n",
       "    <tr>\n",
       "      <th id=\"T_2423c_level0_row2\" class=\"row_heading level0 row2\" >2</th>\n",
       "      <td id=\"T_2423c_row2_col0\" class=\"data row2 col0\" >ভালো</td>\n",
       "      <td id=\"T_2423c_row2_col1\" class=\"data row2 col1\" >42</td>\n",
       "    </tr>\n",
       "    <tr>\n",
       "      <th id=\"T_2423c_level0_row3\" class=\"row_heading level0 row3\" >3</th>\n",
       "      <td id=\"T_2423c_row3_col0\" class=\"data row3 col0\" >দলে</td>\n",
       "      <td id=\"T_2423c_row3_col1\" class=\"data row3 col1\" >34</td>\n",
       "    </tr>\n",
       "    <tr>\n",
       "      <th id=\"T_2423c_level0_row4\" class=\"row_heading level0 row4\" >4</th>\n",
       "      <td id=\"T_2423c_row4_col0\" class=\"data row4 col0\" >ভাল</td>\n",
       "      <td id=\"T_2423c_row4_col1\" class=\"data row4 col1\" >34</td>\n",
       "    </tr>\n",
       "    <tr>\n",
       "      <th id=\"T_2423c_level0_row5\" class=\"row_heading level0 row5\" >5</th>\n",
       "      <td id=\"T_2423c_row5_col0\" class=\"data row5 col0\" >বাংলাদেশের</td>\n",
       "      <td id=\"T_2423c_row5_col1\" class=\"data row5 col1\" >32</td>\n",
       "    </tr>\n",
       "    <tr>\n",
       "      <th id=\"T_2423c_level0_row6\" class=\"row_heading level0 row6\" >6</th>\n",
       "      <td id=\"T_2423c_row6_col0\" class=\"data row6 col0\" >চাই</td>\n",
       "      <td id=\"T_2423c_row6_col1\" class=\"data row6 col1\" >23</td>\n",
       "    </tr>\n",
       "    <tr>\n",
       "      <th id=\"T_2423c_level0_row7\" class=\"row_heading level0 row7\" >7</th>\n",
       "      <td id=\"T_2423c_row7_col0\" class=\"data row7 col0\" >লিটন</td>\n",
       "      <td id=\"T_2423c_row7_col1\" class=\"data row7 col1\" >23</td>\n",
       "    </tr>\n",
       "    <tr>\n",
       "      <th id=\"T_2423c_level0_row8\" class=\"row_heading level0 row8\" >8</th>\n",
       "      <td id=\"T_2423c_row8_col0\" class=\"data row8 col0\" >সুযোগ</td>\n",
       "      <td id=\"T_2423c_row8_col1\" class=\"data row8 col1\" >20</td>\n",
       "    </tr>\n",
       "    <tr>\n",
       "      <th id=\"T_2423c_level0_row9\" class=\"row_heading level0 row9\" >9</th>\n",
       "      <td id=\"T_2423c_row9_col0\" class=\"data row9 col0\" >ম্যাচ</td>\n",
       "      <td id=\"T_2423c_row9_col1\" class=\"data row9 col1\" >20</td>\n",
       "    </tr>\n",
       "    <tr>\n",
       "      <th id=\"T_2423c_level0_row10\" class=\"row_heading level0 row10\" >10</th>\n",
       "      <td id=\"T_2423c_row10_col0\" class=\"data row10 col0\" >ক্রিকেট</td>\n",
       "      <td id=\"T_2423c_row10_col1\" class=\"data row10 col1\" >19</td>\n",
       "    </tr>\n",
       "    <tr>\n",
       "      <th id=\"T_2423c_level0_row11\" class=\"row_heading level0 row11\" >11</th>\n",
       "      <td id=\"T_2423c_row11_col0\" class=\"data row11 col0\" >ব্যাটিং</td>\n",
       "      <td id=\"T_2423c_row11_col1\" class=\"data row11 col1\" >18</td>\n",
       "    </tr>\n",
       "    <tr>\n",
       "      <th id=\"T_2423c_level0_row12\" class=\"row_heading level0 row12\" >12</th>\n",
       "      <td id=\"T_2423c_row12_col0\" class=\"data row12 col0\" >দলের</td>\n",
       "      <td id=\"T_2423c_row12_col1\" class=\"data row12 col1\" >18</td>\n",
       "    </tr>\n",
       "    <tr>\n",
       "      <th id=\"T_2423c_level0_row13\" class=\"row_heading level0 row13\" >13</th>\n",
       "      <td id=\"T_2423c_row13_col0\" class=\"data row13 col0\" >মমিনুল</td>\n",
       "      <td id=\"T_2423c_row13_col1\" class=\"data row13 col1\" >18</td>\n",
       "    </tr>\n",
       "    <tr>\n",
       "      <th id=\"T_2423c_level0_row14\" class=\"row_heading level0 row14\" >14</th>\n",
       "      <td id=\"T_2423c_row14_col0\" class=\"data row14 col0\" >রাজ্জাকের</td>\n",
       "      <td id=\"T_2423c_row14_col1\" class=\"data row14 col1\" >17</td>\n",
       "    </tr>\n",
       "    <tr>\n",
       "      <th id=\"T_2423c_level0_row15\" class=\"row_heading level0 row15\" >15</th>\n",
       "      <td id=\"T_2423c_row15_col0\" class=\"data row15 col0\" >ইনিংসে</td>\n",
       "      <td id=\"T_2423c_row15_col1\" class=\"data row15 col1\" >17</td>\n",
       "    </tr>\n",
       "    <tr>\n",
       "      <th id=\"T_2423c_level0_row16\" class=\"row_heading level0 row16\" >16</th>\n",
       "      <td id=\"T_2423c_row16_col0\" class=\"data row16 col0\" >খেলে</td>\n",
       "      <td id=\"T_2423c_row16_col1\" class=\"data row16 col1\" >17</td>\n",
       "    </tr>\n",
       "    <tr>\n",
       "      <th id=\"T_2423c_level0_row17\" class=\"row_heading level0 row17\" >17</th>\n",
       "      <td id=\"T_2423c_row17_col0\" class=\"data row17 col0\" >উইকেট</td>\n",
       "      <td id=\"T_2423c_row17_col1\" class=\"data row17 col1\" >17</td>\n",
       "    </tr>\n",
       "    <tr>\n",
       "      <th id=\"T_2423c_level0_row18\" class=\"row_heading level0 row18\" >18</th>\n",
       "      <td id=\"T_2423c_row18_col0\" class=\"data row18 col0\" >ভাই</td>\n",
       "      <td id=\"T_2423c_row18_col1\" class=\"data row18 col1\" >15</td>\n",
       "    </tr>\n",
       "    <tr>\n",
       "      <th id=\"T_2423c_level0_row19\" class=\"row_heading level0 row19\" >19</th>\n",
       "      <td id=\"T_2423c_row19_col0\" class=\"data row19 col0\" >আশা</td>\n",
       "      <td id=\"T_2423c_row19_col1\" class=\"data row19 col1\" >15</td>\n",
       "    </tr>\n",
       "  </tbody>\n",
       "</table>\n"
      ],
      "text/plain": [
       "<pandas.io.formats.style.Styler at 0x264820150d0>"
      ]
     },
     "execution_count": 53,
     "metadata": {},
     "output_type": "execute_result"
    }
   ],
   "source": [
    "#MosT common positive words\n",
    "top = Counter([item for sublist in Positive_sent['temp_list'] for item in sublist])\n",
    "temp_positive = pd.DataFrame(top.most_common(20))\n",
    "temp_positive.columns = ['Common_words','count']\n",
    "temp_positive.style.background_gradient(cmap='Purples')"
   ]
  },
  {
   "cell_type": "code",
   "execution_count": 55,
   "id": "982d1bd5",
   "metadata": {},
   "outputs": [
    {
     "data": {
      "text/html": [
       "<style type=\"text/css\">\n",
       "#T_5a3ab_row0_col1 {\n",
       "  background-color: #00441b;\n",
       "  color: #f1f1f1;\n",
       "}\n",
       "#T_5a3ab_row1_col1 {\n",
       "  background-color: #63bc6e;\n",
       "  color: #f1f1f1;\n",
       "}\n",
       "#T_5a3ab_row2_col1 {\n",
       "  background-color: #94d390;\n",
       "  color: #000000;\n",
       "}\n",
       "#T_5a3ab_row3_col1 {\n",
       "  background-color: #a8dca2;\n",
       "  color: #000000;\n",
       "}\n",
       "#T_5a3ab_row4_col1 {\n",
       "  background-color: #b6e2af;\n",
       "  color: #000000;\n",
       "}\n",
       "#T_5a3ab_row5_col1 {\n",
       "  background-color: #b8e3b2;\n",
       "  color: #000000;\n",
       "}\n",
       "#T_5a3ab_row6_col1 {\n",
       "  background-color: #d1edcb;\n",
       "  color: #000000;\n",
       "}\n",
       "#T_5a3ab_row7_col1 {\n",
       "  background-color: #d7efd1;\n",
       "  color: #000000;\n",
       "}\n",
       "#T_5a3ab_row8_col1 {\n",
       "  background-color: #d9f0d3;\n",
       "  color: #000000;\n",
       "}\n",
       "#T_5a3ab_row9_col1 {\n",
       "  background-color: #dbf1d5;\n",
       "  color: #000000;\n",
       "}\n",
       "#T_5a3ab_row10_col1 {\n",
       "  background-color: #def2d9;\n",
       "  color: #000000;\n",
       "}\n",
       "#T_5a3ab_row11_col1 {\n",
       "  background-color: #e2f4dd;\n",
       "  color: #000000;\n",
       "}\n",
       "#T_5a3ab_row12_col1, #T_5a3ab_row13_col1, #T_5a3ab_row14_col1 {\n",
       "  background-color: #e8f6e4;\n",
       "  color: #000000;\n",
       "}\n",
       "#T_5a3ab_row15_col1 {\n",
       "  background-color: #edf8e9;\n",
       "  color: #000000;\n",
       "}\n",
       "#T_5a3ab_row16_col1 {\n",
       "  background-color: #eff9ec;\n",
       "  color: #000000;\n",
       "}\n",
       "#T_5a3ab_row17_col1, #T_5a3ab_row18_col1 {\n",
       "  background-color: #f5fbf2;\n",
       "  color: #000000;\n",
       "}\n",
       "#T_5a3ab_row19_col1 {\n",
       "  background-color: #f7fcf5;\n",
       "  color: #000000;\n",
       "}\n",
       "</style>\n",
       "<table id=\"T_5a3ab\">\n",
       "  <thead>\n",
       "    <tr>\n",
       "      <th class=\"blank level0\" >&nbsp;</th>\n",
       "      <th id=\"T_5a3ab_level0_col0\" class=\"col_heading level0 col0\" >Common_words</th>\n",
       "      <th id=\"T_5a3ab_level0_col1\" class=\"col_heading level0 col1\" >count</th>\n",
       "    </tr>\n",
       "  </thead>\n",
       "  <tbody>\n",
       "    <tr>\n",
       "      <th id=\"T_5a3ab_level0_row0\" class=\"row_heading level0 row0\" >0</th>\n",
       "      <td id=\"T_5a3ab_row0_col0\" class=\"data row0 col0\" >বাংলাদেশ</td>\n",
       "      <td id=\"T_5a3ab_row0_col1\" class=\"data row0 col1\" >183</td>\n",
       "    </tr>\n",
       "    <tr>\n",
       "      <th id=\"T_5a3ab_level0_row1\" class=\"row_heading level0 row1\" >1</th>\n",
       "      <td id=\"T_5a3ab_row1_col0\" class=\"data row1 col0\" >না</td>\n",
       "      <td id=\"T_5a3ab_row1_col1\" class=\"data row1 col1\" >126</td>\n",
       "    </tr>\n",
       "    <tr>\n",
       "      <th id=\"T_5a3ab_level0_row2\" class=\"row_heading level0 row2\" >2</th>\n",
       "      <td id=\"T_5a3ab_row2_col0\" class=\"data row2 col0\" >ক্রিকেট</td>\n",
       "      <td id=\"T_5a3ab_row2_col1\" class=\"data row2 col1\" >110</td>\n",
       "    </tr>\n",
       "    <tr>\n",
       "      <th id=\"T_5a3ab_level0_row3\" class=\"row_heading level0 row3\" >3</th>\n",
       "      <td id=\"T_5a3ab_row3_col0\" class=\"data row3 col0\" >বাংলাদেশের</td>\n",
       "      <td id=\"T_5a3ab_row3_col1\" class=\"data row3 col1\" >103</td>\n",
       "    </tr>\n",
       "    <tr>\n",
       "      <th id=\"T_5a3ab_level0_row4\" class=\"row_heading level0 row4\" >4</th>\n",
       "      <td id=\"T_5a3ab_row4_col0\" class=\"data row4 col0\" >খেলা</td>\n",
       "      <td id=\"T_5a3ab_row4_col1\" class=\"data row4 col1\" >97</td>\n",
       "    </tr>\n",
       "    <tr>\n",
       "      <th id=\"T_5a3ab_level0_row5\" class=\"row_heading level0 row5\" >5</th>\n",
       "      <td id=\"T_5a3ab_row5_col0\" class=\"data row5 col0\" >দিয়ে</td>\n",
       "      <td id=\"T_5a3ab_row5_col1\" class=\"data row5 col1\" >96</td>\n",
       "    </tr>\n",
       "    <tr>\n",
       "      <th id=\"T_5a3ab_level0_row6\" class=\"row_heading level0 row6\" >6</th>\n",
       "      <td id=\"T_5a3ab_row6_col0\" class=\"data row6 col0\" >ভালো</td>\n",
       "      <td id=\"T_5a3ab_row6_col1\" class=\"data row6 col1\" >85</td>\n",
       "    </tr>\n",
       "    <tr>\n",
       "      <th id=\"T_5a3ab_level0_row7\" class=\"row_heading level0 row7\" >7</th>\n",
       "      <td id=\"T_5a3ab_row7_col0\" class=\"data row7 col0\" >দলে</td>\n",
       "      <td id=\"T_5a3ab_row7_col1\" class=\"data row7 col1\" >82</td>\n",
       "    </tr>\n",
       "    <tr>\n",
       "      <th id=\"T_5a3ab_level0_row8\" class=\"row_heading level0 row8\" >8</th>\n",
       "      <td id=\"T_5a3ab_row8_col0\" class=\"data row8 col0\" >একটা</td>\n",
       "      <td id=\"T_5a3ab_row8_col1\" class=\"data row8 col1\" >81</td>\n",
       "    </tr>\n",
       "    <tr>\n",
       "      <th id=\"T_5a3ab_level0_row9\" class=\"row_heading level0 row9\" >9</th>\n",
       "      <td id=\"T_5a3ab_row9_col0\" class=\"data row9 col0\" >ম্যাচ</td>\n",
       "      <td id=\"T_5a3ab_row9_col1\" class=\"data row9 col1\" >80</td>\n",
       "    </tr>\n",
       "    <tr>\n",
       "      <th id=\"T_5a3ab_level0_row10\" class=\"row_heading level0 row10\" >10</th>\n",
       "      <td id=\"T_5a3ab_row10_col0\" class=\"data row10 col0\" >দল</td>\n",
       "      <td id=\"T_5a3ab_row10_col1\" class=\"data row10 col1\" >78</td>\n",
       "    </tr>\n",
       "    <tr>\n",
       "      <th id=\"T_5a3ab_level0_row11\" class=\"row_heading level0 row11\" >11</th>\n",
       "      <td id=\"T_5a3ab_row11_col0\" class=\"data row11 col0\" >সাব্বির</td>\n",
       "      <td id=\"T_5a3ab_row11_col1\" class=\"data row11 col1\" >76</td>\n",
       "    </tr>\n",
       "    <tr>\n",
       "      <th id=\"T_5a3ab_level0_row12\" class=\"row_heading level0 row12\" >12</th>\n",
       "      <td id=\"T_5a3ab_row12_col0\" class=\"data row12 col0\" >হয়ে</td>\n",
       "      <td id=\"T_5a3ab_row12_col1\" class=\"data row12 col1\" >72</td>\n",
       "    </tr>\n",
       "    <tr>\n",
       "      <th id=\"T_5a3ab_level0_row13\" class=\"row_heading level0 row13\" >13</th>\n",
       "      <td id=\"T_5a3ab_row13_col0\" class=\"data row13 col0\" >ভাল</td>\n",
       "      <td id=\"T_5a3ab_row13_col1\" class=\"data row13 col1\" >72</td>\n",
       "    </tr>\n",
       "    <tr>\n",
       "      <th id=\"T_5a3ab_level0_row14\" class=\"row_heading level0 row14\" >14</th>\n",
       "      <td id=\"T_5a3ab_row14_col0\" class=\"data row14 col0\" >টেস্ট</td>\n",
       "      <td id=\"T_5a3ab_row14_col1\" class=\"data row14 col1\" >72</td>\n",
       "    </tr>\n",
       "    <tr>\n",
       "      <th id=\"T_5a3ab_level0_row15\" class=\"row_heading level0 row15\" >15</th>\n",
       "      <td id=\"T_5a3ab_row15_col0\" class=\"data row15 col0\" >বাদ</td>\n",
       "      <td id=\"T_5a3ab_row15_col1\" class=\"data row15 col1\" >68</td>\n",
       "    </tr>\n",
       "    <tr>\n",
       "      <th id=\"T_5a3ab_level0_row16\" class=\"row_heading level0 row16\" >16</th>\n",
       "      <td id=\"T_5a3ab_row16_col0\" class=\"data row16 col0\" >ব্যাটিং</td>\n",
       "      <td id=\"T_5a3ab_row16_col1\" class=\"data row16 col1\" >66</td>\n",
       "    </tr>\n",
       "    <tr>\n",
       "      <th id=\"T_5a3ab_level0_row17\" class=\"row_heading level0 row17\" >17</th>\n",
       "      <td id=\"T_5a3ab_row17_col0\" class=\"data row17 col0\" >দেশের</td>\n",
       "      <td id=\"T_5a3ab_row17_col1\" class=\"data row17 col1\" >61</td>\n",
       "    </tr>\n",
       "    <tr>\n",
       "      <th id=\"T_5a3ab_level0_row18\" class=\"row_heading level0 row18\" >18</th>\n",
       "      <td id=\"T_5a3ab_row18_col0\" class=\"data row18 col0\" >কথা</td>\n",
       "      <td id=\"T_5a3ab_row18_col1\" class=\"data row18 col1\" >61</td>\n",
       "    </tr>\n",
       "    <tr>\n",
       "      <th id=\"T_5a3ab_level0_row19\" class=\"row_heading level0 row19\" >19</th>\n",
       "      <td id=\"T_5a3ab_row19_col0\" class=\"data row19 col0\" >রান</td>\n",
       "      <td id=\"T_5a3ab_row19_col1\" class=\"data row19 col1\" >59</td>\n",
       "    </tr>\n",
       "  </tbody>\n",
       "</table>\n"
      ],
      "text/plain": [
       "<pandas.io.formats.style.Styler at 0x264820a7a90>"
      ]
     },
     "execution_count": 55,
     "metadata": {},
     "output_type": "execute_result"
    }
   ],
   "source": [
    "#MosT common negative words\n",
    "top = Counter([item for sublist in Negative_sent['temp_list'] for item in sublist])\n",
    "temp_negative = pd.DataFrame(top.most_common(20))\n",
    "temp_negative.columns = ['Common_words','count']\n",
    "temp_negative.style.background_gradient(cmap='Greens')"
   ]
  },
  {
   "cell_type": "code",
   "execution_count": 56,
   "id": "62a8ae4c",
   "metadata": {},
   "outputs": [
    {
     "data": {
      "text/html": [
       "<style type=\"text/css\">\n",
       "#T_c69e9_row0_col1, #T_c69e9_row1_col1 {\n",
       "  background-color: #67000d;\n",
       "  color: #f1f1f1;\n",
       "}\n",
       "#T_c69e9_row2_col1 {\n",
       "  background-color: #9d0d14;\n",
       "  color: #f1f1f1;\n",
       "}\n",
       "#T_c69e9_row3_col1 {\n",
       "  background-color: #e32f27;\n",
       "  color: #f1f1f1;\n",
       "}\n",
       "#T_c69e9_row4_col1 {\n",
       "  background-color: #f6553c;\n",
       "  color: #f1f1f1;\n",
       "}\n",
       "#T_c69e9_row5_col1 {\n",
       "  background-color: #fb7c5c;\n",
       "  color: #f1f1f1;\n",
       "}\n",
       "#T_c69e9_row6_col1, #T_c69e9_row7_col1, #T_c69e9_row8_col1 {\n",
       "  background-color: #fca082;\n",
       "  color: #000000;\n",
       "}\n",
       "#T_c69e9_row9_col1, #T_c69e9_row10_col1, #T_c69e9_row11_col1, #T_c69e9_row12_col1, #T_c69e9_row13_col1, #T_c69e9_row14_col1 {\n",
       "  background-color: #fee3d6;\n",
       "  color: #000000;\n",
       "}\n",
       "#T_c69e9_row15_col1, #T_c69e9_row16_col1, #T_c69e9_row17_col1, #T_c69e9_row18_col1 {\n",
       "  background-color: #fff5f0;\n",
       "  color: #000000;\n",
       "}\n",
       "</style>\n",
       "<table id=\"T_c69e9\">\n",
       "  <thead>\n",
       "    <tr>\n",
       "      <th class=\"blank level0\" >&nbsp;</th>\n",
       "      <th id=\"T_c69e9_level0_col0\" class=\"col_heading level0 col0\" >Common_words</th>\n",
       "      <th id=\"T_c69e9_level0_col1\" class=\"col_heading level0 col1\" >count</th>\n",
       "    </tr>\n",
       "  </thead>\n",
       "  <tbody>\n",
       "    <tr>\n",
       "      <th id=\"T_c69e9_level0_row0\" class=\"row_heading level0 row0\" >1</th>\n",
       "      <td id=\"T_c69e9_row0_col0\" class=\"data row0 col0\" >বাংলাদেশ</td>\n",
       "      <td id=\"T_c69e9_row0_col1\" class=\"data row0 col1\" >17</td>\n",
       "    </tr>\n",
       "    <tr>\n",
       "      <th id=\"T_c69e9_level0_row1\" class=\"row_heading level0 row1\" >2</th>\n",
       "      <td id=\"T_c69e9_row1_col0\" class=\"data row1 col0\" >খেলা</td>\n",
       "      <td id=\"T_c69e9_row1_col1\" class=\"data row1 col1\" >17</td>\n",
       "    </tr>\n",
       "    <tr>\n",
       "      <th id=\"T_c69e9_level0_row2\" class=\"row_heading level0 row2\" >3</th>\n",
       "      <td id=\"T_c69e9_row2_col0\" class=\"data row2 col0\" >না</td>\n",
       "      <td id=\"T_c69e9_row2_col1\" class=\"data row2 col1\" >16</td>\n",
       "    </tr>\n",
       "    <tr>\n",
       "      <th id=\"T_c69e9_level0_row3\" class=\"row_heading level0 row3\" >4</th>\n",
       "      <td id=\"T_c69e9_row3_col0\" class=\"data row3 col0\" >ভালো</td>\n",
       "      <td id=\"T_c69e9_row3_col1\" class=\"data row3 col1\" >14</td>\n",
       "    </tr>\n",
       "    <tr>\n",
       "      <th id=\"T_c69e9_level0_row4\" class=\"row_heading level0 row4\" >5</th>\n",
       "      <td id=\"T_c69e9_row4_col0\" class=\"data row4 col0\" >ভাল</td>\n",
       "      <td id=\"T_c69e9_row4_col1\" class=\"data row4 col1\" >13</td>\n",
       "    </tr>\n",
       "    <tr>\n",
       "      <th id=\"T_c69e9_level0_row5\" class=\"row_heading level0 row5\" >6</th>\n",
       "      <td id=\"T_c69e9_row5_col0\" class=\"data row5 col0\" >পিচ</td>\n",
       "      <td id=\"T_c69e9_row5_col1\" class=\"data row5 col1\" >12</td>\n",
       "    </tr>\n",
       "    <tr>\n",
       "      <th id=\"T_c69e9_level0_row6\" class=\"row_heading level0 row6\" >7</th>\n",
       "      <td id=\"T_c69e9_row6_col0\" class=\"data row6 col0\" >হবে</td>\n",
       "      <td id=\"T_c69e9_row6_col1\" class=\"data row6 col1\" >11</td>\n",
       "    </tr>\n",
       "    <tr>\n",
       "      <th id=\"T_c69e9_level0_row7\" class=\"row_heading level0 row7\" >8</th>\n",
       "      <td id=\"T_c69e9_row7_col0\" class=\"data row7 col0\" >ক্রিকেট</td>\n",
       "      <td id=\"T_c69e9_row7_col1\" class=\"data row7 col1\" >11</td>\n",
       "    </tr>\n",
       "    <tr>\n",
       "      <th id=\"T_c69e9_level0_row8\" class=\"row_heading level0 row8\" >9</th>\n",
       "      <td id=\"T_c69e9_row8_col0\" class=\"data row8 col0\" >ব্যাটিং</td>\n",
       "      <td id=\"T_c69e9_row8_col1\" class=\"data row8 col1\" >11</td>\n",
       "    </tr>\n",
       "    <tr>\n",
       "      <th id=\"T_c69e9_level0_row9\" class=\"row_heading level0 row9\" >10</th>\n",
       "      <td id=\"T_c69e9_row9_col0\" class=\"data row9 col0\" >ভাই</td>\n",
       "      <td id=\"T_c69e9_row9_col1\" class=\"data row9 col1\" >9</td>\n",
       "    </tr>\n",
       "    <tr>\n",
       "      <th id=\"T_c69e9_level0_row10\" class=\"row_heading level0 row10\" >11</th>\n",
       "      <td id=\"T_c69e9_row10_col0\" class=\"data row10 col0\" >একটা</td>\n",
       "      <td id=\"T_c69e9_row10_col1\" class=\"data row10 col1\" >9</td>\n",
       "    </tr>\n",
       "    <tr>\n",
       "      <th id=\"T_c69e9_level0_row11\" class=\"row_heading level0 row11\" >12</th>\n",
       "      <td id=\"T_c69e9_row11_col0\" class=\"data row11 col0\" >আছে</td>\n",
       "      <td id=\"T_c69e9_row11_col1\" class=\"data row11 col1\" >9</td>\n",
       "    </tr>\n",
       "    <tr>\n",
       "      <th id=\"T_c69e9_level0_row12\" class=\"row_heading level0 row12\" >13</th>\n",
       "      <td id=\"T_c69e9_row12_col0\" class=\"data row12 col0\" >উইকেট</td>\n",
       "      <td id=\"T_c69e9_row12_col1\" class=\"data row12 col1\" >9</td>\n",
       "    </tr>\n",
       "    <tr>\n",
       "      <th id=\"T_c69e9_level0_row13\" class=\"row_heading level0 row13\" >14</th>\n",
       "      <td id=\"T_c69e9_row13_col0\" class=\"data row13 col0\" >বাংলাদেশের</td>\n",
       "      <td id=\"T_c69e9_row13_col1\" class=\"data row13 col1\" >9</td>\n",
       "    </tr>\n",
       "    <tr>\n",
       "      <th id=\"T_c69e9_level0_row14\" class=\"row_heading level0 row14\" >15</th>\n",
       "      <td id=\"T_c69e9_row14_col0\" class=\"data row14 col0\" >খেলার</td>\n",
       "      <td id=\"T_c69e9_row14_col1\" class=\"data row14 col1\" >9</td>\n",
       "    </tr>\n",
       "    <tr>\n",
       "      <th id=\"T_c69e9_level0_row15\" class=\"row_heading level0 row15\" >16</th>\n",
       "      <td id=\"T_c69e9_row15_col0\" class=\"data row15 col0\" >সাকিব</td>\n",
       "      <td id=\"T_c69e9_row15_col1\" class=\"data row15 col1\" >8</td>\n",
       "    </tr>\n",
       "    <tr>\n",
       "      <th id=\"T_c69e9_level0_row16\" class=\"row_heading level0 row16\" >17</th>\n",
       "      <td id=\"T_c69e9_row16_col0\" class=\"data row16 col0\" >পিচে</td>\n",
       "      <td id=\"T_c69e9_row16_col1\" class=\"data row16 col1\" >8</td>\n",
       "    </tr>\n",
       "    <tr>\n",
       "      <th id=\"T_c69e9_level0_row17\" class=\"row_heading level0 row17\" >18</th>\n",
       "      <td id=\"T_c69e9_row17_col0\" class=\"data row17 col0\" >দল</td>\n",
       "      <td id=\"T_c69e9_row17_col1\" class=\"data row17 col1\" >8</td>\n",
       "    </tr>\n",
       "    <tr>\n",
       "      <th id=\"T_c69e9_level0_row18\" class=\"row_heading level0 row18\" >19</th>\n",
       "      <td id=\"T_c69e9_row18_col0\" class=\"data row18 col0\" >সুযোগ</td>\n",
       "      <td id=\"T_c69e9_row18_col1\" class=\"data row18 col1\" >8</td>\n",
       "    </tr>\n",
       "  </tbody>\n",
       "</table>\n"
      ],
      "text/plain": [
       "<pandas.io.formats.style.Styler at 0x26482057e10>"
      ]
     },
     "execution_count": 56,
     "metadata": {},
     "output_type": "execute_result"
    }
   ],
   "source": [
    "#MosT common Neutral words\n",
    "top = Counter([item for sublist in Neutral_sent['temp_list'] for item in sublist])\n",
    "temp_neutral = pd.DataFrame(top.most_common(20))\n",
    "temp_neutral = temp_neutral.loc[1:,:]\n",
    "temp_neutral.columns = ['Common_words','count']\n",
    "temp_neutral.style.background_gradient(cmap='Reds')"
   ]
  },
  {
   "cell_type": "markdown",
   "id": "0677f338",
   "metadata": {},
   "source": [
    "### Look at Unique Words in each Segment"
   ]
  },
  {
   "cell_type": "code",
   "execution_count": 57,
   "id": "528888d5",
   "metadata": {},
   "outputs": [],
   "source": [
    "raw_text = [word for word_list in df['temp_list'] for word in word_list]"
   ]
  },
  {
   "cell_type": "code",
   "execution_count": 58,
   "id": "d7972aec",
   "metadata": {},
   "outputs": [],
   "source": [
    "def words_unique(Tag, numwords, raw_words):\n",
    "    allother = []\n",
    "    for item in df[df.Tag != Tag]['temp_list']:\n",
    "        for word in item:\n",
    "            allother.append(word)\n",
    "    allother = list(set(allother))\n",
    "    \n",
    "    specificnonly = [x for x in raw_text if x not in allother]\n",
    "    \n",
    "    mycounter = Counter()\n",
    "    \n",
    "    for item in df[df.Tag == Tag]['temp_list']:\n",
    "        for word in item:\n",
    "            mycounter[word] += 1\n",
    "    keep = list(specificnonly)\n",
    "    \n",
    "    for word in list(mycounter):\n",
    "        if word not in keep:\n",
    "            del mycounter[word]\n",
    "    \n",
    "    Unique_words = pd.DataFrame(mycounter.most_common(numwords), columns=['words', 'count'])\n",
    "    \n",
    "    return Unique_words"
   ]
  },
  {
   "cell_type": "markdown",
   "id": "24c940f8",
   "metadata": {},
   "source": [
    "#### Positive"
   ]
  },
  {
   "cell_type": "code",
   "execution_count": 61,
   "id": "e7583fec",
   "metadata": {},
   "outputs": [
    {
     "name": "stdout",
     "output_type": "stream",
     "text": [
      "The top 20 unique words in Positive Tweets are:\n"
     ]
    },
    {
     "data": {
      "text/html": [
       "<style type=\"text/css\">\n",
       "#T_4525e_row0_col1, #T_4525e_row1_col1 {\n",
       "  background-color: #00441b;\n",
       "  color: #f1f1f1;\n",
       "}\n",
       "#T_4525e_row2_col1, #T_4525e_row3_col1, #T_4525e_row4_col1, #T_4525e_row5_col1, #T_4525e_row6_col1, #T_4525e_row7_col1, #T_4525e_row8_col1, #T_4525e_row9_col1 {\n",
       "  background-color: #73c476;\n",
       "  color: #000000;\n",
       "}\n",
       "#T_4525e_row10_col1, #T_4525e_row11_col1, #T_4525e_row12_col1, #T_4525e_row13_col1, #T_4525e_row14_col1, #T_4525e_row15_col1, #T_4525e_row16_col1, #T_4525e_row17_col1, #T_4525e_row18_col1, #T_4525e_row19_col1 {\n",
       "  background-color: #f7fcf5;\n",
       "  color: #000000;\n",
       "}\n",
       "</style>\n",
       "<table id=\"T_4525e\">\n",
       "  <thead>\n",
       "    <tr>\n",
       "      <th class=\"blank level0\" >&nbsp;</th>\n",
       "      <th id=\"T_4525e_level0_col0\" class=\"col_heading level0 col0\" >words</th>\n",
       "      <th id=\"T_4525e_level0_col1\" class=\"col_heading level0 col1\" >count</th>\n",
       "    </tr>\n",
       "  </thead>\n",
       "  <tbody>\n",
       "    <tr>\n",
       "      <th id=\"T_4525e_level0_row0\" class=\"row_heading level0 row0\" >0</th>\n",
       "      <td id=\"T_4525e_row0_col0\" class=\"data row0 col0\" >পর</td>\n",
       "      <td id=\"T_4525e_row0_col1\" class=\"data row0 col1\" >5</td>\n",
       "    </tr>\n",
       "    <tr>\n",
       "      <th id=\"T_4525e_level0_row1\" class=\"row_heading level0 row1\" >1</th>\n",
       "      <td id=\"T_4525e_row1_col0\" class=\"data row1 col0\" >সামনের</td>\n",
       "      <td id=\"T_4525e_row1_col1\" class=\"data row1 col1\" >5</td>\n",
       "    </tr>\n",
       "    <tr>\n",
       "      <th id=\"T_4525e_level0_row2\" class=\"row_heading level0 row2\" >2</th>\n",
       "      <td id=\"T_4525e_row2_col0\" class=\"data row2 col0\" >জিদবে</td>\n",
       "      <td id=\"T_4525e_row2_col1\" class=\"data row2 col1\" >4</td>\n",
       "    </tr>\n",
       "    <tr>\n",
       "      <th id=\"T_4525e_level0_row3\" class=\"row_heading level0 row3\" >3</th>\n",
       "      <td id=\"T_4525e_row3_col0\" class=\"data row3 col0\" >ইনশা</td>\n",
       "      <td id=\"T_4525e_row3_col1\" class=\"data row3 col1\" >4</td>\n",
       "    </tr>\n",
       "    <tr>\n",
       "      <th id=\"T_4525e_level0_row4\" class=\"row_heading level0 row4\" >4</th>\n",
       "      <td id=\"T_4525e_row4_col0\" class=\"data row4 col0\" >টানা</td>\n",
       "      <td id=\"T_4525e_row4_col1\" class=\"data row4 col1\" >4</td>\n",
       "    </tr>\n",
       "    <tr>\n",
       "      <th id=\"T_4525e_level0_row5\" class=\"row_heading level0 row5\" >5</th>\n",
       "      <td id=\"T_4525e_row5_col0\" class=\"data row5 col0\" >জিতবো</td>\n",
       "      <td id=\"T_4525e_row5_col1\" class=\"data row5 col1\" >4</td>\n",
       "    </tr>\n",
       "    <tr>\n",
       "      <th id=\"T_4525e_level0_row6\" class=\"row_heading level0 row6\" >6</th>\n",
       "      <td id=\"T_4525e_row6_col0\" class=\"data row6 col0\" >চাইতেও</td>\n",
       "      <td id=\"T_4525e_row6_col1\" class=\"data row6 col1\" >4</td>\n",
       "    </tr>\n",
       "    <tr>\n",
       "      <th id=\"T_4525e_level0_row7\" class=\"row_heading level0 row7\" >7</th>\n",
       "      <td id=\"T_4525e_row7_col0\" class=\"data row7 col0\" >শুরুতেই</td>\n",
       "      <td id=\"T_4525e_row7_col1\" class=\"data row7 col1\" >4</td>\n",
       "    </tr>\n",
       "    <tr>\n",
       "      <th id=\"T_4525e_level0_row8\" class=\"row_heading level0 row8\" >8</th>\n",
       "      <td id=\"T_4525e_row8_col0\" class=\"data row8 col0\" >উপকৃত</td>\n",
       "      <td id=\"T_4525e_row8_col1\" class=\"data row8 col1\" >4</td>\n",
       "    </tr>\n",
       "    <tr>\n",
       "      <th id=\"T_4525e_level0_row9\" class=\"row_heading level0 row9\" >9</th>\n",
       "      <td id=\"T_4525e_row9_col0\" class=\"data row9 col0\" >SL</td>\n",
       "      <td id=\"T_4525e_row9_col1\" class=\"data row9 col1\" >4</td>\n",
       "    </tr>\n",
       "    <tr>\n",
       "      <th id=\"T_4525e_level0_row10\" class=\"row_heading level0 row10\" >10</th>\n",
       "      <td id=\"T_4525e_row10_col0\" class=\"data row10 col0\" >চমৎকার</td>\n",
       "      <td id=\"T_4525e_row10_col1\" class=\"data row10 col1\" >3</td>\n",
       "    </tr>\n",
       "    <tr>\n",
       "      <th id=\"T_4525e_level0_row11\" class=\"row_heading level0 row11\" >11</th>\n",
       "      <td id=\"T_4525e_row11_col0\" class=\"data row11 col0\" >রাজের</td>\n",
       "      <td id=\"T_4525e_row11_col1\" class=\"data row11 col1\" >3</td>\n",
       "    </tr>\n",
       "    <tr>\n",
       "      <th id=\"T_4525e_level0_row12\" class=\"row_heading level0 row12\" >12</th>\n",
       "      <td id=\"T_4525e_row12_col0\" class=\"data row12 col0\" >রাজসিক</td>\n",
       "      <td id=\"T_4525e_row12_col1\" class=\"data row12 col1\" >3</td>\n",
       "    </tr>\n",
       "    <tr>\n",
       "      <th id=\"T_4525e_level0_row13\" class=\"row_heading level0 row13\" >13</th>\n",
       "      <td id=\"T_4525e_row13_col0\" class=\"data row13 col0\" >প্রশংসার</td>\n",
       "      <td id=\"T_4525e_row13_col1\" class=\"data row13 col1\" >3</td>\n",
       "    </tr>\n",
       "    <tr>\n",
       "      <th id=\"T_4525e_level0_row14\" class=\"row_heading level0 row14\" >14</th>\n",
       "      <td id=\"T_4525e_row14_col0\" class=\"data row14 col0\" >গর্ব</td>\n",
       "      <td id=\"T_4525e_row14_col1\" class=\"data row14 col1\" >3</td>\n",
       "    </tr>\n",
       "    <tr>\n",
       "      <th id=\"T_4525e_level0_row15\" class=\"row_heading level0 row15\" >15</th>\n",
       "      <td id=\"T_4525e_row15_col0\" class=\"data row15 col0\" >ম্যাশকে</td>\n",
       "      <td id=\"T_4525e_row15_col1\" class=\"data row15 col1\" >3</td>\n",
       "    </tr>\n",
       "    <tr>\n",
       "      <th id=\"T_4525e_level0_row16\" class=\"row_heading level0 row16\" >16</th>\n",
       "      <td id=\"T_4525e_row16_col0\" class=\"data row16 col0\" >আফিফরাইতো</td>\n",
       "      <td id=\"T_4525e_row16_col1\" class=\"data row16 col1\" >3</td>\n",
       "    </tr>\n",
       "    <tr>\n",
       "      <th id=\"T_4525e_level0_row17\" class=\"row_heading level0 row17\" >17</th>\n",
       "      <td id=\"T_4525e_row17_col0\" class=\"data row17 col0\" >আগামীদিনের</td>\n",
       "      <td id=\"T_4525e_row17_col1\" class=\"data row17 col1\" >3</td>\n",
       "    </tr>\n",
       "    <tr>\n",
       "      <th id=\"T_4525e_level0_row18\" class=\"row_heading level0 row18\" >18</th>\n",
       "      <td id=\"T_4525e_row18_col0\" class=\"data row18 col0\" >রাহুল</td>\n",
       "      <td id=\"T_4525e_row18_col1\" class=\"data row18 col1\" >3</td>\n",
       "    </tr>\n",
       "    <tr>\n",
       "      <th id=\"T_4525e_level0_row19\" class=\"row_heading level0 row19\" >19</th>\n",
       "      <td id=\"T_4525e_row19_col0\" class=\"data row19 col0\" >ডান</td>\n",
       "      <td id=\"T_4525e_row19_col1\" class=\"data row19 col1\" >3</td>\n",
       "    </tr>\n",
       "  </tbody>\n",
       "</table>\n"
      ],
      "text/plain": [
       "<pandas.io.formats.style.Styler at 0x264820a6bd0>"
      ]
     },
     "execution_count": 61,
     "metadata": {},
     "output_type": "execute_result"
    }
   ],
   "source": [
    "Unique_Positive= words_unique('positive', 20, raw_text)\n",
    "print(\"The top 20 unique words in Positive Tweets are:\")\n",
    "Unique_Positive.style.background_gradient(cmap='Greens')"
   ]
  },
  {
   "cell_type": "markdown",
   "id": "7f65a3f9",
   "metadata": {},
   "source": [
    "#### Negative unique"
   ]
  },
  {
   "cell_type": "code",
   "execution_count": 67,
   "id": "356f9e79",
   "metadata": {},
   "outputs": [
    {
     "name": "stdout",
     "output_type": "stream",
     "text": [
      "The top 10 unique words in Negative Tweets are:\n"
     ]
    },
    {
     "data": {
      "text/html": [
       "<style type=\"text/css\">\n",
       "#T_70a24_row0_col1 {\n",
       "  background-color: #67000d;\n",
       "  color: #f1f1f1;\n",
       "}\n",
       "#T_70a24_row1_col1 {\n",
       "  background-color: #7e0610;\n",
       "  color: #f1f1f1;\n",
       "}\n",
       "#T_70a24_row2_col1 {\n",
       "  background-color: #f14432;\n",
       "  color: #f1f1f1;\n",
       "}\n",
       "#T_70a24_row3_col1 {\n",
       "  background-color: #fb694a;\n",
       "  color: #f1f1f1;\n",
       "}\n",
       "#T_70a24_row4_col1 {\n",
       "  background-color: #fcbba1;\n",
       "  color: #000000;\n",
       "}\n",
       "#T_70a24_row5_col1 {\n",
       "  background-color: #fed9c9;\n",
       "  color: #000000;\n",
       "}\n",
       "#T_70a24_row6_col1, #T_70a24_row7_col1 {\n",
       "  background-color: #fee5d8;\n",
       "  color: #000000;\n",
       "}\n",
       "#T_70a24_row8_col1 {\n",
       "  background-color: #ffede5;\n",
       "  color: #000000;\n",
       "}\n",
       "#T_70a24_row9_col1 {\n",
       "  background-color: #fff5f0;\n",
       "  color: #000000;\n",
       "}\n",
       "</style>\n",
       "<table id=\"T_70a24\">\n",
       "  <thead>\n",
       "    <tr>\n",
       "      <th class=\"blank level0\" >&nbsp;</th>\n",
       "      <th id=\"T_70a24_level0_col0\" class=\"col_heading level0 col0\" >words</th>\n",
       "      <th id=\"T_70a24_level0_col1\" class=\"col_heading level0 col1\" >count</th>\n",
       "    </tr>\n",
       "  </thead>\n",
       "  <tbody>\n",
       "    <tr>\n",
       "      <th id=\"T_70a24_level0_row0\" class=\"row_heading level0 row0\" >0</th>\n",
       "      <td id=\"T_70a24_row0_col0\" class=\"data row0 col0\" >নান্নু</td>\n",
       "      <td id=\"T_70a24_row0_col1\" class=\"data row0 col1\" >37</td>\n",
       "    </tr>\n",
       "    <tr>\n",
       "      <th id=\"T_70a24_level0_row1\" class=\"row_heading level0 row1\" >1</th>\n",
       "      <td id=\"T_70a24_row1_col0\" class=\"data row1 col0\" >আবাল</td>\n",
       "      <td id=\"T_70a24_row1_col1\" class=\"data row1 col1\" >36</td>\n",
       "    </tr>\n",
       "    <tr>\n",
       "      <th id=\"T_70a24_level0_row2\" class=\"row_heading level0 row2\" >2</th>\n",
       "      <td id=\"T_70a24_row2_col0\" class=\"data row2 col0\" >বাল</td>\n",
       "      <td id=\"T_70a24_row2_col1\" class=\"data row2 col1\" >29</td>\n",
       "    </tr>\n",
       "    <tr>\n",
       "      <th id=\"T_70a24_level0_row3\" class=\"row_heading level0 row3\" >3</th>\n",
       "      <td id=\"T_70a24_row3_col0\" class=\"data row3 col0\" >পাপন</td>\n",
       "      <td id=\"T_70a24_row3_col1\" class=\"data row3 col1\" >27</td>\n",
       "    </tr>\n",
       "    <tr>\n",
       "      <th id=\"T_70a24_level0_row4\" class=\"row_heading level0 row4\" >4</th>\n",
       "      <td id=\"T_70a24_row4_col0\" class=\"data row4 col0\" >বিসিবির</td>\n",
       "      <td id=\"T_70a24_row4_col1\" class=\"data row4 col1\" >22</td>\n",
       "    </tr>\n",
       "    <tr>\n",
       "      <th id=\"T_70a24_level0_row5\" class=\"row_heading level0 row5\" >5</th>\n",
       "      <td id=\"T_70a24_row5_col0\" class=\"data row5 col0\" >প্রধান</td>\n",
       "      <td id=\"T_70a24_row5_col1\" class=\"data row5 col1\" >20</td>\n",
       "    </tr>\n",
       "    <tr>\n",
       "      <th id=\"T_70a24_level0_row6\" class=\"row_heading level0 row6\" >6</th>\n",
       "      <td id=\"T_70a24_row6_col0\" class=\"data row6 col0\" >করে</td>\n",
       "      <td id=\"T_70a24_row6_col1\" class=\"data row6 col1\" >19</td>\n",
       "    </tr>\n",
       "    <tr>\n",
       "      <th id=\"T_70a24_level0_row7\" class=\"row_heading level0 row7\" >7</th>\n",
       "      <td id=\"T_70a24_row7_col0\" class=\"data row7 col0\" >দোষ</td>\n",
       "      <td id=\"T_70a24_row7_col1\" class=\"data row7 col1\" >19</td>\n",
       "    </tr>\n",
       "    <tr>\n",
       "      <th id=\"T_70a24_level0_row8\" class=\"row_heading level0 row8\" >8</th>\n",
       "      <td id=\"T_70a24_row8_col0\" class=\"data row8 col0\" >যুক্তি</td>\n",
       "      <td id=\"T_70a24_row8_col1\" class=\"data row8 col1\" >18</td>\n",
       "    </tr>\n",
       "    <tr>\n",
       "      <th id=\"T_70a24_level0_row9\" class=\"row_heading level0 row9\" >9</th>\n",
       "      <td id=\"T_70a24_row9_col0\" class=\"data row9 col0\" >কেন</td>\n",
       "      <td id=\"T_70a24_row9_col1\" class=\"data row9 col1\" >17</td>\n",
       "    </tr>\n",
       "  </tbody>\n",
       "</table>\n"
      ],
      "text/plain": [
       "<pandas.io.formats.style.Styler at 0x264fa9e77d0>"
      ]
     },
     "execution_count": 67,
     "metadata": {},
     "output_type": "execute_result"
    }
   ],
   "source": [
    "Unique_Negative= words_unique('negative', 10, raw_text)\n",
    "print(\"The top 10 unique words in Negative Tweets are:\")\n",
    "Unique_Negative.style.background_gradient(cmap='Reds')"
   ]
  },
  {
   "cell_type": "markdown",
   "id": "4f4789d8",
   "metadata": {},
   "source": [
    "#### Neutral Unique"
   ]
  },
  {
   "cell_type": "code",
   "execution_count": 66,
   "id": "51a8cfd8",
   "metadata": {},
   "outputs": [
    {
     "name": "stdout",
     "output_type": "stream",
     "text": [
      "The top 10 unique words in Neutral Tweets are:\n"
     ]
    },
    {
     "data": {
      "text/html": [
       "<style type=\"text/css\">\n",
       "#T_a7137_row0_col1, #T_a7137_row1_col1, #T_a7137_row2_col1, #T_a7137_row3_col1, #T_a7137_row4_col1, #T_a7137_row5_col1, #T_a7137_row6_col1, #T_a7137_row7_col1, #T_a7137_row8_col1, #T_a7137_row9_col1 {\n",
       "  background-color: #fcfbfd;\n",
       "  color: #000000;\n",
       "}\n",
       "</style>\n",
       "<table id=\"T_a7137\">\n",
       "  <thead>\n",
       "    <tr>\n",
       "      <th class=\"blank level0\" >&nbsp;</th>\n",
       "      <th id=\"T_a7137_level0_col0\" class=\"col_heading level0 col0\" >words</th>\n",
       "      <th id=\"T_a7137_level0_col1\" class=\"col_heading level0 col1\" >count</th>\n",
       "    </tr>\n",
       "  </thead>\n",
       "  <tbody>\n",
       "    <tr>\n",
       "      <th id=\"T_a7137_level0_row0\" class=\"row_heading level0 row0\" >0</th>\n",
       "      <td id=\"T_a7137_row0_col0\" class=\"data row0 col0\" >কেসবাই</td>\n",
       "      <td id=\"T_a7137_row0_col1\" class=\"data row0 col1\" >2</td>\n",
       "    </tr>\n",
       "    <tr>\n",
       "      <th id=\"T_a7137_level0_row1\" class=\"row_heading level0 row1\" >1</th>\n",
       "      <td id=\"T_a7137_row1_col0\" class=\"data row1 col0\" >দিলেন</td>\n",
       "      <td id=\"T_a7137_row1_col1\" class=\"data row1 col1\" >2</td>\n",
       "    </tr>\n",
       "    <tr>\n",
       "      <th id=\"T_a7137_level0_row2\" class=\"row_heading level0 row2\" >2</th>\n",
       "      <td id=\"T_a7137_row2_col0\" class=\"data row2 col0\" >খেলাইতামিমমমিনুলকায়েছমুসিকুর</td>\n",
       "      <td id=\"T_a7137_row2_col1\" class=\"data row2 col1\" >2</td>\n",
       "    </tr>\n",
       "    <tr>\n",
       "      <th id=\"T_a7137_level0_row3\" class=\"row_heading level0 row3\" >3</th>\n",
       "      <td id=\"T_a7137_row3_col0\" class=\"data row3 col0\" >তারের</td>\n",
       "      <td id=\"T_a7137_row3_col1\" class=\"data row3 col1\" >2</td>\n",
       "    </tr>\n",
       "    <tr>\n",
       "      <th id=\"T_a7137_level0_row4\" class=\"row_heading level0 row4\" >4</th>\n",
       "      <td id=\"T_a7137_row4_col0\" class=\"data row4 col0\" >উচিতবলেন</td>\n",
       "      <td id=\"T_a7137_row4_col1\" class=\"data row4 col1\" >2</td>\n",
       "    </tr>\n",
       "    <tr>\n",
       "      <th id=\"T_a7137_level0_row5\" class=\"row_heading level0 row5\" >5</th>\n",
       "      <td id=\"T_a7137_row5_col0\" class=\"data row5 col0\" >মুছন</td>\n",
       "      <td id=\"T_a7137_row5_col1\" class=\"data row5 col1\" >2</td>\n",
       "    </tr>\n",
       "    <tr>\n",
       "      <th id=\"T_a7137_level0_row6\" class=\"row_heading level0 row6\" >6</th>\n",
       "      <td id=\"T_a7137_row6_col0\" class=\"data row6 col0\" >রেকড</td>\n",
       "      <td id=\"T_a7137_row6_col1\" class=\"data row6 col1\" >2</td>\n",
       "    </tr>\n",
       "    <tr>\n",
       "      <th id=\"T_a7137_level0_row7\" class=\"row_heading level0 row7\" >7</th>\n",
       "      <td id=\"T_a7137_row7_col0\" class=\"data row7 col0\" >ধারে</td>\n",
       "      <td id=\"T_a7137_row7_col1\" class=\"data row7 col1\" >2</td>\n",
       "    </tr>\n",
       "    <tr>\n",
       "      <th id=\"T_a7137_level0_row8\" class=\"row_heading level0 row8\" >8</th>\n",
       "      <td id=\"T_a7137_row8_col0\" class=\"data row8 col0\" >ভদ্রলোকের</td>\n",
       "      <td id=\"T_a7137_row8_col1\" class=\"data row8 col1\" >2</td>\n",
       "    </tr>\n",
       "    <tr>\n",
       "      <th id=\"T_a7137_level0_row9\" class=\"row_heading level0 row9\" >9</th>\n",
       "      <td id=\"T_a7137_row9_col0\" class=\"data row9 col0\" >খেলাই</td>\n",
       "      <td id=\"T_a7137_row9_col1\" class=\"data row9 col1\" >2</td>\n",
       "    </tr>\n",
       "  </tbody>\n",
       "</table>\n"
      ],
      "text/plain": [
       "<pandas.io.formats.style.Styler at 0x264820fbb90>"
      ]
     },
     "execution_count": 66,
     "metadata": {},
     "output_type": "execute_result"
    }
   ],
   "source": [
    "Unique_Neutral= words_unique('neutral', 10, raw_text)\n",
    "print(\"The top 10 unique words in Neutral Tweets are:\")\n",
    "Unique_Neutral.style.background_gradient(cmap='Purples')"
   ]
  }
 ],
 "metadata": {
  "kernelspec": {
   "display_name": "base",
   "language": "python",
   "name": "python3"
  },
  "language_info": {
   "codemirror_mode": {
    "name": "ipython",
    "version": 3
   },
   "file_extension": ".py",
   "mimetype": "text/x-python",
   "name": "python",
   "nbconvert_exporter": "python",
   "pygments_lexer": "ipython3",
   "version": "3.11.5"
  }
 },
 "nbformat": 4,
 "nbformat_minor": 5
}
