{
 "cells": [
  {
   "cell_type": "code",
   "execution_count": 51,
   "id": "c0c711ea",
   "metadata": {},
   "outputs": [],
   "source": [
    "import numpy as np\n",
    "import pandas as pd\n",
    "import seaborn as sns\n",
    "from plotly import graph_objects as go\n",
    "from nltk.corpus import stopwords\n",
    "import re\n",
    "from matplotlib import pyplot as plt"
   ]
  },
  {
   "cell_type": "code",
   "execution_count": 52,
   "id": "d1a9b7a9",
   "metadata": {},
   "outputs": [
    {
     "data": {
      "text/html": [
       "<div>\n",
       "<style scoped>\n",
       "    .dataframe tbody tr th:only-of-type {\n",
       "        vertical-align: middle;\n",
       "    }\n",
       "\n",
       "    .dataframe tbody tr th {\n",
       "        vertical-align: top;\n",
       "    }\n",
       "\n",
       "    .dataframe thead th {\n",
       "        text-align: right;\n",
       "    }\n",
       "</style>\n",
       "<table border=\"1\" class=\"dataframe\">\n",
       "  <thead>\n",
       "    <tr style=\"text-align: right;\">\n",
       "      <th></th>\n",
       "      <th>text</th>\n",
       "      <th>Tag</th>\n",
       "      <th>sentiment</th>\n",
       "    </tr>\n",
       "  </thead>\n",
       "  <tbody>\n",
       "    <tr>\n",
       "      <th>0</th>\n",
       "      <td>লিখার সময় পারলে সত্য লিখার অভ্যাস শিখুন।</td>\n",
       "      <td>negative</td>\n",
       "      <td>0</td>\n",
       "    </tr>\n",
       "    <tr>\n",
       "      <th>1</th>\n",
       "      <td>এটা কেন হচ্ছে? সংশ্লিষ্ট সকলের ডিপ্রেশনের ফলে?...</td>\n",
       "      <td>negative</td>\n",
       "      <td>0</td>\n",
       "    </tr>\n",
       "    <tr>\n",
       "      <th>2</th>\n",
       "      <td>আমাদের দেশের স্বাভাবিক অর্থনৈতিক গতিপ্রবাহকে ব...</td>\n",
       "      <td>negative</td>\n",
       "      <td>0</td>\n",
       "    </tr>\n",
       "    <tr>\n",
       "      <th>3</th>\n",
       "      <td>চুরি নয় লুটপাট।</td>\n",
       "      <td>negative</td>\n",
       "      <td>0</td>\n",
       "    </tr>\n",
       "    <tr>\n",
       "      <th>4</th>\n",
       "      <td>ইসলামী ব্যাংকের বর্তমান অবস্থা দেখে মনে হয় শাস...</td>\n",
       "      <td>neutral</td>\n",
       "      <td>2</td>\n",
       "    </tr>\n",
       "  </tbody>\n",
       "</table>\n",
       "</div>"
      ],
      "text/plain": [
       "                                                text       Tag  sentiment\n",
       "0           লিখার সময় পারলে সত্য লিখার অভ্যাস শিখুন।  negative          0\n",
       "1  এটা কেন হচ্ছে? সংশ্লিষ্ট সকলের ডিপ্রেশনের ফলে?...  negative          0\n",
       "2  আমাদের দেশের স্বাভাবিক অর্থনৈতিক গতিপ্রবাহকে ব...  negative          0\n",
       "3                                    চুরি নয় লুটপাট।  negative          0\n",
       "4  ইসলামী ব্যাংকের বর্তমান অবস্থা দেখে মনে হয় শাস...   neutral          2"
      ]
     },
     "execution_count": 52,
     "metadata": {},
     "output_type": "execute_result"
    }
   ],
   "source": [
    "\n",
    "df1 = pd.read_csv('processed datasets/processed_news_data.csv')\n",
    "df2 = pd.read_csv('processed datasets/processed_Bengali-Drama_Data.csv')\n",
    "df3 = pd.read_csv('processed datasets/processed_cricket_data.csv')\n",
    "df4 = pd.read_csv('processed datasets/processed_restaurant_data.csv')\n",
    "#combine all the dataframes into one\n",
    "df = pd.concat([df1, df2, df3, df4], ignore_index=True)\n",
    "\n",
    "df.head()"
   ]
  },
  {
   "cell_type": "code",
   "execution_count": 53,
   "id": "3447d1f9",
   "metadata": {},
   "outputs": [
    {
     "data": {
      "text/plain": [
       "(30531, 3)"
      ]
     },
     "execution_count": 53,
     "metadata": {},
     "output_type": "execute_result"
    }
   ],
   "source": [
    "df.shape"
   ]
  },
  {
   "cell_type": "code",
   "execution_count": 54,
   "id": "b141e6c2",
   "metadata": {},
   "outputs": [
    {
     "data": {
      "text/plain": [
       "text         0\n",
       "Tag          0\n",
       "sentiment    0\n",
       "dtype: int64"
      ]
     },
     "execution_count": 54,
     "metadata": {},
     "output_type": "execute_result"
    }
   ],
   "source": [
    "#check null values\n",
    "df.isnull().sum()"
   ]
  },
  {
   "cell_type": "markdown",
   "id": "45cee165",
   "metadata": {},
   "source": [
    "### EDA"
   ]
  },
  {
   "cell_type": "code",
   "execution_count": 55,
   "id": "d84e70e0",
   "metadata": {},
   "outputs": [
    {
     "data": {
      "text/html": [
       "<div>\n",
       "<style scoped>\n",
       "    .dataframe tbody tr th:only-of-type {\n",
       "        vertical-align: middle;\n",
       "    }\n",
       "\n",
       "    .dataframe tbody tr th {\n",
       "        vertical-align: top;\n",
       "    }\n",
       "\n",
       "    .dataframe thead th {\n",
       "        text-align: right;\n",
       "    }\n",
       "</style>\n",
       "<table border=\"1\" class=\"dataframe\">\n",
       "  <thead>\n",
       "    <tr style=\"text-align: right;\">\n",
       "      <th></th>\n",
       "      <th>text</th>\n",
       "      <th>Tag</th>\n",
       "      <th>sentiment</th>\n",
       "    </tr>\n",
       "  </thead>\n",
       "  <tbody>\n",
       "    <tr>\n",
       "      <th>count</th>\n",
       "      <td>30531</td>\n",
       "      <td>30531</td>\n",
       "      <td>30531</td>\n",
       "    </tr>\n",
       "    <tr>\n",
       "      <th>unique</th>\n",
       "      <td>28648</td>\n",
       "      <td>3</td>\n",
       "      <td>3</td>\n",
       "    </tr>\n",
       "    <tr>\n",
       "      <th>top</th>\n",
       "      <td>ফালতু নাটক</td>\n",
       "      <td>positive</td>\n",
       "      <td>1</td>\n",
       "    </tr>\n",
       "    <tr>\n",
       "      <th>freq</th>\n",
       "      <td>100</td>\n",
       "      <td>14011</td>\n",
       "      <td>14011</td>\n",
       "    </tr>\n",
       "  </tbody>\n",
       "</table>\n",
       "</div>"
      ],
      "text/plain": [
       "               text       Tag  sentiment\n",
       "count         30531     30531      30531\n",
       "unique        28648         3          3\n",
       "top      ফালতু নাটক  positive          1\n",
       "freq            100     14011      14011"
      ]
     },
     "execution_count": 55,
     "metadata": {},
     "output_type": "execute_result"
    }
   ],
   "source": [
    "# Convert sentiment to a categorical type temporarily\n",
    "df['sentiment'] = df['sentiment'].astype('category')\n",
    "\n",
    "# Call describe again\n",
    "df.describe(include='all')"
   ]
  },
  {
   "cell_type": "code",
   "execution_count": 56,
   "id": "32193faa",
   "metadata": {},
   "outputs": [
    {
     "data": {
      "text/html": [
       "<style type=\"text/css\">\n",
       "#T_b003f_row0_col1 {\n",
       "  background-color: #4e1c8a;\n",
       "  color: #f1f1f1;\n",
       "}\n",
       "#T_b003f_row1_col1 {\n",
       "  background-color: #3f007d;\n",
       "  color: #f1f1f1;\n",
       "}\n",
       "#T_b003f_row2_col1 {\n",
       "  background-color: #fcfbfd;\n",
       "  color: #000000;\n",
       "}\n",
       "</style>\n",
       "<table id=\"T_b003f\">\n",
       "  <thead>\n",
       "    <tr>\n",
       "      <th class=\"blank level0\" >&nbsp;</th>\n",
       "      <th id=\"T_b003f_level0_col0\" class=\"col_heading level0 col0\" >sentiment</th>\n",
       "      <th id=\"T_b003f_level0_col1\" class=\"col_heading level0 col1\" >text</th>\n",
       "    </tr>\n",
       "  </thead>\n",
       "  <tbody>\n",
       "    <tr>\n",
       "      <th id=\"T_b003f_level0_row0\" class=\"row_heading level0 row0\" >0</th>\n",
       "      <td id=\"T_b003f_row0_col0\" class=\"data row0 col0\" >negative</td>\n",
       "      <td id=\"T_b003f_row0_col1\" class=\"data row0 col1\" >13057</td>\n",
       "    </tr>\n",
       "    <tr>\n",
       "      <th id=\"T_b003f_level0_row1\" class=\"row_heading level0 row1\" >1</th>\n",
       "      <td id=\"T_b003f_row1_col0\" class=\"data row1 col0\" >positive</td>\n",
       "      <td id=\"T_b003f_row1_col1\" class=\"data row1 col1\" >14011</td>\n",
       "    </tr>\n",
       "    <tr>\n",
       "      <th id=\"T_b003f_level0_row2\" class=\"row_heading level0 row2\" >2</th>\n",
       "      <td id=\"T_b003f_row2_col0\" class=\"data row2 col0\" >neutral</td>\n",
       "      <td id=\"T_b003f_row2_col1\" class=\"data row2 col1\" >3463</td>\n",
       "    </tr>\n",
       "  </tbody>\n",
       "</table>\n"
      ],
      "text/plain": [
       "<pandas.io.formats.style.Styler at 0x1c23da6bad0>"
      ]
     },
     "execution_count": 56,
     "metadata": {},
     "output_type": "execute_result"
    }
   ],
   "source": [
    "\n",
    "temp = df.groupby('sentiment').count()['text'].reset_index()\n",
    "\n",
    "\n",
    "sentiment_mapping = {0: 'negative', 1: 'positive', 2: 'neutral'}\n",
    "temp['sentiment'] = temp['sentiment'].map(sentiment_mapping)\n",
    "\n",
    "\n",
    "temp = temp.sort_values(by='sentiment')\n",
    "\n",
    "temp.style.background_gradient(cmap='Purples')"
   ]
  },
  {
   "cell_type": "code",
   "execution_count": 57,
   "id": "7709cc98",
   "metadata": {},
   "outputs": [
    {
     "data": {
      "image/png": "[encoded data removed]",
      "text/plain": [
       "<Figure size 800x500 with 1 Axes>"
      ]
     },
     "metadata": {},
     "output_type": "display_data"
    }
   ],
   "source": [
    "\n",
    "plt.figure(figsize=(8, 5))\n",
    "sns.countplot(x='sentiment', data=df, palette='viridis')\n",
    "plt.title('Distribution of Types')\n",
    "plt.xlabel('sentiment')\n",
    "plt.ylabel('Count')\n",
    "plt.show()"
   ]
  },
  {
   "cell_type": "code",
   "execution_count": 58,
   "id": "89e0572f",
   "metadata": {},
   "outputs": [
    {
     "data": {
      "image/png": "[encoded data removed]",
      "text/plain": [
       "<Figure size 1000x600 with 1 Axes>"
      ]
     },
     "metadata": {},
     "output_type": "display_data"
    }
   ],
   "source": [
    "plt.figure(figsize=(10, 6))\n",
    "sns.countplot(y='Tag', data=df, palette='viridis', order=df['Tag'].value_counts().index)\n",
    "plt.title('Distribution of Tags')\n",
    "plt.xlabel('Count')\n",
    "plt.ylabel('Tag')\n",
    "plt.show()"
   ]
  },
  {
   "cell_type": "code",
   "execution_count": 59,
   "id": "76acc38e",
   "metadata": {},
   "outputs": [
    {
     "data": {
      "application/vnd.plotly.v1+json": {
       "config": {
        "plotlyServerURL": "https://plot.ly"
       },
       "data": [
        {
         "text": [
          "negative",
          "positive",
          "neutral"
         ],
         "title": {
          "position": "top center",
          "text": "Funnel-Chart of Sentiment Distribution"
         },
         "type": "funnelarea",
         "values": {
          "bdata": "ATO7NocN",
          "dtype": "i2"
         }
        }
       ],
       "layout": {
        "template": {
         "data": {
          "bar": [
           {
            "error_x": {
             "color": "#2a3f5f"
            },
            "error_y": {
             "color": "#2a3f5f"
            },
            "marker": {
             "line": {
              "color": "#E5ECF6",
              "width": 0.5
             },
             "pattern": {
              "fillmode": "overlay",
              "size": 10,
              "solidity": 0.2
             }
            },
            "type": "bar"
           }
          ],
          "barpolar": [
           {
            "marker": {
             "line": {
              "color": "#E5ECF6",
              "width": 0.5
             },
             "pattern": {
              "fillmode": "overlay",
              "size": 10,
              "solidity": 0.2
             }
            },
            "type": "barpolar"
           }
          ],
          "carpet": [
           {
            "aaxis": {
             "endlinecolor": "#2a3f5f",
             "gridcolor": "white",
             "linecolor": "white",
             "minorgridcolor": "white",
             "startlinecolor": "#2a3f5f"
            },
            "baxis": {
             "endlinecolor": "#2a3f5f",
             "gridcolor": "white",
             "linecolor": "white",
             "minorgridcolor": "white",
             "startlinecolor": "#2a3f5f"
            },
            "type": "carpet"
           }
          ],
          "choropleth": [
           {
            "colorbar": {
             "outlinewidth": 0,
             "ticks": ""
            },
            "type": "choropleth"
           }
          ],
          "contour": [
           {
            "colorbar": {
             "outlinewidth": 0,
             "ticks": ""
            },
            "colorscale": [
             [
              0,
              "#0d0887"
             ],
             [
              0.1111111111111111,
              "#46039f"
             ],
             [
              0.2222222222222222,
              "#7201a8"
             ],
             [
              0.3333333333333333,
              "#9c179e"
             ],
             [
              0.4444444444444444,
              "#bd3786"
             ],
             [
              0.5555555555555556,
              "#d8576b"
             ],
             [
              0.6666666666666666,
              "#ed7953"
             ],
             [
              0.7777777777777778,
              "#fb9f3a"
             ],
             [
              0.8888888888888888,
              "#fdca26"
             ],
             [
              1,
              "#f0f921"
             ]
            ],
            "type": "contour"
           }
          ],
          "contourcarpet": [
           {
            "colorbar": {
             "outlinewidth": 0,
             "ticks": ""
            },
            "type": "contourcarpet"
           }
          ],
          "heatmap": [
           {
            "colorbar": {
             "outlinewidth": 0,
             "ticks": ""
            },
            "colorscale": [
             [
              0,
              "#0d0887"
             ],
             [
              0.1111111111111111,
              "#46039f"
             ],
             [
              0.2222222222222222,
              "#7201a8"
             ],
             [
              0.3333333333333333,
              "#9c179e"
             ],
             [
              0.4444444444444444,
              "#bd3786"
             ],
             [
              0.5555555555555556,
              "#d8576b"
             ],
             [
              0.6666666666666666,
              "#ed7953"
             ],
             [
              0.7777777777777778,
              "#fb9f3a"
             ],
             [
              0.8888888888888888,
              "#fdca26"
             ],
             [
              1,
              "#f0f921"
             ]
            ],
            "type": "heatmap"
           }
          ],
          "histogram": [
           {
            "marker": {
             "pattern": {
              "fillmode": "overlay",
              "size": 10,
              "solidity": 0.2
             }
            },
            "type": "histogram"
           }
          ],
          "histogram2d": [
           {
            "colorbar": {
             "outlinewidth": 0,
             "ticks": ""
            },
            "colorscale": [
             [
              0,
              "#0d0887"
             ],
             [
              0.1111111111111111,
              "#46039f"
             ],
             [
              0.2222222222222222,
              "#7201a8"
             ],
             [
              0.3333333333333333,
              "#9c179e"
             ],
             [
              0.4444444444444444,
              "#bd3786"
             ],
             [
              0.5555555555555556,
              "#d8576b"
             ],
             [
              0.6666666666666666,
              "#ed7953"
             ],
             [
              0.7777777777777778,
              "#fb9f3a"
             ],
             [
              0.8888888888888888,
              "#fdca26"
             ],
             [
              1,
              "#f0f921"
             ]
            ],
            "type": "histogram2d"
           }
          ],
          "histogram2dcontour": [
           {
            "colorbar": {
             "outlinewidth": 0,
             "ticks": ""
            },
            "colorscale": [
             [
              0,
              "#0d0887"
             ],
             [
              0.1111111111111111,
              "#46039f"
             ],
             [
              0.2222222222222222,
              "#7201a8"
             ],
             [
              0.3333333333333333,
              "#9c179e"
             ],
             [
              0.4444444444444444,
              "#bd3786"
             ],
             [
              0.5555555555555556,
              "#d8576b"
             ],
             [
              0.6666666666666666,
              "#ed7953"
             ],
             [
              0.7777777777777778,
              "#fb9f3a"
             ],
             [
              0.8888888888888888,
              "#fdca26"
             ],
             [
              1,
              "#f0f921"
             ]
            ],
            "type": "histogram2dcontour"
           }
          ],
          "mesh3d": [
           {
            "colorbar": {
             "outlinewidth": 0,
             "ticks": ""
            },
            "type": "mesh3d"
           }
          ],
          "parcoords": [
           {
            "line": {
             "colorbar": {
              "outlinewidth": 0,
              "ticks": ""
             }
            },
            "type": "parcoords"
           }
          ],
          "pie": [
           {
            "automargin": true,
            "type": "pie"
           }
          ],
          "scatter": [
           {
            "fillpattern": {
             "fillmode": "overlay",
             "size": 10,
             "solidity": 0.2
            },
            "type": "scatter"
           }
          ],
          "scatter3d": [
           {
            "line": {
             "colorbar": {
              "outlinewidth": 0,
              "ticks": ""
             }
            },
            "marker": {
             "colorbar": {
              "outlinewidth": 0,
              "ticks": ""
             }
            },
            "type": "scatter3d"
           }
          ],
          "scattercarpet": [
           {
            "marker": {
             "colorbar": {
              "outlinewidth": 0,
              "ticks": ""
             }
            },
            "type": "scattercarpet"
           }
          ],
          "scattergeo": [
           {
            "marker": {
             "colorbar": {
              "outlinewidth": 0,
              "ticks": ""
             }
            },
            "type": "scattergeo"
           }
          ],
          "scattergl": [
           {
            "marker": {
             "colorbar": {
              "outlinewidth": 0,
              "ticks": ""
             }
            },
            "type": "scattergl"
           }
          ],
          "scattermap": [
           {
            "marker": {
             "colorbar": {
              "outlinewidth": 0,
              "ticks": ""
             }
            },
            "type": "scattermap"
           }
          ],
          "scattermapbox": [
           {
            "marker": {
             "colorbar": {
              "outlinewidth": 0,
              "ticks": ""
             }
            },
            "type": "scattermapbox"
           }
          ],
          "scatterpolar": [
           {
            "marker": {
             "colorbar": {
              "outlinewidth": 0,
              "ticks": ""
             }
            },
            "type": "scatterpolar"
           }
          ],
          "scatterpolargl": [
           {
            "marker": {
             "colorbar": {
              "outlinewidth": 0,
              "ticks": ""
             }
            },
            "type": "scatterpolargl"
           }
          ],
          "scatterternary": [
           {
            "marker": {
             "colorbar": {
              "outlinewidth": 0,
              "ticks": ""
             }
            },
            "type": "scatterternary"
           }
          ],
          "surface": [
           {
            "colorbar": {
             "outlinewidth": 0,
             "ticks": ""
            },
            "colorscale": [
             [
              0,
              "#0d0887"
             ],
             [
              0.1111111111111111,
              "#46039f"
             ],
             [
              0.2222222222222222,
              "#7201a8"
             ],
             [
              0.3333333333333333,
              "#9c179e"
             ],
             [
              0.4444444444444444,
              "#bd3786"
             ],
             [
              0.5555555555555556,
              "#d8576b"
             ],
             [
              0.6666666666666666,
              "#ed7953"
             ],
             [
              0.7777777777777778,
              "#fb9f3a"
             ],
             [
              0.8888888888888888,
              "#fdca26"
             ],
             [
              1,
              "#f0f921"
             ]
            ],
            "type": "surface"
           }
          ],
          "table": [
           {
            "cells": {
             "fill": {
              "color": "#EBF0F8"
             },
             "line": {
              "color": "white"
             }
            },
            "header": {
             "fill": {
              "color": "#C8D4E3"
             },
             "line": {
              "color": "white"
             }
            },
            "type": "table"
           }
          ]
         },
         "layout": {
          "annotationdefaults": {
           "arrowcolor": "#2a3f5f",
           "arrowhead": 0,
           "arrowwidth": 1
          },
          "autotypenumbers": "strict",
          "coloraxis": {
           "colorbar": {
            "outlinewidth": 0,
            "ticks": ""
           }
          },
          "colorscale": {
           "diverging": [
            [
             0,
             "#8e0152"
            ],
            [
             0.1,
             "#c51b7d"
            ],
            [
             0.2,
             "#de77ae"
            ],
            [
             0.3,
             "#f1b6da"
            ],
            [
             0.4,
             "#fde0ef"
            ],
            [
             0.5,
             "#f7f7f7"
            ],
            [
             0.6,
             "#e6f5d0"
            ],
            [
             0.7,
             "#b8e186"
            ],
            [
             0.8,
             "#7fbc41"
            ],
            [
             0.9,
             "#4d9221"
            ],
            [
             1,
             "#276419"
            ]
           ],
           "sequential": [
            [
             0,
             "#0d0887"
            ],
            [
             0.1111111111111111,
             "#46039f"
            ],
            [
             0.2222222222222222,
             "#7201a8"
            ],
            [
             0.3333333333333333,
             "#9c179e"
            ],
            [
             0.4444444444444444,
             "#bd3786"
            ],
            [
             0.5555555555555556,
             "#d8576b"
            ],
            [
             0.6666666666666666,
             "#ed7953"
            ],
            [
             0.7777777777777778,
             "#fb9f3a"
            ],
            [
             0.8888888888888888,
             "#fdca26"
            ],
            [
             1,
             "#f0f921"
            ]
           ],
           "sequentialminus": [
            [
             0,
             "#0d0887"
            ],
            [
             0.1111111111111111,
             "#46039f"
            ],
            [
             0.2222222222222222,
             "#7201a8"
            ],
            [
             0.3333333333333333,
             "#9c179e"
            ],
            [
             0.4444444444444444,
             "#bd3786"
            ],
            [
             0.5555555555555556,
             "#d8576b"
            ],
            [
             0.6666666666666666,
             "#ed7953"
            ],
            [
             0.7777777777777778,
             "#fb9f3a"
            ],
            [
             0.8888888888888888,
             "#fdca26"
            ],
            [
             1,
             "#f0f921"
            ]
           ]
          },
          "colorway": [
           "#636efa",
           "#EF553B",
           "#00cc96",
           "#ab63fa",
           "#FFA15A",
           "#19d3f3",
           "#FF6692",
           "#B6E880",
           "#FF97FF",
           "#FECB52"
          ],
          "font": {
           "color": "#2a3f5f"
          },
          "geo": {
           "bgcolor": "white",
           "lakecolor": "white",
           "landcolor": "#E5ECF6",
           "showlakes": true,
           "showland": true,
           "subunitcolor": "white"
          },
          "hoverlabel": {
           "align": "left"
          },
          "hovermode": "closest",
          "mapbox": {
           "style": "light"
          },
          "paper_bgcolor": "white",
          "plot_bgcolor": "#E5ECF6",
          "polar": {
           "angularaxis": {
            "gridcolor": "white",
            "linecolor": "white",
            "ticks": ""
           },
           "bgcolor": "#E5ECF6",
           "radialaxis": {
            "gridcolor": "white",
            "linecolor": "white",
            "ticks": ""
           }
          },
          "scene": {
           "xaxis": {
            "backgroundcolor": "#E5ECF6",
            "gridcolor": "white",
            "gridwidth": 2,
            "linecolor": "white",
            "showbackground": true,
            "ticks": "",
            "zerolinecolor": "white"
           },
           "yaxis": {
            "backgroundcolor": "#E5ECF6",
            "gridcolor": "white",
            "gridwidth": 2,
            "linecolor": "white",
            "showbackground": true,
            "ticks": "",
            "zerolinecolor": "white"
           },
           "zaxis": {
            "backgroundcolor": "#E5ECF6",
            "gridcolor": "white",
            "gridwidth": 2,
            "linecolor": "white",
            "showbackground": true,
            "ticks": "",
            "zerolinecolor": "white"
           }
          },
          "shapedefaults": {
           "line": {
            "color": "#2a3f5f"
           }
          },
          "ternary": {
           "aaxis": {
            "gridcolor": "white",
            "linecolor": "white",
            "ticks": ""
           },
           "baxis": {
            "gridcolor": "white",
            "linecolor": "white",
            "ticks": ""
           },
           "bgcolor": "#E5ECF6",
           "caxis": {
            "gridcolor": "white",
            "linecolor": "white",
            "ticks": ""
           }
          },
          "title": {
           "x": 0.05
          },
          "xaxis": {
           "automargin": true,
           "gridcolor": "white",
           "linecolor": "white",
           "ticks": "",
           "title": {
            "standoff": 15
           },
           "zerolinecolor": "white",
           "zerolinewidth": 2
          },
          "yaxis": {
           "automargin": true,
           "gridcolor": "white",
           "linecolor": "white",
           "ticks": "",
           "title": {
            "standoff": 15
           },
           "zerolinecolor": "white",
           "zerolinewidth": 2
          }
         }
        }
       }
      }
     },
     "metadata": {},
     "output_type": "display_data"
    }
   ],
   "source": [
    "from plotly import graph_objs as go\n",
    "\n",
    "fig = go.Figure(go.Funnelarea(\n",
    "    text=temp.sentiment,\n",
    "    values=temp.text,\n",
    "    title={\"position\": \"top center\", \"text\": \"Funnel-Chart of Sentiment Distribution\"}\n",
    "))\n",
    "fig.show()"
   ]
  },
  {
   "cell_type": "markdown",
   "id": "c6809370",
   "metadata": {},
   "source": [
    "#### Most common WOrds"
   ]
  },
  {
   "cell_type": "code",
   "execution_count": 60,
   "id": "cfa29282",
   "metadata": {},
   "outputs": [
    {
     "data": {
      "text/html": [
       "<style type=\"text/css\">\n",
       "#T_ba16b_row0_col1 {\n",
       "  background-color: #08306b;\n",
       "  color: #f1f1f1;\n",
       "}\n",
       "#T_ba16b_row1_col1 {\n",
       "  background-color: #2474b7;\n",
       "  color: #f1f1f1;\n",
       "}\n",
       "#T_ba16b_row2_col1 {\n",
       "  background-color: #4090c5;\n",
       "  color: #f1f1f1;\n",
       "}\n",
       "#T_ba16b_row3_col1 {\n",
       "  background-color: #4896c8;\n",
       "  color: #f1f1f1;\n",
       "}\n",
       "#T_ba16b_row4_col1 {\n",
       "  background-color: #72b2d8;\n",
       "  color: #f1f1f1;\n",
       "}\n",
       "#T_ba16b_row5_col1 {\n",
       "  background-color: #79b5d9;\n",
       "  color: #000000;\n",
       "}\n",
       "#T_ba16b_row6_col1 {\n",
       "  background-color: #7fb9da;\n",
       "  color: #000000;\n",
       "}\n",
       "#T_ba16b_row7_col1 {\n",
       "  background-color: #add0e6;\n",
       "  color: #000000;\n",
       "}\n",
       "#T_ba16b_row8_col1 {\n",
       "  background-color: #c2d9ee;\n",
       "  color: #000000;\n",
       "}\n",
       "#T_ba16b_row9_col1 {\n",
       "  background-color: #cfe1f2;\n",
       "  color: #000000;\n",
       "}\n",
       "#T_ba16b_row10_col1 {\n",
       "  background-color: #d9e7f5;\n",
       "  color: #000000;\n",
       "}\n",
       "#T_ba16b_row11_col1 {\n",
       "  background-color: #eaf2fb;\n",
       "  color: #000000;\n",
       "}\n",
       "#T_ba16b_row12_col1 {\n",
       "  background-color: #ecf4fb;\n",
       "  color: #000000;\n",
       "}\n",
       "#T_ba16b_row13_col1 {\n",
       "  background-color: #f2f8fd;\n",
       "  color: #000000;\n",
       "}\n",
       "#T_ba16b_row14_col1 {\n",
       "  background-color: #f4f9fe;\n",
       "  color: #000000;\n",
       "}\n",
       "#T_ba16b_row15_col1, #T_ba16b_row16_col1 {\n",
       "  background-color: #f5fafe;\n",
       "  color: #000000;\n",
       "}\n",
       "#T_ba16b_row17_col1 {\n",
       "  background-color: #f6faff;\n",
       "  color: #000000;\n",
       "}\n",
       "#T_ba16b_row18_col1, #T_ba16b_row19_col1 {\n",
       "  background-color: #f7fbff;\n",
       "  color: #000000;\n",
       "}\n",
       "</style>\n",
       "<table id=\"T_ba16b\">\n",
       "  <thead>\n",
       "    <tr>\n",
       "      <th class=\"blank level0\" >&nbsp;</th>\n",
       "      <th id=\"T_ba16b_level0_col0\" class=\"col_heading level0 col0\" >Common_words</th>\n",
       "      <th id=\"T_ba16b_level0_col1\" class=\"col_heading level0 col1\" >count</th>\n",
       "    </tr>\n",
       "  </thead>\n",
       "  <tbody>\n",
       "    <tr>\n",
       "      <th id=\"T_ba16b_level0_row0\" class=\"row_heading level0 row0\" >0</th>\n",
       "      <td id=\"T_ba16b_row0_col0\" class=\"data row0 col0\" >নাটক</td>\n",
       "      <td id=\"T_ba16b_row0_col1\" class=\"data row0 col1\" >5045</td>\n",
       "    </tr>\n",
       "    <tr>\n",
       "      <th id=\"T_ba16b_level0_row1\" class=\"row_heading level0 row1\" >1</th>\n",
       "      <td id=\"T_ba16b_row1_col0\" class=\"data row1 col0\" >না</td>\n",
       "      <td id=\"T_ba16b_row1_col1\" class=\"data row1 col1\" >4185</td>\n",
       "    </tr>\n",
       "    <tr>\n",
       "      <th id=\"T_ba16b_level0_row2\" class=\"row_heading level0 row2\" >2</th>\n",
       "      <td id=\"T_ba16b_row2_col0\" class=\"data row2 col0\" >আর</td>\n",
       "      <td id=\"T_ba16b_row2_col1\" class=\"data row2 col1\" >3848</td>\n",
       "    </tr>\n",
       "    <tr>\n",
       "      <th id=\"T_ba16b_level0_row3\" class=\"row_heading level0 row3\" >3</th>\n",
       "      <td id=\"T_ba16b_row3_col0\" class=\"data row3 col0\" >এই</td>\n",
       "      <td id=\"T_ba16b_row3_col1\" class=\"data row3 col1\" >3775</td>\n",
       "    </tr>\n",
       "    <tr>\n",
       "      <th id=\"T_ba16b_level0_row4\" class=\"row_heading level0 row4\" >4</th>\n",
       "      <td id=\"T_ba16b_row4_col0\" class=\"data row4 col0\" >করে</td>\n",
       "      <td id=\"T_ba16b_row4_col1\" class=\"data row4 col1\" >3361</td>\n",
       "    </tr>\n",
       "    <tr>\n",
       "      <th id=\"T_ba16b_level0_row5\" class=\"row_heading level0 row5\" >5</th>\n",
       "      <td id=\"T_ba16b_row5_col0\" class=\"data row5 col0\" >ভালো</td>\n",
       "      <td id=\"T_ba16b_row5_col1\" class=\"data row5 col1\" >3311</td>\n",
       "    </tr>\n",
       "    <tr>\n",
       "      <th id=\"T_ba16b_level0_row6\" class=\"row_heading level0 row6\" >6</th>\n",
       "      <td id=\"T_ba16b_row6_col0\" class=\"data row6 col0\" >অনেক</td>\n",
       "      <td id=\"T_ba16b_row6_col1\" class=\"data row6 col1\" >3262</td>\n",
       "    </tr>\n",
       "    <tr>\n",
       "      <th id=\"T_ba16b_level0_row7\" class=\"row_heading level0 row7\" >7</th>\n",
       "      <td id=\"T_ba16b_row7_col0\" class=\"data row7 col0\" >কি</td>\n",
       "      <td id=\"T_ba16b_row7_col1\" class=\"data row7 col1\" >2870</td>\n",
       "    </tr>\n",
       "    <tr>\n",
       "      <th id=\"T_ba16b_level0_row8\" class=\"row_heading level0 row8\" >8</th>\n",
       "      <td id=\"T_ba16b_row8_col0\" class=\"data row8 col0\" >।</td>\n",
       "      <td id=\"T_ba16b_row8_col1\" class=\"data row8 col1\" >2661</td>\n",
       "    </tr>\n",
       "    <tr>\n",
       "      <th id=\"T_ba16b_level0_row9\" class=\"row_heading level0 row9\" >9</th>\n",
       "      <td id=\"T_ba16b_row9_col0\" class=\"data row9 col0\" >একটা</td>\n",
       "      <td id=\"T_ba16b_row9_col1\" class=\"data row9 col1\" >2465</td>\n",
       "    </tr>\n",
       "    <tr>\n",
       "      <th id=\"T_ba16b_level0_row10\" class=\"row_heading level0 row10\" >10</th>\n",
       "      <td id=\"T_ba16b_row10_col0\" class=\"data row10 col0\" >জন্য</td>\n",
       "      <td id=\"T_ba16b_row10_col1\" class=\"data row10 col1\" >2308</td>\n",
       "    </tr>\n",
       "    <tr>\n",
       "      <th id=\"T_ba16b_level0_row11\" class=\"row_heading level0 row11\" >11</th>\n",
       "      <td id=\"T_ba16b_row11_col0\" class=\"data row11 col0\" >এবং</td>\n",
       "      <td id=\"T_ba16b_row11_col1\" class=\"data row11 col1\" >2020</td>\n",
       "    </tr>\n",
       "    <tr>\n",
       "      <th id=\"T_ba16b_level0_row12\" class=\"row_heading level0 row12\" >12</th>\n",
       "      <td id=\"T_ba16b_row12_col0\" class=\"data row12 col0\" >ও</td>\n",
       "      <td id=\"T_ba16b_row12_col1\" class=\"data row12 col1\" >1983</td>\n",
       "    </tr>\n",
       "    <tr>\n",
       "      <th id=\"T_ba16b_level0_row13\" class=\"row_heading level0 row13\" >13</th>\n",
       "      <td id=\"T_ba16b_row13_col0\" class=\"data row13 col0\" >থেকে</td>\n",
       "      <td id=\"T_ba16b_row13_col1\" class=\"data row13 col1\" >1886</td>\n",
       "    </tr>\n",
       "    <tr>\n",
       "      <th id=\"T_ba16b_level0_row14\" class=\"row_heading level0 row14\" >14</th>\n",
       "      <td id=\"T_ba16b_row14_col0\" class=\"data row14 col0\" >যে</td>\n",
       "      <td id=\"T_ba16b_row14_col1\" class=\"data row14 col1\" >1857</td>\n",
       "    </tr>\n",
       "    <tr>\n",
       "      <th id=\"T_ba16b_level0_row15\" class=\"row_heading level0 row15\" >15</th>\n",
       "      <td id=\"T_ba16b_row15_col0\" class=\"data row15 col0\" >সুন্দর</td>\n",
       "      <td id=\"T_ba16b_row15_col1\" class=\"data row15 col1\" >1834</td>\n",
       "    </tr>\n",
       "    <tr>\n",
       "      <th id=\"T_ba16b_level0_row16\" class=\"row_heading level0 row16\" >16</th>\n",
       "      <td id=\"T_ba16b_row16_col0\" class=\"data row16 col0\" >ভাল</td>\n",
       "      <td id=\"T_ba16b_row16_col1\" class=\"data row16 col1\" >1831</td>\n",
       "    </tr>\n",
       "    <tr>\n",
       "      <th id=\"T_ba16b_level0_row17\" class=\"row_heading level0 row17\" >17</th>\n",
       "      <td id=\"T_ba16b_row17_col0\" class=\"data row17 col0\" >আমার</td>\n",
       "      <td id=\"T_ba16b_row17_col1\" class=\"data row17 col1\" >1816</td>\n",
       "    </tr>\n",
       "    <tr>\n",
       "      <th id=\"T_ba16b_level0_row18\" class=\"row_heading level0 row18\" >18</th>\n",
       "      <td id=\"T_ba16b_row18_col0\" class=\"data row18 col0\" >খুব</td>\n",
       "      <td id=\"T_ba16b_row18_col1\" class=\"data row18 col1\" >1805</td>\n",
       "    </tr>\n",
       "    <tr>\n",
       "      <th id=\"T_ba16b_level0_row19\" class=\"row_heading level0 row19\" >19</th>\n",
       "      <td id=\"T_ba16b_row19_col0\" class=\"data row19 col0\" >না।</td>\n",
       "      <td id=\"T_ba16b_row19_col1\" class=\"data row19 col1\" >1803</td>\n",
       "    </tr>\n",
       "  </tbody>\n",
       "</table>\n"
      ],
      "text/plain": [
       "<pandas.io.formats.style.Styler at 0x1c23d694e10>"
      ]
     },
     "execution_count": 60,
     "metadata": {},
     "output_type": "execute_result"
    }
   ],
   "source": [
    "from collections import Counter\n",
    "\n",
    "df['temp_list'] = df['text'].apply(lambda x:str(x).split())\n",
    "top = Counter([item for sublist in df['temp_list'] for item in sublist])\n",
    "temp = pd.DataFrame(top.most_common(20))\n",
    "temp.columns = ['Common_words','count']\n",
    "temp.style.background_gradient(cmap='Blues')"
   ]
  },
  {
   "cell_type": "code",
   "execution_count": 61,
   "id": "1e9bfc28",
   "metadata": {},
   "outputs": [],
   "source": [
    "df['temp_list'] = df['text'].apply(lambda x: str(x).split())\n",
    "def remove_stopword(x):\n",
    "    return [y for y in x if y not in stopwords.words('bengali')]\n",
    "df['temp_list'] = df['temp_list'].apply(remove_stopword)"
   ]
  },
  {
   "cell_type": "code",
   "execution_count": 62,
   "id": "a581d646",
   "metadata": {},
   "outputs": [],
   "source": [
    "# Remove punctuation\n",
    "def remove_punctuation(temp_list):\n",
    "    return [re.sub(r'[“”\"\\'।।.,!?()\\[\\]{}<>;:।‘’–—…]', '', word) for word in temp_list]\n",
    "\n",
    "df['temp_list'] = df['temp_list'].apply(remove_punctuation)"
   ]
  },
  {
   "cell_type": "markdown",
   "id": "231859e3",
   "metadata": {},
   "source": [
    "#### Most common words after removing stopwords"
   ]
  },
  {
   "cell_type": "code",
   "execution_count": 63,
   "id": "8f13f224",
   "metadata": {},
   "outputs": [],
   "source": [
    "def remove_space(x):\n",
    "    return [y for y in x if y != '']\n",
    "df['temp_list'] = df['temp_list'].apply(remove_space)"
   ]
  },
  {
   "cell_type": "code",
   "execution_count": 64,
   "id": "5d3ae7e2",
   "metadata": {},
   "outputs": [
    {
     "data": {
      "text/html": [
       "<style type=\"text/css\">\n",
       "#T_2f272_row0_col1 {\n",
       "  background-color: #08306b;\n",
       "  color: #f1f1f1;\n",
       "}\n",
       "#T_2f272_row1_col1 {\n",
       "  background-color: #69add5;\n",
       "  color: #f1f1f1;\n",
       "}\n",
       "#T_2f272_row2_col1 {\n",
       "  background-color: #9cc9e1;\n",
       "  color: #000000;\n",
       "}\n",
       "#T_2f272_row3_col1 {\n",
       "  background-color: #b2d2e8;\n",
       "  color: #000000;\n",
       "}\n",
       "#T_2f272_row4_col1 {\n",
       "  background-color: #cddff1;\n",
       "  color: #000000;\n",
       "}\n",
       "#T_2f272_row5_col1 {\n",
       "  background-color: #cfe1f2;\n",
       "  color: #000000;\n",
       "}\n",
       "#T_2f272_row6_col1 {\n",
       "  background-color: #d0e1f2;\n",
       "  color: #000000;\n",
       "}\n",
       "#T_2f272_row7_col1 {\n",
       "  background-color: #d4e4f4;\n",
       "  color: #000000;\n",
       "}\n",
       "#T_2f272_row8_col1 {\n",
       "  background-color: #e3eef8;\n",
       "  color: #000000;\n",
       "}\n",
       "#T_2f272_row9_col1 {\n",
       "  background-color: #e9f2fa;\n",
       "  color: #000000;\n",
       "}\n",
       "#T_2f272_row10_col1 {\n",
       "  background-color: #ecf4fb;\n",
       "  color: #000000;\n",
       "}\n",
       "#T_2f272_row11_col1, #T_2f272_row12_col1 {\n",
       "  background-color: #eef5fc;\n",
       "  color: #000000;\n",
       "}\n",
       "#T_2f272_row13_col1 {\n",
       "  background-color: #eff6fc;\n",
       "  color: #000000;\n",
       "}\n",
       "#T_2f272_row14_col1, #T_2f272_row15_col1 {\n",
       "  background-color: #f2f7fd;\n",
       "  color: #000000;\n",
       "}\n",
       "#T_2f272_row16_col1 {\n",
       "  background-color: #f5f9fe;\n",
       "  color: #000000;\n",
       "}\n",
       "#T_2f272_row17_col1, #T_2f272_row18_col1 {\n",
       "  background-color: #f5fafe;\n",
       "  color: #000000;\n",
       "}\n",
       "#T_2f272_row19_col1 {\n",
       "  background-color: #f7fbff;\n",
       "  color: #000000;\n",
       "}\n",
       "</style>\n",
       "<table id=\"T_2f272\">\n",
       "  <thead>\n",
       "    <tr>\n",
       "      <th class=\"blank level0\" >&nbsp;</th>\n",
       "      <th id=\"T_2f272_level0_col0\" class=\"col_heading level0 col0\" >Common_words</th>\n",
       "      <th id=\"T_2f272_level0_col1\" class=\"col_heading level0 col1\" >count</th>\n",
       "    </tr>\n",
       "  </thead>\n",
       "  <tbody>\n",
       "    <tr>\n",
       "      <th id=\"T_2f272_level0_row0\" class=\"row_heading level0 row0\" >0</th>\n",
       "      <td id=\"T_2f272_row0_col0\" class=\"data row0 col0\" >নাটক</td>\n",
       "      <td id=\"T_2f272_row0_col1\" class=\"data row0 col1\" >5856</td>\n",
       "    </tr>\n",
       "    <tr>\n",
       "      <th id=\"T_2f272_level0_row1\" class=\"row_heading level0 row1\" >1</th>\n",
       "      <td id=\"T_2f272_row1_col0\" class=\"data row1 col0\" >ভালো</td>\n",
       "      <td id=\"T_2f272_row1_col1\" class=\"data row1 col1\" >3421</td>\n",
       "    </tr>\n",
       "    <tr>\n",
       "      <th id=\"T_2f272_level0_row2\" class=\"row_heading level0 row2\" >2</th>\n",
       "      <td id=\"T_2f272_row2_col0\" class=\"data row2 col0\" >না</td>\n",
       "      <td id=\"T_2f272_row2_col1\" class=\"data row2 col1\" >2818</td>\n",
       "    </tr>\n",
       "    <tr>\n",
       "      <th id=\"T_2f272_level0_row3\" class=\"row_heading level0 row3\" >3</th>\n",
       "      <td id=\"T_2f272_row3_col0\" class=\"data row3 col0\" >একটা</td>\n",
       "      <td id=\"T_2f272_row3_col1\" class=\"data row3 col1\" >2492</td>\n",
       "    </tr>\n",
       "    <tr>\n",
       "      <th id=\"T_2f272_level0_row4\" class=\"row_heading level0 row4\" >4</th>\n",
       "      <td id=\"T_2f272_row4_col0\" class=\"data row4 col0\" >অসাধারণ</td>\n",
       "      <td id=\"T_2f272_row4_col1\" class=\"data row4 col1\" >2002</td>\n",
       "    </tr>\n",
       "    <tr>\n",
       "      <th id=\"T_2f272_level0_row5\" class=\"row_heading level0 row5\" >5</th>\n",
       "      <td id=\"T_2f272_row5_col0\" class=\"data row5 col0\" >সুন্দর</td>\n",
       "      <td id=\"T_2f272_row5_col1\" class=\"data row5 col1\" >1943</td>\n",
       "    </tr>\n",
       "    <tr>\n",
       "      <th id=\"T_2f272_level0_row6\" class=\"row_heading level0 row6\" >6</th>\n",
       "      <td id=\"T_2f272_row6_col0\" class=\"data row6 col0\" >ভাল</td>\n",
       "      <td id=\"T_2f272_row6_col1\" class=\"data row6 col1\" >1919</td>\n",
       "    </tr>\n",
       "    <tr>\n",
       "      <th id=\"T_2f272_level0_row7\" class=\"row_heading level0 row7\" >7</th>\n",
       "      <td id=\"T_2f272_row7_col0\" class=\"data row7 col0\" >ভাই</td>\n",
       "      <td id=\"T_2f272_row7_col1\" class=\"data row7 col1\" >1806</td>\n",
       "    </tr>\n",
       "    <tr>\n",
       "      <th id=\"T_2f272_level0_row8\" class=\"row_heading level0 row8\" >8</th>\n",
       "      <td id=\"T_2f272_row8_col0\" class=\"data row8 col0\" >কথা</td>\n",
       "      <td id=\"T_2f272_row8_col1\" class=\"data row8 col1\" >1455</td>\n",
       "    </tr>\n",
       "    <tr>\n",
       "      <th id=\"T_2f272_level0_row9\" class=\"row_heading level0 row9\" >9</th>\n",
       "      <td id=\"T_2f272_row9_col0\" class=\"data row9 col0\" >টা</td>\n",
       "      <td id=\"T_2f272_row9_col1\" class=\"data row9 col1\" >1292</td>\n",
       "    </tr>\n",
       "    <tr>\n",
       "      <th id=\"T_2f272_level0_row10\" class=\"row_heading level0 row10\" >10</th>\n",
       "      <td id=\"T_2f272_row10_col0\" class=\"data row10 col0\" >টাকা</td>\n",
       "      <td id=\"T_2f272_row10_col1\" class=\"data row10 col1\" >1219</td>\n",
       "    </tr>\n",
       "    <tr>\n",
       "      <th id=\"T_2f272_level0_row11\" class=\"row_heading level0 row11\" >11</th>\n",
       "      <td id=\"T_2f272_row11_col0\" class=\"data row11 col0\" >এক</td>\n",
       "      <td id=\"T_2f272_row11_col1\" class=\"data row11 col1\" >1169</td>\n",
       "    </tr>\n",
       "    <tr>\n",
       "      <th id=\"T_2f272_level0_row12\" class=\"row_heading level0 row12\" >12</th>\n",
       "      <td id=\"T_2f272_row12_col0\" class=\"data row12 col0\" >হয়ে</td>\n",
       "      <td id=\"T_2f272_row12_col1\" class=\"data row12 col1\" >1167</td>\n",
       "    </tr>\n",
       "    <tr>\n",
       "      <th id=\"T_2f272_level0_row13\" class=\"row_heading level0 row13\" >13</th>\n",
       "      <td id=\"T_2f272_row13_col0\" class=\"data row13 col0\" >সাথে</td>\n",
       "      <td id=\"T_2f272_row13_col1\" class=\"data row13 col1\" >1144</td>\n",
       "    </tr>\n",
       "    <tr>\n",
       "      <th id=\"T_2f272_level0_row14\" class=\"row_heading level0 row14\" >14</th>\n",
       "      <td id=\"T_2f272_row14_col0\" class=\"data row14 col0\" >হবে</td>\n",
       "      <td id=\"T_2f272_row14_col1\" class=\"data row14 col1\" >1074</td>\n",
       "    </tr>\n",
       "    <tr>\n",
       "      <th id=\"T_2f272_level0_row15\" class=\"row_heading level0 row15\" >15</th>\n",
       "      <td id=\"T_2f272_row15_col0\" class=\"data row15 col0\" >দিয়ে</td>\n",
       "      <td id=\"T_2f272_row15_col1\" class=\"data row15 col1\" >1074</td>\n",
       "    </tr>\n",
       "    <tr>\n",
       "      <th id=\"T_2f272_level0_row16\" class=\"row_heading level0 row16\" >16</th>\n",
       "      <td id=\"T_2f272_row16_col0\" class=\"data row16 col0\" >দেশের</td>\n",
       "      <td id=\"T_2f272_row16_col1\" class=\"data row16 col1\" >1009</td>\n",
       "    </tr>\n",
       "    <tr>\n",
       "      <th id=\"T_2f272_level0_row17\" class=\"row_heading level0 row17\" >17</th>\n",
       "      <td id=\"T_2f272_row17_col0\" class=\"data row17 col0\" >যায়</td>\n",
       "      <td id=\"T_2f272_row17_col1\" class=\"data row17 col1\" >992</td>\n",
       "    </tr>\n",
       "    <tr>\n",
       "      <th id=\"T_2f272_level0_row18\" class=\"row_heading level0 row18\" >18</th>\n",
       "      <td id=\"T_2f272_row18_col0\" class=\"data row18 col0\" >ধন্যবাদ</td>\n",
       "      <td id=\"T_2f272_row18_col1\" class=\"data row18 col1\" >981</td>\n",
       "    </tr>\n",
       "    <tr>\n",
       "      <th id=\"T_2f272_level0_row19\" class=\"row_heading level0 row19\" >19</th>\n",
       "      <td id=\"T_2f272_row19_col0\" class=\"data row19 col0\" >হয়েছে</td>\n",
       "      <td id=\"T_2f272_row19_col1\" class=\"data row19 col1\" >938</td>\n",
       "    </tr>\n",
       "  </tbody>\n",
       "</table>\n"
      ],
      "text/plain": [
       "<pandas.io.formats.style.Styler at 0x1c240836050>"
      ]
     },
     "execution_count": 64,
     "metadata": {},
     "output_type": "execute_result"
    }
   ],
   "source": [
    "top = Counter([item for sublist in df['temp_list'] for item in sublist])\n",
    "temp = pd.DataFrame(top.most_common(20))\n",
    "temp.columns = ['Common_words','count']\n",
    "temp.style.background_gradient(cmap='Blues')"
   ]
  },
  {
   "cell_type": "markdown",
   "id": "4627ac09",
   "metadata": {},
   "source": [
    "#### Most common words Sentiments Wise"
   ]
  },
  {
   "cell_type": "code",
   "execution_count": 65,
   "id": "a596088e",
   "metadata": {},
   "outputs": [
    {
     "data": {
      "text/html": [
       "<div>\n",
       "<style scoped>\n",
       "    .dataframe tbody tr th:only-of-type {\n",
       "        vertical-align: middle;\n",
       "    }\n",
       "\n",
       "    .dataframe tbody tr th {\n",
       "        vertical-align: top;\n",
       "    }\n",
       "\n",
       "    .dataframe thead th {\n",
       "        text-align: right;\n",
       "    }\n",
       "</style>\n",
       "<table border=\"1\" class=\"dataframe\">\n",
       "  <thead>\n",
       "    <tr style=\"text-align: right;\">\n",
       "      <th></th>\n",
       "      <th>text</th>\n",
       "      <th>Tag</th>\n",
       "      <th>sentiment</th>\n",
       "      <th>temp_list</th>\n",
       "    </tr>\n",
       "  </thead>\n",
       "  <tbody>\n",
       "    <tr>\n",
       "      <th>0</th>\n",
       "      <td>লিখার সময় পারলে সত্য লিখার অভ্যাস শিখুন।</td>\n",
       "      <td>negative</td>\n",
       "      <td>0</td>\n",
       "      <td>[লিখার, সময়, পারলে, সত্য, লিখার, অভ্যাস, শিখুন]</td>\n",
       "    </tr>\n",
       "    <tr>\n",
       "      <th>1</th>\n",
       "      <td>এটা কেন হচ্ছে? সংশ্লিষ্ট সকলের ডিপ্রেশনের ফলে?...</td>\n",
       "      <td>negative</td>\n",
       "      <td>0</td>\n",
       "      <td>[হচ্ছে, সংশ্লিষ্ট, সকলের, ডিপ্রেশনের, ফলে, সরক...</td>\n",
       "    </tr>\n",
       "    <tr>\n",
       "      <th>2</th>\n",
       "      <td>আমাদের দেশের স্বাভাবিক অর্থনৈতিক গতিপ্রবাহকে ব...</td>\n",
       "      <td>negative</td>\n",
       "      <td>0</td>\n",
       "      <td>[দেশের, স্বাভাবিক, অর্থনৈতিক, গতিপ্রবাহকে, বাধ...</td>\n",
       "    </tr>\n",
       "    <tr>\n",
       "      <th>3</th>\n",
       "      <td>চুরি নয় লুটপাট।</td>\n",
       "      <td>negative</td>\n",
       "      <td>0</td>\n",
       "      <td>[চুরি, লুটপাট]</td>\n",
       "    </tr>\n",
       "    <tr>\n",
       "      <th>4</th>\n",
       "      <td>ইসলামী ব্যাংকের বর্তমান অবস্থা দেখে মনে হয় শাস...</td>\n",
       "      <td>neutral</td>\n",
       "      <td>2</td>\n",
       "      <td>[ইসলামী, ব্যাংকের, বর্তমান, অবস্থা, শাসক, জামা...</td>\n",
       "    </tr>\n",
       "  </tbody>\n",
       "</table>\n",
       "</div>"
      ],
      "text/plain": [
       "                                                text       Tag sentiment  \\\n",
       "0           লিখার সময় পারলে সত্য লিখার অভ্যাস শিখুন।  negative         0   \n",
       "1  এটা কেন হচ্ছে? সংশ্লিষ্ট সকলের ডিপ্রেশনের ফলে?...  negative         0   \n",
       "2  আমাদের দেশের স্বাভাবিক অর্থনৈতিক গতিপ্রবাহকে ব...  negative         0   \n",
       "3                                    চুরি নয় লুটপাট।  negative         0   \n",
       "4  ইসলামী ব্যাংকের বর্তমান অবস্থা দেখে মনে হয় শাস...   neutral         2   \n",
       "\n",
       "                                           temp_list  \n",
       "0    [লিখার, সময়, পারলে, সত্য, লিখার, অভ্যাস, শিখুন]  \n",
       "1  [হচ্ছে, সংশ্লিষ্ট, সকলের, ডিপ্রেশনের, ফলে, সরক...  \n",
       "2  [দেশের, স্বাভাবিক, অর্থনৈতিক, গতিপ্রবাহকে, বাধ...  \n",
       "3                                     [চুরি, লুটপাট]  \n",
       "4  [ইসলামী, ব্যাংকের, বর্তমান, অবস্থা, শাসক, জামা...  "
      ]
     },
     "execution_count": 65,
     "metadata": {},
     "output_type": "execute_result"
    }
   ],
   "source": [
    "df.head(5)"
   ]
  },
  {
   "cell_type": "code",
   "execution_count": 66,
   "id": "fbb87b5b",
   "metadata": {},
   "outputs": [],
   "source": [
    "Positive_sent = df[df['Tag']=='positive']\n",
    "Negative_sent = df[df['Tag']=='negative']\n",
    "Neutral_sent = df[df['Tag']=='neutral']"
   ]
  },
  {
   "cell_type": "code",
   "execution_count": 67,
   "id": "0c5d1ead",
   "metadata": {},
   "outputs": [
    {
     "data": {
      "text/html": [
       "<style type=\"text/css\">\n",
       "#T_d1ab1_row0_col1 {\n",
       "  background-color: #3f007d;\n",
       "  color: #f1f1f1;\n",
       "}\n",
       "#T_d1ab1_row1_col1 {\n",
       "  background-color: #807dba;\n",
       "  color: #f1f1f1;\n",
       "}\n",
       "#T_d1ab1_row2_col1 {\n",
       "  background-color: #afaed4;\n",
       "  color: #000000;\n",
       "}\n",
       "#T_d1ab1_row3_col1 {\n",
       "  background-color: #b8b8d9;\n",
       "  color: #000000;\n",
       "}\n",
       "#T_d1ab1_row4_col1 {\n",
       "  background-color: #cecee5;\n",
       "  color: #000000;\n",
       "}\n",
       "#T_d1ab1_row5_col1 {\n",
       "  background-color: #dadaeb;\n",
       "  color: #000000;\n",
       "}\n",
       "#T_d1ab1_row6_col1 {\n",
       "  background-color: #ddddec;\n",
       "  color: #000000;\n",
       "}\n",
       "#T_d1ab1_row7_col1, #T_d1ab1_row8_col1 {\n",
       "  background-color: #efedf5;\n",
       "  color: #000000;\n",
       "}\n",
       "#T_d1ab1_row9_col1 {\n",
       "  background-color: #f2f0f7;\n",
       "  color: #000000;\n",
       "}\n",
       "#T_d1ab1_row10_col1 {\n",
       "  background-color: #f4f3f8;\n",
       "  color: #000000;\n",
       "}\n",
       "#T_d1ab1_row11_col1 {\n",
       "  background-color: #f5f4f9;\n",
       "  color: #000000;\n",
       "}\n",
       "#T_d1ab1_row12_col1 {\n",
       "  background-color: #f8f7fb;\n",
       "  color: #000000;\n",
       "}\n",
       "#T_d1ab1_row13_col1 {\n",
       "  background-color: #f9f7fb;\n",
       "  color: #000000;\n",
       "}\n",
       "#T_d1ab1_row14_col1 {\n",
       "  background-color: #f9f8fb;\n",
       "  color: #000000;\n",
       "}\n",
       "#T_d1ab1_row15_col1 {\n",
       "  background-color: #faf8fb;\n",
       "  color: #000000;\n",
       "}\n",
       "#T_d1ab1_row16_col1, #T_d1ab1_row17_col1 {\n",
       "  background-color: #fbfafc;\n",
       "  color: #000000;\n",
       "}\n",
       "#T_d1ab1_row18_col1, #T_d1ab1_row19_col1 {\n",
       "  background-color: #fcfbfd;\n",
       "  color: #000000;\n",
       "}\n",
       "</style>\n",
       "<table id=\"T_d1ab1\">\n",
       "  <thead>\n",
       "    <tr>\n",
       "      <th class=\"blank level0\" >&nbsp;</th>\n",
       "      <th id=\"T_d1ab1_level0_col0\" class=\"col_heading level0 col0\" >Common_words</th>\n",
       "      <th id=\"T_d1ab1_level0_col1\" class=\"col_heading level0 col1\" >count</th>\n",
       "    </tr>\n",
       "  </thead>\n",
       "  <tbody>\n",
       "    <tr>\n",
       "      <th id=\"T_d1ab1_level0_row0\" class=\"row_heading level0 row0\" >0</th>\n",
       "      <td id=\"T_d1ab1_row0_col0\" class=\"data row0 col0\" >নাটক</td>\n",
       "      <td id=\"T_d1ab1_row0_col1\" class=\"data row0 col1\" >3994</td>\n",
       "    </tr>\n",
       "    <tr>\n",
       "      <th id=\"T_d1ab1_level0_row1\" class=\"row_heading level0 row1\" >1</th>\n",
       "      <td id=\"T_d1ab1_row1_col0\" class=\"data row1 col0\" >ভালো</td>\n",
       "      <td id=\"T_d1ab1_row1_col1\" class=\"data row1 col1\" >2665</td>\n",
       "    </tr>\n",
       "    <tr>\n",
       "      <th id=\"T_d1ab1_level0_row2\" class=\"row_heading level0 row2\" >2</th>\n",
       "      <td id=\"T_d1ab1_row2_col0\" class=\"data row2 col0\" >অসাধারণ</td>\n",
       "      <td id=\"T_d1ab1_row2_col1\" class=\"data row2 col1\" >1978</td>\n",
       "    </tr>\n",
       "    <tr>\n",
       "      <th id=\"T_d1ab1_level0_row3\" class=\"row_heading level0 row3\" >3</th>\n",
       "      <td id=\"T_d1ab1_row3_col0\" class=\"data row3 col0\" >সুন্দর</td>\n",
       "      <td id=\"T_d1ab1_row3_col1\" class=\"data row3 col1\" >1855</td>\n",
       "    </tr>\n",
       "    <tr>\n",
       "      <th id=\"T_d1ab1_level0_row4\" class=\"row_heading level0 row4\" >4</th>\n",
       "      <td id=\"T_d1ab1_row4_col0\" class=\"data row4 col0\" >একটা</td>\n",
       "      <td id=\"T_d1ab1_row4_col1\" class=\"data row4 col1\" >1540</td>\n",
       "    </tr>\n",
       "    <tr>\n",
       "      <th id=\"T_d1ab1_level0_row5\" class=\"row_heading level0 row5\" >5</th>\n",
       "      <td id=\"T_d1ab1_row5_col0\" class=\"data row5 col0\" >ভাল</td>\n",
       "      <td id=\"T_d1ab1_row5_col1\" class=\"data row5 col1\" >1365</td>\n",
       "    </tr>\n",
       "    <tr>\n",
       "      <th id=\"T_d1ab1_level0_row6\" class=\"row_heading level0 row6\" >6</th>\n",
       "      <td id=\"T_d1ab1_row6_col0\" class=\"data row6 col0\" >ভাই</td>\n",
       "      <td id=\"T_d1ab1_row6_col1\" class=\"data row6 col1\" >1303</td>\n",
       "    </tr>\n",
       "    <tr>\n",
       "      <th id=\"T_d1ab1_level0_row7\" class=\"row_heading level0 row7\" >7</th>\n",
       "      <td id=\"T_d1ab1_row7_col0\" class=\"data row7 col0\" >টা</td>\n",
       "      <td id=\"T_d1ab1_row7_col1\" class=\"data row7 col1\" >926</td>\n",
       "    </tr>\n",
       "    <tr>\n",
       "      <th id=\"T_d1ab1_level0_row8\" class=\"row_heading level0 row8\" >8</th>\n",
       "      <td id=\"T_d1ab1_row8_col0\" class=\"data row8 col0\" >ধন্যবাদ</td>\n",
       "      <td id=\"T_d1ab1_row8_col1\" class=\"data row8 col1\" >910</td>\n",
       "    </tr>\n",
       "    <tr>\n",
       "      <th id=\"T_d1ab1_level0_row9\" class=\"row_heading level0 row9\" >9</th>\n",
       "      <td id=\"T_d1ab1_row9_col0\" class=\"data row9 col0\" >না</td>\n",
       "      <td id=\"T_d1ab1_row9_col1\" class=\"data row9 col1\" >822</td>\n",
       "    </tr>\n",
       "    <tr>\n",
       "      <th id=\"T_d1ab1_level0_row10\" class=\"row_heading level0 row10\" >10</th>\n",
       "      <td id=\"T_d1ab1_row10_col0\" class=\"data row10 col0\" >সেরা</td>\n",
       "      <td id=\"T_d1ab1_row10_col1\" class=\"data row10 col1\" >756</td>\n",
       "    </tr>\n",
       "    <tr>\n",
       "      <th id=\"T_d1ab1_level0_row11\" class=\"row_heading level0 row11\" >11</th>\n",
       "      <td id=\"T_d1ab1_row11_col0\" class=\"data row11 col0\" >লাগলো</td>\n",
       "      <td id=\"T_d1ab1_row11_col1\" class=\"data row11 col1\" >714</td>\n",
       "    </tr>\n",
       "    <tr>\n",
       "      <th id=\"T_d1ab1_level0_row12\" class=\"row_heading level0 row12\" >12</th>\n",
       "      <td id=\"T_d1ab1_row12_col0\" class=\"data row12 col0\" >এক</td>\n",
       "      <td id=\"T_d1ab1_row12_col1\" class=\"data row12 col1\" >616</td>\n",
       "    </tr>\n",
       "    <tr>\n",
       "      <th id=\"T_d1ab1_level0_row13\" class=\"row_heading level0 row13\" >13</th>\n",
       "      <td id=\"T_d1ab1_row13_col0\" class=\"data row13 col0\" >নিশো</td>\n",
       "      <td id=\"T_d1ab1_row13_col1\" class=\"data row13 col1\" >594</td>\n",
       "    </tr>\n",
       "    <tr>\n",
       "      <th id=\"T_d1ab1_level0_row14\" class=\"row_heading level0 row14\" >14</th>\n",
       "      <td id=\"T_d1ab1_row14_col0\" class=\"data row14 col0\" >অসাধারন</td>\n",
       "      <td id=\"T_d1ab1_row14_col1\" class=\"data row14 col1\" >584</td>\n",
       "    </tr>\n",
       "    <tr>\n",
       "      <th id=\"T_d1ab1_level0_row15\" class=\"row_heading level0 row15\" >15</th>\n",
       "      <td id=\"T_d1ab1_row15_col0\" class=\"data row15 col0\" >কথা</td>\n",
       "      <td id=\"T_d1ab1_row15_col1\" class=\"data row15 col1\" >578</td>\n",
       "    </tr>\n",
       "    <tr>\n",
       "      <th id=\"T_d1ab1_level0_row16\" class=\"row_heading level0 row16\" >16</th>\n",
       "      <td id=\"T_d1ab1_row16_col0\" class=\"data row16 col0\" >সাথে</td>\n",
       "      <td id=\"T_d1ab1_row16_col1\" class=\"data row16 col1\" >532</td>\n",
       "    </tr>\n",
       "    <tr>\n",
       "      <th id=\"T_d1ab1_level0_row17\" class=\"row_heading level0 row17\" >17</th>\n",
       "      <td id=\"T_d1ab1_row17_col0\" class=\"data row17 col0\" >অভিনয়</td>\n",
       "      <td id=\"T_d1ab1_row17_col1\" class=\"data row17 col1\" >524</td>\n",
       "    </tr>\n",
       "    <tr>\n",
       "      <th id=\"T_d1ab1_level0_row18\" class=\"row_heading level0 row18\" >18</th>\n",
       "      <td id=\"T_d1ab1_row18_col0\" class=\"data row18 col0\" >লাগছে</td>\n",
       "      <td id=\"T_d1ab1_row18_col1\" class=\"data row18 col1\" >493</td>\n",
       "    </tr>\n",
       "    <tr>\n",
       "      <th id=\"T_d1ab1_level0_row19\" class=\"row_heading level0 row19\" >19</th>\n",
       "      <td id=\"T_d1ab1_row19_col0\" class=\"data row19 col0\" >নাটকের</td>\n",
       "      <td id=\"T_d1ab1_row19_col1\" class=\"data row19 col1\" >482</td>\n",
       "    </tr>\n",
       "  </tbody>\n",
       "</table>\n"
      ],
      "text/plain": [
       "<pandas.io.formats.style.Styler at 0x1c240554810>"
      ]
     },
     "execution_count": 67,
     "metadata": {},
     "output_type": "execute_result"
    }
   ],
   "source": [
    "#MosT common positive words\n",
    "top = Counter([item for sublist in Positive_sent['temp_list'] for item in sublist])\n",
    "temp_positive = pd.DataFrame(top.most_common(20))\n",
    "temp_positive.columns = ['Common_words','count']\n",
    "temp_positive.style.background_gradient(cmap='Purples')"
   ]
  },
  {
   "cell_type": "code",
   "execution_count": 68,
   "id": "80371c23",
   "metadata": {},
   "outputs": [
    {
     "data": {
      "text/html": [
       "<style type=\"text/css\">\n",
       "#T_42197_row0_col1 {\n",
       "  background-color: #00441b;\n",
       "  color: #f1f1f1;\n",
       "}\n",
       "#T_42197_row1_col1 {\n",
       "  background-color: #0d7836;\n",
       "  color: #f1f1f1;\n",
       "}\n",
       "#T_42197_row2_col1 {\n",
       "  background-color: #b8e3b2;\n",
       "  color: #000000;\n",
       "}\n",
       "#T_42197_row3_col1 {\n",
       "  background-color: #c7e9c0;\n",
       "  color: #000000;\n",
       "}\n",
       "#T_42197_row4_col1 {\n",
       "  background-color: #c9eac2;\n",
       "  color: #000000;\n",
       "}\n",
       "#T_42197_row5_col1 {\n",
       "  background-color: #d2edcc;\n",
       "  color: #000000;\n",
       "}\n",
       "#T_42197_row6_col1 {\n",
       "  background-color: #dcf2d7;\n",
       "  color: #000000;\n",
       "}\n",
       "#T_42197_row7_col1 {\n",
       "  background-color: #ddf2d8;\n",
       "  color: #000000;\n",
       "}\n",
       "#T_42197_row8_col1 {\n",
       "  background-color: #e0f3db;\n",
       "  color: #000000;\n",
       "}\n",
       "#T_42197_row9_col1 {\n",
       "  background-color: #eaf7e6;\n",
       "  color: #000000;\n",
       "}\n",
       "#T_42197_row10_col1 {\n",
       "  background-color: #ebf7e7;\n",
       "  color: #000000;\n",
       "}\n",
       "#T_42197_row11_col1 {\n",
       "  background-color: #eff9eb;\n",
       "  color: #000000;\n",
       "}\n",
       "#T_42197_row12_col1 {\n",
       "  background-color: #eff9ec;\n",
       "  color: #000000;\n",
       "}\n",
       "#T_42197_row13_col1 {\n",
       "  background-color: #f0f9ed;\n",
       "  color: #000000;\n",
       "}\n",
       "#T_42197_row14_col1 {\n",
       "  background-color: #f1faee;\n",
       "  color: #000000;\n",
       "}\n",
       "#T_42197_row15_col1 {\n",
       "  background-color: #f2faef;\n",
       "  color: #000000;\n",
       "}\n",
       "#T_42197_row16_col1 {\n",
       "  background-color: #f4fbf1;\n",
       "  color: #000000;\n",
       "}\n",
       "#T_42197_row17_col1 {\n",
       "  background-color: #f6fcf4;\n",
       "  color: #000000;\n",
       "}\n",
       "#T_42197_row18_col1, #T_42197_row19_col1 {\n",
       "  background-color: #f7fcf5;\n",
       "  color: #000000;\n",
       "}\n",
       "</style>\n",
       "<table id=\"T_42197\">\n",
       "  <thead>\n",
       "    <tr>\n",
       "      <th class=\"blank level0\" >&nbsp;</th>\n",
       "      <th id=\"T_42197_level0_col0\" class=\"col_heading level0 col0\" >Common_words</th>\n",
       "      <th id=\"T_42197_level0_col1\" class=\"col_heading level0 col1\" >count</th>\n",
       "    </tr>\n",
       "  </thead>\n",
       "  <tbody>\n",
       "    <tr>\n",
       "      <th id=\"T_42197_level0_row0\" class=\"row_heading level0 row0\" >0</th>\n",
       "      <td id=\"T_42197_row0_col0\" class=\"data row0 col0\" >নাটক</td>\n",
       "      <td id=\"T_42197_row0_col1\" class=\"data row0 col1\" >1853</td>\n",
       "    </tr>\n",
       "    <tr>\n",
       "      <th id=\"T_42197_level0_row1\" class=\"row_heading level0 row1\" >1</th>\n",
       "      <td id=\"T_42197_row1_col0\" class=\"data row1 col0\" >না</td>\n",
       "      <td id=\"T_42197_row1_col1\" class=\"data row1 col1\" >1594</td>\n",
       "    </tr>\n",
       "    <tr>\n",
       "      <th id=\"T_42197_level0_row2\" class=\"row_heading level0 row2\" >2</th>\n",
       "      <td id=\"T_42197_row2_col0\" class=\"data row2 col0\" >একটা</td>\n",
       "      <td id=\"T_42197_row2_col1\" class=\"data row2 col1\" >819</td>\n",
       "    </tr>\n",
       "    <tr>\n",
       "      <th id=\"T_42197_level0_row3\" class=\"row_heading level0 row3\" >3</th>\n",
       "      <td id=\"T_42197_row3_col0\" class=\"data row3 col0\" >টাকা</td>\n",
       "      <td id=\"T_42197_row3_col1\" class=\"data row3 col1\" >750</td>\n",
       "    </tr>\n",
       "    <tr>\n",
       "      <th id=\"T_42197_level0_row4\" class=\"row_heading level0 row4\" >4</th>\n",
       "      <td id=\"T_42197_row4_col0\" class=\"data row4 col0\" >ফালতু</td>\n",
       "      <td id=\"T_42197_row4_col1\" class=\"data row4 col1\" >737</td>\n",
       "    </tr>\n",
       "    <tr>\n",
       "      <th id=\"T_42197_level0_row5\" class=\"row_heading level0 row5\" >5</th>\n",
       "      <td id=\"T_42197_row5_col0\" class=\"data row5 col0\" >কথা</td>\n",
       "      <td id=\"T_42197_row5_col1\" class=\"data row5 col1\" >680</td>\n",
       "    </tr>\n",
       "    <tr>\n",
       "      <th id=\"T_42197_level0_row6\" class=\"row_heading level0 row6\" >6</th>\n",
       "      <td id=\"T_42197_row6_col0\" class=\"data row6 col0\" >ভালো</td>\n",
       "      <td id=\"T_42197_row6_col1\" class=\"data row6 col1\" >615</td>\n",
       "    </tr>\n",
       "    <tr>\n",
       "      <th id=\"T_42197_level0_row7\" class=\"row_heading level0 row7\" >7</th>\n",
       "      <td id=\"T_42197_row7_col0\" class=\"data row7 col0\" >হয়ে</td>\n",
       "      <td id=\"T_42197_row7_col1\" class=\"data row7 col1\" >613</td>\n",
       "    </tr>\n",
       "    <tr>\n",
       "      <th id=\"T_42197_level0_row8\" class=\"row_heading level0 row8\" >8</th>\n",
       "      <td id=\"T_42197_row8_col0\" class=\"data row8 col0\" >দিয়ে</td>\n",
       "      <td id=\"T_42197_row8_col1\" class=\"data row8 col1\" >595</td>\n",
       "    </tr>\n",
       "    <tr>\n",
       "      <th id=\"T_42197_level0_row9\" class=\"row_heading level0 row9\" >9</th>\n",
       "      <td id=\"T_42197_row9_col0\" class=\"data row9 col0\" >যায়</td>\n",
       "      <td id=\"T_42197_row9_col1\" class=\"data row9 col1\" >511</td>\n",
       "    </tr>\n",
       "    <tr>\n",
       "      <th id=\"T_42197_level0_row10\" class=\"row_heading level0 row10\" >10</th>\n",
       "      <td id=\"T_42197_row10_col0\" class=\"data row10 col0\" >দেশের</td>\n",
       "      <td id=\"T_42197_row10_col1\" class=\"data row10 col1\" >508</td>\n",
       "    </tr>\n",
       "    <tr>\n",
       "      <th id=\"T_42197_level0_row11\" class=\"row_heading level0 row11\" >11</th>\n",
       "      <td id=\"T_42197_row11_col0\" class=\"data row11 col0\" >সাথে</td>\n",
       "      <td id=\"T_42197_row11_col1\" class=\"data row11 col1\" >469</td>\n",
       "    </tr>\n",
       "    <tr>\n",
       "      <th id=\"T_42197_level0_row12\" class=\"row_heading level0 row12\" >12</th>\n",
       "      <td id=\"T_42197_row12_col0\" class=\"data row12 col0\" >বাংলাদেশ</td>\n",
       "      <td id=\"T_42197_row12_col1\" class=\"data row12 col1\" >464</td>\n",
       "    </tr>\n",
       "    <tr>\n",
       "      <th id=\"T_42197_level0_row13\" class=\"row_heading level0 row13\" >13</th>\n",
       "      <td id=\"T_42197_row13_col0\" class=\"data row13 col0\" >হবে</td>\n",
       "      <td id=\"T_42197_row13_col1\" class=\"data row13 col1\" >450</td>\n",
       "    </tr>\n",
       "    <tr>\n",
       "      <th id=\"T_42197_level0_row14\" class=\"row_heading level0 row14\" >14</th>\n",
       "      <td id=\"T_42197_row14_col0\" class=\"data row14 col0\" >এক</td>\n",
       "      <td id=\"T_42197_row14_col1\" class=\"data row14 col1\" >444</td>\n",
       "    </tr>\n",
       "    <tr>\n",
       "      <th id=\"T_42197_level0_row15\" class=\"row_heading level0 row15\" >15</th>\n",
       "      <td id=\"T_42197_row15_col0\" class=\"data row15 col0\" >ভাল</td>\n",
       "      <td id=\"T_42197_row15_col1\" class=\"data row15 col1\" >433</td>\n",
       "    </tr>\n",
       "    <tr>\n",
       "      <th id=\"T_42197_level0_row16\" class=\"row_heading level0 row16\" >16</th>\n",
       "      <td id=\"T_42197_row16_col0\" class=\"data row16 col0\" >ভাই</td>\n",
       "      <td id=\"T_42197_row16_col1\" class=\"data row16 col1\" >415</td>\n",
       "    </tr>\n",
       "    <tr>\n",
       "      <th id=\"T_42197_level0_row17\" class=\"row_heading level0 row17\" >17</th>\n",
       "      <td id=\"T_42197_row17_col0\" class=\"data row17 col0\" >মত</td>\n",
       "      <td id=\"T_42197_row17_col1\" class=\"data row17 col1\" >386</td>\n",
       "    </tr>\n",
       "    <tr>\n",
       "      <th id=\"T_42197_level0_row18\" class=\"row_heading level0 row18\" >18</th>\n",
       "      <td id=\"T_42197_row18_col0\" class=\"data row18 col0\" >বাংলাদেশের</td>\n",
       "      <td id=\"T_42197_row18_col1\" class=\"data row18 col1\" >379</td>\n",
       "    </tr>\n",
       "    <tr>\n",
       "      <th id=\"T_42197_level0_row19\" class=\"row_heading level0 row19\" >19</th>\n",
       "      <td id=\"T_42197_row19_col0\" class=\"data row19 col0\" >হয়েছে</td>\n",
       "      <td id=\"T_42197_row19_col1\" class=\"data row19 col1\" >378</td>\n",
       "    </tr>\n",
       "  </tbody>\n",
       "</table>\n"
      ],
      "text/plain": [
       "<pandas.io.formats.style.Styler at 0x1c23fed5890>"
      ]
     },
     "execution_count": 68,
     "metadata": {},
     "output_type": "execute_result"
    }
   ],
   "source": [
    "#MosT common negative words\n",
    "top = Counter([item for sublist in Negative_sent['temp_list'] for item in sublist])\n",
    "temp_negative = pd.DataFrame(top.most_common(20))\n",
    "temp_negative.columns = ['Common_words','count']\n",
    "temp_negative.style.background_gradient(cmap='Greens')"
   ]
  },
  {
   "cell_type": "code",
   "execution_count": 69,
   "id": "aedbd849",
   "metadata": {},
   "outputs": [
    {
     "data": {
      "text/html": [
       "<style type=\"text/css\">\n",
       "#T_666c5_row0_col1 {\n",
       "  background-color: #67000d;\n",
       "  color: #f1f1f1;\n",
       "}\n",
       "#T_666c5_row1_col1 {\n",
       "  background-color: #ab1016;\n",
       "  color: #f1f1f1;\n",
       "}\n",
       "#T_666c5_row2_col1 {\n",
       "  background-color: #c3161b;\n",
       "  color: #f1f1f1;\n",
       "}\n",
       "#T_666c5_row3_col1 {\n",
       "  background-color: #e02c26;\n",
       "  color: #f1f1f1;\n",
       "}\n",
       "#T_666c5_row4_col1 {\n",
       "  background-color: #f24633;\n",
       "  color: #f1f1f1;\n",
       "}\n",
       "#T_666c5_row5_col1 {\n",
       "  background-color: #fc9070;\n",
       "  color: #000000;\n",
       "}\n",
       "#T_666c5_row6_col1 {\n",
       "  background-color: #fc997a;\n",
       "  color: #000000;\n",
       "}\n",
       "#T_666c5_row7_col1 {\n",
       "  background-color: #fc9e80;\n",
       "  color: #000000;\n",
       "}\n",
       "#T_666c5_row8_col1 {\n",
       "  background-color: #fca486;\n",
       "  color: #000000;\n",
       "}\n",
       "#T_666c5_row9_col1 {\n",
       "  background-color: #fcab8f;\n",
       "  color: #000000;\n",
       "}\n",
       "#T_666c5_row10_col1 {\n",
       "  background-color: #fcb89e;\n",
       "  color: #000000;\n",
       "}\n",
       "#T_666c5_row11_col1 {\n",
       "  background-color: #fcbea5;\n",
       "  color: #000000;\n",
       "}\n",
       "#T_666c5_row12_col1 {\n",
       "  background-color: #fdc5ae;\n",
       "  color: #000000;\n",
       "}\n",
       "#T_666c5_row13_col1 {\n",
       "  background-color: #fdd1be;\n",
       "  color: #000000;\n",
       "}\n",
       "#T_666c5_row14_col1 {\n",
       "  background-color: #fdd5c4;\n",
       "  color: #000000;\n",
       "}\n",
       "#T_666c5_row15_col1 {\n",
       "  background-color: #fee9df;\n",
       "  color: #000000;\n",
       "}\n",
       "#T_666c5_row16_col1 {\n",
       "  background-color: #feeae1;\n",
       "  color: #000000;\n",
       "}\n",
       "#T_666c5_row17_col1 {\n",
       "  background-color: #ffece3;\n",
       "  color: #000000;\n",
       "}\n",
       "#T_666c5_row18_col1 {\n",
       "  background-color: #fff5f0;\n",
       "  color: #000000;\n",
       "}\n",
       "</style>\n",
       "<table id=\"T_666c5\">\n",
       "  <thead>\n",
       "    <tr>\n",
       "      <th class=\"blank level0\" >&nbsp;</th>\n",
       "      <th id=\"T_666c5_level0_col0\" class=\"col_heading level0 col0\" >Common_words</th>\n",
       "      <th id=\"T_666c5_level0_col1\" class=\"col_heading level0 col1\" >count</th>\n",
       "    </tr>\n",
       "  </thead>\n",
       "  <tbody>\n",
       "    <tr>\n",
       "      <th id=\"T_666c5_level0_row0\" class=\"row_heading level0 row0\" >1</th>\n",
       "      <td id=\"T_666c5_row0_col0\" class=\"data row0 col0\" >টাকা</td>\n",
       "      <td id=\"T_666c5_row0_col1\" class=\"data row0 col1\" >225</td>\n",
       "    </tr>\n",
       "    <tr>\n",
       "      <th id=\"T_666c5_level0_row1\" class=\"row_heading level0 row1\" >2</th>\n",
       "      <td id=\"T_666c5_row1_col0\" class=\"data row1 col0\" >হবে</td>\n",
       "      <td id=\"T_666c5_row1_col1\" class=\"data row1 col1\" >207</td>\n",
       "    </tr>\n",
       "    <tr>\n",
       "      <th id=\"T_666c5_level0_row2\" class=\"row_heading level0 row2\" >3</th>\n",
       "      <td id=\"T_666c5_row2_col0\" class=\"data row2 col0\" >কথা</td>\n",
       "      <td id=\"T_666c5_row2_col1\" class=\"data row2 col1\" >197</td>\n",
       "    </tr>\n",
       "    <tr>\n",
       "      <th id=\"T_666c5_level0_row3\" class=\"row_heading level0 row3\" >4</th>\n",
       "      <td id=\"T_666c5_row3_col0\" class=\"data row3 col0\" >দেশের</td>\n",
       "      <td id=\"T_666c5_row3_col1\" class=\"data row3 col1\" >185</td>\n",
       "    </tr>\n",
       "    <tr>\n",
       "      <th id=\"T_666c5_level0_row4\" class=\"row_heading level0 row4\" >5</th>\n",
       "      <td id=\"T_666c5_row4_col0\" class=\"data row4 col0\" >হয়ে</td>\n",
       "      <td id=\"T_666c5_row4_col1\" class=\"data row4 col1\" >175</td>\n",
       "    </tr>\n",
       "    <tr>\n",
       "      <th id=\"T_666c5_level0_row5\" class=\"row_heading level0 row5\" >6</th>\n",
       "      <td id=\"T_666c5_row5_col0\" class=\"data row5 col0\" >দিয়ে</td>\n",
       "      <td id=\"T_666c5_row5_col1\" class=\"data row5 col1\" >148</td>\n",
       "    </tr>\n",
       "    <tr>\n",
       "      <th id=\"T_666c5_level0_row6\" class=\"row_heading level0 row6\" >7</th>\n",
       "      <td id=\"T_666c5_row6_col0\" class=\"data row6 col0\" >যায়</td>\n",
       "      <td id=\"T_666c5_row6_col1\" class=\"data row6 col1\" >145</td>\n",
       "    </tr>\n",
       "    <tr>\n",
       "      <th id=\"T_666c5_level0_row7\" class=\"row_heading level0 row7\" >8</th>\n",
       "      <td id=\"T_666c5_row7_col0\" class=\"data row7 col0\" >সাথে</td>\n",
       "      <td id=\"T_666c5_row7_col1\" class=\"data row7 col1\" >143</td>\n",
       "    </tr>\n",
       "    <tr>\n",
       "      <th id=\"T_666c5_level0_row8\" class=\"row_heading level0 row8\" >9</th>\n",
       "      <td id=\"T_666c5_row8_col0\" class=\"data row8 col0\" >ভালো</td>\n",
       "      <td id=\"T_666c5_row8_col1\" class=\"data row8 col1\" >141</td>\n",
       "    </tr>\n",
       "    <tr>\n",
       "      <th id=\"T_666c5_level0_row9\" class=\"row_heading level0 row9\" >10</th>\n",
       "      <td id=\"T_666c5_row9_col0\" class=\"data row9 col0\" >হয়েছে</td>\n",
       "      <td id=\"T_666c5_row9_col1\" class=\"data row9 col1\" >138</td>\n",
       "    </tr>\n",
       "    <tr>\n",
       "      <th id=\"T_666c5_level0_row10\" class=\"row_heading level0 row10\" >11</th>\n",
       "      <td id=\"T_666c5_row10_col0\" class=\"data row10 col0\" >একটা</td>\n",
       "      <td id=\"T_666c5_row10_col1\" class=\"data row10 col1\" >133</td>\n",
       "    </tr>\n",
       "    <tr>\n",
       "      <th id=\"T_666c5_level0_row11\" class=\"row_heading level0 row11\" >12</th>\n",
       "      <td id=\"T_666c5_row11_col0\" class=\"data row11 col0\" >হয়</td>\n",
       "      <td id=\"T_666c5_row11_col1\" class=\"data row11 col1\" >131</td>\n",
       "    </tr>\n",
       "    <tr>\n",
       "      <th id=\"T_666c5_level0_row12\" class=\"row_heading level0 row12\" >13</th>\n",
       "      <td id=\"T_666c5_row12_col0\" class=\"data row12 col0\" >বাংলাদেশ</td>\n",
       "      <td id=\"T_666c5_row12_col1\" class=\"data row12 col1\" >128</td>\n",
       "    </tr>\n",
       "    <tr>\n",
       "      <th id=\"T_666c5_level0_row13\" class=\"row_heading level0 row13\" >14</th>\n",
       "      <td id=\"T_666c5_row13_col0\" class=\"data row13 col0\" >সরকার</td>\n",
       "      <td id=\"T_666c5_row13_col1\" class=\"data row13 col1\" >123</td>\n",
       "    </tr>\n",
       "    <tr>\n",
       "      <th id=\"T_666c5_level0_row14\" class=\"row_heading level0 row14\" >15</th>\n",
       "      <td id=\"T_666c5_row14_col0\" class=\"data row14 col0\" >ভাল</td>\n",
       "      <td id=\"T_666c5_row14_col1\" class=\"data row14 col1\" >121</td>\n",
       "    </tr>\n",
       "    <tr>\n",
       "      <th id=\"T_666c5_level0_row15\" class=\"row_heading level0 row15\" >16</th>\n",
       "      <td id=\"T_666c5_row15_col0\" class=\"data row15 col0\" >বড়</td>\n",
       "      <td id=\"T_666c5_row15_col1\" class=\"data row15 col1\" >110</td>\n",
       "    </tr>\n",
       "    <tr>\n",
       "      <th id=\"T_666c5_level0_row16\" class=\"row_heading level0 row16\" >17</th>\n",
       "      <td id=\"T_666c5_row16_col0\" class=\"data row16 col0\" >এক</td>\n",
       "      <td id=\"T_666c5_row16_col1\" class=\"data row16 col1\" >109</td>\n",
       "    </tr>\n",
       "    <tr>\n",
       "      <th id=\"T_666c5_level0_row17\" class=\"row_heading level0 row17\" >18</th>\n",
       "      <td id=\"T_666c5_row17_col0\" class=\"data row17 col0\" >আছে</td>\n",
       "      <td id=\"T_666c5_row17_col1\" class=\"data row17 col1\" >108</td>\n",
       "    </tr>\n",
       "    <tr>\n",
       "      <th id=\"T_666c5_level0_row18\" class=\"row_heading level0 row18\" >19</th>\n",
       "      <td id=\"T_666c5_row18_col0\" class=\"data row18 col0\" >দেশে</td>\n",
       "      <td id=\"T_666c5_row18_col1\" class=\"data row18 col1\" >101</td>\n",
       "    </tr>\n",
       "  </tbody>\n",
       "</table>\n"
      ],
      "text/plain": [
       "<pandas.io.formats.style.Styler at 0x1c2400c4d90>"
      ]
     },
     "execution_count": 69,
     "metadata": {},
     "output_type": "execute_result"
    }
   ],
   "source": [
    "#MosT common Neutral words\n",
    "top = Counter([item for sublist in Neutral_sent['temp_list'] for item in sublist])\n",
    "temp_neutral = pd.DataFrame(top.most_common(20))\n",
    "temp_neutral = temp_neutral.loc[1:,:]\n",
    "temp_neutral.columns = ['Common_words','count']\n",
    "temp_neutral.style.background_gradient(cmap='Reds')"
   ]
  },
  {
   "cell_type": "markdown",
   "id": "b5f27eeb",
   "metadata": {},
   "source": [
    "### Look at Unique Words in each Segment"
   ]
  },
  {
   "cell_type": "code",
   "execution_count": 70,
   "id": "e8fc590a",
   "metadata": {},
   "outputs": [],
   "source": [
    "raw_text = [word for word_list in df['temp_list'] for word in word_list]"
   ]
  },
  {
   "cell_type": "code",
   "execution_count": 71,
   "id": "6541db1f",
   "metadata": {},
   "outputs": [],
   "source": [
    "def words_unique(Tag, numwords, raw_words):\n",
    "    allother = []\n",
    "    for item in df[df.Tag != Tag]['temp_list']:\n",
    "        for word in item:\n",
    "            allother.append(word)\n",
    "    allother = list(set(allother))\n",
    "    \n",
    "    specificnonly = [x for x in raw_text if x not in allother]\n",
    "    \n",
    "    mycounter = Counter()\n",
    "    \n",
    "    for item in df[df.Tag == Tag]['temp_list']:\n",
    "        for word in item:\n",
    "            mycounter[word] += 1\n",
    "    keep = list(specificnonly)\n",
    "    \n",
    "    for word in list(mycounter):\n",
    "        if word not in keep:\n",
    "            del mycounter[word]\n",
    "    \n",
    "    Unique_words = pd.DataFrame(mycounter.most_common(numwords), columns=['words', 'count'])\n",
    "    \n",
    "    return Unique_words"
   ]
  },
  {
   "cell_type": "markdown",
   "id": "d079290a",
   "metadata": {},
   "source": [
    "#### Positive"
   ]
  },
  {
   "cell_type": "code",
   "execution_count": 72,
   "id": "3e4c64e0",
   "metadata": {},
   "outputs": [
    {
     "name": "stdout",
     "output_type": "stream",
     "text": [
      "The top 20 unique words in Positive Tweets are:\n"
     ]
    },
    {
     "data": {
      "text/html": [
       "<style type=\"text/css\">\n",
       "#T_533b2_row0_col1 {\n",
       "  background-color: #00441b;\n",
       "  color: #f1f1f1;\n",
       "}\n",
       "#T_533b2_row1_col1 {\n",
       "  background-color: #79c67a;\n",
       "  color: #000000;\n",
       "}\n",
       "#T_533b2_row2_col1 {\n",
       "  background-color: #cbebc5;\n",
       "  color: #000000;\n",
       "}\n",
       "#T_533b2_row3_col1 {\n",
       "  background-color: #e7f6e3;\n",
       "  color: #000000;\n",
       "}\n",
       "#T_533b2_row4_col1 {\n",
       "  background-color: #eaf7e6;\n",
       "  color: #000000;\n",
       "}\n",
       "#T_533b2_row5_col1 {\n",
       "  background-color: #eff9ec;\n",
       "  color: #000000;\n",
       "}\n",
       "#T_533b2_row6_col1 {\n",
       "  background-color: #f0f9ec;\n",
       "  color: #000000;\n",
       "}\n",
       "#T_533b2_row7_col1, #T_533b2_row8_col1 {\n",
       "  background-color: #f1faee;\n",
       "  color: #000000;\n",
       "}\n",
       "#T_533b2_row9_col1 {\n",
       "  background-color: #f2faef;\n",
       "  color: #000000;\n",
       "}\n",
       "#T_533b2_row10_col1 {\n",
       "  background-color: #f3faf0;\n",
       "  color: #000000;\n",
       "}\n",
       "#T_533b2_row11_col1, #T_533b2_row12_col1 {\n",
       "  background-color: #f5fbf2;\n",
       "  color: #000000;\n",
       "}\n",
       "#T_533b2_row13_col1 {\n",
       "  background-color: #f5fbf3;\n",
       "  color: #000000;\n",
       "}\n",
       "#T_533b2_row14_col1, #T_533b2_row15_col1, #T_533b2_row16_col1 {\n",
       "  background-color: #f6fcf4;\n",
       "  color: #000000;\n",
       "}\n",
       "#T_533b2_row17_col1, #T_533b2_row18_col1, #T_533b2_row19_col1 {\n",
       "  background-color: #f7fcf5;\n",
       "  color: #000000;\n",
       "}\n",
       "</style>\n",
       "<table id=\"T_533b2\">\n",
       "  <thead>\n",
       "    <tr>\n",
       "      <th class=\"blank level0\" >&nbsp;</th>\n",
       "      <th id=\"T_533b2_level0_col0\" class=\"col_heading level0 col0\" >words</th>\n",
       "      <th id=\"T_533b2_level0_col1\" class=\"col_heading level0 col1\" >count</th>\n",
       "    </tr>\n",
       "  </thead>\n",
       "  <tbody>\n",
       "    <tr>\n",
       "      <th id=\"T_533b2_level0_row0\" class=\"row_heading level0 row0\" >0</th>\n",
       "      <td id=\"T_533b2_row0_col0\" class=\"data row0 col0\" >আরিয়ান</td>\n",
       "      <td id=\"T_533b2_row0_col1\" class=\"data row0 col1\" >275</td>\n",
       "    </tr>\n",
       "    <tr>\n",
       "      <th id=\"T_533b2_level0_row1\" class=\"row_heading level0 row1\" >1</th>\n",
       "      <td id=\"T_533b2_row1_col0\" class=\"data row1 col0\" >মিজানুর</td>\n",
       "      <td id=\"T_533b2_row1_col1\" class=\"data row1 col1\" >142</td>\n",
       "    </tr>\n",
       "    <tr>\n",
       "      <th id=\"T_533b2_level0_row2\" class=\"row_heading level0 row2\" >2</th>\n",
       "      <td id=\"T_533b2_row2_col0\" class=\"data row2 col0\" >বৃন্দাবন</td>\n",
       "      <td id=\"T_533b2_row2_col1\" class=\"data row2 col1\" >77</td>\n",
       "    </tr>\n",
       "    <tr>\n",
       "      <th id=\"T_533b2_level0_row3\" class=\"row_heading level0 row3\" >3</th>\n",
       "      <td id=\"T_533b2_row3_col0\" class=\"data row3 col0\" >শাহনাজ</td>\n",
       "      <td id=\"T_533b2_row3_col1\" class=\"data row3 col1\" >46</td>\n",
       "    </tr>\n",
       "    <tr>\n",
       "      <th id=\"T_533b2_level0_row4\" class=\"row_heading level0 row4\" >4</th>\n",
       "      <td id=\"T_533b2_row4_col0\" class=\"data row4 col0\" >আরিয়ান</td>\n",
       "      <td id=\"T_533b2_row4_col1\" class=\"data row4 col1\" >41</td>\n",
       "    </tr>\n",
       "    <tr>\n",
       "      <th id=\"T_533b2_level0_row5\" class=\"row_heading level0 row5\" >5</th>\n",
       "      <td id=\"T_533b2_row5_col0\" class=\"data row5 col0\" >ছুঁয়ে</td>\n",
       "      <td id=\"T_533b2_row5_col1\" class=\"data row5 col1\" >32</td>\n",
       "    </tr>\n",
       "    <tr>\n",
       "      <th id=\"T_533b2_level0_row6\" class=\"row_heading level0 row6\" >6</th>\n",
       "      <td id=\"T_533b2_row6_col0\" class=\"data row6 col0\" >নামাযের</td>\n",
       "      <td id=\"T_533b2_row6_col1\" class=\"data row6 col1\" >31</td>\n",
       "    </tr>\n",
       "    <tr>\n",
       "      <th id=\"T_533b2_level0_row7\" class=\"row_heading level0 row7\" >7</th>\n",
       "      <td id=\"T_533b2_row7_col0\" class=\"data row7 col0\" >nice</td>\n",
       "      <td id=\"T_533b2_row7_col1\" class=\"data row7 col1\" >29</td>\n",
       "    </tr>\n",
       "    <tr>\n",
       "      <th id=\"T_533b2_level0_row8\" class=\"row_heading level0 row8\" >8</th>\n",
       "      <td id=\"T_533b2_row8_col0\" class=\"data row8 col0\" >নিসো</td>\n",
       "      <td id=\"T_533b2_row8_col1\" class=\"data row8 col1\" >29</td>\n",
       "    </tr>\n",
       "    <tr>\n",
       "      <th id=\"T_533b2_level0_row9\" class=\"row_heading level0 row9\" >9</th>\n",
       "      <td id=\"T_533b2_row9_col0\" class=\"data row9 col0\" >nisho</td>\n",
       "      <td id=\"T_533b2_row9_col1\" class=\"data row9 col1\" >27</td>\n",
       "    </tr>\n",
       "    <tr>\n",
       "      <th id=\"T_533b2_level0_row10\" class=\"row_heading level0 row10\" >10</th>\n",
       "      <td id=\"T_533b2_row10_col0\" class=\"data row10 col0\" >শাহানাজ</td>\n",
       "      <td id=\"T_533b2_row10_col1\" class=\"data row10 col1\" >25</td>\n",
       "    </tr>\n",
       "    <tr>\n",
       "      <th id=\"T_533b2_level0_row11\" class=\"row_heading level0 row11\" >11</th>\n",
       "      <td id=\"T_533b2_row11_col0\" class=\"data row11 col0\" >শাহীন</td>\n",
       "      <td id=\"T_533b2_row11_col1\" class=\"data row11 col1\" >22</td>\n",
       "    </tr>\n",
       "    <tr>\n",
       "      <th id=\"T_533b2_level0_row12\" class=\"row_heading level0 row12\" >12</th>\n",
       "      <td id=\"T_533b2_row12_col0\" class=\"data row12 col0\" >all</td>\n",
       "      <td id=\"T_533b2_row12_col1\" class=\"data row12 col1\" >22</td>\n",
       "    </tr>\n",
       "    <tr>\n",
       "      <th id=\"T_533b2_level0_row13\" class=\"row_heading level0 row13\" >13</th>\n",
       "      <td id=\"T_533b2_row13_col0\" class=\"data row13 col0\" >আরফিন</td>\n",
       "      <td id=\"T_533b2_row13_col1\" class=\"data row13 col1\" >21</td>\n",
       "    </tr>\n",
       "    <tr>\n",
       "      <th id=\"T_533b2_level0_row14\" class=\"row_heading level0 row14\" >14</th>\n",
       "      <td id=\"T_533b2_row14_col0\" class=\"data row14 col0\" >বিস্ময়কর</td>\n",
       "      <td id=\"T_533b2_row14_col1\" class=\"data row14 col1\" >20</td>\n",
       "    </tr>\n",
       "    <tr>\n",
       "      <th id=\"T_533b2_level0_row15\" class=\"row_heading level0 row15\" >15</th>\n",
       "      <td id=\"T_533b2_row15_col0\" class=\"data row15 col0\" >Best</td>\n",
       "      <td id=\"T_533b2_row15_col1\" class=\"data row15 col1\" >20</td>\n",
       "    </tr>\n",
       "    <tr>\n",
       "      <th id=\"T_533b2_level0_row16\" class=\"row_heading level0 row16\" >16</th>\n",
       "      <td id=\"T_533b2_row16_col0\" class=\"data row16 col0\" >thanks</td>\n",
       "      <td id=\"T_533b2_row16_col1\" class=\"data row16 col1\" >19</td>\n",
       "    </tr>\n",
       "    <tr>\n",
       "      <th id=\"T_533b2_level0_row17\" class=\"row_heading level0 row17\" >17</th>\n",
       "      <td id=\"T_533b2_row17_col0\" class=\"data row17 col0\" >অপূর্বের</td>\n",
       "      <td id=\"T_533b2_row17_col1\" class=\"data row17 col1\" >18</td>\n",
       "    </tr>\n",
       "    <tr>\n",
       "      <th id=\"T_533b2_level0_row18\" class=\"row_heading level0 row18\" >18</th>\n",
       "      <td id=\"T_533b2_row18_col0\" class=\"data row18 col0\" >ব্যাচ</td>\n",
       "      <td id=\"T_533b2_row18_col1\" class=\"data row18 col1\" >17</td>\n",
       "    </tr>\n",
       "    <tr>\n",
       "      <th id=\"T_533b2_level0_row19\" class=\"row_heading level0 row19\" >19</th>\n",
       "      <td id=\"T_533b2_row19_col0\" class=\"data row19 col0\" >নাইচ</td>\n",
       "      <td id=\"T_533b2_row19_col1\" class=\"data row19 col1\" >17</td>\n",
       "    </tr>\n",
       "  </tbody>\n",
       "</table>\n"
      ],
      "text/plain": [
       "<pandas.io.formats.style.Styler at 0x1c231d9ad10>"
      ]
     },
     "execution_count": 72,
     "metadata": {},
     "output_type": "execute_result"
    }
   ],
   "source": [
    "Unique_Positive= words_unique('positive', 20, raw_text)\n",
    "print(\"The top 20 unique words in Positive Tweets are:\")\n",
    "Unique_Positive.style.background_gradient(cmap='Greens')"
   ]
  },
  {
   "cell_type": "markdown",
   "id": "6dc8f43d",
   "metadata": {},
   "source": [
    "#### Negative unique"
   ]
  },
  {
   "cell_type": "code",
   "execution_count": 73,
   "id": "24e069bb",
   "metadata": {},
   "outputs": [
    {
     "name": "stdout",
     "output_type": "stream",
     "text": [
      "The top 10 unique words in Negative Tweets are:\n"
     ]
    },
    {
     "data": {
      "text/html": [
       "<style type=\"text/css\">\n",
       "#T_4f969_row0_col1 {\n",
       "  background-color: #67000d;\n",
       "  color: #f1f1f1;\n",
       "}\n",
       "#T_4f969_row1_col1 {\n",
       "  background-color: #d42121;\n",
       "  color: #f1f1f1;\n",
       "}\n",
       "#T_4f969_row2_col1 {\n",
       "  background-color: #fdc9b3;\n",
       "  color: #000000;\n",
       "}\n",
       "#T_4f969_row3_col1 {\n",
       "  background-color: #fdd1be;\n",
       "  color: #000000;\n",
       "}\n",
       "#T_4f969_row4_col1 {\n",
       "  background-color: #fee4d8;\n",
       "  color: #000000;\n",
       "}\n",
       "#T_4f969_row5_col1, #T_4f969_row6_col1 {\n",
       "  background-color: #ffece4;\n",
       "  color: #000000;\n",
       "}\n",
       "#T_4f969_row7_col1, #T_4f969_row8_col1 {\n",
       "  background-color: #fff1ea;\n",
       "  color: #000000;\n",
       "}\n",
       "#T_4f969_row9_col1 {\n",
       "  background-color: #fff5f0;\n",
       "  color: #000000;\n",
       "}\n",
       "</style>\n",
       "<table id=\"T_4f969\">\n",
       "  <thead>\n",
       "    <tr>\n",
       "      <th class=\"blank level0\" >&nbsp;</th>\n",
       "      <th id=\"T_4f969_level0_col0\" class=\"col_heading level0 col0\" >words</th>\n",
       "      <th id=\"T_4f969_level0_col1\" class=\"col_heading level0 col1\" >count</th>\n",
       "    </tr>\n",
       "  </thead>\n",
       "  <tbody>\n",
       "    <tr>\n",
       "      <th id=\"T_4f969_level0_row0\" class=\"row_heading level0 row0\" >0</th>\n",
       "      <td id=\"T_4f969_row0_col0\" class=\"data row0 col0\" >করিমের</td>\n",
       "      <td id=\"T_4f969_row0_col1\" class=\"data row0 col1\" >56</td>\n",
       "    </tr>\n",
       "    <tr>\n",
       "      <th id=\"T_4f969_level0_row1\" class=\"row_heading level0 row1\" >1</th>\n",
       "      <td id=\"T_4f969_row1_col0\" class=\"data row1 col0\" >সালা</td>\n",
       "      <td id=\"T_4f969_row1_col1\" class=\"data row1 col1\" >45</td>\n",
       "    </tr>\n",
       "    <tr>\n",
       "      <th id=\"T_4f969_level0_row2\" class=\"row_heading level0 row2\" >2</th>\n",
       "      <td id=\"T_4f969_row2_col0\" class=\"data row2 col0\" >কাচ্চি</td>\n",
       "      <td id=\"T_4f969_row2_col1\" class=\"data row2 col1\" >25</td>\n",
       "    </tr>\n",
       "    <tr>\n",
       "      <th id=\"T_4f969_level0_row3\" class=\"row_heading level0 row3\" >3</th>\n",
       "      <td id=\"T_4f969_row3_col0\" class=\"data row3 col0\" >পালতু</td>\n",
       "      <td id=\"T_4f969_row3_col1\" class=\"data row3 col1\" >24</td>\n",
       "    </tr>\n",
       "    <tr>\n",
       "      <th id=\"T_4f969_level0_row4\" class=\"row_heading level0 row4\" >4</th>\n",
       "      <td id=\"T_4f969_row4_col0\" class=\"data row4 col0\" >এমবি</td>\n",
       "      <td id=\"T_4f969_row4_col1\" class=\"data row4 col1\" >21</td>\n",
       "    </tr>\n",
       "    <tr>\n",
       "      <th id=\"T_4f969_level0_row5\" class=\"row_heading level0 row5\" >5</th>\n",
       "      <td id=\"T_4f969_row5_col0\" class=\"data row5 col0\" >কুকুর</td>\n",
       "      <td id=\"T_4f969_row5_col1\" class=\"data row5 col1\" >19</td>\n",
       "    </tr>\n",
       "    <tr>\n",
       "      <th id=\"T_4f969_level0_row6\" class=\"row_heading level0 row6\" >6</th>\n",
       "      <td id=\"T_4f969_row6_col0\" class=\"data row6 col0\" >পোলারা</td>\n",
       "      <td id=\"T_4f969_row6_col1\" class=\"data row6 col1\" >19</td>\n",
       "    </tr>\n",
       "    <tr>\n",
       "      <th id=\"T_4f969_level0_row7\" class=\"row_heading level0 row7\" >7</th>\n",
       "      <td id=\"T_4f969_row7_col0\" class=\"data row7 col0\" >আরকি</td>\n",
       "      <td id=\"T_4f969_row7_col1\" class=\"data row7 col1\" >18</td>\n",
       "    </tr>\n",
       "    <tr>\n",
       "      <th id=\"T_4f969_level0_row8\" class=\"row_heading level0 row8\" >8</th>\n",
       "      <td id=\"T_4f969_row8_col0\" class=\"data row8 col0\" >মাগির</td>\n",
       "      <td id=\"T_4f969_row8_col1\" class=\"data row8 col1\" >18</td>\n",
       "    </tr>\n",
       "    <tr>\n",
       "      <th id=\"T_4f969_level0_row9\" class=\"row_heading level0 row9\" >9</th>\n",
       "      <td id=\"T_4f969_row9_col0\" class=\"data row9 col0\" >শালার</td>\n",
       "      <td id=\"T_4f969_row9_col1\" class=\"data row9 col1\" >17</td>\n",
       "    </tr>\n",
       "  </tbody>\n",
       "</table>\n"
      ],
      "text/plain": [
       "<pandas.io.formats.style.Styler at 0x1c2445060d0>"
      ]
     },
     "execution_count": 73,
     "metadata": {},
     "output_type": "execute_result"
    }
   ],
   "source": [
    "Unique_Negative= words_unique('negative', 10, raw_text)\n",
    "print(\"The top 10 unique words in Negative Tweets are:\")\n",
    "Unique_Negative.style.background_gradient(cmap='Reds')"
   ]
  },
  {
   "cell_type": "markdown",
   "id": "758d0acb",
   "metadata": {},
   "source": [
    "#### Neutral Unique"
   ]
  },
  {
   "cell_type": "code",
   "execution_count": 74,
   "id": "4d735480",
   "metadata": {},
   "outputs": [
    {
     "name": "stdout",
     "output_type": "stream",
     "text": [
      "The top 10 unique words in Neutral Tweets are:\n"
     ]
    },
    {
     "data": {
      "text/html": [
       "<style type=\"text/css\">\n",
       "#T_096ab_row0_col1 {\n",
       "  background-color: #3f007d;\n",
       "  color: #f1f1f1;\n",
       "}\n",
       "#T_096ab_row1_col1, #T_096ab_row2_col1, #T_096ab_row3_col1, #T_096ab_row4_col1 {\n",
       "  background-color: #9e9ac8;\n",
       "  color: #f1f1f1;\n",
       "}\n",
       "#T_096ab_row5_col1, #T_096ab_row6_col1, #T_096ab_row7_col1, #T_096ab_row8_col1, #T_096ab_row9_col1 {\n",
       "  background-color: #fcfbfd;\n",
       "  color: #000000;\n",
       "}\n",
       "</style>\n",
       "<table id=\"T_096ab\">\n",
       "  <thead>\n",
       "    <tr>\n",
       "      <th class=\"blank level0\" >&nbsp;</th>\n",
       "      <th id=\"T_096ab_level0_col0\" class=\"col_heading level0 col0\" >words</th>\n",
       "      <th id=\"T_096ab_level0_col1\" class=\"col_heading level0 col1\" >count</th>\n",
       "    </tr>\n",
       "  </thead>\n",
       "  <tbody>\n",
       "    <tr>\n",
       "      <th id=\"T_096ab_level0_row0\" class=\"row_heading level0 row0\" >0</th>\n",
       "      <td id=\"T_096ab_row0_col0\" class=\"data row0 col0\" >বরখেলাপ</td>\n",
       "      <td id=\"T_096ab_row0_col1\" class=\"data row0 col1\" >6</td>\n",
       "    </tr>\n",
       "    <tr>\n",
       "      <th id=\"T_096ab_level0_row1\" class=\"row_heading level0 row1\" >1</th>\n",
       "      <td id=\"T_096ab_row1_col0\" class=\"data row1 col0\" >পাল্টানোর</td>\n",
       "      <td id=\"T_096ab_row1_col1\" class=\"data row1 col1\" >5</td>\n",
       "    </tr>\n",
       "    <tr>\n",
       "      <th id=\"T_096ab_level0_row2\" class=\"row_heading level0 row2\" >2</th>\n",
       "      <td id=\"T_096ab_row2_col0\" class=\"data row2 col0\" >এসিস্ট</td>\n",
       "      <td id=\"T_096ab_row2_col1\" class=\"data row2 col1\" >5</td>\n",
       "    </tr>\n",
       "    <tr>\n",
       "      <th id=\"T_096ab_level0_row3\" class=\"row_heading level0 row3\" >3</th>\n",
       "      <td id=\"T_096ab_row3_col0\" class=\"data row3 col0\" >আইপিএলে</td>\n",
       "      <td id=\"T_096ab_row3_col1\" class=\"data row3 col1\" >5</td>\n",
       "    </tr>\n",
       "    <tr>\n",
       "      <th id=\"T_096ab_level0_row4\" class=\"row_heading level0 row4\" >4</th>\n",
       "      <td id=\"T_096ab_row4_col0\" class=\"data row4 col0\" >মুর্তজা</td>\n",
       "      <td id=\"T_096ab_row4_col1\" class=\"data row4 col1\" >5</td>\n",
       "    </tr>\n",
       "    <tr>\n",
       "      <th id=\"T_096ab_level0_row5\" class=\"row_heading level0 row5\" >5</th>\n",
       "      <td id=\"T_096ab_row5_col0\" class=\"data row5 col0\" >এলিট</td>\n",
       "      <td id=\"T_096ab_row5_col1\" class=\"data row5 col1\" >4</td>\n",
       "    </tr>\n",
       "    <tr>\n",
       "      <th id=\"T_096ab_level0_row6\" class=\"row_heading level0 row6\" >6</th>\n",
       "      <td id=\"T_096ab_row6_col0\" class=\"data row6 col0\" >মাস্টার্স</td>\n",
       "      <td id=\"T_096ab_row6_col1\" class=\"data row6 col1\" >4</td>\n",
       "    </tr>\n",
       "    <tr>\n",
       "      <th id=\"T_096ab_level0_row7\" class=\"row_heading level0 row7\" >7</th>\n",
       "      <td id=\"T_096ab_row7_col0\" class=\"data row7 col0\" >গার্মেণ্টস</td>\n",
       "      <td id=\"T_096ab_row7_col1\" class=\"data row7 col1\" >4</td>\n",
       "    </tr>\n",
       "    <tr>\n",
       "      <th id=\"T_096ab_level0_row8\" class=\"row_heading level0 row8\" >8</th>\n",
       "      <td id=\"T_096ab_row8_col0\" class=\"data row8 col0\" >দোভাষী</td>\n",
       "      <td id=\"T_096ab_row8_col1\" class=\"data row8 col1\" >4</td>\n",
       "    </tr>\n",
       "    <tr>\n",
       "      <th id=\"T_096ab_level0_row9\" class=\"row_heading level0 row9\" >9</th>\n",
       "      <td id=\"T_096ab_row9_col0\" class=\"data row9 col0\" >গণিতে</td>\n",
       "      <td id=\"T_096ab_row9_col1\" class=\"data row9 col1\" >4</td>\n",
       "    </tr>\n",
       "  </tbody>\n",
       "</table>\n"
      ],
      "text/plain": [
       "<pandas.io.formats.style.Styler at 0x1c244506610>"
      ]
     },
     "execution_count": 74,
     "metadata": {},
     "output_type": "execute_result"
    }
   ],
   "source": [
    "Unique_Neutral= words_unique('neutral', 10, raw_text)\n",
    "print(\"The top 10 unique words in Neutral Tweets are:\")\n",
    "Unique_Neutral.style.background_gradient(cmap='Purples')"
   ]
  }
 ],
 "metadata": {
  "kernelspec": {
   "display_name": "base",
   "language": "python",
   "name": "python3"
  },
  "language_info": {
   "codemirror_mode": {
    "name": "ipython",
    "version": 3
   },
   "file_extension": ".py",
   "mimetype": "text/x-python",
   "name": "python",
   "nbconvert_exporter": "python",
   "pygments_lexer": "ipython3",
   "version": "3.11.5"
  }
 },
 "nbformat": 4,
 "nbformat_minor": 5
}
