{
 "cells": [
  {
   "cell_type": "code",
   "execution_count": 2,
   "id": "c0c711ea",
   "metadata": {},
   "outputs": [],
   "source": [
    "import numpy as np\n",
    "import pandas as pd\n",
    "import seaborn as sns\n",
    "from plotly import graph_objects as go\n",
    "from nltk.corpus import stopwords\n",
    "import re\n",
    "from matplotlib import pyplot as plt"
   ]
  },
  {
   "cell_type": "code",
   "execution_count": 11,
   "id": "d1a9b7a9",
   "metadata": {},
   "outputs": [
    {
     "ename": "IntCastingNaNError",
     "evalue": "Cannot convert non-finite values (NA or inf) to integer",
     "output_type": "error",
     "traceback": [
      "\u001b[1;31m---------------------------------------------------------------------------\u001b[0m",
      "\u001b[1;31mIntCastingNaNError\u001b[0m                        Traceback (most recent call last)",
      "Cell \u001b[1;32mIn[11], line 7\u001b[0m\n\u001b[0;32m      5\u001b[0m \u001b[38;5;66;03m#combine all the dataframes into one\u001b[39;00m\n\u001b[0;32m      6\u001b[0m df \u001b[38;5;241m=\u001b[39m pd\u001b[38;5;241m.\u001b[39mconcat([df1, df2, df3, df4], ignore_index\u001b[38;5;241m=\u001b[39m\u001b[38;5;28;01mTrue\u001b[39;00m)\n\u001b[1;32m----> 7\u001b[0m df[\u001b[38;5;124m'\u001b[39m\u001b[38;5;124msentiment\u001b[39m\u001b[38;5;124m'\u001b[39m] \u001b[38;5;241m=\u001b[39m \u001b[43mdf\u001b[49m\u001b[43m[\u001b[49m\u001b[38;5;124;43m'\u001b[39;49m\u001b[38;5;124;43msentiment\u001b[39;49m\u001b[38;5;124;43m'\u001b[39;49m\u001b[43m]\u001b[49m\u001b[38;5;241;43m.\u001b[39;49m\u001b[43mastype\u001b[49m\u001b[43m(\u001b[49m\u001b[38;5;28;43mint\u001b[39;49m\u001b[43m)\u001b[49m\n\u001b[0;32m      8\u001b[0m df\u001b[38;5;241m.\u001b[39mhead()\n",
      "File \u001b[1;32mc:\\Users\\raquib\\anaconda3\\Lib\\site-packages\\pandas\\core\\generic.py:6324\u001b[0m, in \u001b[0;36mNDFrame.astype\u001b[1;34m(self, dtype, copy, errors)\u001b[0m\n\u001b[0;32m   6317\u001b[0m     results \u001b[38;5;241m=\u001b[39m [\n\u001b[0;32m   6318\u001b[0m         \u001b[38;5;28mself\u001b[39m\u001b[38;5;241m.\u001b[39miloc[:, i]\u001b[38;5;241m.\u001b[39mastype(dtype, copy\u001b[38;5;241m=\u001b[39mcopy)\n\u001b[0;32m   6319\u001b[0m         \u001b[38;5;28;01mfor\u001b[39;00m i \u001b[38;5;129;01min\u001b[39;00m \u001b[38;5;28mrange\u001b[39m(\u001b[38;5;28mlen\u001b[39m(\u001b[38;5;28mself\u001b[39m\u001b[38;5;241m.\u001b[39mcolumns))\n\u001b[0;32m   6320\u001b[0m     ]\n\u001b[0;32m   6322\u001b[0m \u001b[38;5;28;01melse\u001b[39;00m:\n\u001b[0;32m   6323\u001b[0m     \u001b[38;5;66;03m# else, only a single dtype is given\u001b[39;00m\n\u001b[1;32m-> 6324\u001b[0m     new_data \u001b[38;5;241m=\u001b[39m \u001b[38;5;28;43mself\u001b[39;49m\u001b[38;5;241;43m.\u001b[39;49m\u001b[43m_mgr\u001b[49m\u001b[38;5;241;43m.\u001b[39;49m\u001b[43mastype\u001b[49m\u001b[43m(\u001b[49m\u001b[43mdtype\u001b[49m\u001b[38;5;241;43m=\u001b[39;49m\u001b[43mdtype\u001b[49m\u001b[43m,\u001b[49m\u001b[43m \u001b[49m\u001b[43mcopy\u001b[49m\u001b[38;5;241;43m=\u001b[39;49m\u001b[43mcopy\u001b[49m\u001b[43m,\u001b[49m\u001b[43m \u001b[49m\u001b[43merrors\u001b[49m\u001b[38;5;241;43m=\u001b[39;49m\u001b[43merrors\u001b[49m\u001b[43m)\u001b[49m\n\u001b[0;32m   6325\u001b[0m     \u001b[38;5;28;01mreturn\u001b[39;00m \u001b[38;5;28mself\u001b[39m\u001b[38;5;241m.\u001b[39m_constructor(new_data)\u001b[38;5;241m.\u001b[39m__finalize__(\u001b[38;5;28mself\u001b[39m, method\u001b[38;5;241m=\u001b[39m\u001b[38;5;124m\"\u001b[39m\u001b[38;5;124mastype\u001b[39m\u001b[38;5;124m\"\u001b[39m)\n\u001b[0;32m   6327\u001b[0m \u001b[38;5;66;03m# GH 33113: handle empty frame or series\u001b[39;00m\n",
      "File \u001b[1;32mc:\\Users\\raquib\\anaconda3\\Lib\\site-packages\\pandas\\core\\internals\\managers.py:451\u001b[0m, in \u001b[0;36mBaseBlockManager.astype\u001b[1;34m(self, dtype, copy, errors)\u001b[0m\n\u001b[0;32m    448\u001b[0m \u001b[38;5;28;01melif\u001b[39;00m using_copy_on_write():\n\u001b[0;32m    449\u001b[0m     copy \u001b[38;5;241m=\u001b[39m \u001b[38;5;28;01mFalse\u001b[39;00m\n\u001b[1;32m--> 451\u001b[0m \u001b[38;5;28;01mreturn\u001b[39;00m \u001b[38;5;28;43mself\u001b[39;49m\u001b[38;5;241;43m.\u001b[39;49m\u001b[43mapply\u001b[49m\u001b[43m(\u001b[49m\n\u001b[0;32m    452\u001b[0m \u001b[43m    \u001b[49m\u001b[38;5;124;43m\"\u001b[39;49m\u001b[38;5;124;43mastype\u001b[39;49m\u001b[38;5;124;43m\"\u001b[39;49m\u001b[43m,\u001b[49m\n\u001b[0;32m    453\u001b[0m \u001b[43m    \u001b[49m\u001b[43mdtype\u001b[49m\u001b[38;5;241;43m=\u001b[39;49m\u001b[43mdtype\u001b[49m\u001b[43m,\u001b[49m\n\u001b[0;32m    454\u001b[0m \u001b[43m    \u001b[49m\u001b[43mcopy\u001b[49m\u001b[38;5;241;43m=\u001b[39;49m\u001b[43mcopy\u001b[49m\u001b[43m,\u001b[49m\n\u001b[0;32m    455\u001b[0m \u001b[43m    \u001b[49m\u001b[43merrors\u001b[49m\u001b[38;5;241;43m=\u001b[39;49m\u001b[43merrors\u001b[49m\u001b[43m,\u001b[49m\n\u001b[0;32m    456\u001b[0m \u001b[43m    \u001b[49m\u001b[43musing_cow\u001b[49m\u001b[38;5;241;43m=\u001b[39;49m\u001b[43musing_copy_on_write\u001b[49m\u001b[43m(\u001b[49m\u001b[43m)\u001b[49m\u001b[43m,\u001b[49m\n\u001b[0;32m    457\u001b[0m \u001b[43m\u001b[49m\u001b[43m)\u001b[49m\n",
      "File \u001b[1;32mc:\\Users\\raquib\\anaconda3\\Lib\\site-packages\\pandas\\core\\internals\\managers.py:352\u001b[0m, in \u001b[0;36mBaseBlockManager.apply\u001b[1;34m(self, f, align_keys, **kwargs)\u001b[0m\n\u001b[0;32m    350\u001b[0m         applied \u001b[38;5;241m=\u001b[39m b\u001b[38;5;241m.\u001b[39mapply(f, \u001b[38;5;241m*\u001b[39m\u001b[38;5;241m*\u001b[39mkwargs)\n\u001b[0;32m    351\u001b[0m     \u001b[38;5;28;01melse\u001b[39;00m:\n\u001b[1;32m--> 352\u001b[0m         applied \u001b[38;5;241m=\u001b[39m \u001b[38;5;28;43mgetattr\u001b[39;49m\u001b[43m(\u001b[49m\u001b[43mb\u001b[49m\u001b[43m,\u001b[49m\u001b[43m \u001b[49m\u001b[43mf\u001b[49m\u001b[43m)\u001b[49m\u001b[43m(\u001b[49m\u001b[38;5;241;43m*\u001b[39;49m\u001b[38;5;241;43m*\u001b[39;49m\u001b[43mkwargs\u001b[49m\u001b[43m)\u001b[49m\n\u001b[0;32m    353\u001b[0m     result_blocks \u001b[38;5;241m=\u001b[39m extend_blocks(applied, result_blocks)\n\u001b[0;32m    355\u001b[0m out \u001b[38;5;241m=\u001b[39m \u001b[38;5;28mtype\u001b[39m(\u001b[38;5;28mself\u001b[39m)\u001b[38;5;241m.\u001b[39mfrom_blocks(result_blocks, \u001b[38;5;28mself\u001b[39m\u001b[38;5;241m.\u001b[39maxes)\n",
      "File \u001b[1;32mc:\\Users\\raquib\\anaconda3\\Lib\\site-packages\\pandas\\core\\internals\\blocks.py:511\u001b[0m, in \u001b[0;36mBlock.astype\u001b[1;34m(self, dtype, copy, errors, using_cow)\u001b[0m\n\u001b[0;32m    491\u001b[0m \u001b[38;5;250m\u001b[39m\u001b[38;5;124;03m\"\"\"\u001b[39;00m\n\u001b[0;32m    492\u001b[0m \u001b[38;5;124;03mCoerce to the new dtype.\u001b[39;00m\n\u001b[0;32m    493\u001b[0m \n\u001b[1;32m   (...)\u001b[0m\n\u001b[0;32m    507\u001b[0m \u001b[38;5;124;03mBlock\u001b[39;00m\n\u001b[0;32m    508\u001b[0m \u001b[38;5;124;03m\"\"\"\u001b[39;00m\n\u001b[0;32m    509\u001b[0m values \u001b[38;5;241m=\u001b[39m \u001b[38;5;28mself\u001b[39m\u001b[38;5;241m.\u001b[39mvalues\n\u001b[1;32m--> 511\u001b[0m new_values \u001b[38;5;241m=\u001b[39m \u001b[43mastype_array_safe\u001b[49m\u001b[43m(\u001b[49m\u001b[43mvalues\u001b[49m\u001b[43m,\u001b[49m\u001b[43m \u001b[49m\u001b[43mdtype\u001b[49m\u001b[43m,\u001b[49m\u001b[43m \u001b[49m\u001b[43mcopy\u001b[49m\u001b[38;5;241;43m=\u001b[39;49m\u001b[43mcopy\u001b[49m\u001b[43m,\u001b[49m\u001b[43m \u001b[49m\u001b[43merrors\u001b[49m\u001b[38;5;241;43m=\u001b[39;49m\u001b[43merrors\u001b[49m\u001b[43m)\u001b[49m\n\u001b[0;32m    513\u001b[0m new_values \u001b[38;5;241m=\u001b[39m maybe_coerce_values(new_values)\n\u001b[0;32m    515\u001b[0m refs \u001b[38;5;241m=\u001b[39m \u001b[38;5;28;01mNone\u001b[39;00m\n",
      "File \u001b[1;32mc:\\Users\\raquib\\anaconda3\\Lib\\site-packages\\pandas\\core\\dtypes\\astype.py:242\u001b[0m, in \u001b[0;36mastype_array_safe\u001b[1;34m(values, dtype, copy, errors)\u001b[0m\n\u001b[0;32m    239\u001b[0m     dtype \u001b[38;5;241m=\u001b[39m dtype\u001b[38;5;241m.\u001b[39mnumpy_dtype\n\u001b[0;32m    241\u001b[0m \u001b[38;5;28;01mtry\u001b[39;00m:\n\u001b[1;32m--> 242\u001b[0m     new_values \u001b[38;5;241m=\u001b[39m \u001b[43mastype_array\u001b[49m\u001b[43m(\u001b[49m\u001b[43mvalues\u001b[49m\u001b[43m,\u001b[49m\u001b[43m \u001b[49m\u001b[43mdtype\u001b[49m\u001b[43m,\u001b[49m\u001b[43m \u001b[49m\u001b[43mcopy\u001b[49m\u001b[38;5;241;43m=\u001b[39;49m\u001b[43mcopy\u001b[49m\u001b[43m)\u001b[49m\n\u001b[0;32m    243\u001b[0m \u001b[38;5;28;01mexcept\u001b[39;00m (\u001b[38;5;167;01mValueError\u001b[39;00m, \u001b[38;5;167;01mTypeError\u001b[39;00m):\n\u001b[0;32m    244\u001b[0m     \u001b[38;5;66;03m# e.g. _astype_nansafe can fail on object-dtype of strings\u001b[39;00m\n\u001b[0;32m    245\u001b[0m     \u001b[38;5;66;03m#  trying to convert to float\u001b[39;00m\n\u001b[0;32m    246\u001b[0m     \u001b[38;5;28;01mif\u001b[39;00m errors \u001b[38;5;241m==\u001b[39m \u001b[38;5;124m\"\u001b[39m\u001b[38;5;124mignore\u001b[39m\u001b[38;5;124m\"\u001b[39m:\n",
      "File \u001b[1;32mc:\\Users\\raquib\\anaconda3\\Lib\\site-packages\\pandas\\core\\dtypes\\astype.py:187\u001b[0m, in \u001b[0;36mastype_array\u001b[1;34m(values, dtype, copy)\u001b[0m\n\u001b[0;32m    184\u001b[0m     values \u001b[38;5;241m=\u001b[39m values\u001b[38;5;241m.\u001b[39mastype(dtype, copy\u001b[38;5;241m=\u001b[39mcopy)\n\u001b[0;32m    186\u001b[0m \u001b[38;5;28;01melse\u001b[39;00m:\n\u001b[1;32m--> 187\u001b[0m     values \u001b[38;5;241m=\u001b[39m \u001b[43m_astype_nansafe\u001b[49m\u001b[43m(\u001b[49m\u001b[43mvalues\u001b[49m\u001b[43m,\u001b[49m\u001b[43m \u001b[49m\u001b[43mdtype\u001b[49m\u001b[43m,\u001b[49m\u001b[43m \u001b[49m\u001b[43mcopy\u001b[49m\u001b[38;5;241;43m=\u001b[39;49m\u001b[43mcopy\u001b[49m\u001b[43m)\u001b[49m\n\u001b[0;32m    189\u001b[0m \u001b[38;5;66;03m# in pandas we don't store numpy str dtypes, so convert to object\u001b[39;00m\n\u001b[0;32m    190\u001b[0m \u001b[38;5;28;01mif\u001b[39;00m \u001b[38;5;28misinstance\u001b[39m(dtype, np\u001b[38;5;241m.\u001b[39mdtype) \u001b[38;5;129;01mand\u001b[39;00m \u001b[38;5;28missubclass\u001b[39m(values\u001b[38;5;241m.\u001b[39mdtype\u001b[38;5;241m.\u001b[39mtype, \u001b[38;5;28mstr\u001b[39m):\n",
      "File \u001b[1;32mc:\\Users\\raquib\\anaconda3\\Lib\\site-packages\\pandas\\core\\dtypes\\astype.py:105\u001b[0m, in \u001b[0;36m_astype_nansafe\u001b[1;34m(arr, dtype, copy, skipna)\u001b[0m\n\u001b[0;32m    100\u001b[0m     \u001b[38;5;28;01mreturn\u001b[39;00m lib\u001b[38;5;241m.\u001b[39mensure_string_array(\n\u001b[0;32m    101\u001b[0m         arr, skipna\u001b[38;5;241m=\u001b[39mskipna, convert_na_value\u001b[38;5;241m=\u001b[39m\u001b[38;5;28;01mFalse\u001b[39;00m\n\u001b[0;32m    102\u001b[0m     )\u001b[38;5;241m.\u001b[39mreshape(shape)\n\u001b[0;32m    104\u001b[0m \u001b[38;5;28;01melif\u001b[39;00m np\u001b[38;5;241m.\u001b[39missubdtype(arr\u001b[38;5;241m.\u001b[39mdtype, np\u001b[38;5;241m.\u001b[39mfloating) \u001b[38;5;129;01mand\u001b[39;00m is_integer_dtype(dtype):\n\u001b[1;32m--> 105\u001b[0m     \u001b[38;5;28;01mreturn\u001b[39;00m \u001b[43m_astype_float_to_int_nansafe\u001b[49m\u001b[43m(\u001b[49m\u001b[43marr\u001b[49m\u001b[43m,\u001b[49m\u001b[43m \u001b[49m\u001b[43mdtype\u001b[49m\u001b[43m,\u001b[49m\u001b[43m \u001b[49m\u001b[43mcopy\u001b[49m\u001b[43m)\u001b[49m\n\u001b[0;32m    107\u001b[0m \u001b[38;5;28;01melif\u001b[39;00m is_object_dtype(arr\u001b[38;5;241m.\u001b[39mdtype):\n\u001b[0;32m    108\u001b[0m     \u001b[38;5;66;03m# if we have a datetime/timedelta array of objects\u001b[39;00m\n\u001b[0;32m    109\u001b[0m     \u001b[38;5;66;03m# then coerce to datetime64[ns] and use DatetimeArray.astype\u001b[39;00m\n\u001b[0;32m    111\u001b[0m     \u001b[38;5;28;01mif\u001b[39;00m is_datetime64_dtype(dtype):\n",
      "File \u001b[1;32mc:\\Users\\raquib\\anaconda3\\Lib\\site-packages\\pandas\\core\\dtypes\\astype.py:150\u001b[0m, in \u001b[0;36m_astype_float_to_int_nansafe\u001b[1;34m(values, dtype, copy)\u001b[0m\n\u001b[0;32m    146\u001b[0m \u001b[38;5;250m\u001b[39m\u001b[38;5;124;03m\"\"\"\u001b[39;00m\n\u001b[0;32m    147\u001b[0m \u001b[38;5;124;03mastype with a check preventing converting NaN to an meaningless integer value.\u001b[39;00m\n\u001b[0;32m    148\u001b[0m \u001b[38;5;124;03m\"\"\"\u001b[39;00m\n\u001b[0;32m    149\u001b[0m \u001b[38;5;28;01mif\u001b[39;00m \u001b[38;5;129;01mnot\u001b[39;00m np\u001b[38;5;241m.\u001b[39misfinite(values)\u001b[38;5;241m.\u001b[39mall():\n\u001b[1;32m--> 150\u001b[0m     \u001b[38;5;28;01mraise\u001b[39;00m IntCastingNaNError(\n\u001b[0;32m    151\u001b[0m         \u001b[38;5;124m\"\u001b[39m\u001b[38;5;124mCannot convert non-finite values (NA or inf) to integer\u001b[39m\u001b[38;5;124m\"\u001b[39m\n\u001b[0;32m    152\u001b[0m     )\n\u001b[0;32m    153\u001b[0m \u001b[38;5;28;01mif\u001b[39;00m dtype\u001b[38;5;241m.\u001b[39mkind \u001b[38;5;241m==\u001b[39m \u001b[38;5;124m\"\u001b[39m\u001b[38;5;124mu\u001b[39m\u001b[38;5;124m\"\u001b[39m:\n\u001b[0;32m    154\u001b[0m     \u001b[38;5;66;03m# GH#45151\u001b[39;00m\n\u001b[0;32m    155\u001b[0m     \u001b[38;5;28;01mif\u001b[39;00m \u001b[38;5;129;01mnot\u001b[39;00m (values \u001b[38;5;241m>\u001b[39m\u001b[38;5;241m=\u001b[39m \u001b[38;5;241m0\u001b[39m)\u001b[38;5;241m.\u001b[39mall():\n",
      "\u001b[1;31mIntCastingNaNError\u001b[0m: Cannot convert non-finite values (NA or inf) to integer"
     ]
    }
   ],
   "source": [
    "\n",
    "df1 = pd.read_csv('processed_news_data.csv')\n",
    "df2 = pd.read_csv('processed_Bengali-Drama_Data.csv')\n",
    "df3 = pd.read_csv('processed_cricket_data.csv')\n",
    "df4 = pd.read_csv('processed_restaurant_data.csv')\n",
    "#combine all the dataframes into one\n",
    "df = pd.concat([df1, df2, df3, df4], ignore_index=True)\n",
    "df['sentiment'] = df['sentiment'].astype(int)\n",
    "df.head()"
   ]
  },
  {
   "cell_type": "code",
   "execution_count": null,
   "id": "62b88263",
   "metadata": {},
   "outputs": [
    {
     "data": {
      "text/html": [
       "<div>\n",
       "<style scoped>\n",
       "    .dataframe tbody tr th:only-of-type {\n",
       "        vertical-align: middle;\n",
       "    }\n",
       "\n",
       "    .dataframe tbody tr th {\n",
       "        vertical-align: top;\n",
       "    }\n",
       "\n",
       "    .dataframe thead th {\n",
       "        text-align: right;\n",
       "    }\n",
       "</style>\n",
       "<table border=\"1\" class=\"dataframe\">\n",
       "  <thead>\n",
       "    <tr style=\"text-align: right;\">\n",
       "      <th></th>\n",
       "      <th>SL</th>\n",
       "      <th>text</th>\n",
       "      <th>Category</th>\n",
       "      <th>Tag</th>\n",
       "    </tr>\n",
       "  </thead>\n",
       "  <tbody>\n",
       "    <tr>\n",
       "      <th>0</th>\n",
       "      <td>0</td>\n",
       "      <td>স্টাফ কিন্তু, আমাদের জন্য ভয়ঙ্কর ছিল।</td>\n",
       "      <td>service</td>\n",
       "      <td>negative</td>\n",
       "    </tr>\n",
       "    <tr>\n",
       "      <th>1</th>\n",
       "      <td>1</td>\n",
       "      <td>শুধুমাত্র,রিডামিং ফ্যাক্টর খাদ্য ছিল,পুরোপুরি ...</td>\n",
       "      <td>food</td>\n",
       "      <td>positive</td>\n",
       "    </tr>\n",
       "    <tr>\n",
       "      <th>2</th>\n",
       "      <td>2</td>\n",
       "      <td>শুধুমাত্র,রিডামিং ফ্যাক্টর খাদ্য ছিল,পুরোপুরি ...</td>\n",
       "      <td>anecdotes/miscellaneous</td>\n",
       "      <td>negative</td>\n",
       "    </tr>\n",
       "    <tr>\n",
       "      <th>3</th>\n",
       "      <td>3</td>\n",
       "      <td>খাবার একদমই ব্যতিক্রমী, একটি খুব সক্ষম রান্নাঘ...</td>\n",
       "      <td>food</td>\n",
       "      <td>positive</td>\n",
       "    </tr>\n",
       "    <tr>\n",
       "      <th>4</th>\n",
       "      <td>4</td>\n",
       "      <td>যেখানে গাব্রিয়েলা লোকালি আপনাকে শুভেচ্ছা জানা...</td>\n",
       "      <td>service</td>\n",
       "      <td>positive</td>\n",
       "    </tr>\n",
       "  </tbody>\n",
       "</table>\n",
       "</div>"
      ],
      "text/plain": [
       "   SL                                               text  \\\n",
       "0   0              স্টাফ কিন্তু, আমাদের জন্য ভয়ঙ্কর ছিল।   \n",
       "1   1  শুধুমাত্র,রিডামিং ফ্যাক্টর খাদ্য ছিল,পুরোপুরি ...   \n",
       "2   2  শুধুমাত্র,রিডামিং ফ্যাক্টর খাদ্য ছিল,পুরোপুরি ...   \n",
       "3   3  খাবার একদমই ব্যতিক্রমী, একটি খুব সক্ষম রান্নাঘ...   \n",
       "4   4  যেখানে গাব্রিয়েলা লোকালি আপনাকে শুভেচ্ছা জানা...   \n",
       "\n",
       "                  Category       Tag  \n",
       "0                  service  negative  \n",
       "1                     food  positive  \n",
       "2  anecdotes/miscellaneous  negative  \n",
       "3                     food  positive  \n",
       "4                  service  positive  "
      ]
     },
     "metadata": {},
     "output_type": "display_data"
    }
   ],
   "source": [
    "df.head(5)"
   ]
  },
  {
   "cell_type": "code",
   "execution_count": null,
   "id": "f27500cd",
   "metadata": {},
   "outputs": [],
   "source": [
    "df.drop(columns=['SL', 'Category'], inplace=True)"
   ]
  },
  {
   "cell_type": "code",
   "execution_count": null,
   "id": "4f6daeef",
   "metadata": {},
   "outputs": [
    {
     "data": {
      "text/html": [
       "<div>\n",
       "<style scoped>\n",
       "    .dataframe tbody tr th:only-of-type {\n",
       "        vertical-align: middle;\n",
       "    }\n",
       "\n",
       "    .dataframe tbody tr th {\n",
       "        vertical-align: top;\n",
       "    }\n",
       "\n",
       "    .dataframe thead th {\n",
       "        text-align: right;\n",
       "    }\n",
       "</style>\n",
       "<table border=\"1\" class=\"dataframe\">\n",
       "  <thead>\n",
       "    <tr style=\"text-align: right;\">\n",
       "      <th></th>\n",
       "      <th>text</th>\n",
       "      <th>Tag</th>\n",
       "      <th>sentiment</th>\n",
       "    </tr>\n",
       "  </thead>\n",
       "  <tbody>\n",
       "    <tr>\n",
       "      <th>0</th>\n",
       "      <td>স্টাফ কিন্তু, আমাদের জন্য ভয়ঙ্কর ছিল।</td>\n",
       "      <td>negative</td>\n",
       "      <td>0.0</td>\n",
       "    </tr>\n",
       "    <tr>\n",
       "      <th>1</th>\n",
       "      <td>শুধুমাত্র,রিডামিং ফ্যাক্টর খাদ্য ছিল,পুরোপুরি ...</td>\n",
       "      <td>positive</td>\n",
       "      <td>1.0</td>\n",
       "    </tr>\n",
       "    <tr>\n",
       "      <th>2</th>\n",
       "      <td>শুধুমাত্র,রিডামিং ফ্যাক্টর খাদ্য ছিল,পুরোপুরি ...</td>\n",
       "      <td>negative</td>\n",
       "      <td>0.0</td>\n",
       "    </tr>\n",
       "    <tr>\n",
       "      <th>3</th>\n",
       "      <td>খাবার একদমই ব্যতিক্রমী, একটি খুব সক্ষম রান্নাঘ...</td>\n",
       "      <td>positive</td>\n",
       "      <td>1.0</td>\n",
       "    </tr>\n",
       "    <tr>\n",
       "      <th>4</th>\n",
       "      <td>যেখানে গাব্রিয়েলা লোকালি আপনাকে শুভেচ্ছা জানা...</td>\n",
       "      <td>positive</td>\n",
       "      <td>1.0</td>\n",
       "    </tr>\n",
       "  </tbody>\n",
       "</table>\n",
       "</div>"
      ],
      "text/plain": [
       "                                                text       Tag  sentiment\n",
       "0              স্টাফ কিন্তু, আমাদের জন্য ভয়ঙ্কর ছিল।  negative        0.0\n",
       "1  শুধুমাত্র,রিডামিং ফ্যাক্টর খাদ্য ছিল,পুরোপুরি ...  positive        1.0\n",
       "2  শুধুমাত্র,রিডামিং ফ্যাক্টর খাদ্য ছিল,পুরোপুরি ...  negative        0.0\n",
       "3  খাবার একদমই ব্যতিক্রমী, একটি খুব সক্ষম রান্নাঘ...  positive        1.0\n",
       "4  যেখানে গাব্রিয়েলা লোকালি আপনাকে শুভেচ্ছা জানা...  positive        1.0"
      ]
     },
     "metadata": {},
     "output_type": "display_data"
    }
   ],
   "source": [
    "# Define the mapping\n",
    "tag_mapping = {\n",
    "    \"negative\": 0,\n",
    "    \"positive\": 1,\n",
    "    \"neutral\": 2\n",
    "}\n",
    "\n",
    "# Create a new column with the mapped values\n",
    "df['sentiment'] = df['Tag'].map(tag_mapping)\n",
    "df.head(5)"
   ]
  },
  {
   "cell_type": "code",
   "execution_count": null,
   "id": "b141e6c2",
   "metadata": {},
   "outputs": [
    {
     "data": {
      "text/plain": [
       "text           0\n",
       "Tag            0\n",
       "sentiment    115\n",
       "dtype: int64"
      ]
     },
     "metadata": {},
     "output_type": "display_data"
    }
   ],
   "source": [
    "#check null values\n",
    "df.isnull().sum()"
   ]
  },
  {
   "cell_type": "code",
   "execution_count": null,
   "id": "96503192",
   "metadata": {},
   "outputs": [],
   "source": [
    "df.to_csv(\"processed_restaurant_data.csv\", index=False)\n"
   ]
  },
  {
   "cell_type": "markdown",
   "id": "45cee165",
   "metadata": {},
   "source": [
    "### EDA"
   ]
  },
  {
   "cell_type": "code",
   "execution_count": null,
   "id": "d84e70e0",
   "metadata": {},
   "outputs": [
    {
     "data": {
      "text/html": [
       "<div>\n",
       "<style scoped>\n",
       "    .dataframe tbody tr th:only-of-type {\n",
       "        vertical-align: middle;\n",
       "    }\n",
       "\n",
       "    .dataframe tbody tr th {\n",
       "        vertical-align: top;\n",
       "    }\n",
       "\n",
       "    .dataframe thead th {\n",
       "        text-align: right;\n",
       "    }\n",
       "</style>\n",
       "<table border=\"1\" class=\"dataframe\">\n",
       "  <thead>\n",
       "    <tr style=\"text-align: right;\">\n",
       "      <th></th>\n",
       "      <th>text</th>\n",
       "      <th>Tag</th>\n",
       "      <th>sentiment</th>\n",
       "    </tr>\n",
       "  </thead>\n",
       "  <tbody>\n",
       "    <tr>\n",
       "      <th>count</th>\n",
       "      <td>2059</td>\n",
       "      <td>2059</td>\n",
       "      <td>1944.0</td>\n",
       "    </tr>\n",
       "    <tr>\n",
       "      <th>unique</th>\n",
       "      <td>1714</td>\n",
       "      <td>4</td>\n",
       "      <td>3.0</td>\n",
       "    </tr>\n",
       "    <tr>\n",
       "      <th>top</th>\n",
       "      <td>আমি দরিদ্র পর্যালোচনা দ্বারা বিস্মিত am- আমি এ...</td>\n",
       "      <td>positive</td>\n",
       "      <td>1.0</td>\n",
       "    </tr>\n",
       "    <tr>\n",
       "      <th>freq</th>\n",
       "      <td>4</td>\n",
       "      <td>1221</td>\n",
       "      <td>1221.0</td>\n",
       "    </tr>\n",
       "  </tbody>\n",
       "</table>\n",
       "</div>"
      ],
      "text/plain": [
       "                                                     text       Tag  sentiment\n",
       "count                                                2059      2059     1944.0\n",
       "unique                                               1714         4        3.0\n",
       "top     আমি দরিদ্র পর্যালোচনা দ্বারা বিস্মিত am- আমি এ...  positive        1.0\n",
       "freq                                                    4      1221     1221.0"
      ]
     },
     "metadata": {},
     "output_type": "display_data"
    }
   ],
   "source": [
    "# Convert sentiment to a categorical type temporarily\n",
    "df['sentiment'] = df['sentiment'].astype('category')\n",
    "\n",
    "# Call describe again\n",
    "df.describe(include='all')"
   ]
  },
  {
   "cell_type": "code",
   "execution_count": null,
   "id": "32193faa",
   "metadata": {},
   "outputs": [
    {
     "data": {
      "text/html": [
       "<style type=\"text/css\">\n",
       "#T_36385_row0_col1 {\n",
       "  background-color: #dedded;\n",
       "  color: #000000;\n",
       "}\n",
       "#T_36385_row1_col1 {\n",
       "  background-color: #3f007d;\n",
       "  color: #f1f1f1;\n",
       "}\n",
       "#T_36385_row2_col1 {\n",
       "  background-color: #fcfbfd;\n",
       "  color: #000000;\n",
       "}\n",
       "</style>\n",
       "<table id=\"T_36385\">\n",
       "  <thead>\n",
       "    <tr>\n",
       "      <th class=\"blank level0\" >&nbsp;</th>\n",
       "      <th id=\"T_36385_level0_col0\" class=\"col_heading level0 col0\" >sentiment</th>\n",
       "      <th id=\"T_36385_level0_col1\" class=\"col_heading level0 col1\" >text</th>\n",
       "    </tr>\n",
       "  </thead>\n",
       "  <tbody>\n",
       "    <tr>\n",
       "      <th id=\"T_36385_level0_row0\" class=\"row_heading level0 row0\" >0</th>\n",
       "      <td id=\"T_36385_row0_col0\" class=\"data row0 col0\" >negative</td>\n",
       "      <td id=\"T_36385_row0_col1\" class=\"data row0 col1\" >472</td>\n",
       "    </tr>\n",
       "    <tr>\n",
       "      <th id=\"T_36385_level0_row1\" class=\"row_heading level0 row1\" >1</th>\n",
       "      <td id=\"T_36385_row1_col0\" class=\"data row1 col0\" >positive</td>\n",
       "      <td id=\"T_36385_row1_col1\" class=\"data row1 col1\" >1221</td>\n",
       "    </tr>\n",
       "    <tr>\n",
       "      <th id=\"T_36385_level0_row2\" class=\"row_heading level0 row2\" >2</th>\n",
       "      <td id=\"T_36385_row2_col0\" class=\"data row2 col0\" >neutral</td>\n",
       "      <td id=\"T_36385_row2_col1\" class=\"data row2 col1\" >251</td>\n",
       "    </tr>\n",
       "  </tbody>\n",
       "</table>\n"
      ],
      "text/plain": [
       "<pandas.io.formats.style.Styler at 0x1dd64838e10>"
      ]
     },
     "metadata": {},
     "output_type": "display_data"
    }
   ],
   "source": [
    "\n",
    "temp = df.groupby('sentiment').count()['text'].reset_index()\n",
    "\n",
    "\n",
    "sentiment_mapping = {0: 'negative', 1: 'positive', 2: 'neutral'}\n",
    "temp['sentiment'] = temp['sentiment'].map(sentiment_mapping)\n",
    "\n",
    "\n",
    "temp = temp.sort_values(by='sentiment')\n",
    "\n",
    "temp.style.background_gradient(cmap='Purples')"
   ]
  },
  {
   "cell_type": "code",
   "execution_count": null,
   "id": "7709cc98",
   "metadata": {},
   "outputs": [
    {
     "data": {
      "image/png": "[encoded data removed]",
      "text/plain": [
       "<Figure size 800x500 with 1 Axes>"
      ]
     },
     "metadata": {},
     "output_type": "display_data"
    }
   ],
   "source": [
    "\n",
    "plt.figure(figsize=(8, 5))\n",
    "sns.countplot(x='sentiment', data=df, palette='viridis')\n",
    "plt.title('Distribution of Types')\n",
    "plt.xlabel('sentiment')\n",
    "plt.ylabel('Count')\n",
    "plt.show()"
   ]
  },
  {
   "cell_type": "code",
   "execution_count": null,
   "id": "89e0572f",
   "metadata": {},
   "outputs": [
    {
     "data": {
      "image/png": "[encoded data removed]",
      "text/plain": [
       "<Figure size 1000x600 with 1 Axes>"
      ]
     },
     "metadata": {},
     "output_type": "display_data"
    }
   ],
   "source": [
    "plt.figure(figsize=(10, 6))\n",
    "sns.countplot(y='Tag', data=df, palette='viridis', order=df['Tag'].value_counts().index)\n",
    "plt.title('Distribution of Tags')\n",
    "plt.xlabel('Count')\n",
    "plt.ylabel('Tag')\n",
    "plt.show()"
   ]
  },
  {
   "cell_type": "code",
   "execution_count": null,
   "id": "76acc38e",
   "metadata": {},
   "outputs": [
    {
     "data": {
      "application/vnd.plotly.v1+json": {
       "config": {
        "plotlyServerURL": "https://plot.ly"
       },
       "data": [
        {
         "text": [
          "negative",
          "positive",
          "neutral"
         ],
         "title": {
          "position": "top center",
          "text": "Funnel-Chart of Sentiment Distribution"
         },
         "type": "funnelarea",
         "values": {
          "bdata": "2AHFBPsA",
          "dtype": "i2"
         }
        }
       ],
       "layout": {
        "template": {
         "data": {
          "bar": [
           {
            "error_x": {
             "color": "#2a3f5f"
            },
            "error_y": {
             "color": "#2a3f5f"
            },
            "marker": {
             "line": {
              "color": "#E5ECF6",
              "width": 0.5
             },
             "pattern": {
              "fillmode": "overlay",
              "size": 10,
              "solidity": 0.2
             }
            },
            "type": "bar"
           }
          ],
          "barpolar": [
           {
            "marker": {
             "line": {
              "color": "#E5ECF6",
              "width": 0.5
             },
             "pattern": {
              "fillmode": "overlay",
              "size": 10,
              "solidity": 0.2
             }
            },
            "type": "barpolar"
           }
          ],
          "carpet": [
           {
            "aaxis": {
             "endlinecolor": "#2a3f5f",
             "gridcolor": "white",
             "linecolor": "white",
             "minorgridcolor": "white",
             "startlinecolor": "#2a3f5f"
            },
            "baxis": {
             "endlinecolor": "#2a3f5f",
             "gridcolor": "white",
             "linecolor": "white",
             "minorgridcolor": "white",
             "startlinecolor": "#2a3f5f"
            },
            "type": "carpet"
           }
          ],
          "choropleth": [
           {
            "colorbar": {
             "outlinewidth": 0,
             "ticks": ""
            },
            "type": "choropleth"
           }
          ],
          "contour": [
           {
            "colorbar": {
             "outlinewidth": 0,
             "ticks": ""
            },
            "colorscale": [
             [
              0,
              "#0d0887"
             ],
             [
              0.1111111111111111,
              "#46039f"
             ],
             [
              0.2222222222222222,
              "#7201a8"
             ],
             [
              0.3333333333333333,
              "#9c179e"
             ],
             [
              0.4444444444444444,
              "#bd3786"
             ],
             [
              0.5555555555555556,
              "#d8576b"
             ],
             [
              0.6666666666666666,
              "#ed7953"
             ],
             [
              0.7777777777777778,
              "#fb9f3a"
             ],
             [
              0.8888888888888888,
              "#fdca26"
             ],
             [
              1,
              "#f0f921"
             ]
            ],
            "type": "contour"
           }
          ],
          "contourcarpet": [
           {
            "colorbar": {
             "outlinewidth": 0,
             "ticks": ""
            },
            "type": "contourcarpet"
           }
          ],
          "heatmap": [
           {
            "colorbar": {
             "outlinewidth": 0,
             "ticks": ""
            },
            "colorscale": [
             [
              0,
              "#0d0887"
             ],
             [
              0.1111111111111111,
              "#46039f"
             ],
             [
              0.2222222222222222,
              "#7201a8"
             ],
             [
              0.3333333333333333,
              "#9c179e"
             ],
             [
              0.4444444444444444,
              "#bd3786"
             ],
             [
              0.5555555555555556,
              "#d8576b"
             ],
             [
              0.6666666666666666,
              "#ed7953"
             ],
             [
              0.7777777777777778,
              "#fb9f3a"
             ],
             [
              0.8888888888888888,
              "#fdca26"
             ],
             [
              1,
              "#f0f921"
             ]
            ],
            "type": "heatmap"
           }
          ],
          "histogram": [
           {
            "marker": {
             "pattern": {
              "fillmode": "overlay",
              "size": 10,
              "solidity": 0.2
             }
            },
            "type": "histogram"
           }
          ],
          "histogram2d": [
           {
            "colorbar": {
             "outlinewidth": 0,
             "ticks": ""
            },
            "colorscale": [
             [
              0,
              "#0d0887"
             ],
             [
              0.1111111111111111,
              "#46039f"
             ],
             [
              0.2222222222222222,
              "#7201a8"
             ],
             [
              0.3333333333333333,
              "#9c179e"
             ],
             [
              0.4444444444444444,
              "#bd3786"
             ],
             [
              0.5555555555555556,
              "#d8576b"
             ],
             [
              0.6666666666666666,
              "#ed7953"
             ],
             [
              0.7777777777777778,
              "#fb9f3a"
             ],
             [
              0.8888888888888888,
              "#fdca26"
             ],
             [
              1,
              "#f0f921"
             ]
            ],
            "type": "histogram2d"
           }
          ],
          "histogram2dcontour": [
           {
            "colorbar": {
             "outlinewidth": 0,
             "ticks": ""
            },
            "colorscale": [
             [
              0,
              "#0d0887"
             ],
             [
              0.1111111111111111,
              "#46039f"
             ],
             [
              0.2222222222222222,
              "#7201a8"
             ],
             [
              0.3333333333333333,
              "#9c179e"
             ],
             [
              0.4444444444444444,
              "#bd3786"
             ],
             [
              0.5555555555555556,
              "#d8576b"
             ],
             [
              0.6666666666666666,
              "#ed7953"
             ],
             [
              0.7777777777777778,
              "#fb9f3a"
             ],
             [
              0.8888888888888888,
              "#fdca26"
             ],
             [
              1,
              "#f0f921"
             ]
            ],
            "type": "histogram2dcontour"
           }
          ],
          "mesh3d": [
           {
            "colorbar": {
             "outlinewidth": 0,
             "ticks": ""
            },
            "type": "mesh3d"
           }
          ],
          "parcoords": [
           {
            "line": {
             "colorbar": {
              "outlinewidth": 0,
              "ticks": ""
             }
            },
            "type": "parcoords"
           }
          ],
          "pie": [
           {
            "automargin": true,
            "type": "pie"
           }
          ],
          "scatter": [
           {
            "fillpattern": {
             "fillmode": "overlay",
             "size": 10,
             "solidity": 0.2
            },
            "type": "scatter"
           }
          ],
          "scatter3d": [
           {
            "line": {
             "colorbar": {
              "outlinewidth": 0,
              "ticks": ""
             }
            },
            "marker": {
             "colorbar": {
              "outlinewidth": 0,
              "ticks": ""
             }
            },
            "type": "scatter3d"
           }
          ],
          "scattercarpet": [
           {
            "marker": {
             "colorbar": {
              "outlinewidth": 0,
              "ticks": ""
             }
            },
            "type": "scattercarpet"
           }
          ],
          "scattergeo": [
           {
            "marker": {
             "colorbar": {
              "outlinewidth": 0,
              "ticks": ""
             }
            },
            "type": "scattergeo"
           }
          ],
          "scattergl": [
           {
            "marker": {
             "colorbar": {
              "outlinewidth": 0,
              "ticks": ""
             }
            },
            "type": "scattergl"
           }
          ],
          "scattermap": [
           {
            "marker": {
             "colorbar": {
              "outlinewidth": 0,
              "ticks": ""
             }
            },
            "type": "scattermap"
           }
          ],
          "scattermapbox": [
           {
            "marker": {
             "colorbar": {
              "outlinewidth": 0,
              "ticks": ""
             }
            },
            "type": "scattermapbox"
           }
          ],
          "scatterpolar": [
           {
            "marker": {
             "colorbar": {
              "outlinewidth": 0,
              "ticks": ""
             }
            },
            "type": "scatterpolar"
           }
          ],
          "scatterpolargl": [
           {
            "marker": {
             "colorbar": {
              "outlinewidth": 0,
              "ticks": ""
             }
            },
            "type": "scatterpolargl"
           }
          ],
          "scatterternary": [
           {
            "marker": {
             "colorbar": {
              "outlinewidth": 0,
              "ticks": ""
             }
            },
            "type": "scatterternary"
           }
          ],
          "surface": [
           {
            "colorbar": {
             "outlinewidth": 0,
             "ticks": ""
            },
            "colorscale": [
             [
              0,
              "#0d0887"
             ],
             [
              0.1111111111111111,
              "#46039f"
             ],
             [
              0.2222222222222222,
              "#7201a8"
             ],
             [
              0.3333333333333333,
              "#9c179e"
             ],
             [
              0.4444444444444444,
              "#bd3786"
             ],
             [
              0.5555555555555556,
              "#d8576b"
             ],
             [
              0.6666666666666666,
              "#ed7953"
             ],
             [
              0.7777777777777778,
              "#fb9f3a"
             ],
             [
              0.8888888888888888,
              "#fdca26"
             ],
             [
              1,
              "#f0f921"
             ]
            ],
            "type": "surface"
           }
          ],
          "table": [
           {
            "cells": {
             "fill": {
              "color": "#EBF0F8"
             },
             "line": {
              "color": "white"
             }
            },
            "header": {
             "fill": {
              "color": "#C8D4E3"
             },
             "line": {
              "color": "white"
             }
            },
            "type": "table"
           }
          ]
         },
         "layout": {
          "annotationdefaults": {
           "arrowcolor": "#2a3f5f",
           "arrowhead": 0,
           "arrowwidth": 1
          },
          "autotypenumbers": "strict",
          "coloraxis": {
           "colorbar": {
            "outlinewidth": 0,
            "ticks": ""
           }
          },
          "colorscale": {
           "diverging": [
            [
             0,
             "#8e0152"
            ],
            [
             0.1,
             "#c51b7d"
            ],
            [
             0.2,
             "#de77ae"
            ],
            [
             0.3,
             "#f1b6da"
            ],
            [
             0.4,
             "#fde0ef"
            ],
            [
             0.5,
             "#f7f7f7"
            ],
            [
             0.6,
             "#e6f5d0"
            ],
            [
             0.7,
             "#b8e186"
            ],
            [
             0.8,
             "#7fbc41"
            ],
            [
             0.9,
             "#4d9221"
            ],
            [
             1,
             "#276419"
            ]
           ],
           "sequential": [
            [
             0,
             "#0d0887"
            ],
            [
             0.1111111111111111,
             "#46039f"
            ],
            [
             0.2222222222222222,
             "#7201a8"
            ],
            [
             0.3333333333333333,
             "#9c179e"
            ],
            [
             0.4444444444444444,
             "#bd3786"
            ],
            [
             0.5555555555555556,
             "#d8576b"
            ],
            [
             0.6666666666666666,
             "#ed7953"
            ],
            [
             0.7777777777777778,
             "#fb9f3a"
            ],
            [
             0.8888888888888888,
             "#fdca26"
            ],
            [
             1,
             "#f0f921"
            ]
           ],
           "sequentialminus": [
            [
             0,
             "#0d0887"
            ],
            [
             0.1111111111111111,
             "#46039f"
            ],
            [
             0.2222222222222222,
             "#7201a8"
            ],
            [
             0.3333333333333333,
             "#9c179e"
            ],
            [
             0.4444444444444444,
             "#bd3786"
            ],
            [
             0.5555555555555556,
             "#d8576b"
            ],
            [
             0.6666666666666666,
             "#ed7953"
            ],
            [
             0.7777777777777778,
             "#fb9f3a"
            ],
            [
             0.8888888888888888,
             "#fdca26"
            ],
            [
             1,
             "#f0f921"
            ]
           ]
          },
          "colorway": [
           "#636efa",
           "#EF553B",
           "#00cc96",
           "#ab63fa",
           "#FFA15A",
           "#19d3f3",
           "#FF6692",
           "#B6E880",
           "#FF97FF",
           "#FECB52"
          ],
          "font": {
           "color": "#2a3f5f"
          },
          "geo": {
           "bgcolor": "white",
           "lakecolor": "white",
           "landcolor": "#E5ECF6",
           "showlakes": true,
           "showland": true,
           "subunitcolor": "white"
          },
          "hoverlabel": {
           "align": "left"
          },
          "hovermode": "closest",
          "mapbox": {
           "style": "light"
          },
          "paper_bgcolor": "white",
          "plot_bgcolor": "#E5ECF6",
          "polar": {
           "angularaxis": {
            "gridcolor": "white",
            "linecolor": "white",
            "ticks": ""
           },
           "bgcolor": "#E5ECF6",
           "radialaxis": {
            "gridcolor": "white",
            "linecolor": "white",
            "ticks": ""
           }
          },
          "scene": {
           "xaxis": {
            "backgroundcolor": "#E5ECF6",
            "gridcolor": "white",
            "gridwidth": 2,
            "linecolor": "white",
            "showbackground": true,
            "ticks": "",
            "zerolinecolor": "white"
           },
           "yaxis": {
            "backgroundcolor": "#E5ECF6",
            "gridcolor": "white",
            "gridwidth": 2,
            "linecolor": "white",
            "showbackground": true,
            "ticks": "",
            "zerolinecolor": "white"
           },
           "zaxis": {
            "backgroundcolor": "#E5ECF6",
            "gridcolor": "white",
            "gridwidth": 2,
            "linecolor": "white",
            "showbackground": true,
            "ticks": "",
            "zerolinecolor": "white"
           }
          },
          "shapedefaults": {
           "line": {
            "color": "#2a3f5f"
           }
          },
          "ternary": {
           "aaxis": {
            "gridcolor": "white",
            "linecolor": "white",
            "ticks": ""
           },
           "baxis": {
            "gridcolor": "white",
            "linecolor": "white",
            "ticks": ""
           },
           "bgcolor": "#E5ECF6",
           "caxis": {
            "gridcolor": "white",
            "linecolor": "white",
            "ticks": ""
           }
          },
          "title": {
           "x": 0.05
          },
          "xaxis": {
           "automargin": true,
           "gridcolor": "white",
           "linecolor": "white",
           "ticks": "",
           "title": {
            "standoff": 15
           },
           "zerolinecolor": "white",
           "zerolinewidth": 2
          },
          "yaxis": {
           "automargin": true,
           "gridcolor": "white",
           "linecolor": "white",
           "ticks": "",
           "title": {
            "standoff": 15
           },
           "zerolinecolor": "white",
           "zerolinewidth": 2
          }
         }
        }
       }
      }
     },
     "metadata": {},
     "output_type": "display_data"
    }
   ],
   "source": [
    "from plotly import graph_objs as go\n",
    "\n",
    "fig = go.Figure(go.Funnelarea(\n",
    "    text=temp.sentiment,\n",
    "    values=temp.text,\n",
    "    title={\"position\": \"top center\", \"text\": \"Funnel-Chart of Sentiment Distribution\"}\n",
    "))\n",
    "fig.show()"
   ]
  },
  {
   "cell_type": "markdown",
   "id": "c6809370",
   "metadata": {},
   "source": [
    "#### Most common WOrds"
   ]
  },
  {
   "cell_type": "code",
   "execution_count": null,
   "id": "cfa29282",
   "metadata": {},
   "outputs": [
    {
     "data": {
      "text/html": [
       "<style type=\"text/css\">\n",
       "#T_660a1_row0_col1 {\n",
       "  background-color: #08306b;\n",
       "  color: #f1f1f1;\n",
       "}\n",
       "#T_660a1_row1_col1 {\n",
       "  background-color: #5ba3d0;\n",
       "  color: #f1f1f1;\n",
       "}\n",
       "#T_660a1_row2_col1 {\n",
       "  background-color: #81badb;\n",
       "  color: #000000;\n",
       "}\n",
       "#T_660a1_row3_col1 {\n",
       "  background-color: #b4d3e9;\n",
       "  color: #000000;\n",
       "}\n",
       "#T_660a1_row4_col1, #T_660a1_row5_col1 {\n",
       "  background-color: #cbdef1;\n",
       "  color: #000000;\n",
       "}\n",
       "#T_660a1_row6_col1 {\n",
       "  background-color: #cde0f1;\n",
       "  color: #000000;\n",
       "}\n",
       "#T_660a1_row7_col1 {\n",
       "  background-color: #d8e7f5;\n",
       "  color: #000000;\n",
       "}\n",
       "#T_660a1_row8_col1 {\n",
       "  background-color: #deebf7;\n",
       "  color: #000000;\n",
       "}\n",
       "#T_660a1_row9_col1, #T_660a1_row10_col1 {\n",
       "  background-color: #e1edf8;\n",
       "  color: #000000;\n",
       "}\n",
       "#T_660a1_row11_col1 {\n",
       "  background-color: #e2edf8;\n",
       "  color: #000000;\n",
       "}\n",
       "#T_660a1_row12_col1 {\n",
       "  background-color: #e8f1fa;\n",
       "  color: #000000;\n",
       "}\n",
       "#T_660a1_row13_col1 {\n",
       "  background-color: #e9f2fa;\n",
       "  color: #000000;\n",
       "}\n",
       "#T_660a1_row14_col1 {\n",
       "  background-color: #eaf2fb;\n",
       "  color: #000000;\n",
       "}\n",
       "#T_660a1_row15_col1 {\n",
       "  background-color: #f2f7fd;\n",
       "  color: #000000;\n",
       "}\n",
       "#T_660a1_row16_col1 {\n",
       "  background-color: #f3f8fe;\n",
       "  color: #000000;\n",
       "}\n",
       "#T_660a1_row17_col1, #T_660a1_row18_col1 {\n",
       "  background-color: #f5fafe;\n",
       "  color: #000000;\n",
       "}\n",
       "#T_660a1_row19_col1 {\n",
       "  background-color: #f7fbff;\n",
       "  color: #000000;\n",
       "}\n",
       "</style>\n",
       "<table id=\"T_660a1\">\n",
       "  <thead>\n",
       "    <tr>\n",
       "      <th class=\"blank level0\" >&nbsp;</th>\n",
       "      <th id=\"T_660a1_level0_col0\" class=\"col_heading level0 col0\" >Common_words</th>\n",
       "      <th id=\"T_660a1_level0_col1\" class=\"col_heading level0 col1\" >count</th>\n",
       "    </tr>\n",
       "  </thead>\n",
       "  <tbody>\n",
       "    <tr>\n",
       "      <th id=\"T_660a1_level0_row0\" class=\"row_heading level0 row0\" >0</th>\n",
       "      <td id=\"T_660a1_row0_col0\" class=\"data row0 col0\" >এবং</td>\n",
       "      <td id=\"T_660a1_row0_col1\" class=\"data row0 col1\" >875</td>\n",
       "    </tr>\n",
       "    <tr>\n",
       "      <th id=\"T_660a1_level0_row1\" class=\"row_heading level0 row1\" >1</th>\n",
       "      <td id=\"T_660a1_row1_col0\" class=\"data row1 col0\" >একটি</td>\n",
       "      <td id=\"T_660a1_row1_col1\" class=\"data row1 col1\" >538</td>\n",
       "    </tr>\n",
       "    <tr>\n",
       "      <th id=\"T_660a1_level0_row2\" class=\"row_heading level0 row2\" >2</th>\n",
       "      <td id=\"T_660a1_row2_col0\" class=\"data row2 col0\" >আমি</td>\n",
       "      <td id=\"T_660a1_row2_col1\" class=\"data row2 col1\" >464</td>\n",
       "    </tr>\n",
       "    <tr>\n",
       "      <th id=\"T_660a1_level0_row3\" class=\"row_heading level0 row3\" >3</th>\n",
       "      <td id=\"T_660a1_row3_col0\" class=\"data row3 col0\" >জন্য</td>\n",
       "      <td id=\"T_660a1_row3_col1\" class=\"data row3 col1\" >357</td>\n",
       "    </tr>\n",
       "    <tr>\n",
       "      <th id=\"T_660a1_level0_row4\" class=\"row_heading level0 row4\" >4</th>\n",
       "      <td id=\"T_660a1_row4_col0\" class=\"data row4 col0\" >ভাল</td>\n",
       "      <td id=\"T_660a1_row4_col1\" class=\"data row4 col1\" >297</td>\n",
       "    </tr>\n",
       "    <tr>\n",
       "      <th id=\"T_660a1_level0_row5\" class=\"row_heading level0 row5\" >5</th>\n",
       "      <td id=\"T_660a1_row5_col0\" class=\"data row5 col0\" >ছিল</td>\n",
       "      <td id=\"T_660a1_row5_col1\" class=\"data row5 col1\" >296</td>\n",
       "    </tr>\n",
       "    <tr>\n",
       "      <th id=\"T_660a1_level0_row6\" class=\"row_heading level0 row6\" >6</th>\n",
       "      <td id=\"T_660a1_row6_col0\" class=\"data row6 col0\" >এটি</td>\n",
       "      <td id=\"T_660a1_row6_col1\" class=\"data row6 col1\" >289</td>\n",
       "    </tr>\n",
       "    <tr>\n",
       "      <th id=\"T_660a1_level0_row7\" class=\"row_heading level0 row7\" >7</th>\n",
       "      <td id=\"T_660a1_row7_col0\" class=\"data row7 col0\" >।</td>\n",
       "      <td id=\"T_660a1_row7_col1\" class=\"data row7 col1\" >248</td>\n",
       "    </tr>\n",
       "    <tr>\n",
       "      <th id=\"T_660a1_level0_row8\" class=\"row_heading level0 row8\" >8</th>\n",
       "      <td id=\"T_660a1_row8_col0\" class=\"data row8 col0\" >এই</td>\n",
       "      <td id=\"T_660a1_row8_col1\" class=\"data row8 col1\" >226</td>\n",
       "    </tr>\n",
       "    <tr>\n",
       "      <th id=\"T_660a1_level0_row9\" class=\"row_heading level0 row9\" >9</th>\n",
       "      <td id=\"T_660a1_row9_col0\" class=\"data row9 col0\" >আমার</td>\n",
       "      <td id=\"T_660a1_row9_col1\" class=\"data row9 col1\" >213</td>\n",
       "    </tr>\n",
       "    <tr>\n",
       "      <th id=\"T_660a1_level0_row10\" class=\"row_heading level0 row10\" >10</th>\n",
       "      <td id=\"T_660a1_row10_col0\" class=\"data row10 col0\" >আপনি</td>\n",
       "      <td id=\"T_660a1_row10_col1\" class=\"data row10 col1\" >212</td>\n",
       "    </tr>\n",
       "    <tr>\n",
       "      <th id=\"T_660a1_level0_row11\" class=\"row_heading level0 row11\" >11</th>\n",
       "      <td id=\"T_660a1_row11_col0\" class=\"data row11 col0\" >আমরা</td>\n",
       "      <td id=\"T_660a1_row11_col1\" class=\"data row11 col1\" >209</td>\n",
       "    </tr>\n",
       "    <tr>\n",
       "      <th id=\"T_660a1_level0_row12\" class=\"row_heading level0 row12\" >12</th>\n",
       "      <td id=\"T_660a1_row12_col0\" class=\"data row12 col0\" >খাদ্য</td>\n",
       "      <td id=\"T_660a1_row12_col1\" class=\"data row12 col1\" >188</td>\n",
       "    </tr>\n",
       "    <tr>\n",
       "      <th id=\"T_660a1_level0_row13\" class=\"row_heading level0 row13\" >13</th>\n",
       "      <td id=\"T_660a1_row13_col0\" class=\"data row13 col0\" >খুব</td>\n",
       "      <td id=\"T_660a1_row13_col1\" class=\"data row13 col1\" >183</td>\n",
       "    </tr>\n",
       "    <tr>\n",
       "      <th id=\"T_660a1_level0_row14\" class=\"row_heading level0 row14\" >14</th>\n",
       "      <td id=\"T_660a1_row14_col0\" class=\"data row14 col0\" >কিন্তু</td>\n",
       "      <td id=\"T_660a1_row14_col1\" class=\"data row14 col1\" >182</td>\n",
       "    </tr>\n",
       "    <tr>\n",
       "      <th id=\"T_660a1_level0_row15\" class=\"row_heading level0 row15\" >15</th>\n",
       "      <td id=\"T_660a1_row15_col0\" class=\"data row15 col0\" >না</td>\n",
       "      <td id=\"T_660a1_row15_col1\" class=\"data row15 col1\" >153</td>\n",
       "    </tr>\n",
       "    <tr>\n",
       "      <th id=\"T_660a1_level0_row16\" class=\"row_heading level0 row16\" >16</th>\n",
       "      <td id=\"T_660a1_row16_col0\" class=\"data row16 col0\" >আমাদের</td>\n",
       "      <td id=\"T_660a1_row16_col1\" class=\"data row16 col1\" >145</td>\n",
       "    </tr>\n",
       "    <tr>\n",
       "      <th id=\"T_660a1_level0_row17\" class=\"row_heading level0 row17\" >17</th>\n",
       "      <td id=\"T_660a1_row17_col0\" class=\"data row17 col0\" >যে</td>\n",
       "      <td id=\"T_660a1_row17_col1\" class=\"data row17 col1\" >138</td>\n",
       "    </tr>\n",
       "    <tr>\n",
       "      <th id=\"T_660a1_level0_row18\" class=\"row_heading level0 row18\" >18</th>\n",
       "      <td id=\"T_660a1_row18_col0\" class=\"data row18 col0\" >সেবা</td>\n",
       "      <td id=\"T_660a1_row18_col1\" class=\"data row18 col1\" >138</td>\n",
       "    </tr>\n",
       "    <tr>\n",
       "      <th id=\"T_660a1_level0_row19\" class=\"row_heading level0 row19\" >19</th>\n",
       "      <td id=\"T_660a1_row19_col0\" class=\"data row19 col0\" >তারা</td>\n",
       "      <td id=\"T_660a1_row19_col1\" class=\"data row19 col1\" >130</td>\n",
       "    </tr>\n",
       "  </tbody>\n",
       "</table>\n"
      ],
      "text/plain": [
       "<pandas.io.formats.style.Styler at 0x1dd65564890>"
      ]
     },
     "metadata": {},
     "output_type": "display_data"
    }
   ],
   "source": [
    "from collections import Counter\n",
    "\n",
    "df['temp_list'] = df['text'].apply(lambda x:str(x).split())\n",
    "top = Counter([item for sublist in df['temp_list'] for item in sublist])\n",
    "temp = pd.DataFrame(top.most_common(20))\n",
    "temp.columns = ['Common_words','count']\n",
    "temp.style.background_gradient(cmap='Blues')"
   ]
  },
  {
   "cell_type": "code",
   "execution_count": null,
   "id": "1e9bfc28",
   "metadata": {},
   "outputs": [],
   "source": [
    "df['temp_list'] = df['text'].apply(lambda x: str(x).split())\n",
    "def remove_stopword(x):\n",
    "    return [y for y in x if y not in stopwords.words('bengali')]\n",
    "df['temp_list'] = df['temp_list'].apply(remove_stopword)"
   ]
  },
  {
   "cell_type": "code",
   "execution_count": null,
   "id": "a581d646",
   "metadata": {},
   "outputs": [],
   "source": [
    "# Remove punctuation\n",
    "def remove_punctuation(temp_list):\n",
    "    return [re.sub(r'[“”\"\\'।।.,!?()\\[\\]{}<>;:।‘’–—…]', '', word) for word in temp_list]\n",
    "\n",
    "df['temp_list'] = df['temp_list'].apply(remove_punctuation)"
   ]
  },
  {
   "cell_type": "markdown",
   "id": "231859e3",
   "metadata": {},
   "source": [
    "#### Most common words after removing stopwords"
   ]
  },
  {
   "cell_type": "code",
   "execution_count": null,
   "id": "8f13f224",
   "metadata": {},
   "outputs": [],
   "source": [
    "def remove_space(x):\n",
    "    return [y for y in x if y != '']\n",
    "df['temp_list'] = df['temp_list'].apply(remove_space)"
   ]
  },
  {
   "cell_type": "code",
   "execution_count": null,
   "id": "5d3ae7e2",
   "metadata": {},
   "outputs": [
    {
     "data": {
      "text/html": [
       "<style type=\"text/css\">\n",
       "#T_e7232_row0_col1 {\n",
       "  background-color: #08306b;\n",
       "  color: #f1f1f1;\n",
       "}\n",
       "#T_e7232_row1_col1 {\n",
       "  background-color: #4997c9;\n",
       "  color: #f1f1f1;\n",
       "}\n",
       "#T_e7232_row2_col1 {\n",
       "  background-color: #5da5d1;\n",
       "  color: #f1f1f1;\n",
       "}\n",
       "#T_e7232_row3_col1 {\n",
       "  background-color: #a4cce3;\n",
       "  color: #000000;\n",
       "}\n",
       "#T_e7232_row4_col1 {\n",
       "  background-color: #aed1e7;\n",
       "  color: #000000;\n",
       "}\n",
       "#T_e7232_row5_col1 {\n",
       "  background-color: #bcd7eb;\n",
       "  color: #000000;\n",
       "}\n",
       "#T_e7232_row6_col1 {\n",
       "  background-color: #d0e2f2;\n",
       "  color: #000000;\n",
       "}\n",
       "#T_e7232_row7_col1, #T_e7232_row8_col1 {\n",
       "  background-color: #d5e5f4;\n",
       "  color: #000000;\n",
       "}\n",
       "#T_e7232_row9_col1 {\n",
       "  background-color: #d6e5f4;\n",
       "  color: #000000;\n",
       "}\n",
       "#T_e7232_row10_col1 {\n",
       "  background-color: #dce9f6;\n",
       "  color: #000000;\n",
       "}\n",
       "#T_e7232_row11_col1 {\n",
       "  background-color: #e2edf8;\n",
       "  color: #000000;\n",
       "}\n",
       "#T_e7232_row12_col1 {\n",
       "  background-color: #e3eef8;\n",
       "  color: #000000;\n",
       "}\n",
       "#T_e7232_row13_col1 {\n",
       "  background-color: #e8f1fa;\n",
       "  color: #000000;\n",
       "}\n",
       "#T_e7232_row14_col1 {\n",
       "  background-color: #f2f8fd;\n",
       "  color: #000000;\n",
       "}\n",
       "#T_e7232_row15_col1, #T_e7232_row16_col1, #T_e7232_row17_col1, #T_e7232_row18_col1 {\n",
       "  background-color: #f6faff;\n",
       "  color: #000000;\n",
       "}\n",
       "#T_e7232_row19_col1 {\n",
       "  background-color: #f7fbff;\n",
       "  color: #000000;\n",
       "}\n",
       "</style>\n",
       "<table id=\"T_e7232\">\n",
       "  <thead>\n",
       "    <tr>\n",
       "      <th class=\"blank level0\" >&nbsp;</th>\n",
       "      <th id=\"T_e7232_level0_col0\" class=\"col_heading level0 col0\" >Common_words</th>\n",
       "      <th id=\"T_e7232_level0_col1\" class=\"col_heading level0 col1\" >count</th>\n",
       "    </tr>\n",
       "  </thead>\n",
       "  <tbody>\n",
       "    <tr>\n",
       "      <th id=\"T_e7232_level0_row0\" class=\"row_heading level0 row0\" >0</th>\n",
       "      <td id=\"T_e7232_row0_col0\" class=\"data row0 col0\" >ভাল</td>\n",
       "      <td id=\"T_e7232_row0_col1\" class=\"data row0 col1\" >325</td>\n",
       "    </tr>\n",
       "    <tr>\n",
       "      <th id=\"T_e7232_level0_row1\" class=\"row_heading level0 row1\" >1</th>\n",
       "      <td id=\"T_e7232_row1_col0\" class=\"data row1 col0\" >খাদ্য</td>\n",
       "      <td id=\"T_e7232_row1_col1\" class=\"data row1 col1\" >218</td>\n",
       "    </tr>\n",
       "    <tr>\n",
       "      <th id=\"T_e7232_level0_row2\" class=\"row_heading level0 row2\" >2</th>\n",
       "      <td id=\"T_e7232_row2_col0\" class=\"data row2 col0\" >ছিল</td>\n",
       "      <td id=\"T_e7232_row2_col1\" class=\"data row2 col1\" >201</td>\n",
       "    </tr>\n",
       "    <tr>\n",
       "      <th id=\"T_e7232_level0_row3\" class=\"row_heading level0 row3\" >3</th>\n",
       "      <td id=\"T_e7232_row3_col0\" class=\"data row3 col0\" >সেবা</td>\n",
       "      <td id=\"T_e7232_row3_col1\" class=\"data row3 col1\" >152</td>\n",
       "    </tr>\n",
       "    <tr>\n",
       "      <th id=\"T_e7232_level0_row4\" class=\"row_heading level0 row4\" >4</th>\n",
       "      <td id=\"T_e7232_row4_col0\" class=\"data row4 col0\" >খাবার</td>\n",
       "      <td id=\"T_e7232_row4_col1\" class=\"data row4 col1\" >143</td>\n",
       "    </tr>\n",
       "    <tr>\n",
       "      <th id=\"T_e7232_level0_row5\" class=\"row_heading level0 row5\" >5</th>\n",
       "      <td id=\"T_e7232_row5_col0\" class=\"data row5 col0\" >না</td>\n",
       "      <td id=\"T_e7232_row5_col1\" class=\"data row5 col1\" >131</td>\n",
       "    </tr>\n",
       "    <tr>\n",
       "      <th id=\"T_e7232_level0_row6\" class=\"row_heading level0 row6\" >6</th>\n",
       "      <td id=\"T_e7232_row6_col0\" class=\"data row6 col0\" >চমৎকার</td>\n",
       "      <td id=\"T_e7232_row6_col1\" class=\"data row6 col1\" >108</td>\n",
       "    </tr>\n",
       "    <tr>\n",
       "      <th id=\"T_e7232_level0_row7\" class=\"row_heading level0 row7\" >7</th>\n",
       "      <td id=\"T_e7232_row7_col0\" class=\"data row7 col0\" >সুস্বাদু</td>\n",
       "      <td id=\"T_e7232_row7_col1\" class=\"data row7 col1\" >102</td>\n",
       "    </tr>\n",
       "    <tr>\n",
       "      <th id=\"T_e7232_level0_row8\" class=\"row_heading level0 row8\" >8</th>\n",
       "      <td id=\"T_e7232_row8_col0\" class=\"data row8 col0\" >-</td>\n",
       "      <td id=\"T_e7232_row8_col1\" class=\"data row8 col1\" >102</td>\n",
       "    </tr>\n",
       "    <tr>\n",
       "      <th id=\"T_e7232_level0_row9\" class=\"row_heading level0 row9\" >9</th>\n",
       "      <td id=\"T_e7232_row9_col0\" class=\"data row9 col0\" >মহান</td>\n",
       "      <td id=\"T_e7232_row9_col1\" class=\"data row9 col1\" >101</td>\n",
       "    </tr>\n",
       "    <tr>\n",
       "      <th id=\"T_e7232_level0_row10\" class=\"row_heading level0 row10\" >10</th>\n",
       "      <td id=\"T_e7232_row10_col0\" class=\"data row10 col0\" >জায়গা</td>\n",
       "      <td id=\"T_e7232_row10_col1\" class=\"data row10 col1\" >92</td>\n",
       "    </tr>\n",
       "    <tr>\n",
       "      <th id=\"T_e7232_level0_row11\" class=\"row_heading level0 row11\" >11</th>\n",
       "      <td id=\"T_e7232_row11_col0\" class=\"data row11 col0\" >হয়</td>\n",
       "      <td id=\"T_e7232_row11_col1\" class=\"data row11 col1\" >84</td>\n",
       "    </tr>\n",
       "    <tr>\n",
       "      <th id=\"T_e7232_level0_row12\" class=\"row_heading level0 row12\" >12</th>\n",
       "      <td id=\"T_e7232_row12_col0\" class=\"data row12 col0\" >রেস্টুরেন্ট</td>\n",
       "      <td id=\"T_e7232_row12_col1\" class=\"data row12 col1\" >83</td>\n",
       "    </tr>\n",
       "    <tr>\n",
       "      <th id=\"T_e7232_level0_row13\" class=\"row_heading level0 row13\" >13</th>\n",
       "      <td id=\"T_e7232_row13_col0\" class=\"data row13 col0\" >ছিলাম</td>\n",
       "      <td id=\"T_e7232_row13_col1\" class=\"data row13 col1\" >76</td>\n",
       "    </tr>\n",
       "    <tr>\n",
       "      <th id=\"T_e7232_level0_row14\" class=\"row_heading level0 row14\" >14</th>\n",
       "      <td id=\"T_e7232_row14_col0\" class=\"data row14 col0\" >বন্ধুত্বপূর্ণ</td>\n",
       "      <td id=\"T_e7232_row14_col1\" class=\"data row14 col1\" >62</td>\n",
       "    </tr>\n",
       "    <tr>\n",
       "      <th id=\"T_e7232_level0_row15\" class=\"row_heading level0 row15\" >15</th>\n",
       "      <td id=\"T_e7232_row15_col0\" class=\"data row15 col0\" >সত্যিই</td>\n",
       "      <td id=\"T_e7232_row15_col1\" class=\"data row15 col1\" >57</td>\n",
       "    </tr>\n",
       "    <tr>\n",
       "      <th id=\"T_e7232_level0_row16\" class=\"row_heading level0 row16\" >16</th>\n",
       "      <td id=\"T_e7232_row16_col0\" class=\"data row16 col0\" >ওয়াইন</td>\n",
       "      <td id=\"T_e7232_row16_col1\" class=\"data row16 col1\" >57</td>\n",
       "    </tr>\n",
       "    <tr>\n",
       "      <th id=\"T_e7232_level0_row17\" class=\"row_heading level0 row17\" >17</th>\n",
       "      <td id=\"T_e7232_row17_col0\" class=\"data row17 col0\" >মূল্য</td>\n",
       "      <td id=\"T_e7232_row17_col1\" class=\"data row17 col1\" >57</td>\n",
       "    </tr>\n",
       "    <tr>\n",
       "      <th id=\"T_e7232_level0_row18\" class=\"row_heading level0 row18\" >18</th>\n",
       "      <td id=\"T_e7232_row18_col0\" class=\"data row18 col0\" >খাবারের</td>\n",
       "      <td id=\"T_e7232_row18_col1\" class=\"data row18 col1\" >57</td>\n",
       "    </tr>\n",
       "    <tr>\n",
       "      <th id=\"T_e7232_level0_row19\" class=\"row_heading level0 row19\" >19</th>\n",
       "      <td id=\"T_e7232_row19_col0\" class=\"data row19 col0\" >সেরা</td>\n",
       "      <td id=\"T_e7232_row19_col1\" class=\"data row19 col1\" >55</td>\n",
       "    </tr>\n",
       "  </tbody>\n",
       "</table>\n"
      ],
      "text/plain": [
       "<pandas.io.formats.style.Styler at 0x1dd6a862bd0>"
      ]
     },
     "metadata": {},
     "output_type": "display_data"
    }
   ],
   "source": [
    "top = Counter([item for sublist in df['temp_list'] for item in sublist])\n",
    "temp = pd.DataFrame(top.most_common(20))\n",
    "temp.columns = ['Common_words','count']\n",
    "temp.style.background_gradient(cmap='Blues')"
   ]
  },
  {
   "cell_type": "markdown",
   "id": "4627ac09",
   "metadata": {},
   "source": [
    "#### Most common words Sentiments Wise"
   ]
  },
  {
   "cell_type": "code",
   "execution_count": null,
   "id": "a596088e",
   "metadata": {},
   "outputs": [
    {
     "data": {
      "text/html": [
       "<div>\n",
       "<style scoped>\n",
       "    .dataframe tbody tr th:only-of-type {\n",
       "        vertical-align: middle;\n",
       "    }\n",
       "\n",
       "    .dataframe tbody tr th {\n",
       "        vertical-align: top;\n",
       "    }\n",
       "\n",
       "    .dataframe thead th {\n",
       "        text-align: right;\n",
       "    }\n",
       "</style>\n",
       "<table border=\"1\" class=\"dataframe\">\n",
       "  <thead>\n",
       "    <tr style=\"text-align: right;\">\n",
       "      <th></th>\n",
       "      <th>text</th>\n",
       "      <th>Tag</th>\n",
       "      <th>sentiment</th>\n",
       "      <th>temp_list</th>\n",
       "    </tr>\n",
       "  </thead>\n",
       "  <tbody>\n",
       "    <tr>\n",
       "      <th>0</th>\n",
       "      <td>স্টাফ কিন্তু, আমাদের জন্য ভয়ঙ্কর ছিল।</td>\n",
       "      <td>negative</td>\n",
       "      <td>0.0</td>\n",
       "      <td>[স্টাফ, কিন্তু, ভয়ঙ্কর, ছিল]</td>\n",
       "    </tr>\n",
       "    <tr>\n",
       "      <th>1</th>\n",
       "      <td>শুধুমাত্র,রিডামিং ফ্যাক্টর খাদ্য ছিল,পুরোপুরি ...</td>\n",
       "      <td>positive</td>\n",
       "      <td>1.0</td>\n",
       "      <td>[শুধুমাত্ররিডামিং, ফ্যাক্টর, খাদ্য, ছিলপুরোপুর...</td>\n",
       "    </tr>\n",
       "    <tr>\n",
       "      <th>2</th>\n",
       "      <td>শুধুমাত্র,রিডামিং ফ্যাক্টর খাদ্য ছিল,পুরোপুরি ...</td>\n",
       "      <td>negative</td>\n",
       "      <td>0.0</td>\n",
       "      <td>[শুধুমাত্ররিডামিং, ফ্যাক্টর, খাদ্য, ছিলপুরোপুর...</td>\n",
       "    </tr>\n",
       "    <tr>\n",
       "      <th>3</th>\n",
       "      <td>খাবার একদমই ব্যতিক্রমী, একটি খুব সক্ষম রান্নাঘ...</td>\n",
       "      <td>positive</td>\n",
       "      <td>1.0</td>\n",
       "      <td>[খাবার, একদমই, ব্যতিক্রমী, সক্ষম, রান্নাঘর, গর...</td>\n",
       "    </tr>\n",
       "    <tr>\n",
       "      <th>4</th>\n",
       "      <td>যেখানে গাব্রিয়েলা লোকালি আপনাকে শুভেচ্ছা জানা...</td>\n",
       "      <td>positive</td>\n",
       "      <td>1.0</td>\n",
       "      <td>[গাব্রিয়েলা, লোকালি, আপনাকে, শুভেচ্ছা, জানায়...</td>\n",
       "    </tr>\n",
       "  </tbody>\n",
       "</table>\n",
       "</div>"
      ],
      "text/plain": [
       "                                                text       Tag sentiment  \\\n",
       "0              স্টাফ কিন্তু, আমাদের জন্য ভয়ঙ্কর ছিল।  negative       0.0   \n",
       "1  শুধুমাত্র,রিডামিং ফ্যাক্টর খাদ্য ছিল,পুরোপুরি ...  positive       1.0   \n",
       "2  শুধুমাত্র,রিডামিং ফ্যাক্টর খাদ্য ছিল,পুরোপুরি ...  negative       0.0   \n",
       "3  খাবার একদমই ব্যতিক্রমী, একটি খুব সক্ষম রান্নাঘ...  positive       1.0   \n",
       "4  যেখানে গাব্রিয়েলা লোকালি আপনাকে শুভেচ্ছা জানা...  positive       1.0   \n",
       "\n",
       "                                           temp_list  \n",
       "0                       [স্টাফ, কিন্তু, ভয়ঙ্কর, ছিল]  \n",
       "1  [শুধুমাত্ররিডামিং, ফ্যাক্টর, খাদ্য, ছিলপুরোপুর...  \n",
       "2  [শুধুমাত্ররিডামিং, ফ্যাক্টর, খাদ্য, ছিলপুরোপুর...  \n",
       "3  [খাবার, একদমই, ব্যতিক্রমী, সক্ষম, রান্নাঘর, গর...  \n",
       "4  [গাব্রিয়েলা, লোকালি, আপনাকে, শুভেচ্ছা, জানায়...  "
      ]
     },
     "metadata": {},
     "output_type": "display_data"
    }
   ],
   "source": [
    "df.head(5)"
   ]
  },
  {
   "cell_type": "code",
   "execution_count": null,
   "id": "fbb87b5b",
   "metadata": {},
   "outputs": [],
   "source": [
    "Positive_sent = df[df['Tag']=='positive']\n",
    "Negative_sent = df[df['Tag']=='negative']\n",
    "Neutral_sent = df[df['Tag']=='neutral']"
   ]
  },
  {
   "cell_type": "code",
   "execution_count": null,
   "id": "0c5d1ead",
   "metadata": {},
   "outputs": [
    {
     "data": {
      "text/html": [
       "<style type=\"text/css\">\n",
       "#T_694bb_row0_col1 {\n",
       "  background-color: #3f007d;\n",
       "  color: #f1f1f1;\n",
       "}\n",
       "#T_694bb_row1_col1 {\n",
       "  background-color: #9e9ac8;\n",
       "  color: #f1f1f1;\n",
       "}\n",
       "#T_694bb_row2_col1 {\n",
       "  background-color: #c3c4e0;\n",
       "  color: #000000;\n",
       "}\n",
       "#T_694bb_row3_col1 {\n",
       "  background-color: #c4c5e0;\n",
       "  color: #000000;\n",
       "}\n",
       "#T_694bb_row4_col1 {\n",
       "  background-color: #cccce4;\n",
       "  color: #000000;\n",
       "}\n",
       "#T_694bb_row5_col1 {\n",
       "  background-color: #dadaeb;\n",
       "  color: #000000;\n",
       "}\n",
       "#T_694bb_row6_col1 {\n",
       "  background-color: #dcdcec;\n",
       "  color: #000000;\n",
       "}\n",
       "#T_694bb_row7_col1 {\n",
       "  background-color: #e3e2ef;\n",
       "  color: #000000;\n",
       "}\n",
       "#T_694bb_row8_col1 {\n",
       "  background-color: #eeecf4;\n",
       "  color: #000000;\n",
       "}\n",
       "#T_694bb_row9_col1 {\n",
       "  background-color: #efedf5;\n",
       "  color: #000000;\n",
       "}\n",
       "#T_694bb_row10_col1 {\n",
       "  background-color: #f2f0f7;\n",
       "  color: #000000;\n",
       "}\n",
       "#T_694bb_row11_col1 {\n",
       "  background-color: #f4f3f8;\n",
       "  color: #000000;\n",
       "}\n",
       "#T_694bb_row12_col1 {\n",
       "  background-color: #f6f5f9;\n",
       "  color: #000000;\n",
       "}\n",
       "#T_694bb_row13_col1 {\n",
       "  background-color: #f7f5fa;\n",
       "  color: #000000;\n",
       "}\n",
       "#T_694bb_row14_col1 {\n",
       "  background-color: #f8f7fa;\n",
       "  color: #000000;\n",
       "}\n",
       "#T_694bb_row15_col1 {\n",
       "  background-color: #f8f7fb;\n",
       "  color: #000000;\n",
       "}\n",
       "#T_694bb_row16_col1, #T_694bb_row17_col1, #T_694bb_row18_col1 {\n",
       "  background-color: #fbfafc;\n",
       "  color: #000000;\n",
       "}\n",
       "#T_694bb_row19_col1 {\n",
       "  background-color: #fcfbfd;\n",
       "  color: #000000;\n",
       "}\n",
       "</style>\n",
       "<table id=\"T_694bb\">\n",
       "  <thead>\n",
       "    <tr>\n",
       "      <th class=\"blank level0\" >&nbsp;</th>\n",
       "      <th id=\"T_694bb_level0_col0\" class=\"col_heading level0 col0\" >Common_words</th>\n",
       "      <th id=\"T_694bb_level0_col1\" class=\"col_heading level0 col1\" >count</th>\n",
       "    </tr>\n",
       "  </thead>\n",
       "  <tbody>\n",
       "    <tr>\n",
       "      <th id=\"T_694bb_level0_row0\" class=\"row_heading level0 row0\" >0</th>\n",
       "      <td id=\"T_694bb_row0_col0\" class=\"data row0 col0\" >ভাল</td>\n",
       "      <td id=\"T_694bb_row0_col1\" class=\"data row0 col1\" >250</td>\n",
       "    </tr>\n",
       "    <tr>\n",
       "      <th id=\"T_694bb_level0_row1\" class=\"row_heading level0 row1\" >1</th>\n",
       "      <td id=\"T_694bb_row1_col0\" class=\"data row1 col0\" >খাদ্য</td>\n",
       "      <td id=\"T_694bb_row1_col1\" class=\"data row1 col1\" >144</td>\n",
       "    </tr>\n",
       "    <tr>\n",
       "      <th id=\"T_694bb_level0_row2\" class=\"row_heading level0 row2\" >2</th>\n",
       "      <td id=\"T_694bb_row2_col0\" class=\"data row2 col0\" >সেবা</td>\n",
       "      <td id=\"T_694bb_row2_col1\" class=\"data row2 col1\" >111</td>\n",
       "    </tr>\n",
       "    <tr>\n",
       "      <th id=\"T_694bb_level0_row3\" class=\"row_heading level0 row3\" >3</th>\n",
       "      <td id=\"T_694bb_row3_col0\" class=\"data row3 col0\" >ছিল</td>\n",
       "      <td id=\"T_694bb_row3_col1\" class=\"data row3 col1\" >110</td>\n",
       "    </tr>\n",
       "    <tr>\n",
       "      <th id=\"T_694bb_level0_row4\" class=\"row_heading level0 row4\" >4</th>\n",
       "      <td id=\"T_694bb_row4_col0\" class=\"data row4 col0\" >খাবার</td>\n",
       "      <td id=\"T_694bb_row4_col1\" class=\"data row4 col1\" >103</td>\n",
       "    </tr>\n",
       "    <tr>\n",
       "      <th id=\"T_694bb_level0_row5\" class=\"row_heading level0 row5\" >5</th>\n",
       "      <td id=\"T_694bb_row5_col0\" class=\"data row5 col0\" >চমৎকার</td>\n",
       "      <td id=\"T_694bb_row5_col1\" class=\"data row5 col1\" >91</td>\n",
       "    </tr>\n",
       "    <tr>\n",
       "      <th id=\"T_694bb_level0_row6\" class=\"row_heading level0 row6\" >6</th>\n",
       "      <td id=\"T_694bb_row6_col0\" class=\"data row6 col0\" >মহান</td>\n",
       "      <td id=\"T_694bb_row6_col1\" class=\"data row6 col1\" >87</td>\n",
       "    </tr>\n",
       "    <tr>\n",
       "      <th id=\"T_694bb_level0_row7\" class=\"row_heading level0 row7\" >7</th>\n",
       "      <td id=\"T_694bb_row7_col0\" class=\"data row7 col0\" >সুস্বাদু</td>\n",
       "      <td id=\"T_694bb_row7_col1\" class=\"data row7 col1\" >79</td>\n",
       "    </tr>\n",
       "    <tr>\n",
       "      <th id=\"T_694bb_level0_row8\" class=\"row_heading level0 row8\" >8</th>\n",
       "      <td id=\"T_694bb_row8_col0\" class=\"data row8 col0\" >-</td>\n",
       "      <td id=\"T_694bb_row8_col1\" class=\"data row8 col1\" >66</td>\n",
       "    </tr>\n",
       "    <tr>\n",
       "      <th id=\"T_694bb_level0_row9\" class=\"row_heading level0 row9\" >9</th>\n",
       "      <td id=\"T_694bb_row9_col0\" class=\"data row9 col0\" >জায়গা</td>\n",
       "      <td id=\"T_694bb_row9_col1\" class=\"data row9 col1\" >63</td>\n",
       "    </tr>\n",
       "    <tr>\n",
       "      <th id=\"T_694bb_level0_row10\" class=\"row_heading level0 row10\" >10</th>\n",
       "      <td id=\"T_694bb_row10_col0\" class=\"data row10 col0\" >বন্ধুত্বপূর্ণ</td>\n",
       "      <td id=\"T_694bb_row10_col1\" class=\"data row10 col1\" >58</td>\n",
       "    </tr>\n",
       "    <tr>\n",
       "      <th id=\"T_694bb_level0_row11\" class=\"row_heading level0 row11\" >11</th>\n",
       "      <td id=\"T_694bb_row11_col0\" class=\"data row11 col0\" >হয়</td>\n",
       "      <td id=\"T_694bb_row11_col1\" class=\"data row11 col1\" >53</td>\n",
       "    </tr>\n",
       "    <tr>\n",
       "      <th id=\"T_694bb_level0_row12\" class=\"row_heading level0 row12\" >12</th>\n",
       "      <td id=\"T_694bb_row12_col0\" class=\"data row12 col0\" >না</td>\n",
       "      <td id=\"T_694bb_row12_col1\" class=\"data row12 col1\" >49</td>\n",
       "    </tr>\n",
       "    <tr>\n",
       "      <th id=\"T_694bb_level0_row13\" class=\"row_heading level0 row13\" >13</th>\n",
       "      <td id=\"T_694bb_row13_col0\" class=\"data row13 col0\" >ওয়াইন</td>\n",
       "      <td id=\"T_694bb_row13_col1\" class=\"data row13 col1\" >48</td>\n",
       "    </tr>\n",
       "    <tr>\n",
       "      <th id=\"T_694bb_level0_row14\" class=\"row_heading level0 row14\" >14</th>\n",
       "      <td id=\"T_694bb_row14_col0\" class=\"data row14 col0\" >সেরা</td>\n",
       "      <td id=\"T_694bb_row14_col1\" class=\"data row14 col1\" >46</td>\n",
       "    </tr>\n",
       "    <tr>\n",
       "      <th id=\"T_694bb_level0_row15\" class=\"row_heading level0 row15\" >15</th>\n",
       "      <td id=\"T_694bb_row15_col0\" class=\"data row15 col0\" >রেস্টুরেন্ট</td>\n",
       "      <td id=\"T_694bb_row15_col1\" class=\"data row15 col1\" >45</td>\n",
       "    </tr>\n",
       "    <tr>\n",
       "      <th id=\"T_694bb_level0_row16\" class=\"row_heading level0 row16\" >16</th>\n",
       "      <td id=\"T_694bb_row16_col0\" class=\"data row16 col0\" >সুপারিশ</td>\n",
       "      <td id=\"T_694bb_row16_col1\" class=\"data row16 col1\" >40</td>\n",
       "    </tr>\n",
       "    <tr>\n",
       "      <th id=\"T_694bb_level0_row17\" class=\"row_heading level0 row17\" >17</th>\n",
       "      <td id=\"T_694bb_row17_col0\" class=\"data row17 col0\" >পিজা</td>\n",
       "      <td id=\"T_694bb_row17_col1\" class=\"data row17 col1\" >40</td>\n",
       "    </tr>\n",
       "    <tr>\n",
       "      <th id=\"T_694bb_level0_row18\" class=\"row_heading level0 row18\" >18</th>\n",
       "      <td id=\"T_694bb_row18_col0\" class=\"data row18 col0\" >ছিলাম</td>\n",
       "      <td id=\"T_694bb_row18_col1\" class=\"data row18 col1\" >40</td>\n",
       "    </tr>\n",
       "    <tr>\n",
       "      <th id=\"T_694bb_level0_row19\" class=\"row_heading level0 row19\" >19</th>\n",
       "      <td id=\"T_694bb_row19_col0\" class=\"data row19 col0\" >সত্যিই</td>\n",
       "      <td id=\"T_694bb_row19_col1\" class=\"data row19 col1\" >37</td>\n",
       "    </tr>\n",
       "  </tbody>\n",
       "</table>\n"
      ],
      "text/plain": [
       "<pandas.io.formats.style.Styler at 0x1dd6aaf4f10>"
      ]
     },
     "metadata": {},
     "output_type": "display_data"
    }
   ],
   "source": [
    "#MosT common positive words\n",
    "top = Counter([item for sublist in Positive_sent['temp_list'] for item in sublist])\n",
    "temp_positive = pd.DataFrame(top.most_common(20))\n",
    "temp_positive.columns = ['Common_words','count']\n",
    "temp_positive.style.background_gradient(cmap='Purples')"
   ]
  },
  {
   "cell_type": "code",
   "execution_count": null,
   "id": "80371c23",
   "metadata": {},
   "outputs": [
    {
     "data": {
      "text/html": [
       "<style type=\"text/css\">\n",
       "#T_b7890_row0_col1 {\n",
       "  background-color: #00441b;\n",
       "  color: #f1f1f1;\n",
       "}\n",
       "#T_b7890_row1_col1 {\n",
       "  background-color: #005522;\n",
       "  color: #f1f1f1;\n",
       "}\n",
       "#T_b7890_row2_col1 {\n",
       "  background-color: #006529;\n",
       "  color: #f1f1f1;\n",
       "}\n",
       "#T_b7890_row3_col1 {\n",
       "  background-color: #6abf71;\n",
       "  color: #000000;\n",
       "}\n",
       "#T_b7890_row4_col1 {\n",
       "  background-color: #bbe4b4;\n",
       "  color: #000000;\n",
       "}\n",
       "#T_b7890_row5_col1 {\n",
       "  background-color: #cbeac4;\n",
       "  color: #000000;\n",
       "}\n",
       "#T_b7890_row6_col1 {\n",
       "  background-color: #d7efd1;\n",
       "  color: #000000;\n",
       "}\n",
       "#T_b7890_row7_col1 {\n",
       "  background-color: #ddf2d8;\n",
       "  color: #000000;\n",
       "}\n",
       "#T_b7890_row8_col1 {\n",
       "  background-color: #e4f5df;\n",
       "  color: #000000;\n",
       "}\n",
       "#T_b7890_row9_col1, #T_b7890_row10_col1, #T_b7890_row11_col1, #T_b7890_row12_col1 {\n",
       "  background-color: #e8f6e4;\n",
       "  color: #000000;\n",
       "}\n",
       "#T_b7890_row13_col1, #T_b7890_row14_col1, #T_b7890_row15_col1 {\n",
       "  background-color: #ecf8e8;\n",
       "  color: #000000;\n",
       "}\n",
       "#T_b7890_row16_col1 {\n",
       "  background-color: #f0f9ec;\n",
       "  color: #000000;\n",
       "}\n",
       "#T_b7890_row17_col1, #T_b7890_row18_col1 {\n",
       "  background-color: #f4fbf1;\n",
       "  color: #000000;\n",
       "}\n",
       "#T_b7890_row19_col1 {\n",
       "  background-color: #f7fcf5;\n",
       "  color: #000000;\n",
       "}\n",
       "</style>\n",
       "<table id=\"T_b7890\">\n",
       "  <thead>\n",
       "    <tr>\n",
       "      <th class=\"blank level0\" >&nbsp;</th>\n",
       "      <th id=\"T_b7890_level0_col0\" class=\"col_heading level0 col0\" >Common_words</th>\n",
       "      <th id=\"T_b7890_level0_col1\" class=\"col_heading level0 col1\" >count</th>\n",
       "    </tr>\n",
       "  </thead>\n",
       "  <tbody>\n",
       "    <tr>\n",
       "      <th id=\"T_b7890_level0_row0\" class=\"row_heading level0 row0\" >0</th>\n",
       "      <td id=\"T_b7890_row0_col0\" class=\"data row0 col0\" >ছিল</td>\n",
       "      <td id=\"T_b7890_row0_col1\" class=\"data row0 col1\" >53</td>\n",
       "    </tr>\n",
       "    <tr>\n",
       "      <th id=\"T_b7890_level0_row1\" class=\"row_heading level0 row1\" >1</th>\n",
       "      <td id=\"T_b7890_row1_col0\" class=\"data row1 col0\" >না</td>\n",
       "      <td id=\"T_b7890_row1_col1\" class=\"data row1 col1\" >51</td>\n",
       "    </tr>\n",
       "    <tr>\n",
       "      <th id=\"T_b7890_level0_row2\" class=\"row_heading level0 row2\" >2</th>\n",
       "      <td id=\"T_b7890_row2_col0\" class=\"data row2 col0\" >খাদ্য</td>\n",
       "      <td id=\"T_b7890_row2_col1\" class=\"data row2 col1\" >49</td>\n",
       "    </tr>\n",
       "    <tr>\n",
       "      <th id=\"T_b7890_level0_row3\" class=\"row_heading level0 row3\" >3</th>\n",
       "      <td id=\"T_b7890_row3_col0\" class=\"data row3 col0\" >ভাল</td>\n",
       "      <td id=\"T_b7890_row3_col1\" class=\"data row3 col1\" >35</td>\n",
       "    </tr>\n",
       "    <tr>\n",
       "      <th id=\"T_b7890_level0_row4\" class=\"row_heading level0 row4\" >4</th>\n",
       "      <td id=\"T_b7890_row4_col0\" class=\"data row4 col0\" >সেবা</td>\n",
       "      <td id=\"T_b7890_row4_col1\" class=\"data row4 col1\" >26</td>\n",
       "    </tr>\n",
       "    <tr>\n",
       "      <th id=\"T_b7890_level0_row5\" class=\"row_heading level0 row5\" >5</th>\n",
       "      <td id=\"T_b7890_row5_col0\" class=\"data row5 col0\" >ছিলাম</td>\n",
       "      <td id=\"T_b7890_row5_col1\" class=\"data row5 col1\" >24</td>\n",
       "    </tr>\n",
       "    <tr>\n",
       "      <th id=\"T_b7890_level0_row6\" class=\"row_heading level0 row6\" >6</th>\n",
       "      <td id=\"T_b7890_row6_col0\" class=\"data row6 col0\" >-</td>\n",
       "      <td id=\"T_b7890_row6_col1\" class=\"data row6 col1\" >22</td>\n",
       "    </tr>\n",
       "    <tr>\n",
       "      <th id=\"T_b7890_level0_row7\" class=\"row_heading level0 row7\" >7</th>\n",
       "      <td id=\"T_b7890_row7_col0\" class=\"data row7 col0\" >রেস্টুরেন্ট</td>\n",
       "      <td id=\"T_b7890_row7_col1\" class=\"data row7 col1\" >21</td>\n",
       "    </tr>\n",
       "    <tr>\n",
       "      <th id=\"T_b7890_level0_row8\" class=\"row_heading level0 row8\" >8</th>\n",
       "      <td id=\"T_b7890_row8_col0\" class=\"data row8 col0\" >সময়</td>\n",
       "      <td id=\"T_b7890_row8_col1\" class=\"data row8 col1\" >20</td>\n",
       "    </tr>\n",
       "    <tr>\n",
       "      <th id=\"T_b7890_level0_row9\" class=\"row_heading level0 row9\" >9</th>\n",
       "      <td id=\"T_b7890_row9_col0\" class=\"data row9 col0\" >নয়</td>\n",
       "      <td id=\"T_b7890_row9_col1\" class=\"data row9 col1\" >19</td>\n",
       "    </tr>\n",
       "    <tr>\n",
       "      <th id=\"T_b7890_level0_row10\" class=\"row_heading level0 row10\" >10</th>\n",
       "      <td id=\"T_b7890_row10_col0\" class=\"data row10 col0\" >হয়</td>\n",
       "      <td id=\"T_b7890_row10_col1\" class=\"data row10 col1\" >19</td>\n",
       "    </tr>\n",
       "    <tr>\n",
       "      <th id=\"T_b7890_level0_row11\" class=\"row_heading level0 row11\" >11</th>\n",
       "      <td id=\"T_b7890_row11_col0\" class=\"data row11 col0\" >পেতে</td>\n",
       "      <td id=\"T_b7890_row11_col1\" class=\"data row11 col1\" >19</td>\n",
       "    </tr>\n",
       "    <tr>\n",
       "      <th id=\"T_b7890_level0_row12\" class=\"row_heading level0 row12\" >12</th>\n",
       "      <td id=\"T_b7890_row12_col0\" class=\"data row12 col0\" >জায়গা</td>\n",
       "      <td id=\"T_b7890_row12_col1\" class=\"data row12 col1\" >19</td>\n",
       "    </tr>\n",
       "    <tr>\n",
       "      <th id=\"T_b7890_level0_row13\" class=\"row_heading level0 row13\" >13</th>\n",
       "      <td id=\"T_b7890_row13_col0\" class=\"data row13 col0\" >সম্পর্কে</td>\n",
       "      <td id=\"T_b7890_row13_col1\" class=\"data row13 col1\" >18</td>\n",
       "    </tr>\n",
       "    <tr>\n",
       "      <th id=\"T_b7890_level0_row14\" class=\"row_heading level0 row14\" >14</th>\n",
       "      <td id=\"T_b7890_row14_col0\" class=\"data row14 col0\" >ছোট</td>\n",
       "      <td id=\"T_b7890_row14_col1\" class=\"data row14 col1\" >18</td>\n",
       "    </tr>\n",
       "    <tr>\n",
       "      <th id=\"T_b7890_level0_row15\" class=\"row_heading level0 row15\" >15</th>\n",
       "      <td id=\"T_b7890_row15_col0\" class=\"data row15 col0\" >খাবারের</td>\n",
       "      <td id=\"T_b7890_row15_col1\" class=\"data row15 col1\" >18</td>\n",
       "    </tr>\n",
       "    <tr>\n",
       "      <th id=\"T_b7890_level0_row16\" class=\"row_heading level0 row16\" >16</th>\n",
       "      <td id=\"T_b7890_row16_col0\" class=\"data row16 col0\" >খাবার</td>\n",
       "      <td id=\"T_b7890_row16_col1\" class=\"data row16 col1\" >17</td>\n",
       "    </tr>\n",
       "    <tr>\n",
       "      <th id=\"T_b7890_level0_row17\" class=\"row_heading level0 row17\" >17</th>\n",
       "      <td id=\"T_b7890_row17_col0\" class=\"data row17 col0\" >অর্ডার</td>\n",
       "      <td id=\"T_b7890_row17_col1\" class=\"data row17 col1\" >16</td>\n",
       "    </tr>\n",
       "    <tr>\n",
       "      <th id=\"T_b7890_level0_row18\" class=\"row_heading level0 row18\" >18</th>\n",
       "      <td id=\"T_b7890_row18_col0\" class=\"data row18 col0\" >খারাপ</td>\n",
       "      <td id=\"T_b7890_row18_col1\" class=\"data row18 col1\" >16</td>\n",
       "    </tr>\n",
       "    <tr>\n",
       "      <th id=\"T_b7890_level0_row19\" class=\"row_heading level0 row19\" >19</th>\n",
       "      <td id=\"T_b7890_row19_col0\" class=\"data row19 col0\" >$</td>\n",
       "      <td id=\"T_b7890_row19_col1\" class=\"data row19 col1\" >15</td>\n",
       "    </tr>\n",
       "  </tbody>\n",
       "</table>\n"
      ],
      "text/plain": [
       "<pandas.io.formats.style.Styler at 0x1dd6a7d96d0>"
      ]
     },
     "metadata": {},
     "output_type": "display_data"
    }
   ],
   "source": [
    "#MosT common negative words\n",
    "top = Counter([item for sublist in Negative_sent['temp_list'] for item in sublist])\n",
    "temp_negative = pd.DataFrame(top.most_common(20))\n",
    "temp_negative.columns = ['Common_words','count']\n",
    "temp_negative.style.background_gradient(cmap='Greens')"
   ]
  },
  {
   "cell_type": "code",
   "execution_count": null,
   "id": "aedbd849",
   "metadata": {},
   "outputs": [
    {
     "data": {
      "text/html": [
       "<style type=\"text/css\">\n",
       "#T_87003_row0_col1 {\n",
       "  background-color: #67000d;\n",
       "  color: #f1f1f1;\n",
       "}\n",
       "#T_87003_row1_col1, #T_87003_row2_col1 {\n",
       "  background-color: #940b13;\n",
       "  color: #f1f1f1;\n",
       "}\n",
       "#T_87003_row3_col1 {\n",
       "  background-color: #b61319;\n",
       "  color: #f1f1f1;\n",
       "}\n",
       "#T_87003_row4_col1 {\n",
       "  background-color: #d11e1f;\n",
       "  color: #f1f1f1;\n",
       "}\n",
       "#T_87003_row5_col1 {\n",
       "  background-color: #f7593f;\n",
       "  color: #f1f1f1;\n",
       "}\n",
       "#T_87003_row6_col1 {\n",
       "  background-color: #fb7858;\n",
       "  color: #f1f1f1;\n",
       "}\n",
       "#T_87003_row7_col1 {\n",
       "  background-color: #fc9576;\n",
       "  color: #000000;\n",
       "}\n",
       "#T_87003_row8_col1 {\n",
       "  background-color: #fcb499;\n",
       "  color: #000000;\n",
       "}\n",
       "#T_87003_row9_col1, #T_87003_row10_col1, #T_87003_row11_col1, #T_87003_row12_col1 {\n",
       "  background-color: #fdd0bc;\n",
       "  color: #000000;\n",
       "}\n",
       "#T_87003_row13_col1, #T_87003_row14_col1, #T_87003_row15_col1, #T_87003_row16_col1, #T_87003_row17_col1 {\n",
       "  background-color: #fee6da;\n",
       "  color: #000000;\n",
       "}\n",
       "#T_87003_row18_col1 {\n",
       "  background-color: #fff5f0;\n",
       "  color: #000000;\n",
       "}\n",
       "</style>\n",
       "<table id=\"T_87003\">\n",
       "  <thead>\n",
       "    <tr>\n",
       "      <th class=\"blank level0\" >&nbsp;</th>\n",
       "      <th id=\"T_87003_level0_col0\" class=\"col_heading level0 col0\" >Common_words</th>\n",
       "      <th id=\"T_87003_level0_col1\" class=\"col_heading level0 col1\" >count</th>\n",
       "    </tr>\n",
       "  </thead>\n",
       "  <tbody>\n",
       "    <tr>\n",
       "      <th id=\"T_87003_level0_row0\" class=\"row_heading level0 row0\" >1</th>\n",
       "      <td id=\"T_87003_row0_col0\" class=\"data row0 col0\" >ভাল</td>\n",
       "      <td id=\"T_87003_row0_col1\" class=\"data row0 col1\" >17</td>\n",
       "    </tr>\n",
       "    <tr>\n",
       "      <th id=\"T_87003_level0_row1\" class=\"row_heading level0 row1\" >2</th>\n",
       "      <td id=\"T_87003_row1_col0\" class=\"data row1 col0\" >খাবার</td>\n",
       "      <td id=\"T_87003_row1_col1\" class=\"data row1 col1\" >16</td>\n",
       "    </tr>\n",
       "    <tr>\n",
       "      <th id=\"T_87003_level0_row2\" class=\"row_heading level0 row2\" >3</th>\n",
       "      <td id=\"T_87003_row2_col0\" class=\"data row2 col0\" >রেস্টুরেন্ট</td>\n",
       "      <td id=\"T_87003_row2_col1\" class=\"data row2 col1\" >16</td>\n",
       "    </tr>\n",
       "    <tr>\n",
       "      <th id=\"T_87003_level0_row3\" class=\"row_heading level0 row3\" >4</th>\n",
       "      <td id=\"T_87003_row3_col0\" class=\"data row3 col0\" >বন্ধু</td>\n",
       "      <td id=\"T_87003_row3_col1\" class=\"data row3 col1\" >15</td>\n",
       "    </tr>\n",
       "    <tr>\n",
       "      <th id=\"T_87003_level0_row4\" class=\"row_heading level0 row4\" >5</th>\n",
       "      <td id=\"T_87003_row4_col0\" class=\"data row4 col0\" >গিয়েছিলাম</td>\n",
       "      <td id=\"T_87003_row4_col1\" class=\"data row4 col1\" >14</td>\n",
       "    </tr>\n",
       "    <tr>\n",
       "      <th id=\"T_87003_level0_row5\" class=\"row_heading level0 row5\" >6</th>\n",
       "      <td id=\"T_87003_row5_col0\" class=\"data row5 col0\" >করেছি</td>\n",
       "      <td id=\"T_87003_row5_col1\" class=\"data row5 col1\" >12</td>\n",
       "    </tr>\n",
       "    <tr>\n",
       "      <th id=\"T_87003_level0_row6\" class=\"row_heading level0 row6\" >7</th>\n",
       "      <td id=\"T_87003_row6_col0\" class=\"data row6 col0\" >ছিল</td>\n",
       "      <td id=\"T_87003_row6_col1\" class=\"data row6 col1\" >11</td>\n",
       "    </tr>\n",
       "    <tr>\n",
       "      <th id=\"T_87003_level0_row7\" class=\"row_heading level0 row7\" >8</th>\n",
       "      <td id=\"T_87003_row7_col0\" class=\"data row7 col0\" >খাদ্য</td>\n",
       "      <td id=\"T_87003_row7_col1\" class=\"data row7 col1\" >10</td>\n",
       "    </tr>\n",
       "    <tr>\n",
       "      <th id=\"T_87003_level0_row8\" class=\"row_heading level0 row8\" >9</th>\n",
       "      <td id=\"T_87003_row8_col0\" class=\"data row8 col0\" >ছিলাম</td>\n",
       "      <td id=\"T_87003_row8_col1\" class=\"data row8 col1\" >9</td>\n",
       "    </tr>\n",
       "    <tr>\n",
       "      <th id=\"T_87003_level0_row9\" class=\"row_heading level0 row9\" >10</th>\n",
       "      <td id=\"T_87003_row9_col0\" class=\"data row9 col0\" >রাতে</td>\n",
       "      <td id=\"T_87003_row9_col1\" class=\"data row9 col1\" >8</td>\n",
       "    </tr>\n",
       "    <tr>\n",
       "      <th id=\"T_87003_level0_row10\" class=\"row_heading level0 row10\" >11</th>\n",
       "      <td id=\"T_87003_row10_col0\" class=\"data row10 col0\" >সুপারিশ</td>\n",
       "      <td id=\"T_87003_row10_col1\" class=\"data row10 col1\" >8</td>\n",
       "    </tr>\n",
       "    <tr>\n",
       "      <th id=\"T_87003_level0_row11\" class=\"row_heading level0 row11\" >12</th>\n",
       "      <td id=\"T_87003_row11_col0\" class=\"data row11 col0\" >সাথে</td>\n",
       "      <td id=\"T_87003_row11_col1\" class=\"data row11 col1\" >8</td>\n",
       "    </tr>\n",
       "    <tr>\n",
       "      <th id=\"T_87003_level0_row12\" class=\"row_heading level0 row12\" >13</th>\n",
       "      <td id=\"T_87003_row12_col0\" class=\"data row12 col0\" >সময়</td>\n",
       "      <td id=\"T_87003_row12_col1\" class=\"data row12 col1\" >8</td>\n",
       "    </tr>\n",
       "    <tr>\n",
       "      <th id=\"T_87003_level0_row13\" class=\"row_heading level0 row13\" >14</th>\n",
       "      <td id=\"T_87003_row13_col0\" class=\"data row13 col0\" >পেতে</td>\n",
       "      <td id=\"T_87003_row13_col1\" class=\"data row13 col1\" >7</td>\n",
       "    </tr>\n",
       "    <tr>\n",
       "      <th id=\"T_87003_level0_row14\" class=\"row_heading level0 row14\" >15</th>\n",
       "      <td id=\"T_87003_row14_col0\" class=\"data row14 col0\" >হয়</td>\n",
       "      <td id=\"T_87003_row14_col1\" class=\"data row14 col1\" >7</td>\n",
       "    </tr>\n",
       "    <tr>\n",
       "      <th id=\"T_87003_level0_row15\" class=\"row_heading level0 row15\" >16</th>\n",
       "      <td id=\"T_87003_row15_col0\" class=\"data row15 col0\" >রাতের</td>\n",
       "      <td id=\"T_87003_row15_col1\" class=\"data row15 col1\" >7</td>\n",
       "    </tr>\n",
       "    <tr>\n",
       "      <th id=\"T_87003_level0_row16\" class=\"row_heading level0 row16\" >17</th>\n",
       "      <td id=\"T_87003_row16_col0\" class=\"data row16 col0\" >-</td>\n",
       "      <td id=\"T_87003_row16_col1\" class=\"data row16 col1\" >7</td>\n",
       "    </tr>\n",
       "    <tr>\n",
       "      <th id=\"T_87003_level0_row17\" class=\"row_heading level0 row17\" >18</th>\n",
       "      <td id=\"T_87003_row17_col0\" class=\"data row17 col0\" >এক</td>\n",
       "      <td id=\"T_87003_row17_col1\" class=\"data row17 col1\" >7</td>\n",
       "    </tr>\n",
       "    <tr>\n",
       "      <th id=\"T_87003_level0_row18\" class=\"row_heading level0 row18\" >19</th>\n",
       "      <td id=\"T_87003_row18_col0\" class=\"data row18 col0\" >আছে</td>\n",
       "      <td id=\"T_87003_row18_col1\" class=\"data row18 col1\" >6</td>\n",
       "    </tr>\n",
       "  </tbody>\n",
       "</table>\n"
      ],
      "text/plain": [
       "<pandas.io.formats.style.Styler at 0x1dd6aaf6910>"
      ]
     },
     "metadata": {},
     "output_type": "display_data"
    }
   ],
   "source": [
    "#MosT common Neutral words\n",
    "top = Counter([item for sublist in Neutral_sent['temp_list'] for item in sublist])\n",
    "temp_neutral = pd.DataFrame(top.most_common(20))\n",
    "temp_neutral = temp_neutral.loc[1:,:]\n",
    "temp_neutral.columns = ['Common_words','count']\n",
    "temp_neutral.style.background_gradient(cmap='Reds')"
   ]
  },
  {
   "cell_type": "markdown",
   "id": "b5f27eeb",
   "metadata": {},
   "source": [
    "### Look at Unique Words in each Segment"
   ]
  },
  {
   "cell_type": "code",
   "execution_count": null,
   "id": "e8fc590a",
   "metadata": {},
   "outputs": [],
   "source": [
    "raw_text = [word for word_list in df['temp_list'] for word in word_list]"
   ]
  },
  {
   "cell_type": "code",
   "execution_count": null,
   "id": "6541db1f",
   "metadata": {},
   "outputs": [],
   "source": [
    "def words_unique(Tag, numwords, raw_words):\n",
    "    allother = []\n",
    "    for item in df[df.Tag != Tag]['temp_list']:\n",
    "        for word in item:\n",
    "            allother.append(word)\n",
    "    allother = list(set(allother))\n",
    "    \n",
    "    specificnonly = [x for x in raw_text if x not in allother]\n",
    "    \n",
    "    mycounter = Counter()\n",
    "    \n",
    "    for item in df[df.Tag == Tag]['temp_list']:\n",
    "        for word in item:\n",
    "            mycounter[word] += 1\n",
    "    keep = list(specificnonly)\n",
    "    \n",
    "    for word in list(mycounter):\n",
    "        if word not in keep:\n",
    "            del mycounter[word]\n",
    "    \n",
    "    Unique_words = pd.DataFrame(mycounter.most_common(numwords), columns=['words', 'count'])\n",
    "    \n",
    "    return Unique_words"
   ]
  },
  {
   "cell_type": "markdown",
   "id": "d079290a",
   "metadata": {},
   "source": [
    "#### Positive"
   ]
  },
  {
   "cell_type": "code",
   "execution_count": null,
   "id": "3e4c64e0",
   "metadata": {},
   "outputs": [
    {
     "name": "stdout",
     "output_type": "stream",
     "text": [
      "The top 20 unique words in Positive Tweets are:\n"
     ]
    },
    {
     "data": {
      "text/html": [
       "<style type=\"text/css\">\n",
       "#T_2697e_row0_col1 {\n",
       "  background-color: #00441b;\n",
       "  color: #f1f1f1;\n",
       "}\n",
       "#T_2697e_row1_col1 {\n",
       "  background-color: #006b2b;\n",
       "  color: #f1f1f1;\n",
       "}\n",
       "#T_2697e_row2_col1 {\n",
       "  background-color: #bae3b3;\n",
       "  color: #000000;\n",
       "}\n",
       "#T_2697e_row3_col1 {\n",
       "  background-color: #cbeac4;\n",
       "  color: #000000;\n",
       "}\n",
       "#T_2697e_row4_col1, #T_2697e_row5_col1, #T_2697e_row6_col1 {\n",
       "  background-color: #d9f0d3;\n",
       "  color: #000000;\n",
       "}\n",
       "#T_2697e_row7_col1, #T_2697e_row8_col1, #T_2697e_row9_col1, #T_2697e_row10_col1, #T_2697e_row11_col1, #T_2697e_row12_col1, #T_2697e_row13_col1, #T_2697e_row14_col1, #T_2697e_row15_col1, #T_2697e_row16_col1 {\n",
       "  background-color: #eff9eb;\n",
       "  color: #000000;\n",
       "}\n",
       "#T_2697e_row17_col1, #T_2697e_row18_col1, #T_2697e_row19_col1 {\n",
       "  background-color: #f7fcf5;\n",
       "  color: #000000;\n",
       "}\n",
       "</style>\n",
       "<table id=\"T_2697e\">\n",
       "  <thead>\n",
       "    <tr>\n",
       "      <th class=\"blank level0\" >&nbsp;</th>\n",
       "      <th id=\"T_2697e_level0_col0\" class=\"col_heading level0 col0\" >words</th>\n",
       "      <th id=\"T_2697e_level0_col1\" class=\"col_heading level0 col1\" >count</th>\n",
       "    </tr>\n",
       "  </thead>\n",
       "  <tbody>\n",
       "    <tr>\n",
       "      <th id=\"T_2697e_level0_row0\" class=\"row_heading level0 row0\" >0</th>\n",
       "      <td id=\"T_2697e_row0_col0\" class=\"data row0 col0\" >গ্রেট</td>\n",
       "      <td id=\"T_2697e_row0_col1\" class=\"data row0 col1\" >23</td>\n",
       "    </tr>\n",
       "    <tr>\n",
       "      <th id=\"T_2697e_level0_row1\" class=\"row_heading level0 row1\" >1</th>\n",
       "      <td id=\"T_2697e_row1_col0\" class=\"data row1 col0\" >যুক্তিসঙ্গত</td>\n",
       "      <td id=\"T_2697e_row1_col1\" class=\"data row1 col1\" >21</td>\n",
       "    </tr>\n",
       "    <tr>\n",
       "      <th id=\"T_2697e_level0_row2\" class=\"row_heading level0 row2\" >2</th>\n",
       "      <td id=\"T_2697e_row2_col0\" class=\"data row2 col0\" >পাস্তা</td>\n",
       "      <td id=\"T_2697e_row2_col1\" class=\"data row2 col1\" >11</td>\n",
       "    </tr>\n",
       "    <tr>\n",
       "      <th id=\"T_2697e_level0_row3\" class=\"row_heading level0 row3\" >3</th>\n",
       "      <td id=\"T_2697e_row3_col0\" class=\"data row3 col0\" >ভাজা</td>\n",
       "      <td id=\"T_2697e_row3_col1\" class=\"data row3 col1\" >10</td>\n",
       "    </tr>\n",
       "    <tr>\n",
       "      <th id=\"T_2697e_level0_row4\" class=\"row_heading level0 row4\" >4</th>\n",
       "      <td id=\"T_2697e_row4_col0\" class=\"data row4 col0\" >শীতল</td>\n",
       "      <td id=\"T_2697e_row4_col1\" class=\"data row4 col1\" >9</td>\n",
       "    </tr>\n",
       "    <tr>\n",
       "      <th id=\"T_2697e_level0_row5\" class=\"row_heading level0 row5\" >5</th>\n",
       "      <td id=\"T_2697e_row5_col0\" class=\"data row5 col0\" >ভালবাসা</td>\n",
       "      <td id=\"T_2697e_row5_col1\" class=\"data row5 col1\" >9</td>\n",
       "    </tr>\n",
       "    <tr>\n",
       "      <th id=\"T_2697e_level0_row6\" class=\"row_heading level0 row6\" >6</th>\n",
       "      <td id=\"T_2697e_row6_col0\" class=\"data row6 col0\" >বুদ্ধিমান</td>\n",
       "      <td id=\"T_2697e_row6_col1\" class=\"data row6 col1\" >9</td>\n",
       "    </tr>\n",
       "    <tr>\n",
       "      <th id=\"T_2697e_level0_row7\" class=\"row_heading level0 row7\" >7</th>\n",
       "      <td id=\"T_2697e_row7_col0\" class=\"data row7 col0\" >সুপার</td>\n",
       "      <td id=\"T_2697e_row7_col1\" class=\"data row7 col1\" >7</td>\n",
       "    </tr>\n",
       "    <tr>\n",
       "      <th id=\"T_2697e_level0_row8\" class=\"row_heading level0 row8\" >8</th>\n",
       "      <td id=\"T_2697e_row8_col0\" class=\"data row8 col0\" >প্রম্পট</td>\n",
       "      <td id=\"T_2697e_row8_col1\" class=\"data row8 col1\" >7</td>\n",
       "    </tr>\n",
       "    <tr>\n",
       "      <th id=\"T_2697e_level0_row9\" class=\"row_heading level0 row9\" >9</th>\n",
       "      <td id=\"T_2697e_row9_col0\" class=\"data row9 col0\" >কতটা</td>\n",
       "      <td id=\"T_2697e_row9_col1\" class=\"data row9 col1\" >7</td>\n",
       "    </tr>\n",
       "    <tr>\n",
       "      <th id=\"T_2697e_level0_row10\" class=\"row_heading level0 row10\" >10</th>\n",
       "      <td id=\"T_2697e_row10_col0\" class=\"data row10 col0\" >সহায়ক</td>\n",
       "      <td id=\"T_2697e_row10_col1\" class=\"data row10 col1\" >7</td>\n",
       "    </tr>\n",
       "    <tr>\n",
       "      <th id=\"T_2697e_level0_row11\" class=\"row_heading level0 row11\" >11</th>\n",
       "      <td id=\"T_2697e_row11_col0\" class=\"data row11 col0\" >Tuk</td>\n",
       "      <td id=\"T_2697e_row11_col1\" class=\"data row11 col1\" >7</td>\n",
       "    </tr>\n",
       "    <tr>\n",
       "      <th id=\"T_2697e_level0_row12\" class=\"row_heading level0 row12\" >12</th>\n",
       "      <td id=\"T_2697e_row12_col0\" class=\"data row12 col0\" >সুশির</td>\n",
       "      <td id=\"T_2697e_row12_col1\" class=\"data row12 col1\" >7</td>\n",
       "    </tr>\n",
       "    <tr>\n",
       "      <th id=\"T_2697e_level0_row13\" class=\"row_heading level0 row13\" >13</th>\n",
       "      <td id=\"T_2697e_row13_col0\" class=\"data row13 col0\" >উপভোগ্য</td>\n",
       "      <td id=\"T_2697e_row13_col1\" class=\"data row13 col1\" >7</td>\n",
       "    </tr>\n",
       "    <tr>\n",
       "      <th id=\"T_2697e_level0_row14\" class=\"row_heading level0 row14\" >14</th>\n",
       "      <td id=\"T_2697e_row14_col0\" class=\"data row14 col0\" >শৈলী</td>\n",
       "      <td id=\"T_2697e_row14_col1\" class=\"data row14 col1\" >7</td>\n",
       "    </tr>\n",
       "    <tr>\n",
       "      <th id=\"T_2697e_level0_row15\" class=\"row_heading level0 row15\" >15</th>\n",
       "      <td id=\"T_2697e_row15_col0\" class=\"data row15 col0\" >সন্ত্রস্ত</td>\n",
       "      <td id=\"T_2697e_row15_col1\" class=\"data row15 col1\" >7</td>\n",
       "    </tr>\n",
       "    <tr>\n",
       "      <th id=\"T_2697e_level0_row16\" class=\"row_heading level0 row16\" >16</th>\n",
       "      <td id=\"T_2697e_row16_col0\" class=\"data row16 col0\" >ব্যক্তিগত</td>\n",
       "      <td id=\"T_2697e_row16_col1\" class=\"data row16 col1\" >7</td>\n",
       "    </tr>\n",
       "    <tr>\n",
       "      <th id=\"T_2697e_level0_row17\" class=\"row_heading level0 row17\" >17</th>\n",
       "      <td id=\"T_2697e_row17_col0\" class=\"data row17 col0\" >শহর</td>\n",
       "      <td id=\"T_2697e_row17_col1\" class=\"data row17 col1\" >6</td>\n",
       "    </tr>\n",
       "    <tr>\n",
       "      <th id=\"T_2697e_level0_row18\" class=\"row_heading level0 row18\" >18</th>\n",
       "      <td id=\"T_2697e_row18_col0\" class=\"data row18 col0\" >আশপাশ</td>\n",
       "      <td id=\"T_2697e_row18_col1\" class=\"data row18 col1\" >6</td>\n",
       "    </tr>\n",
       "    <tr>\n",
       "      <th id=\"T_2697e_level0_row19\" class=\"row_heading level0 row19\" >19</th>\n",
       "      <td id=\"T_2697e_row19_col0\" class=\"data row19 col0\" >ব্লক</td>\n",
       "      <td id=\"T_2697e_row19_col1\" class=\"data row19 col1\" >6</td>\n",
       "    </tr>\n",
       "  </tbody>\n",
       "</table>\n"
      ],
      "text/plain": [
       "<pandas.io.formats.style.Styler at 0x1dd6a399d10>"
      ]
     },
     "metadata": {},
     "output_type": "display_data"
    }
   ],
   "source": [
    "Unique_Positive= words_unique('positive', 20, raw_text)\n",
    "print(\"The top 20 unique words in Positive Tweets are:\")\n",
    "Unique_Positive.style.background_gradient(cmap='Greens')"
   ]
  },
  {
   "cell_type": "markdown",
   "id": "6dc8f43d",
   "metadata": {},
   "source": [
    "#### Negative unique"
   ]
  },
  {
   "cell_type": "code",
   "execution_count": null,
   "id": "24e069bb",
   "metadata": {},
   "outputs": [
    {
     "name": "stdout",
     "output_type": "stream",
     "text": [
      "The top 10 unique words in Negative Tweets are:\n"
     ]
    },
    {
     "data": {
      "text/html": [
       "<style type=\"text/css\">\n",
       "#T_69872_row0_col1 {\n",
       "  background-color: #67000d;\n",
       "  color: #f1f1f1;\n",
       "}\n",
       "#T_69872_row1_col1, #T_69872_row2_col1, #T_69872_row3_col1, #T_69872_row4_col1, #T_69872_row5_col1, #T_69872_row6_col1 {\n",
       "  background-color: #fb694a;\n",
       "  color: #f1f1f1;\n",
       "}\n",
       "#T_69872_row7_col1, #T_69872_row8_col1, #T_69872_row9_col1 {\n",
       "  background-color: #fff5f0;\n",
       "  color: #000000;\n",
       "}\n",
       "</style>\n",
       "<table id=\"T_69872\">\n",
       "  <thead>\n",
       "    <tr>\n",
       "      <th class=\"blank level0\" >&nbsp;</th>\n",
       "      <th id=\"T_69872_level0_col0\" class=\"col_heading level0 col0\" >words</th>\n",
       "      <th id=\"T_69872_level0_col1\" class=\"col_heading level0 col1\" >count</th>\n",
       "    </tr>\n",
       "  </thead>\n",
       "  <tbody>\n",
       "    <tr>\n",
       "      <th id=\"T_69872_level0_row0\" class=\"row_heading level0 row0\" >0</th>\n",
       "      <td id=\"T_69872_row0_col0\" class=\"data row0 col0\" >কথোপকথন</td>\n",
       "      <td id=\"T_69872_row0_col1\" class=\"data row0 col1\" >5</td>\n",
       "    </tr>\n",
       "    <tr>\n",
       "      <th id=\"T_69872_level0_row1\" class=\"row_heading level0 row1\" >1</th>\n",
       "      <td id=\"T_69872_row1_col0\" class=\"data row1 col0\" >দ্বিগুণ</td>\n",
       "      <td id=\"T_69872_row1_col1\" class=\"data row1 col1\" >4</td>\n",
       "    </tr>\n",
       "    <tr>\n",
       "      <th id=\"T_69872_level0_row2\" class=\"row_heading level0 row2\" >2</th>\n",
       "      <td id=\"T_69872_row2_col0\" class=\"data row2 col0\" >অযৌক্তিক</td>\n",
       "      <td id=\"T_69872_row2_col1\" class=\"data row2 col1\" >4</td>\n",
       "    </tr>\n",
       "    <tr>\n",
       "      <th id=\"T_69872_level0_row3\" class=\"row_heading level0 row3\" >3</th>\n",
       "      <td id=\"T_69872_row3_col0\" class=\"data row3 col0\" >অবাধ্য</td>\n",
       "      <td id=\"T_69872_row3_col1\" class=\"data row3 col1\" >4</td>\n",
       "    </tr>\n",
       "    <tr>\n",
       "      <th id=\"T_69872_level0_row4\" class=\"row_heading level0 row4\" >4</th>\n",
       "      <td id=\"T_69872_row4_col0\" class=\"data row4 col0\" >জোরে</td>\n",
       "      <td id=\"T_69872_row4_col1\" class=\"data row4 col1\" >4</td>\n",
       "    </tr>\n",
       "    <tr>\n",
       "      <th id=\"T_69872_level0_row5\" class=\"row_heading level0 row5\" >5</th>\n",
       "      <td id=\"T_69872_row5_col0\" class=\"data row5 col0\" >নেয়</td>\n",
       "      <td id=\"T_69872_row5_col1\" class=\"data row5 col1\" >4</td>\n",
       "    </tr>\n",
       "    <tr>\n",
       "      <th id=\"T_69872_level0_row6\" class=\"row_heading level0 row6\" >6</th>\n",
       "      <td id=\"T_69872_row6_col0\" class=\"data row6 col0\" >চেকের</td>\n",
       "      <td id=\"T_69872_row6_col1\" class=\"data row6 col1\" >4</td>\n",
       "    </tr>\n",
       "    <tr>\n",
       "      <th id=\"T_69872_level0_row7\" class=\"row_heading level0 row7\" >7</th>\n",
       "      <td id=\"T_69872_row7_col0\" class=\"data row7 col0\" >আসবে</td>\n",
       "      <td id=\"T_69872_row7_col1\" class=\"data row7 col1\" >3</td>\n",
       "    </tr>\n",
       "    <tr>\n",
       "      <th id=\"T_69872_level0_row8\" class=\"row_heading level0 row8\" >8</th>\n",
       "      <td id=\"T_69872_row8_col0\" class=\"data row8 col0\" >শুনতে</td>\n",
       "      <td id=\"T_69872_row8_col1\" class=\"data row8 col1\" >3</td>\n",
       "    </tr>\n",
       "    <tr>\n",
       "      <th id=\"T_69872_level0_row9\" class=\"row_heading level0 row9\" >9</th>\n",
       "      <td id=\"T_69872_row9_col0\" class=\"data row9 col0\" >শেষবার</td>\n",
       "      <td id=\"T_69872_row9_col1\" class=\"data row9 col1\" >3</td>\n",
       "    </tr>\n",
       "  </tbody>\n",
       "</table>\n"
      ],
      "text/plain": [
       "<pandas.io.formats.style.Styler at 0x1dd6aaf5410>"
      ]
     },
     "metadata": {},
     "output_type": "display_data"
    }
   ],
   "source": [
    "Unique_Negative= words_unique('negative', 10, raw_text)\n",
    "print(\"The top 10 unique words in Negative Tweets are:\")\n",
    "Unique_Negative.style.background_gradient(cmap='Reds')"
   ]
  },
  {
   "cell_type": "markdown",
   "id": "758d0acb",
   "metadata": {},
   "source": [
    "#### Neutral Unique"
   ]
  },
  {
   "cell_type": "code",
   "execution_count": null,
   "id": "4d735480",
   "metadata": {},
   "outputs": [
    {
     "name": "stdout",
     "output_type": "stream",
     "text": [
      "The top 10 unique words in Neutral Tweets are:\n"
     ]
    },
    {
     "data": {
      "text/html": [
       "<style type=\"text/css\">\n",
       "#T_8b036_row0_col1, #T_8b036_row1_col1, #T_8b036_row2_col1, #T_8b036_row3_col1, #T_8b036_row4_col1 {\n",
       "  background-color: #3f007d;\n",
       "  color: #f1f1f1;\n",
       "}\n",
       "#T_8b036_row5_col1, #T_8b036_row6_col1, #T_8b036_row7_col1, #T_8b036_row8_col1, #T_8b036_row9_col1 {\n",
       "  background-color: #fcfbfd;\n",
       "  color: #000000;\n",
       "}\n",
       "</style>\n",
       "<table id=\"T_8b036\">\n",
       "  <thead>\n",
       "    <tr>\n",
       "      <th class=\"blank level0\" >&nbsp;</th>\n",
       "      <th id=\"T_8b036_level0_col0\" class=\"col_heading level0 col0\" >words</th>\n",
       "      <th id=\"T_8b036_level0_col1\" class=\"col_heading level0 col1\" >count</th>\n",
       "    </tr>\n",
       "  </thead>\n",
       "  <tbody>\n",
       "    <tr>\n",
       "      <th id=\"T_8b036_level0_row0\" class=\"row_heading level0 row0\" >0</th>\n",
       "      <td id=\"T_8b036_row0_col0\" class=\"data row0 col0\" >ছুটিতে</td>\n",
       "      <td id=\"T_8b036_row0_col1\" class=\"data row0 col1\" >3</td>\n",
       "    </tr>\n",
       "    <tr>\n",
       "      <th id=\"T_8b036_level0_row1\" class=\"row_heading level0 row1\" >1</th>\n",
       "      <td id=\"T_8b036_row1_col0\" class=\"data row1 col0\" >পড়া</td>\n",
       "      <td id=\"T_8b036_row1_col1\" class=\"data row1 col1\" >3</td>\n",
       "    </tr>\n",
       "    <tr>\n",
       "      <th id=\"T_8b036_level0_row2\" class=\"row_heading level0 row2\" >2</th>\n",
       "      <td id=\"T_8b036_row2_col0\" class=\"data row2 col0\" >শুক্রবার</td>\n",
       "      <td id=\"T_8b036_row2_col1\" class=\"data row2 col1\" >3</td>\n",
       "    </tr>\n",
       "    <tr>\n",
       "      <th id=\"T_8b036_level0_row3\" class=\"row_heading level0 row3\" >3</th>\n",
       "      <td id=\"T_8b036_row3_col0\" class=\"data row3 col0\" >দম্পতি</td>\n",
       "      <td id=\"T_8b036_row3_col1\" class=\"data row3 col1\" >3</td>\n",
       "    </tr>\n",
       "    <tr>\n",
       "      <th id=\"T_8b036_level0_row4\" class=\"row_heading level0 row4\" >4</th>\n",
       "      <td id=\"T_8b036_row4_col0\" class=\"data row4 col0\" >পড়ার</td>\n",
       "      <td id=\"T_8b036_row4_col1\" class=\"data row4 col1\" >3</td>\n",
       "    </tr>\n",
       "    <tr>\n",
       "      <th id=\"T_8b036_level0_row5\" class=\"row_heading level0 row5\" >5</th>\n",
       "      <td id=\"T_8b036_row5_col0\" class=\"data row5 col0\" >করতে</td>\n",
       "      <td id=\"T_8b036_row5_col1\" class=\"data row5 col1\" >2</td>\n",
       "    </tr>\n",
       "    <tr>\n",
       "      <th id=\"T_8b036_level0_row6\" class=\"row_heading level0 row6\" >6</th>\n",
       "      <td id=\"T_8b036_row6_col0\" class=\"data row6 col0\" >সংস্থার</td>\n",
       "      <td id=\"T_8b036_row6_col1\" class=\"data row6 col1\" >2</td>\n",
       "    </tr>\n",
       "    <tr>\n",
       "      <th id=\"T_8b036_level0_row7\" class=\"row_heading level0 row7\" >7</th>\n",
       "      <td id=\"T_8b036_row7_col0\" class=\"data row7 col0\" >ভিত্তিতে</td>\n",
       "      <td id=\"T_8b036_row7_col1\" class=\"data row7 col1\" >2</td>\n",
       "    </tr>\n",
       "    <tr>\n",
       "      <th id=\"T_8b036_level0_row8\" class=\"row_heading level0 row8\" >8</th>\n",
       "      <td id=\"T_8b036_row8_col0\" class=\"data row8 col0\" >যেআমার</td>\n",
       "      <td id=\"T_8b036_row8_col1\" class=\"data row8 col1\" >2</td>\n",
       "    </tr>\n",
       "    <tr>\n",
       "      <th id=\"T_8b036_level0_row9\" class=\"row_heading level0 row9\" >9</th>\n",
       "      <td id=\"T_8b036_row9_col0\" class=\"data row9 col0\" >Ny</td>\n",
       "      <td id=\"T_8b036_row9_col1\" class=\"data row9 col1\" >2</td>\n",
       "    </tr>\n",
       "  </tbody>\n",
       "</table>\n"
      ],
      "text/plain": [
       "<pandas.io.formats.style.Styler at 0x1dd6a99cd10>"
      ]
     },
     "metadata": {},
     "output_type": "display_data"
    }
   ],
   "source": [
    "Unique_Neutral= words_unique('neutral', 10, raw_text)\n",
    "print(\"The top 10 unique words in Neutral Tweets are:\")\n",
    "Unique_Neutral.style.background_gradient(cmap='Purples')"
   ]
  }
 ],
 "metadata": {
  "kernelspec": {
   "display_name": "base",
   "language": "python",
   "name": "python3"
  },
  "language_info": {
   "codemirror_mode": {
    "name": "ipython",
    "version": 3
   },
   "file_extension": ".py",
   "mimetype": "text/x-python",
   "name": "python",
   "nbconvert_exporter": "python",
   "pygments_lexer": "ipython3",
   "version": "3.11.5"
  }
 },
 "nbformat": 4,
 "nbformat_minor": 5
}
