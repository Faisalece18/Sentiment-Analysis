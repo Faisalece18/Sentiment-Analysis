{
 "cells": [
  {
   "cell_type": "code",
   "execution_count": 379,
   "id": "b70c568a",
   "metadata": {},
   "outputs": [],
   "source": [
    "import numpy as np\n",
    "import pandas as pd\n",
    "import seaborn as sns\n",
    "from plotly import graph_objects as go\n",
    "from nltk.corpus import stopwords\n",
    "import re"
   ]
  },
  {
   "cell_type": "code",
   "execution_count": 380,
   "id": "f259c75f",
   "metadata": {},
   "outputs": [],
   "source": [
    "\n",
    "df = pd.read_excel('Datasets/news_comments_12000.xlsx')  \n"
   ]
  },
  {
   "cell_type": "code",
   "execution_count": 381,
   "id": "8ba582c3",
   "metadata": {},
   "outputs": [
    {
     "data": {
      "text/html": [
       "<div>\n",
       "<style scoped>\n",
       "    .dataframe tbody tr th:only-of-type {\n",
       "        vertical-align: middle;\n",
       "    }\n",
       "\n",
       "    .dataframe tbody tr th {\n",
       "        vertical-align: top;\n",
       "    }\n",
       "\n",
       "    .dataframe thead th {\n",
       "        text-align: right;\n",
       "    }\n",
       "</style>\n",
       "<table border=\"1\" class=\"dataframe\">\n",
       "  <thead>\n",
       "    <tr style=\"text-align: right;\">\n",
       "      <th></th>\n",
       "      <th>Unnamed: 0</th>\n",
       "      <th>Comment</th>\n",
       "      <th>Tag</th>\n",
       "    </tr>\n",
       "  </thead>\n",
       "  <tbody>\n",
       "    <tr>\n",
       "      <th>0</th>\n",
       "      <td>0</td>\n",
       "      <td>লিখার সময় পারলে সত্য লিখার অভ্যাস শিখুন।</td>\n",
       "      <td>Negative</td>\n",
       "    </tr>\n",
       "    <tr>\n",
       "      <th>1</th>\n",
       "      <td>1</td>\n",
       "      <td>এটা কেন হচ্ছে? সংশ্লিষ্ট সকলের ডিপ্রেশনের ফলে?...</td>\n",
       "      <td>Negative</td>\n",
       "    </tr>\n",
       "    <tr>\n",
       "      <th>2</th>\n",
       "      <td>2</td>\n",
       "      <td>আমাদের দেশের স্বাভাবিক অর্থনৈতিক গতিপ্রবাহকে ব...</td>\n",
       "      <td>Very Negative</td>\n",
       "    </tr>\n",
       "    <tr>\n",
       "      <th>3</th>\n",
       "      <td>3</td>\n",
       "      <td>চুরি নয় লুটপাট।</td>\n",
       "      <td>Very Negative</td>\n",
       "    </tr>\n",
       "    <tr>\n",
       "      <th>4</th>\n",
       "      <td>4</td>\n",
       "      <td>ইসলামী ব্যাংকের বর্তমান অবস্থা দেখে মনে হয় শাস...</td>\n",
       "      <td>Neutral</td>\n",
       "    </tr>\n",
       "  </tbody>\n",
       "</table>\n",
       "</div>"
      ],
      "text/plain": [
       "   Unnamed: 0                                            Comment  \\\n",
       "0           0           লিখার সময় পারলে সত্য লিখার অভ্যাস শিখুন।   \n",
       "1           1  এটা কেন হচ্ছে? সংশ্লিষ্ট সকলের ডিপ্রেশনের ফলে?...   \n",
       "2           2  আমাদের দেশের স্বাভাবিক অর্থনৈতিক গতিপ্রবাহকে ব...   \n",
       "3           3                                    চুরি নয় লুটপাট।   \n",
       "4           4  ইসলামী ব্যাংকের বর্তমান অবস্থা দেখে মনে হয় শাস...   \n",
       "\n",
       "             Tag  \n",
       "0       Negative  \n",
       "1       Negative  \n",
       "2  Very Negative  \n",
       "3  Very Negative  \n",
       "4        Neutral  "
      ]
     },
     "execution_count": 381,
     "metadata": {},
     "output_type": "execute_result"
    }
   ],
   "source": [
    "df.head(5)"
   ]
  },
  {
   "cell_type": "code",
   "execution_count": 382,
   "id": "1a956ab8",
   "metadata": {},
   "outputs": [],
   "source": [
    "df.drop(columns=['Unnamed: 0'], inplace=True)"
   ]
  },
  {
   "cell_type": "code",
   "execution_count": 383,
   "id": "acf7a12a",
   "metadata": {},
   "outputs": [],
   "source": [
    "#converting Very Negative and Very Positive to Negative and Positive\n",
    "df['Tag'] = df['Tag'].replace({\n",
    "    \"Very Positive\": \"Positive\",\n",
    "    \"Very Negative\": \"Negative\"\n",
    "})"
   ]
  },
  {
   "cell_type": "code",
   "execution_count": 384,
   "id": "52086d87",
   "metadata": {},
   "outputs": [
    {
     "data": {
      "text/html": [
       "<div>\n",
       "<style scoped>\n",
       "    .dataframe tbody tr th:only-of-type {\n",
       "        vertical-align: middle;\n",
       "    }\n",
       "\n",
       "    .dataframe tbody tr th {\n",
       "        vertical-align: top;\n",
       "    }\n",
       "\n",
       "    .dataframe thead th {\n",
       "        text-align: right;\n",
       "    }\n",
       "</style>\n",
       "<table border=\"1\" class=\"dataframe\">\n",
       "  <thead>\n",
       "    <tr style=\"text-align: right;\">\n",
       "      <th></th>\n",
       "      <th>Comment</th>\n",
       "      <th>Tag</th>\n",
       "      <th>sentiment</th>\n",
       "    </tr>\n",
       "  </thead>\n",
       "  <tbody>\n",
       "    <tr>\n",
       "      <th>0</th>\n",
       "      <td>লিখার সময় পারলে সত্য লিখার অভ্যাস শিখুন।</td>\n",
       "      <td>Negative</td>\n",
       "      <td>0</td>\n",
       "    </tr>\n",
       "    <tr>\n",
       "      <th>1</th>\n",
       "      <td>এটা কেন হচ্ছে? সংশ্লিষ্ট সকলের ডিপ্রেশনের ফলে?...</td>\n",
       "      <td>Negative</td>\n",
       "      <td>0</td>\n",
       "    </tr>\n",
       "    <tr>\n",
       "      <th>2</th>\n",
       "      <td>আমাদের দেশের স্বাভাবিক অর্থনৈতিক গতিপ্রবাহকে ব...</td>\n",
       "      <td>Negative</td>\n",
       "      <td>0</td>\n",
       "    </tr>\n",
       "    <tr>\n",
       "      <th>3</th>\n",
       "      <td>চুরি নয় লুটপাট।</td>\n",
       "      <td>Negative</td>\n",
       "      <td>0</td>\n",
       "    </tr>\n",
       "    <tr>\n",
       "      <th>4</th>\n",
       "      <td>ইসলামী ব্যাংকের বর্তমান অবস্থা দেখে মনে হয় শাস...</td>\n",
       "      <td>Neutral</td>\n",
       "      <td>2</td>\n",
       "    </tr>\n",
       "  </tbody>\n",
       "</table>\n",
       "</div>"
      ],
      "text/plain": [
       "                                             Comment       Tag  sentiment\n",
       "0           লিখার সময় পারলে সত্য লিখার অভ্যাস শিখুন।  Negative          0\n",
       "1  এটা কেন হচ্ছে? সংশ্লিষ্ট সকলের ডিপ্রেশনের ফলে?...  Negative          0\n",
       "2  আমাদের দেশের স্বাভাবিক অর্থনৈতিক গতিপ্রবাহকে ব...  Negative          0\n",
       "3                                    চুরি নয় লুটপাট।  Negative          0\n",
       "4  ইসলামী ব্যাংকের বর্তমান অবস্থা দেখে মনে হয় শাস...   Neutral          2"
      ]
     },
     "execution_count": 384,
     "metadata": {},
     "output_type": "execute_result"
    }
   ],
   "source": [
    "# Define the mapping\n",
    "tag_mapping = {\n",
    "    \"Negative\": 0,\n",
    "    \"Positive\": 1,\n",
    "    \"Neutral\": 2\n",
    "}\n",
    "\n",
    "# Create a new column with the mapped values\n",
    "df['sentiment'] = df['Tag'].map(tag_mapping)\n",
    "df.head(5)"
   ]
  },
  {
   "cell_type": "code",
   "execution_count": 385,
   "id": "0fb56916",
   "metadata": {},
   "outputs": [
    {
     "data": {
      "text/plain": [
       "Comment      0\n",
       "Tag          0\n",
       "sentiment    0\n",
       "dtype: int64"
      ]
     },
     "execution_count": 385,
     "metadata": {},
     "output_type": "execute_result"
    }
   ],
   "source": [
    "#check null values\n",
    "df.isnull().sum()"
   ]
  },
  {
   "cell_type": "code",
   "execution_count": 386,
   "id": "06c07cc8",
   "metadata": {},
   "outputs": [],
   "source": [
    "df.rename(columns={'Comment': 'text'}, inplace=True)"
   ]
  },
  {
   "cell_type": "markdown",
   "id": "82f4e47e",
   "metadata": {},
   "source": [
    "### EDA"
   ]
  },
  {
   "cell_type": "code",
   "execution_count": 388,
   "id": "b3d67f2e",
   "metadata": {},
   "outputs": [
    {
     "data": {
      "text/html": [
       "<div>\n",
       "<style scoped>\n",
       "    .dataframe tbody tr th:only-of-type {\n",
       "        vertical-align: middle;\n",
       "    }\n",
       "\n",
       "    .dataframe tbody tr th {\n",
       "        vertical-align: top;\n",
       "    }\n",
       "\n",
       "    .dataframe thead th {\n",
       "        text-align: right;\n",
       "    }\n",
       "</style>\n",
       "<table border=\"1\" class=\"dataframe\">\n",
       "  <thead>\n",
       "    <tr style=\"text-align: right;\">\n",
       "      <th></th>\n",
       "      <th>text</th>\n",
       "      <th>Tag</th>\n",
       "      <th>sentiment</th>\n",
       "    </tr>\n",
       "  </thead>\n",
       "  <tbody>\n",
       "    <tr>\n",
       "      <th>count</th>\n",
       "      <td>13802</td>\n",
       "      <td>13802</td>\n",
       "      <td>13802</td>\n",
       "    </tr>\n",
       "    <tr>\n",
       "      <th>unique</th>\n",
       "      <td>13542</td>\n",
       "      <td>3</td>\n",
       "      <td>3</td>\n",
       "    </tr>\n",
       "    <tr>\n",
       "      <th>top</th>\n",
       "      <td>@ আন্দালীব- তৃতীয় নাম প্রকাশে অনিচ্ছুক ব্যক্তি...</td>\n",
       "      <td>Negative</td>\n",
       "      <td>0</td>\n",
       "    </tr>\n",
       "    <tr>\n",
       "      <th>freq</th>\n",
       "      <td>2</td>\n",
       "      <td>7126</td>\n",
       "      <td>7126</td>\n",
       "    </tr>\n",
       "  </tbody>\n",
       "</table>\n",
       "</div>"
      ],
      "text/plain": [
       "                                                     text       Tag  sentiment\n",
       "count                                               13802     13802      13802\n",
       "unique                                              13542         3          3\n",
       "top     @ আন্দালীব- তৃতীয় নাম প্রকাশে অনিচ্ছুক ব্যক্তি...  Negative          0\n",
       "freq                                                    2      7126       7126"
      ]
     },
     "execution_count": 388,
     "metadata": {},
     "output_type": "execute_result"
    }
   ],
   "source": [
    "# Convert sentiment to a categorical type temporarily\n",
    "df['sentiment'] = df['sentiment'].astype('category')\n",
    "\n",
    "# Call describe again\n",
    "df.describe(include='all')"
   ]
  },
  {
   "cell_type": "code",
   "execution_count": 389,
   "id": "a03b360e",
   "metadata": {},
   "outputs": [
    {
     "data": {
      "text/html": [
       "<style type=\"text/css\">\n",
       "#T_236c9_row0_col1 {\n",
       "  background-color: #3f007d;\n",
       "  color: #f1f1f1;\n",
       "}\n",
       "#T_236c9_row1_col1 {\n",
       "  background-color: #e5e4f0;\n",
       "  color: #000000;\n",
       "}\n",
       "#T_236c9_row2_col1 {\n",
       "  background-color: #fcfbfd;\n",
       "  color: #000000;\n",
       "}\n",
       "</style>\n",
       "<table id=\"T_236c9\">\n",
       "  <thead>\n",
       "    <tr>\n",
       "      <th class=\"blank level0\" >&nbsp;</th>\n",
       "      <th id=\"T_236c9_level0_col0\" class=\"col_heading level0 col0\" >sentiment</th>\n",
       "      <th id=\"T_236c9_level0_col1\" class=\"col_heading level0 col1\" >text</th>\n",
       "    </tr>\n",
       "  </thead>\n",
       "  <tbody>\n",
       "    <tr>\n",
       "      <th id=\"T_236c9_level0_row0\" class=\"row_heading level0 row0\" >0</th>\n",
       "      <td id=\"T_236c9_row0_col0\" class=\"data row0 col0\" >negative</td>\n",
       "      <td id=\"T_236c9_row0_col1\" class=\"data row0 col1\" >7126</td>\n",
       "    </tr>\n",
       "    <tr>\n",
       "      <th id=\"T_236c9_level0_row1\" class=\"row_heading level0 row1\" >1</th>\n",
       "      <td id=\"T_236c9_row1_col0\" class=\"data row1 col0\" >positive</td>\n",
       "      <td id=\"T_236c9_row1_col1\" class=\"data row1 col1\" >3725</td>\n",
       "    </tr>\n",
       "    <tr>\n",
       "      <th id=\"T_236c9_level0_row2\" class=\"row_heading level0 row2\" >2</th>\n",
       "      <td id=\"T_236c9_row2_col0\" class=\"data row2 col0\" >neutral</td>\n",
       "      <td id=\"T_236c9_row2_col1\" class=\"data row2 col1\" >2951</td>\n",
       "    </tr>\n",
       "  </tbody>\n",
       "</table>\n"
      ],
      "text/plain": [
       "<pandas.io.formats.style.Styler at 0x19676f70a50>"
      ]
     },
     "execution_count": 389,
     "metadata": {},
     "output_type": "execute_result"
    }
   ],
   "source": [
    "\n",
    "temp = df.groupby('sentiment').count()['text'].reset_index()\n",
    "\n",
    "\n",
    "sentiment_mapping = {0: 'negative', 1: 'positive', 2: 'neutral'}\n",
    "temp['sentiment'] = temp['sentiment'].map(sentiment_mapping)\n",
    "\n",
    "\n",
    "temp = temp.sort_values(by='sentiment')\n",
    "\n",
    "temp.style.background_gradient(cmap='Purples')"
   ]
  },
  {
   "cell_type": "code",
   "execution_count": 390,
   "id": "47fcec63",
   "metadata": {},
   "outputs": [
    {
     "data": {
      "image/png": "[encoded data removed]",
      "text/plain": [
       "<Figure size 800x500 with 1 Axes>"
      ]
     },
     "metadata": {},
     "output_type": "display_data"
    }
   ],
   "source": [
    "plt.figure(figsize=(8, 5))\n",
    "sns.countplot(x='sentiment', data=df, palette='viridis')\n",
    "plt.title('Distribution of Types')\n",
    "plt.xlabel('sentiment')\n",
    "plt.ylabel('Count')\n",
    "plt.show()"
   ]
  },
  {
   "cell_type": "code",
   "execution_count": 391,
   "id": "20ed035a",
   "metadata": {},
   "outputs": [
    {
     "data": {
      "image/png": "[encoded data removed]",
      "text/plain": [
       "<Figure size 1000x600 with 1 Axes>"
      ]
     },
     "metadata": {},
     "output_type": "display_data"
    }
   ],
   "source": [
    "plt.figure(figsize=(10, 6))\n",
    "sns.countplot(y='Tag', data=df, palette='viridis', order=df['Tag'].value_counts().index)\n",
    "plt.title('Distribution of Tags')\n",
    "plt.xlabel('Count')\n",
    "plt.ylabel('Tag')\n",
    "plt.show()"
   ]
  },
  {
   "cell_type": "code",
   "execution_count": 392,
   "id": "7f473fe5",
   "metadata": {},
   "outputs": [
    {
     "data": {
      "application/vnd.plotly.v1+json": {
       "config": {
        "plotlyServerURL": "https://plot.ly"
       },
       "data": [
        {
         "text": [
          "negative",
          "positive",
          "neutral"
         ],
         "title": {
          "position": "top center",
          "text": "Funnel-Chart of Sentiment Distribution"
         },
         "type": "funnelarea",
         "values": [
          7126,
          3725,
          2951
         ]
        }
       ],
       "layout": {
        "template": {
         "data": {
          "bar": [
           {
            "error_x": {
             "color": "#2a3f5f"
            },
            "error_y": {
             "color": "#2a3f5f"
            },
            "marker": {
             "line": {
              "color": "#E5ECF6",
              "width": 0.5
             },
             "pattern": {
              "fillmode": "overlay",
              "size": 10,
              "solidity": 0.2
             }
            },
            "type": "bar"
           }
          ],
          "barpolar": [
           {
            "marker": {
             "line": {
              "color": "#E5ECF6",
              "width": 0.5
             },
             "pattern": {
              "fillmode": "overlay",
              "size": 10,
              "solidity": 0.2
             }
            },
            "type": "barpolar"
           }
          ],
          "carpet": [
           {
            "aaxis": {
             "endlinecolor": "#2a3f5f",
             "gridcolor": "white",
             "linecolor": "white",
             "minorgridcolor": "white",
             "startlinecolor": "#2a3f5f"
            },
            "baxis": {
             "endlinecolor": "#2a3f5f",
             "gridcolor": "white",
             "linecolor": "white",
             "minorgridcolor": "white",
             "startlinecolor": "#2a3f5f"
            },
            "type": "carpet"
           }
          ],
          "choropleth": [
           {
            "colorbar": {
             "outlinewidth": 0,
             "ticks": ""
            },
            "type": "choropleth"
           }
          ],
          "contour": [
           {
            "colorbar": {
             "outlinewidth": 0,
             "ticks": ""
            },
            "colorscale": [
             [
              0,
              "#0d0887"
             ],
             [
              0.1111111111111111,
              "#46039f"
             ],
             [
              0.2222222222222222,
              "#7201a8"
             ],
             [
              0.3333333333333333,
              "#9c179e"
             ],
             [
              0.4444444444444444,
              "#bd3786"
             ],
             [
              0.5555555555555556,
              "#d8576b"
             ],
             [
              0.6666666666666666,
              "#ed7953"
             ],
             [
              0.7777777777777778,
              "#fb9f3a"
             ],
             [
              0.8888888888888888,
              "#fdca26"
             ],
             [
              1,
              "#f0f921"
             ]
            ],
            "type": "contour"
           }
          ],
          "contourcarpet": [
           {
            "colorbar": {
             "outlinewidth": 0,
             "ticks": ""
            },
            "type": "contourcarpet"
           }
          ],
          "heatmap": [
           {
            "colorbar": {
             "outlinewidth": 0,
             "ticks": ""
            },
            "colorscale": [
             [
              0,
              "#0d0887"
             ],
             [
              0.1111111111111111,
              "#46039f"
             ],
             [
              0.2222222222222222,
              "#7201a8"
             ],
             [
              0.3333333333333333,
              "#9c179e"
             ],
             [
              0.4444444444444444,
              "#bd3786"
             ],
             [
              0.5555555555555556,
              "#d8576b"
             ],
             [
              0.6666666666666666,
              "#ed7953"
             ],
             [
              0.7777777777777778,
              "#fb9f3a"
             ],
             [
              0.8888888888888888,
              "#fdca26"
             ],
             [
              1,
              "#f0f921"
             ]
            ],
            "type": "heatmap"
           }
          ],
          "heatmapgl": [
           {
            "colorbar": {
             "outlinewidth": 0,
             "ticks": ""
            },
            "colorscale": [
             [
              0,
              "#0d0887"
             ],
             [
              0.1111111111111111,
              "#46039f"
             ],
             [
              0.2222222222222222,
              "#7201a8"
             ],
             [
              0.3333333333333333,
              "#9c179e"
             ],
             [
              0.4444444444444444,
              "#bd3786"
             ],
             [
              0.5555555555555556,
              "#d8576b"
             ],
             [
              0.6666666666666666,
              "#ed7953"
             ],
             [
              0.7777777777777778,
              "#fb9f3a"
             ],
             [
              0.8888888888888888,
              "#fdca26"
             ],
             [
              1,
              "#f0f921"
             ]
            ],
            "type": "heatmapgl"
           }
          ],
          "histogram": [
           {
            "marker": {
             "pattern": {
              "fillmode": "overlay",
              "size": 10,
              "solidity": 0.2
             }
            },
            "type": "histogram"
           }
          ],
          "histogram2d": [
           {
            "colorbar": {
             "outlinewidth": 0,
             "ticks": ""
            },
            "colorscale": [
             [
              0,
              "#0d0887"
             ],
             [
              0.1111111111111111,
              "#46039f"
             ],
             [
              0.2222222222222222,
              "#7201a8"
             ],
             [
              0.3333333333333333,
              "#9c179e"
             ],
             [
              0.4444444444444444,
              "#bd3786"
             ],
             [
              0.5555555555555556,
              "#d8576b"
             ],
             [
              0.6666666666666666,
              "#ed7953"
             ],
             [
              0.7777777777777778,
              "#fb9f3a"
             ],
             [
              0.8888888888888888,
              "#fdca26"
             ],
             [
              1,
              "#f0f921"
             ]
            ],
            "type": "histogram2d"
           }
          ],
          "histogram2dcontour": [
           {
            "colorbar": {
             "outlinewidth": 0,
             "ticks": ""
            },
            "colorscale": [
             [
              0,
              "#0d0887"
             ],
             [
              0.1111111111111111,
              "#46039f"
             ],
             [
              0.2222222222222222,
              "#7201a8"
             ],
             [
              0.3333333333333333,
              "#9c179e"
             ],
             [
              0.4444444444444444,
              "#bd3786"
             ],
             [
              0.5555555555555556,
              "#d8576b"
             ],
             [
              0.6666666666666666,
              "#ed7953"
             ],
             [
              0.7777777777777778,
              "#fb9f3a"
             ],
             [
              0.8888888888888888,
              "#fdca26"
             ],
             [
              1,
              "#f0f921"
             ]
            ],
            "type": "histogram2dcontour"
           }
          ],
          "mesh3d": [
           {
            "colorbar": {
             "outlinewidth": 0,
             "ticks": ""
            },
            "type": "mesh3d"
           }
          ],
          "parcoords": [
           {
            "line": {
             "colorbar": {
              "outlinewidth": 0,
              "ticks": ""
             }
            },
            "type": "parcoords"
           }
          ],
          "pie": [
           {
            "automargin": true,
            "type": "pie"
           }
          ],
          "scatter": [
           {
            "fillpattern": {
             "fillmode": "overlay",
             "size": 10,
             "solidity": 0.2
            },
            "type": "scatter"
           }
          ],
          "scatter3d": [
           {
            "line": {
             "colorbar": {
              "outlinewidth": 0,
              "ticks": ""
             }
            },
            "marker": {
             "colorbar": {
              "outlinewidth": 0,
              "ticks": ""
             }
            },
            "type": "scatter3d"
           }
          ],
          "scattercarpet": [
           {
            "marker": {
             "colorbar": {
              "outlinewidth": 0,
              "ticks": ""
             }
            },
            "type": "scattercarpet"
           }
          ],
          "scattergeo": [
           {
            "marker": {
             "colorbar": {
              "outlinewidth": 0,
              "ticks": ""
             }
            },
            "type": "scattergeo"
           }
          ],
          "scattergl": [
           {
            "marker": {
             "colorbar": {
              "outlinewidth": 0,
              "ticks": ""
             }
            },
            "type": "scattergl"
           }
          ],
          "scattermapbox": [
           {
            "marker": {
             "colorbar": {
              "outlinewidth": 0,
              "ticks": ""
             }
            },
            "type": "scattermapbox"
           }
          ],
          "scatterpolar": [
           {
            "marker": {
             "colorbar": {
              "outlinewidth": 0,
              "ticks": ""
             }
            },
            "type": "scatterpolar"
           }
          ],
          "scatterpolargl": [
           {
            "marker": {
             "colorbar": {
              "outlinewidth": 0,
              "ticks": ""
             }
            },
            "type": "scatterpolargl"
           }
          ],
          "scatterternary": [
           {
            "marker": {
             "colorbar": {
              "outlinewidth": 0,
              "ticks": ""
             }
            },
            "type": "scatterternary"
           }
          ],
          "surface": [
           {
            "colorbar": {
             "outlinewidth": 0,
             "ticks": ""
            },
            "colorscale": [
             [
              0,
              "#0d0887"
             ],
             [
              0.1111111111111111,
              "#46039f"
             ],
             [
              0.2222222222222222,
              "#7201a8"
             ],
             [
              0.3333333333333333,
              "#9c179e"
             ],
             [
              0.4444444444444444,
              "#bd3786"
             ],
             [
              0.5555555555555556,
              "#d8576b"
             ],
             [
              0.6666666666666666,
              "#ed7953"
             ],
             [
              0.7777777777777778,
              "#fb9f3a"
             ],
             [
              0.8888888888888888,
              "#fdca26"
             ],
             [
              1,
              "#f0f921"
             ]
            ],
            "type": "surface"
           }
          ],
          "table": [
           {
            "cells": {
             "fill": {
              "color": "#EBF0F8"
             },
             "line": {
              "color": "white"
             }
            },
            "header": {
             "fill": {
              "color": "#C8D4E3"
             },
             "line": {
              "color": "white"
             }
            },
            "type": "table"
           }
          ]
         },
         "layout": {
          "annotationdefaults": {
           "arrowcolor": "#2a3f5f",
           "arrowhead": 0,
           "arrowwidth": 1
          },
          "autotypenumbers": "strict",
          "coloraxis": {
           "colorbar": {
            "outlinewidth": 0,
            "ticks": ""
           }
          },
          "colorscale": {
           "diverging": [
            [
             0,
             "#8e0152"
            ],
            [
             0.1,
             "#c51b7d"
            ],
            [
             0.2,
             "#de77ae"
            ],
            [
             0.3,
             "#f1b6da"
            ],
            [
             0.4,
             "#fde0ef"
            ],
            [
             0.5,
             "#f7f7f7"
            ],
            [
             0.6,
             "#e6f5d0"
            ],
            [
             0.7,
             "#b8e186"
            ],
            [
             0.8,
             "#7fbc41"
            ],
            [
             0.9,
             "#4d9221"
            ],
            [
             1,
             "#276419"
            ]
           ],
           "sequential": [
            [
             0,
             "#0d0887"
            ],
            [
             0.1111111111111111,
             "#46039f"
            ],
            [
             0.2222222222222222,
             "#7201a8"
            ],
            [
             0.3333333333333333,
             "#9c179e"
            ],
            [
             0.4444444444444444,
             "#bd3786"
            ],
            [
             0.5555555555555556,
             "#d8576b"
            ],
            [
             0.6666666666666666,
             "#ed7953"
            ],
            [
             0.7777777777777778,
             "#fb9f3a"
            ],
            [
             0.8888888888888888,
             "#fdca26"
            ],
            [
             1,
             "#f0f921"
            ]
           ],
           "sequentialminus": [
            [
             0,
             "#0d0887"
            ],
            [
             0.1111111111111111,
             "#46039f"
            ],
            [
             0.2222222222222222,
             "#7201a8"
            ],
            [
             0.3333333333333333,
             "#9c179e"
            ],
            [
             0.4444444444444444,
             "#bd3786"
            ],
            [
             0.5555555555555556,
             "#d8576b"
            ],
            [
             0.6666666666666666,
             "#ed7953"
            ],
            [
             0.7777777777777778,
             "#fb9f3a"
            ],
            [
             0.8888888888888888,
             "#fdca26"
            ],
            [
             1,
             "#f0f921"
            ]
           ]
          },
          "colorway": [
           "#636efa",
           "#EF553B",
           "#00cc96",
           "#ab63fa",
           "#FFA15A",
           "#19d3f3",
           "#FF6692",
           "#B6E880",
           "#FF97FF",
           "#FECB52"
          ],
          "font": {
           "color": "#2a3f5f"
          },
          "geo": {
           "bgcolor": "white",
           "lakecolor": "white",
           "landcolor": "#E5ECF6",
           "showlakes": true,
           "showland": true,
           "subunitcolor": "white"
          },
          "hoverlabel": {
           "align": "left"
          },
          "hovermode": "closest",
          "mapbox": {
           "style": "light"
          },
          "paper_bgcolor": "white",
          "plot_bgcolor": "#E5ECF6",
          "polar": {
           "angularaxis": {
            "gridcolor": "white",
            "linecolor": "white",
            "ticks": ""
           },
           "bgcolor": "#E5ECF6",
           "radialaxis": {
            "gridcolor": "white",
            "linecolor": "white",
            "ticks": ""
           }
          },
          "scene": {
           "xaxis": {
            "backgroundcolor": "#E5ECF6",
            "gridcolor": "white",
            "gridwidth": 2,
            "linecolor": "white",
            "showbackground": true,
            "ticks": "",
            "zerolinecolor": "white"
           },
           "yaxis": {
            "backgroundcolor": "#E5ECF6",
            "gridcolor": "white",
            "gridwidth": 2,
            "linecolor": "white",
            "showbackground": true,
            "ticks": "",
            "zerolinecolor": "white"
           },
           "zaxis": {
            "backgroundcolor": "#E5ECF6",
            "gridcolor": "white",
            "gridwidth": 2,
            "linecolor": "white",
            "showbackground": true,
            "ticks": "",
            "zerolinecolor": "white"
           }
          },
          "shapedefaults": {
           "line": {
            "color": "#2a3f5f"
           }
          },
          "ternary": {
           "aaxis": {
            "gridcolor": "white",
            "linecolor": "white",
            "ticks": ""
           },
           "baxis": {
            "gridcolor": "white",
            "linecolor": "white",
            "ticks": ""
           },
           "bgcolor": "#E5ECF6",
           "caxis": {
            "gridcolor": "white",
            "linecolor": "white",
            "ticks": ""
           }
          },
          "title": {
           "x": 0.05
          },
          "xaxis": {
           "automargin": true,
           "gridcolor": "white",
           "linecolor": "white",
           "ticks": "",
           "title": {
            "standoff": 15
           },
           "zerolinecolor": "white",
           "zerolinewidth": 2
          },
          "yaxis": {
           "automargin": true,
           "gridcolor": "white",
           "linecolor": "white",
           "ticks": "",
           "title": {
            "standoff": 15
           },
           "zerolinecolor": "white",
           "zerolinewidth": 2
          }
         }
        }
       }
      }
     },
     "metadata": {},
     "output_type": "display_data"
    }
   ],
   "source": [
    "from plotly import graph_objs as go\n",
    "\n",
    "fig = go.Figure(go.Funnelarea(\n",
    "    text=temp.sentiment,\n",
    "    values=temp.text,\n",
    "    title={\"position\": \"top center\", \"text\": \"Funnel-Chart of Sentiment Distribution\"}\n",
    "))\n",
    "fig.show()"
   ]
  },
  {
   "cell_type": "markdown",
   "id": "067ce396",
   "metadata": {},
   "source": [
    "#### Most common WOrds"
   ]
  },
  {
   "cell_type": "code",
   "execution_count": 393,
   "id": "7c592af5",
   "metadata": {},
   "outputs": [
    {
     "data": {
      "text/html": [
       "<style type=\"text/css\">\n",
       "#T_7c36a_row0_col1 {\n",
       "  background-color: #08306b;\n",
       "  color: #f1f1f1;\n",
       "}\n",
       "#T_7c36a_row1_col1 {\n",
       "  background-color: #125ea6;\n",
       "  color: #f1f1f1;\n",
       "}\n",
       "#T_7c36a_row2_col1 {\n",
       "  background-color: #1562a9;\n",
       "  color: #f1f1f1;\n",
       "}\n",
       "#T_7c36a_row3_col1 {\n",
       "  background-color: #3d8dc4;\n",
       "  color: #f1f1f1;\n",
       "}\n",
       "#T_7c36a_row4_col1 {\n",
       "  background-color: #529dcc;\n",
       "  color: #f1f1f1;\n",
       "}\n",
       "#T_7c36a_row5_col1 {\n",
       "  background-color: #6aaed6;\n",
       "  color: #f1f1f1;\n",
       "}\n",
       "#T_7c36a_row6_col1 {\n",
       "  background-color: #cde0f1;\n",
       "  color: #000000;\n",
       "}\n",
       "#T_7c36a_row7_col1 {\n",
       "  background-color: #cfe1f2;\n",
       "  color: #000000;\n",
       "}\n",
       "#T_7c36a_row8_col1 {\n",
       "  background-color: #d1e2f3;\n",
       "  color: #000000;\n",
       "}\n",
       "#T_7c36a_row9_col1 {\n",
       "  background-color: #d7e6f5;\n",
       "  color: #000000;\n",
       "}\n",
       "#T_7c36a_row10_col1, #T_7c36a_row11_col1 {\n",
       "  background-color: #d9e8f5;\n",
       "  color: #000000;\n",
       "}\n",
       "#T_7c36a_row12_col1 {\n",
       "  background-color: #dce9f6;\n",
       "  color: #000000;\n",
       "}\n",
       "#T_7c36a_row13_col1 {\n",
       "  background-color: #e2edf8;\n",
       "  color: #000000;\n",
       "}\n",
       "#T_7c36a_row14_col1 {\n",
       "  background-color: #e3eef9;\n",
       "  color: #000000;\n",
       "}\n",
       "#T_7c36a_row15_col1 {\n",
       "  background-color: #e7f1fa;\n",
       "  color: #000000;\n",
       "}\n",
       "#T_7c36a_row16_col1 {\n",
       "  background-color: #eaf3fb;\n",
       "  color: #000000;\n",
       "}\n",
       "#T_7c36a_row17_col1 {\n",
       "  background-color: #f5f9fe;\n",
       "  color: #000000;\n",
       "}\n",
       "#T_7c36a_row18_col1, #T_7c36a_row19_col1 {\n",
       "  background-color: #f7fbff;\n",
       "  color: #000000;\n",
       "}\n",
       "</style>\n",
       "<table id=\"T_7c36a\">\n",
       "  <thead>\n",
       "    <tr>\n",
       "      <th class=\"blank level0\" >&nbsp;</th>\n",
       "      <th id=\"T_7c36a_level0_col0\" class=\"col_heading level0 col0\" >Common_words</th>\n",
       "      <th id=\"T_7c36a_level0_col1\" class=\"col_heading level0 col1\" >count</th>\n",
       "    </tr>\n",
       "  </thead>\n",
       "  <tbody>\n",
       "    <tr>\n",
       "      <th id=\"T_7c36a_level0_row0\" class=\"row_heading level0 row0\" >0</th>\n",
       "      <td id=\"T_7c36a_row0_col0\" class=\"data row0 col0\" >না</td>\n",
       "      <td id=\"T_7c36a_row0_col1\" class=\"data row0 col1\" >2708</td>\n",
       "    </tr>\n",
       "    <tr>\n",
       "      <th id=\"T_7c36a_level0_row1\" class=\"row_heading level0 row1\" >1</th>\n",
       "      <td id=\"T_7c36a_row1_col0\" class=\"data row1 col0\" >আর</td>\n",
       "      <td id=\"T_7c36a_row1_col1\" class=\"data row1 col1\" >2388</td>\n",
       "    </tr>\n",
       "    <tr>\n",
       "      <th id=\"T_7c36a_level0_row2\" class=\"row_heading level0 row2\" >2</th>\n",
       "      <td id=\"T_7c36a_row2_col0\" class=\"data row2 col0\" >করে</td>\n",
       "      <td id=\"T_7c36a_row2_col1\" class=\"data row2 col1\" >2363</td>\n",
       "    </tr>\n",
       "    <tr>\n",
       "      <th id=\"T_7c36a_level0_row3\" class=\"row_heading level0 row3\" >3</th>\n",
       "      <td id=\"T_7c36a_row3_col0\" class=\"data row3 col0\" >এই</td>\n",
       "      <td id=\"T_7c36a_row3_col1\" class=\"data row3 col1\" >2067</td>\n",
       "    </tr>\n",
       "    <tr>\n",
       "      <th id=\"T_7c36a_level0_row4\" class=\"row_heading level0 row4\" >4</th>\n",
       "      <td id=\"T_7c36a_row4_col0\" class=\"data row4 col0\" >কি</td>\n",
       "      <td id=\"T_7c36a_row4_col1\" class=\"data row4 col1\" >1945</td>\n",
       "    </tr>\n",
       "    <tr>\n",
       "      <th id=\"T_7c36a_level0_row5\" class=\"row_heading level0 row5\" >5</th>\n",
       "      <td id=\"T_7c36a_row5_col0\" class=\"data row5 col0\" >।</td>\n",
       "      <td id=\"T_7c36a_row5_col1\" class=\"data row5 col1\" >1809</td>\n",
       "    </tr>\n",
       "    <tr>\n",
       "      <th id=\"T_7c36a_level0_row6\" class=\"row_heading level0 row6\" >6</th>\n",
       "      <td id=\"T_7c36a_row6_col0\" class=\"data row6 col0\" >না।</td>\n",
       "      <td id=\"T_7c36a_row6_col1\" class=\"data row6 col1\" >1296</td>\n",
       "    </tr>\n",
       "    <tr>\n",
       "      <th id=\"T_7c36a_level0_row7\" class=\"row_heading level0 row7\" >7</th>\n",
       "      <td id=\"T_7c36a_row7_col0\" class=\"data row7 col0\" >ও</td>\n",
       "      <td id=\"T_7c36a_row7_col1\" class=\"data row7 col1\" >1281</td>\n",
       "    </tr>\n",
       "    <tr>\n",
       "      <th id=\"T_7c36a_level0_row8\" class=\"row_heading level0 row8\" >8</th>\n",
       "      <td id=\"T_7c36a_row8_col0\" class=\"data row8 col0\" >করা</td>\n",
       "      <td id=\"T_7c36a_row8_col1\" class=\"data row8 col1\" >1260</td>\n",
       "    </tr>\n",
       "    <tr>\n",
       "      <th id=\"T_7c36a_level0_row9\" class=\"row_heading level0 row9\" >9</th>\n",
       "      <td id=\"T_7c36a_row9_col0\" class=\"data row9 col0\" >জন্য</td>\n",
       "      <td id=\"T_7c36a_row9_col1\" class=\"data row9 col1\" >1200</td>\n",
       "    </tr>\n",
       "    <tr>\n",
       "      <th id=\"T_7c36a_level0_row10\" class=\"row_heading level0 row10\" >10</th>\n",
       "      <td id=\"T_7c36a_row10_col0\" class=\"data row10 col0\" >থেকে</td>\n",
       "      <td id=\"T_7c36a_row10_col1\" class=\"data row10 col1\" >1183</td>\n",
       "    </tr>\n",
       "    <tr>\n",
       "      <th id=\"T_7c36a_level0_row11\" class=\"row_heading level0 row11\" >11</th>\n",
       "      <td id=\"T_7c36a_row11_col0\" class=\"data row11 col0\" >যে</td>\n",
       "      <td id=\"T_7c36a_row11_col1\" class=\"data row11 col1\" >1181</td>\n",
       "    </tr>\n",
       "    <tr>\n",
       "      <th id=\"T_7c36a_level0_row12\" class=\"row_heading level0 row12\" >12</th>\n",
       "      <td id=\"T_7c36a_row12_col0\" class=\"data row12 col0\" >কোন</td>\n",
       "      <td id=\"T_7c36a_row12_col1\" class=\"data row12 col1\" >1160</td>\n",
       "    </tr>\n",
       "    <tr>\n",
       "      <th id=\"T_7c36a_level0_row13\" class=\"row_heading level0 row13\" >13</th>\n",
       "      <td id=\"T_7c36a_row13_col0\" class=\"data row13 col0\" >তো</td>\n",
       "      <td id=\"T_7c36a_row13_col1\" class=\"data row13 col1\" >1103</td>\n",
       "    </tr>\n",
       "    <tr>\n",
       "      <th id=\"T_7c36a_level0_row14\" class=\"row_heading level0 row14\" >14</th>\n",
       "      <td id=\"T_7c36a_row14_col0\" class=\"data row14 col0\" >করতে</td>\n",
       "      <td id=\"T_7c36a_row14_col1\" class=\"data row14 col1\" >1088</td>\n",
       "    </tr>\n",
       "    <tr>\n",
       "      <th id=\"T_7c36a_level0_row15\" class=\"row_heading level0 row15\" >15</th>\n",
       "      <td id=\"T_7c36a_row15_col0\" class=\"data row15 col0\" >হবে</td>\n",
       "      <td id=\"T_7c36a_row15_col1\" class=\"data row15 col1\" >1052</td>\n",
       "    </tr>\n",
       "    <tr>\n",
       "      <th id=\"T_7c36a_level0_row16\" class=\"row_heading level0 row16\" >16</th>\n",
       "      <td id=\"T_7c36a_row16_col0\" class=\"data row16 col0\" >টাকা</td>\n",
       "      <td id=\"T_7c36a_row16_col1\" class=\"data row16 col1\" >1027</td>\n",
       "    </tr>\n",
       "    <tr>\n",
       "      <th id=\"T_7c36a_level0_row17\" class=\"row_heading level0 row17\" >17</th>\n",
       "      <td id=\"T_7c36a_row17_col0\" class=\"data row17 col0\" >আমাদের</td>\n",
       "      <td id=\"T_7c36a_row17_col1\" class=\"data row17 col1\" >937</td>\n",
       "    </tr>\n",
       "    <tr>\n",
       "      <th id=\"T_7c36a_level0_row18\" class=\"row_heading level0 row18\" >18</th>\n",
       "      <td id=\"T_7c36a_row18_col0\" class=\"data row18 col0\" >হয়</td>\n",
       "      <td id=\"T_7c36a_row18_col1\" class=\"data row18 col1\" >915</td>\n",
       "    </tr>\n",
       "    <tr>\n",
       "      <th id=\"T_7c36a_level0_row19\" class=\"row_heading level0 row19\" >19</th>\n",
       "      <td id=\"T_7c36a_row19_col0\" class=\"data row19 col0\" >এর</td>\n",
       "      <td id=\"T_7c36a_row19_col1\" class=\"data row19 col1\" >910</td>\n",
       "    </tr>\n",
       "  </tbody>\n",
       "</table>\n"
      ],
      "text/plain": [
       "<pandas.io.formats.style.Styler at 0x196707da750>"
      ]
     },
     "execution_count": 393,
     "metadata": {},
     "output_type": "execute_result"
    }
   ],
   "source": [
    "from collections import Counter\n",
    "\n",
    "df['temp_list'] = df['text'].apply(lambda x:str(x).split())\n",
    "top = Counter([item for sublist in df['temp_list'] for item in sublist])\n",
    "temp = pd.DataFrame(top.most_common(20))\n",
    "temp.columns = ['Common_words','count']\n",
    "temp.style.background_gradient(cmap='Blues')"
   ]
  },
  {
   "cell_type": "code",
   "execution_count": 401,
   "id": "b04606f8",
   "metadata": {},
   "outputs": [],
   "source": [
    "df['temp_list'] = df['text'].apply(lambda x: str(x).split())\n",
    "def remove_stopword(x):\n",
    "    return [y for y in x if y not in stopwords.words('bengali')]\n",
    "df['temp_list'] = df['temp_list'].apply(remove_stopword)"
   ]
  },
  {
   "cell_type": "code",
   "execution_count": 402,
   "id": "292691a0",
   "metadata": {},
   "outputs": [],
   "source": [
    "# Remove punctuation\n",
    "def remove_punctuation(temp_list):\n",
    "    return [re.sub(r'[“”\"\\'।।.,!?()\\[\\]{}<>;:।‘’–—…]', '', word) for word in temp_list]\n",
    "\n",
    "df['temp_list'] = df['temp_list'].apply(remove_punctuation)"
   ]
  },
  {
   "cell_type": "markdown",
   "id": "c3ceb4bc",
   "metadata": {},
   "source": [
    "#### Most common words after removing stopwords"
   ]
  },
  {
   "cell_type": "code",
   "execution_count": 404,
   "id": "5a5525c5",
   "metadata": {},
   "outputs": [],
   "source": [
    "def remove_space(x):\n",
    "    return [y for y in x if y != '']\n",
    "df['temp_list'] = df['temp_list'].apply(remove_space)"
   ]
  },
  {
   "cell_type": "code",
   "execution_count": 405,
   "id": "43a2ef13",
   "metadata": {},
   "outputs": [
    {
     "data": {
      "text/html": [
       "<style type=\"text/css\">\n",
       "#T_58fd2_row0_col1 {\n",
       "  background-color: #08306b;\n",
       "  color: #f1f1f1;\n",
       "}\n",
       "#T_58fd2_row1_col1 {\n",
       "  background-color: #89bedc;\n",
       "  color: #000000;\n",
       "}\n",
       "#T_58fd2_row2_col1 {\n",
       "  background-color: #b9d6ea;\n",
       "  color: #000000;\n",
       "}\n",
       "#T_58fd2_row3_col1 {\n",
       "  background-color: #c1d9ed;\n",
       "  color: #000000;\n",
       "}\n",
       "#T_58fd2_row4_col1 {\n",
       "  background-color: #c3daee;\n",
       "  color: #000000;\n",
       "}\n",
       "#T_58fd2_row5_col1 {\n",
       "  background-color: #d0e1f2;\n",
       "  color: #000000;\n",
       "}\n",
       "#T_58fd2_row6_col1 {\n",
       "  background-color: #d6e6f4;\n",
       "  color: #000000;\n",
       "}\n",
       "#T_58fd2_row7_col1 {\n",
       "  background-color: #ddeaf7;\n",
       "  color: #000000;\n",
       "}\n",
       "#T_58fd2_row8_col1 {\n",
       "  background-color: #dfecf7;\n",
       "  color: #000000;\n",
       "}\n",
       "#T_58fd2_row9_col1 {\n",
       "  background-color: #e1edf8;\n",
       "  color: #000000;\n",
       "}\n",
       "#T_58fd2_row10_col1, #T_58fd2_row11_col1 {\n",
       "  background-color: #e7f0fa;\n",
       "  color: #000000;\n",
       "}\n",
       "#T_58fd2_row12_col1 {\n",
       "  background-color: #ecf4fb;\n",
       "  color: #000000;\n",
       "}\n",
       "#T_58fd2_row13_col1 {\n",
       "  background-color: #edf4fc;\n",
       "  color: #000000;\n",
       "}\n",
       "#T_58fd2_row14_col1 {\n",
       "  background-color: #eef5fc;\n",
       "  color: #000000;\n",
       "}\n",
       "#T_58fd2_row15_col1 {\n",
       "  background-color: #f5f9fe;\n",
       "  color: #000000;\n",
       "}\n",
       "#T_58fd2_row16_col1 {\n",
       "  background-color: #f5fafe;\n",
       "  color: #000000;\n",
       "}\n",
       "#T_58fd2_row17_col1, #T_58fd2_row18_col1, #T_58fd2_row19_col1 {\n",
       "  background-color: #f7fbff;\n",
       "  color: #000000;\n",
       "}\n",
       "</style>\n",
       "<table id=\"T_58fd2\">\n",
       "  <thead>\n",
       "    <tr>\n",
       "      <th class=\"blank level0\" >&nbsp;</th>\n",
       "      <th id=\"T_58fd2_level0_col0\" class=\"col_heading level0 col0\" >Common_words</th>\n",
       "      <th id=\"T_58fd2_level0_col1\" class=\"col_heading level0 col1\" >count</th>\n",
       "    </tr>\n",
       "  </thead>\n",
       "  <tbody>\n",
       "    <tr>\n",
       "      <th id=\"T_58fd2_level0_row0\" class=\"row_heading level0 row0\" >0</th>\n",
       "      <td id=\"T_58fd2_row0_col0\" class=\"data row0 col0\" >না</td>\n",
       "      <td id=\"T_58fd2_row0_col1\" class=\"data row0 col1\" >1969</td>\n",
       "    </tr>\n",
       "    <tr>\n",
       "      <th id=\"T_58fd2_level0_row1\" class=\"row_heading level0 row1\" >1</th>\n",
       "      <td id=\"T_58fd2_row1_col0\" class=\"data row1 col0\" >টাকা</td>\n",
       "      <td id=\"T_58fd2_row1_col1\" class=\"data row1 col1\" >1123</td>\n",
       "    </tr>\n",
       "    <tr>\n",
       "      <th id=\"T_58fd2_level0_row2\" class=\"row_heading level0 row2\" >2</th>\n",
       "      <td id=\"T_58fd2_row2_col0\" class=\"data row2 col0\" >কথা</td>\n",
       "      <td id=\"T_58fd2_row2_col1\" class=\"data row2 col1\" >920</td>\n",
       "    </tr>\n",
       "    <tr>\n",
       "      <th id=\"T_58fd2_level0_row3\" class=\"row_heading level0 row3\" >3</th>\n",
       "      <td id=\"T_58fd2_row3_col0\" class=\"data row3 col0\" >হবে</td>\n",
       "      <td id=\"T_58fd2_row3_col1\" class=\"data row3 col1\" >883</td>\n",
       "    </tr>\n",
       "    <tr>\n",
       "      <th id=\"T_58fd2_level0_row4\" class=\"row_heading level0 row4\" >4</th>\n",
       "      <td id=\"T_58fd2_row4_col0\" class=\"data row4 col0\" >দেশের</td>\n",
       "      <td id=\"T_58fd2_row4_col1\" class=\"data row4 col1\" >871</td>\n",
       "    </tr>\n",
       "    <tr>\n",
       "      <th id=\"T_58fd2_level0_row5\" class=\"row_heading level0 row5\" >5</th>\n",
       "      <td id=\"T_58fd2_row5_col0\" class=\"data row5 col0\" >হয়ে</td>\n",
       "      <td id=\"T_58fd2_row5_col1\" class=\"data row5 col1\" >783</td>\n",
       "    </tr>\n",
       "    <tr>\n",
       "      <th id=\"T_58fd2_level0_row6\" class=\"row_heading level0 row6\" >6</th>\n",
       "      <td id=\"T_58fd2_row6_col0\" class=\"data row6 col0\" >দিয়ে</td>\n",
       "      <td id=\"T_58fd2_row6_col1\" class=\"data row6 col1\" >733</td>\n",
       "    </tr>\n",
       "    <tr>\n",
       "      <th id=\"T_58fd2_level0_row7\" class=\"row_heading level0 row7\" >7</th>\n",
       "      <td id=\"T_58fd2_row7_col0\" class=\"data row7 col0\" >যায়</td>\n",
       "      <td id=\"T_58fd2_row7_col1\" class=\"data row7 col1\" >680</td>\n",
       "    </tr>\n",
       "    <tr>\n",
       "      <th id=\"T_58fd2_level0_row8\" class=\"row_heading level0 row8\" >8</th>\n",
       "      <td id=\"T_58fd2_row8_col0\" class=\"data row8 col0\" >একটা</td>\n",
       "      <td id=\"T_58fd2_row8_col1\" class=\"data row8 col1\" >664</td>\n",
       "    </tr>\n",
       "    <tr>\n",
       "      <th id=\"T_58fd2_level0_row9\" class=\"row_heading level0 row9\" >9</th>\n",
       "      <td id=\"T_58fd2_row9_col0\" class=\"data row9 col0\" >সাথে</td>\n",
       "      <td id=\"T_58fd2_row9_col1\" class=\"data row9 col1\" >650</td>\n",
       "    </tr>\n",
       "    <tr>\n",
       "      <th id=\"T_58fd2_level0_row10\" class=\"row_heading level0 row10\" >10</th>\n",
       "      <td id=\"T_58fd2_row10_col0\" class=\"data row10 col0\" >সরকার</td>\n",
       "      <td id=\"T_58fd2_row10_col1\" class=\"data row10 col1\" >612</td>\n",
       "    </tr>\n",
       "    <tr>\n",
       "      <th id=\"T_58fd2_level0_row11\" class=\"row_heading level0 row11\" >11</th>\n",
       "      <td id=\"T_58fd2_row11_col0\" class=\"data row11 col0\" >ভালো</td>\n",
       "      <td id=\"T_58fd2_row11_col1\" class=\"data row11 col1\" >612</td>\n",
       "    </tr>\n",
       "    <tr>\n",
       "      <th id=\"T_58fd2_level0_row12\" class=\"row_heading level0 row12\" >12</th>\n",
       "      <td id=\"T_58fd2_row12_col0\" class=\"data row12 col0\" >হয়েছে</td>\n",
       "      <td id=\"T_58fd2_row12_col1\" class=\"data row12 col1\" >570</td>\n",
       "    </tr>\n",
       "    <tr>\n",
       "      <th id=\"T_58fd2_level0_row13\" class=\"row_heading level0 row13\" >13</th>\n",
       "      <td id=\"T_58fd2_row13_col0\" class=\"data row13 col0\" >বাংলাদেশ</td>\n",
       "      <td id=\"T_58fd2_row13_col1\" class=\"data row13 col1\" >565</td>\n",
       "    </tr>\n",
       "    <tr>\n",
       "      <th id=\"T_58fd2_level0_row14\" class=\"row_heading level0 row14\" >14</th>\n",
       "      <td id=\"T_58fd2_row14_col0\" class=\"data row14 col0\" >দেশে</td>\n",
       "      <td id=\"T_58fd2_row14_col1\" class=\"data row14 col1\" >552</td>\n",
       "    </tr>\n",
       "    <tr>\n",
       "      <th id=\"T_58fd2_level0_row15\" class=\"row_heading level0 row15\" >15</th>\n",
       "      <td id=\"T_58fd2_row15_col0\" class=\"data row15 col0\" >এক</td>\n",
       "      <td id=\"T_58fd2_row15_col1\" class=\"data row15 col1\" >508</td>\n",
       "    </tr>\n",
       "    <tr>\n",
       "      <th id=\"T_58fd2_level0_row16\" class=\"row_heading level0 row16\" >16</th>\n",
       "      <td id=\"T_58fd2_row16_col0\" class=\"data row16 col0\" >মানুষ</td>\n",
       "      <td id=\"T_58fd2_row16_col1\" class=\"data row16 col1\" >502</td>\n",
       "    </tr>\n",
       "    <tr>\n",
       "      <th id=\"T_58fd2_level0_row17\" class=\"row_heading level0 row17\" >17</th>\n",
       "      <td id=\"T_58fd2_row17_col0\" class=\"data row17 col0\" >মত</td>\n",
       "      <td id=\"T_58fd2_row17_col1\" class=\"data row17 col1\" >488</td>\n",
       "    </tr>\n",
       "    <tr>\n",
       "      <th id=\"T_58fd2_level0_row18\" class=\"row_heading level0 row18\" >18</th>\n",
       "      <td id=\"T_58fd2_row18_col0\" class=\"data row18 col0\" >হয়</td>\n",
       "      <td id=\"T_58fd2_row18_col1\" class=\"data row18 col1\" >488</td>\n",
       "    </tr>\n",
       "    <tr>\n",
       "      <th id=\"T_58fd2_level0_row19\" class=\"row_heading level0 row19\" >19</th>\n",
       "      <td id=\"T_58fd2_row19_col0\" class=\"data row19 col0\" >বড়</td>\n",
       "      <td id=\"T_58fd2_row19_col1\" class=\"data row19 col1\" >487</td>\n",
       "    </tr>\n",
       "  </tbody>\n",
       "</table>\n"
      ],
      "text/plain": [
       "<pandas.io.formats.style.Styler at 0x196083ecb90>"
      ]
     },
     "execution_count": 405,
     "metadata": {},
     "output_type": "execute_result"
    }
   ],
   "source": [
    "top = Counter([item for sublist in df['temp_list'] for item in sublist])\n",
    "temp = pd.DataFrame(top.most_common(20))\n",
    "temp.columns = ['Common_words','count']\n",
    "temp.style.background_gradient(cmap='Blues')"
   ]
  },
  {
   "cell_type": "markdown",
   "id": "7ec46016",
   "metadata": {},
   "source": [
    "#### Most common words Sentiments Wise"
   ]
  },
  {
   "cell_type": "code",
   "execution_count": 410,
   "id": "04bbab17",
   "metadata": {},
   "outputs": [
    {
     "data": {
      "text/html": [
       "<div>\n",
       "<style scoped>\n",
       "    .dataframe tbody tr th:only-of-type {\n",
       "        vertical-align: middle;\n",
       "    }\n",
       "\n",
       "    .dataframe tbody tr th {\n",
       "        vertical-align: top;\n",
       "    }\n",
       "\n",
       "    .dataframe thead th {\n",
       "        text-align: right;\n",
       "    }\n",
       "</style>\n",
       "<table border=\"1\" class=\"dataframe\">\n",
       "  <thead>\n",
       "    <tr style=\"text-align: right;\">\n",
       "      <th></th>\n",
       "      <th>text</th>\n",
       "      <th>Tag</th>\n",
       "      <th>sentiment</th>\n",
       "      <th>temp_list</th>\n",
       "    </tr>\n",
       "  </thead>\n",
       "  <tbody>\n",
       "    <tr>\n",
       "      <th>0</th>\n",
       "      <td>লিখার সময় পারলে সত্য লিখার অভ্যাস শিখুন।</td>\n",
       "      <td>Negative</td>\n",
       "      <td>0</td>\n",
       "      <td>[লিখার, সময়, পারলে, সত্য, লিখার, অভ্যাস, শিখুন]</td>\n",
       "    </tr>\n",
       "    <tr>\n",
       "      <th>1</th>\n",
       "      <td>এটা কেন হচ্ছে? সংশ্লিষ্ট সকলের ডিপ্রেশনের ফলে?...</td>\n",
       "      <td>Negative</td>\n",
       "      <td>0</td>\n",
       "      <td>[হচ্ছে, সংশ্লিষ্ট, সকলের, ডিপ্রেশনের, ফলে, সরক...</td>\n",
       "    </tr>\n",
       "    <tr>\n",
       "      <th>2</th>\n",
       "      <td>আমাদের দেশের স্বাভাবিক অর্থনৈতিক গতিপ্রবাহকে ব...</td>\n",
       "      <td>Negative</td>\n",
       "      <td>0</td>\n",
       "      <td>[দেশের, স্বাভাবিক, অর্থনৈতিক, গতিপ্রবাহকে, বাধ...</td>\n",
       "    </tr>\n",
       "    <tr>\n",
       "      <th>3</th>\n",
       "      <td>চুরি নয় লুটপাট।</td>\n",
       "      <td>Negative</td>\n",
       "      <td>0</td>\n",
       "      <td>[চুরি, লুটপাট]</td>\n",
       "    </tr>\n",
       "    <tr>\n",
       "      <th>4</th>\n",
       "      <td>ইসলামী ব্যাংকের বর্তমান অবস্থা দেখে মনে হয় শাস...</td>\n",
       "      <td>Neutral</td>\n",
       "      <td>2</td>\n",
       "      <td>[ইসলামী, ব্যাংকের, বর্তমান, অবস্থা, শাসক, জামা...</td>\n",
       "    </tr>\n",
       "  </tbody>\n",
       "</table>\n",
       "</div>"
      ],
      "text/plain": [
       "                                                text       Tag sentiment  \\\n",
       "0           লিখার সময় পারলে সত্য লিখার অভ্যাস শিখুন।  Negative         0   \n",
       "1  এটা কেন হচ্ছে? সংশ্লিষ্ট সকলের ডিপ্রেশনের ফলে?...  Negative         0   \n",
       "2  আমাদের দেশের স্বাভাবিক অর্থনৈতিক গতিপ্রবাহকে ব...  Negative         0   \n",
       "3                                    চুরি নয় লুটপাট।  Negative         0   \n",
       "4  ইসলামী ব্যাংকের বর্তমান অবস্থা দেখে মনে হয় শাস...   Neutral         2   \n",
       "\n",
       "                                           temp_list  \n",
       "0    [লিখার, সময়, পারলে, সত্য, লিখার, অভ্যাস, শিখুন]  \n",
       "1  [হচ্ছে, সংশ্লিষ্ট, সকলের, ডিপ্রেশনের, ফলে, সরক...  \n",
       "2  [দেশের, স্বাভাবিক, অর্থনৈতিক, গতিপ্রবাহকে, বাধ...  \n",
       "3                                     [চুরি, লুটপাট]  \n",
       "4  [ইসলামী, ব্যাংকের, বর্তমান, অবস্থা, শাসক, জামা...  "
      ]
     },
     "execution_count": 410,
     "metadata": {},
     "output_type": "execute_result"
    }
   ],
   "source": [
    "df.head(5)"
   ]
  },
  {
   "cell_type": "code",
   "execution_count": 406,
   "id": "79c1b54b",
   "metadata": {},
   "outputs": [],
   "source": [
    "Positive_sent = df[df['Tag']=='Positive']\n",
    "Negative_sent = df[df['Tag']=='Negative']\n",
    "Neutral_sent = df[df['Tag']=='Neutral']"
   ]
  },
  {
   "cell_type": "code",
   "execution_count": null,
   "id": "4c57a71f",
   "metadata": {},
   "outputs": [],
   "source": []
  },
  {
   "cell_type": "code",
   "execution_count": null,
   "id": "2d3d6cfb",
   "metadata": {},
   "outputs": [
    {
     "data": {
      "text/html": [
       "<style type=\"text/css\">\n",
       "#T_4ea01_row0_col1 {\n",
       "  background-color: #00441b;\n",
       "  color: #f1f1f1;\n",
       "}\n",
       "#T_4ea01_row1_col1 {\n",
       "  background-color: #5bb86a;\n",
       "  color: #f1f1f1;\n",
       "}\n",
       "#T_4ea01_row2_col1 {\n",
       "  background-color: #a2d99c;\n",
       "  color: #000000;\n",
       "}\n",
       "#T_4ea01_row3_col1 {\n",
       "  background-color: #a4da9e;\n",
       "  color: #000000;\n",
       "}\n",
       "#T_4ea01_row4_col1 {\n",
       "  background-color: #bee5b8;\n",
       "  color: #000000;\n",
       "}\n",
       "#T_4ea01_row5_col1 {\n",
       "  background-color: #c2e7bb;\n",
       "  color: #000000;\n",
       "}\n",
       "#T_4ea01_row6_col1 {\n",
       "  background-color: #d3eecd;\n",
       "  color: #000000;\n",
       "}\n",
       "#T_4ea01_row7_col1 {\n",
       "  background-color: #d4eece;\n",
       "  color: #000000;\n",
       "}\n",
       "#T_4ea01_row8_col1 {\n",
       "  background-color: #d9f0d3;\n",
       "  color: #000000;\n",
       "}\n",
       "#T_4ea01_row9_col1 {\n",
       "  background-color: #dcf2d7;\n",
       "  color: #000000;\n",
       "}\n",
       "#T_4ea01_row10_col1 {\n",
       "  background-color: #dff3da;\n",
       "  color: #000000;\n",
       "}\n",
       "#T_4ea01_row11_col1 {\n",
       "  background-color: #e3f4de;\n",
       "  color: #000000;\n",
       "}\n",
       "#T_4ea01_row12_col1 {\n",
       "  background-color: #e9f7e5;\n",
       "  color: #000000;\n",
       "}\n",
       "#T_4ea01_row13_col1 {\n",
       "  background-color: #ebf7e7;\n",
       "  color: #000000;\n",
       "}\n",
       "#T_4ea01_row14_col1 {\n",
       "  background-color: #ecf8e8;\n",
       "  color: #000000;\n",
       "}\n",
       "#T_4ea01_row15_col1 {\n",
       "  background-color: #f1faee;\n",
       "  color: #000000;\n",
       "}\n",
       "#T_4ea01_row16_col1 {\n",
       "  background-color: #f2faef;\n",
       "  color: #000000;\n",
       "}\n",
       "#T_4ea01_row17_col1 {\n",
       "  background-color: #f4fbf1;\n",
       "  color: #000000;\n",
       "}\n",
       "#T_4ea01_row18_col1 {\n",
       "  background-color: #f5fbf3;\n",
       "  color: #000000;\n",
       "}\n",
       "#T_4ea01_row19_col1 {\n",
       "  background-color: #f7fcf5;\n",
       "  color: #000000;\n",
       "}\n",
       "</style>\n",
       "<table id=\"T_4ea01\">\n",
       "  <thead>\n",
       "    <tr>\n",
       "      <th class=\"blank level0\" >&nbsp;</th>\n",
       "      <th id=\"T_4ea01_level0_col0\" class=\"col_heading level0 col0\" >Common_words</th>\n",
       "      <th id=\"T_4ea01_level0_col1\" class=\"col_heading level0 col1\" >count</th>\n",
       "    </tr>\n",
       "  </thead>\n",
       "  <tbody>\n",
       "    <tr>\n",
       "      <th id=\"T_4ea01_level0_row0\" class=\"row_heading level0 row0\" >0</th>\n",
       "      <td id=\"T_4ea01_row0_col0\" class=\"data row0 col0\" >না</td>\n",
       "      <td id=\"T_4ea01_row0_col1\" class=\"data row0 col1\" >470</td>\n",
       "    </tr>\n",
       "    <tr>\n",
       "      <th id=\"T_4ea01_level0_row1\" class=\"row_heading level0 row1\" >1</th>\n",
       "      <td id=\"T_4ea01_row1_col0\" class=\"data row1 col0\" >হবে</td>\n",
       "      <td id=\"T_4ea01_row1_col1\" class=\"data row1 col1\" >323</td>\n",
       "    </tr>\n",
       "    <tr>\n",
       "      <th id=\"T_4ea01_level0_row2\" class=\"row_heading level0 row2\" >2</th>\n",
       "      <td id=\"T_4ea01_row2_col0\" class=\"data row2 col0\" >ভালো</td>\n",
       "      <td id=\"T_4ea01_row2_col1\" class=\"data row2 col1\" >260</td>\n",
       "    </tr>\n",
       "    <tr>\n",
       "      <th id=\"T_4ea01_level0_row3\" class=\"row_heading level0 row3\" >3</th>\n",
       "      <td id=\"T_4ea01_row3_col0\" class=\"data row3 col0\" >দেশের</td>\n",
       "      <td id=\"T_4ea01_row3_col1\" class=\"data row3 col1\" >258</td>\n",
       "    </tr>\n",
       "    <tr>\n",
       "      <th id=\"T_4ea01_level0_row4\" class=\"row_heading level0 row4\" >4</th>\n",
       "      <td id=\"T_4ea01_row4_col0\" class=\"data row4 col0\" >কথা</td>\n",
       "      <td id=\"T_4ea01_row4_col1\" class=\"data row4 col1\" >228</td>\n",
       "    </tr>\n",
       "    <tr>\n",
       "      <th id=\"T_4ea01_level0_row5\" class=\"row_heading level0 row5\" >5</th>\n",
       "      <td id=\"T_4ea01_row5_col0\" class=\"data row5 col0\" >টাকা</td>\n",
       "      <td id=\"T_4ea01_row5_col1\" class=\"data row5 col1\" >224</td>\n",
       "    </tr>\n",
       "    <tr>\n",
       "      <th id=\"T_4ea01_level0_row6\" class=\"row_heading level0 row6\" >6</th>\n",
       "      <td id=\"T_4ea01_row6_col0\" class=\"data row6 col0\" >একটা</td>\n",
       "      <td id=\"T_4ea01_row6_col1\" class=\"data row6 col1\" >202</td>\n",
       "    </tr>\n",
       "    <tr>\n",
       "      <th id=\"T_4ea01_level0_row7\" class=\"row_heading level0 row7\" >7</th>\n",
       "      <td id=\"T_4ea01_row7_col0\" class=\"data row7 col0\" >সাথে</td>\n",
       "      <td id=\"T_4ea01_row7_col1\" class=\"data row7 col1\" >201</td>\n",
       "    </tr>\n",
       "    <tr>\n",
       "      <th id=\"T_4ea01_level0_row8\" class=\"row_heading level0 row8\" >8</th>\n",
       "      <td id=\"T_4ea01_row8_col0\" class=\"data row8 col0\" >হয়ে</td>\n",
       "      <td id=\"T_4ea01_row8_col1\" class=\"data row8 col1\" >194</td>\n",
       "    </tr>\n",
       "    <tr>\n",
       "      <th id=\"T_4ea01_level0_row9\" class=\"row_heading level0 row9\" >9</th>\n",
       "      <td id=\"T_4ea01_row9_col0\" class=\"data row9 col0\" >বাংলাদেশ</td>\n",
       "      <td id=\"T_4ea01_row9_col1\" class=\"data row9 col1\" >189</td>\n",
       "    </tr>\n",
       "    <tr>\n",
       "      <th id=\"T_4ea01_level0_row10\" class=\"row_heading level0 row10\" >10</th>\n",
       "      <td id=\"T_4ea01_row10_col0\" class=\"data row10 col0\" >ভাল</td>\n",
       "      <td id=\"T_4ea01_row10_col1\" class=\"data row10 col1\" >186</td>\n",
       "    </tr>\n",
       "    <tr>\n",
       "      <th id=\"T_4ea01_level0_row11\" class=\"row_heading level0 row11\" >11</th>\n",
       "      <td id=\"T_4ea01_row11_col0\" class=\"data row11 col0\" >বাংলাদেশের</td>\n",
       "      <td id=\"T_4ea01_row11_col1\" class=\"data row11 col1\" >180</td>\n",
       "    </tr>\n",
       "    <tr>\n",
       "      <th id=\"T_4ea01_level0_row12\" class=\"row_heading level0 row12\" >12</th>\n",
       "      <td id=\"T_4ea01_row12_col0\" class=\"data row12 col0\" >দিয়ে</td>\n",
       "      <td id=\"T_4ea01_row12_col1\" class=\"data row12 col1\" >168</td>\n",
       "    </tr>\n",
       "    <tr>\n",
       "      <th id=\"T_4ea01_level0_row13\" class=\"row_heading level0 row13\" >13</th>\n",
       "      <td id=\"T_4ea01_row13_col0\" class=\"data row13 col0\" >যায়</td>\n",
       "      <td id=\"T_4ea01_row13_col1\" class=\"data row13 col1\" >164</td>\n",
       "    </tr>\n",
       "    <tr>\n",
       "      <th id=\"T_4ea01_level0_row14\" class=\"row_heading level0 row14\" >14</th>\n",
       "      <td id=\"T_4ea01_row14_col0\" class=\"data row14 col0\" >ধন্যবাদ</td>\n",
       "      <td id=\"T_4ea01_row14_col1\" class=\"data row14 col1\" >160</td>\n",
       "    </tr>\n",
       "    <tr>\n",
       "      <th id=\"T_4ea01_level0_row15\" class=\"row_heading level0 row15\" >15</th>\n",
       "      <td id=\"T_4ea01_row15_col0\" class=\"data row15 col0\" >মত</td>\n",
       "      <td id=\"T_4ea01_row15_col1\" class=\"data row15 col1\" >150</td>\n",
       "    </tr>\n",
       "    <tr>\n",
       "      <th id=\"T_4ea01_level0_row16\" class=\"row_heading level0 row16\" >16</th>\n",
       "      <td id=\"T_4ea01_row16_col0\" class=\"data row16 col0\" >চাই</td>\n",
       "      <td id=\"T_4ea01_row16_col1\" class=\"data row16 col1\" >148</td>\n",
       "    </tr>\n",
       "    <tr>\n",
       "      <th id=\"T_4ea01_level0_row17\" class=\"row_heading level0 row17\" >17</th>\n",
       "      <td id=\"T_4ea01_row17_col0\" class=\"data row17 col0\" >দেশ</td>\n",
       "      <td id=\"T_4ea01_row17_col1\" class=\"data row17 col1\" >143</td>\n",
       "    </tr>\n",
       "    <tr>\n",
       "      <th id=\"T_4ea01_level0_row18\" class=\"row_heading level0 row18\" >18</th>\n",
       "      <td id=\"T_4ea01_row18_col0\" class=\"data row18 col0\" >মানুষ</td>\n",
       "      <td id=\"T_4ea01_row18_col1\" class=\"data row18 col1\" >139</td>\n",
       "    </tr>\n",
       "    <tr>\n",
       "      <th id=\"T_4ea01_level0_row19\" class=\"row_heading level0 row19\" >19</th>\n",
       "      <td id=\"T_4ea01_row19_col0\" class=\"data row19 col0\" >দরকার</td>\n",
       "      <td id=\"T_4ea01_row19_col1\" class=\"data row19 col1\" >135</td>\n",
       "    </tr>\n",
       "  </tbody>\n",
       "</table>\n"
      ],
      "text/plain": [
       "<pandas.io.formats.style.Styler at 0x196058700d0>"
      ]
     },
     "execution_count": 409,
     "metadata": {},
     "output_type": "execute_result"
    }
   ],
   "source": [
    "#MosT common Positive words\n",
    "top = Counter([item for sublist in Positive_sent['temp_list'] for item in sublist])\n",
    "temp_positive = pd.DataFrame(top.most_common(20))\n",
    "temp_positive.columns = ['Common_words','count']\n",
    "temp_positive.style.background_gradient(cmap='Greens')"
   ]
  },
  {
   "cell_type": "code",
   "execution_count": 415,
   "id": "d00849d9",
   "metadata": {},
   "outputs": [
    {
     "data": {
      "text/html": [
       "<style type=\"text/css\">\n",
       "#T_70995_row0_col1 {\n",
       "  background-color: #67000d;\n",
       "  color: #f1f1f1;\n",
       "}\n",
       "#T_70995_row1_col1 {\n",
       "  background-color: #bf151b;\n",
       "  color: #f1f1f1;\n",
       "}\n",
       "#T_70995_row2_col1 {\n",
       "  background-color: #d42121;\n",
       "  color: #f1f1f1;\n",
       "}\n",
       "#T_70995_row3_col1 {\n",
       "  background-color: #d92523;\n",
       "  color: #f1f1f1;\n",
       "}\n",
       "#T_70995_row4_col1 {\n",
       "  background-color: #f14432;\n",
       "  color: #f1f1f1;\n",
       "}\n",
       "#T_70995_row5_col1 {\n",
       "  background-color: #fc9474;\n",
       "  color: #000000;\n",
       "}\n",
       "#T_70995_row6_col1 {\n",
       "  background-color: #fc9e80;\n",
       "  color: #000000;\n",
       "}\n",
       "#T_70995_row7_col1 {\n",
       "  background-color: #fca98c;\n",
       "  color: #000000;\n",
       "}\n",
       "#T_70995_row8_col1 {\n",
       "  background-color: #fcb095;\n",
       "  color: #000000;\n",
       "}\n",
       "#T_70995_row9_col1 {\n",
       "  background-color: #fcb69b;\n",
       "  color: #000000;\n",
       "}\n",
       "#T_70995_row10_col1, #T_70995_row11_col1 {\n",
       "  background-color: #fcc2aa;\n",
       "  color: #000000;\n",
       "}\n",
       "#T_70995_row12_col1 {\n",
       "  background-color: #fdc6b0;\n",
       "  color: #000000;\n",
       "}\n",
       "#T_70995_row13_col1 {\n",
       "  background-color: #fee0d2;\n",
       "  color: #000000;\n",
       "}\n",
       "#T_70995_row14_col1 {\n",
       "  background-color: #fee8dd;\n",
       "  color: #000000;\n",
       "}\n",
       "#T_70995_row15_col1 {\n",
       "  background-color: #ffede5;\n",
       "  color: #000000;\n",
       "}\n",
       "#T_70995_row16_col1 {\n",
       "  background-color: #fff2ec;\n",
       "  color: #000000;\n",
       "}\n",
       "#T_70995_row17_col1 {\n",
       "  background-color: #fff4ee;\n",
       "  color: #000000;\n",
       "}\n",
       "#T_70995_row18_col1 {\n",
       "  background-color: #fff5f0;\n",
       "  color: #000000;\n",
       "}\n",
       "</style>\n",
       "<table id=\"T_70995\">\n",
       "  <thead>\n",
       "    <tr>\n",
       "      <th class=\"blank level0\" >&nbsp;</th>\n",
       "      <th id=\"T_70995_level0_col0\" class=\"col_heading level0 col0\" >Common_words</th>\n",
       "      <th id=\"T_70995_level0_col1\" class=\"col_heading level0 col1\" >count</th>\n",
       "    </tr>\n",
       "  </thead>\n",
       "  <tbody>\n",
       "    <tr>\n",
       "      <th id=\"T_70995_level0_row0\" class=\"row_heading level0 row0\" >1</th>\n",
       "      <td id=\"T_70995_row0_col0\" class=\"data row0 col0\" >টাকা</td>\n",
       "      <td id=\"T_70995_row0_col1\" class=\"data row0 col1\" >222</td>\n",
       "    </tr>\n",
       "    <tr>\n",
       "      <th id=\"T_70995_level0_row1\" class=\"row_heading level0 row1\" >2</th>\n",
       "      <td id=\"T_70995_row1_col0\" class=\"data row1 col0\" >হবে</td>\n",
       "      <td id=\"T_70995_row1_col1\" class=\"data row1 col1\" >195</td>\n",
       "    </tr>\n",
       "    <tr>\n",
       "      <th id=\"T_70995_level0_row2\" class=\"row_heading level0 row2\" >3</th>\n",
       "      <td id=\"T_70995_row2_col0\" class=\"data row2 col0\" >কথা</td>\n",
       "      <td id=\"T_70995_row2_col1\" class=\"data row2 col1\" >186</td>\n",
       "    </tr>\n",
       "    <tr>\n",
       "      <th id=\"T_70995_level0_row3\" class=\"row_heading level0 row3\" >4</th>\n",
       "      <td id=\"T_70995_row3_col0\" class=\"data row3 col0\" >দেশের</td>\n",
       "      <td id=\"T_70995_row3_col1\" class=\"data row3 col1\" >184</td>\n",
       "    </tr>\n",
       "    <tr>\n",
       "      <th id=\"T_70995_level0_row4\" class=\"row_heading level0 row4\" >5</th>\n",
       "      <td id=\"T_70995_row4_col0\" class=\"data row4 col0\" >হয়ে</td>\n",
       "      <td id=\"T_70995_row4_col1\" class=\"data row4 col1\" >171</td>\n",
       "    </tr>\n",
       "    <tr>\n",
       "      <th id=\"T_70995_level0_row5\" class=\"row_heading level0 row5\" >6</th>\n",
       "      <td id=\"T_70995_row5_col0\" class=\"data row5 col0\" >দিয়ে</td>\n",
       "      <td id=\"T_70995_row5_col1\" class=\"data row5 col1\" >142</td>\n",
       "    </tr>\n",
       "    <tr>\n",
       "      <th id=\"T_70995_level0_row6\" class=\"row_heading level0 row6\" >7</th>\n",
       "      <td id=\"T_70995_row6_col0\" class=\"data row6 col0\" >যায়</td>\n",
       "      <td id=\"T_70995_row6_col1\" class=\"data row6 col1\" >138</td>\n",
       "    </tr>\n",
       "    <tr>\n",
       "      <th id=\"T_70995_level0_row7\" class=\"row_heading level0 row7\" >8</th>\n",
       "      <td id=\"T_70995_row7_col0\" class=\"data row7 col0\" >সাথে</td>\n",
       "      <td id=\"T_70995_row7_col1\" class=\"data row7 col1\" >134</td>\n",
       "    </tr>\n",
       "    <tr>\n",
       "      <th id=\"T_70995_level0_row8\" class=\"row_heading level0 row8\" >9</th>\n",
       "      <td id=\"T_70995_row8_col0\" class=\"data row8 col0\" >হয়েছে</td>\n",
       "      <td id=\"T_70995_row8_col1\" class=\"data row8 col1\" >131</td>\n",
       "    </tr>\n",
       "    <tr>\n",
       "      <th id=\"T_70995_level0_row9\" class=\"row_heading level0 row9\" >10</th>\n",
       "      <td id=\"T_70995_row9_col0\" class=\"data row9 col0\" >হয়</td>\n",
       "      <td id=\"T_70995_row9_col1\" class=\"data row9 col1\" >129</td>\n",
       "    </tr>\n",
       "    <tr>\n",
       "      <th id=\"T_70995_level0_row10\" class=\"row_heading level0 row10\" >11</th>\n",
       "      <td id=\"T_70995_row10_col0\" class=\"data row10 col0\" >একটা</td>\n",
       "      <td id=\"T_70995_row10_col1\" class=\"data row10 col1\" >124</td>\n",
       "    </tr>\n",
       "    <tr>\n",
       "      <th id=\"T_70995_level0_row11\" class=\"row_heading level0 row11\" >12</th>\n",
       "      <td id=\"T_70995_row11_col0\" class=\"data row11 col0\" >ভালো</td>\n",
       "      <td id=\"T_70995_row11_col1\" class=\"data row11 col1\" >124</td>\n",
       "    </tr>\n",
       "    <tr>\n",
       "      <th id=\"T_70995_level0_row12\" class=\"row_heading level0 row12\" >13</th>\n",
       "      <td id=\"T_70995_row12_col0\" class=\"data row12 col0\" >সরকার</td>\n",
       "      <td id=\"T_70995_row12_col1\" class=\"data row12 col1\" >122</td>\n",
       "    </tr>\n",
       "    <tr>\n",
       "      <th id=\"T_70995_level0_row13\" class=\"row_heading level0 row13\" >14</th>\n",
       "      <td id=\"T_70995_row13_col0\" class=\"data row13 col0\" >বাংলাদেশ</td>\n",
       "      <td id=\"T_70995_row13_col1\" class=\"data row13 col1\" >111</td>\n",
       "    </tr>\n",
       "    <tr>\n",
       "      <th id=\"T_70995_level0_row14\" class=\"row_heading level0 row14\" >15</th>\n",
       "      <td id=\"T_70995_row14_col0\" class=\"data row14 col0\" >বড়</td>\n",
       "      <td id=\"T_70995_row14_col1\" class=\"data row14 col1\" >105</td>\n",
       "    </tr>\n",
       "    <tr>\n",
       "      <th id=\"T_70995_level0_row15\" class=\"row_heading level0 row15\" >16</th>\n",
       "      <td id=\"T_70995_row15_col0\" class=\"data row15 col0\" >দেশে</td>\n",
       "      <td id=\"T_70995_row15_col1\" class=\"data row15 col1\" >101</td>\n",
       "    </tr>\n",
       "    <tr>\n",
       "      <th id=\"T_70995_level0_row16\" class=\"row_heading level0 row16\" >17</th>\n",
       "      <td id=\"T_70995_row16_col0\" class=\"data row16 col0\" >সরকারের</td>\n",
       "      <td id=\"T_70995_row16_col1\" class=\"data row16 col1\" >97</td>\n",
       "    </tr>\n",
       "    <tr>\n",
       "      <th id=\"T_70995_level0_row17\" class=\"row_heading level0 row17\" >18</th>\n",
       "      <td id=\"T_70995_row17_col0\" class=\"data row17 col0\" >এক</td>\n",
       "      <td id=\"T_70995_row17_col1\" class=\"data row17 col1\" >96</td>\n",
       "    </tr>\n",
       "    <tr>\n",
       "      <th id=\"T_70995_level0_row18\" class=\"row_heading level0 row18\" >19</th>\n",
       "      <td id=\"T_70995_row18_col0\" class=\"data row18 col0\" >মত</td>\n",
       "      <td id=\"T_70995_row18_col1\" class=\"data row18 col1\" >95</td>\n",
       "    </tr>\n",
       "  </tbody>\n",
       "</table>\n"
      ],
      "text/plain": [
       "<pandas.io.formats.style.Styler at 0x19605847110>"
      ]
     },
     "execution_count": 415,
     "metadata": {},
     "output_type": "execute_result"
    }
   ],
   "source": [
    "#MosT common Neutral words\n",
    "top = Counter([item for sublist in Neutral_sent['temp_list'] for item in sublist])\n",
    "temp_neutral = pd.DataFrame(top.most_common(20))\n",
    "temp_neutral = temp_neutral.loc[1:,:]\n",
    "temp_neutral.columns = ['Common_words','count']\n",
    "temp_neutral.style.background_gradient(cmap='Reds')"
   ]
  },
  {
   "cell_type": "markdown",
   "id": "d8d26fca",
   "metadata": {},
   "source": [
    "### Look at Unique Words in each Segment"
   ]
  },
  {
   "cell_type": "code",
   "execution_count": 419,
   "id": "61e3bd4a",
   "metadata": {},
   "outputs": [],
   "source": [
    "raw_text = [word for word_list in df['temp_list'] for word in word_list]"
   ]
  },
  {
   "cell_type": "code",
   "execution_count": 427,
   "id": "4b7e2bc6",
   "metadata": {},
   "outputs": [],
   "source": [
    "def words_unique(Tag, numwords, raw_words):\n",
    "    allother = []\n",
    "    for item in df[df.Tag != Tag]['temp_list']:\n",
    "        for word in item:\n",
    "            allother.append(word)\n",
    "    allother = list(set(allother))\n",
    "    \n",
    "    specificnonly = [x for x in raw_text if x not in allother]\n",
    "    \n",
    "    mycounter = Counter()\n",
    "    \n",
    "    for item in df[df.Tag == Tag]['temp_list']:\n",
    "        for word in item:\n",
    "            mycounter[word] += 1\n",
    "    keep = list(specificnonly)\n",
    "    \n",
    "    for word in list(mycounter):\n",
    "        if word not in keep:\n",
    "            del mycounter[word]\n",
    "    \n",
    "    Unique_words = pd.DataFrame(mycounter.most_common(numwords), columns=['words', 'count'])\n",
    "    \n",
    "    return Unique_words"
   ]
  },
  {
   "cell_type": "markdown",
   "id": "b0c26d1d",
   "metadata": {},
   "source": [
    "#### Positive"
   ]
  },
  {
   "cell_type": "code",
   "execution_count": 429,
   "id": "b2438738",
   "metadata": {},
   "outputs": [
    {
     "name": "stdout",
     "output_type": "stream",
     "text": [
      "The top 20 unique words in Positive Tweets are:\n"
     ]
    },
    {
     "data": {
      "text/html": [
       "<style type=\"text/css\">\n",
       "#T_717c6_row0_col1, #T_717c6_row1_col1, #T_717c6_row2_col1, #T_717c6_row3_col1 {\n",
       "  background-color: #00441b;\n",
       "  color: #f1f1f1;\n",
       "}\n",
       "#T_717c6_row4_col1, #T_717c6_row5_col1, #T_717c6_row6_col1 {\n",
       "  background-color: #37a055;\n",
       "  color: #f1f1f1;\n",
       "}\n",
       "#T_717c6_row7_col1, #T_717c6_row8_col1, #T_717c6_row9_col1, #T_717c6_row10_col1, #T_717c6_row11_col1, #T_717c6_row12_col1 {\n",
       "  background-color: #aedea7;\n",
       "  color: #000000;\n",
       "}\n",
       "#T_717c6_row13_col1, #T_717c6_row14_col1, #T_717c6_row15_col1, #T_717c6_row16_col1, #T_717c6_row17_col1, #T_717c6_row18_col1, #T_717c6_row19_col1 {\n",
       "  background-color: #f7fcf5;\n",
       "  color: #000000;\n",
       "}\n",
       "</style>\n",
       "<table id=\"T_717c6\">\n",
       "  <thead>\n",
       "    <tr>\n",
       "      <th class=\"blank level0\" >&nbsp;</th>\n",
       "      <th id=\"T_717c6_level0_col0\" class=\"col_heading level0 col0\" >words</th>\n",
       "      <th id=\"T_717c6_level0_col1\" class=\"col_heading level0 col1\" >count</th>\n",
       "    </tr>\n",
       "  </thead>\n",
       "  <tbody>\n",
       "    <tr>\n",
       "      <th id=\"T_717c6_level0_row0\" class=\"row_heading level0 row0\" >0</th>\n",
       "      <td id=\"T_717c6_row0_col0\" class=\"data row0 col0\" >মনটা</td>\n",
       "      <td id=\"T_717c6_row0_col1\" class=\"data row0 col1\" >7</td>\n",
       "    </tr>\n",
       "    <tr>\n",
       "      <th id=\"T_717c6_level0_row1\" class=\"row_heading level0 row1\" >1</th>\n",
       "      <td id=\"T_717c6_row1_col0\" class=\"data row1 col0\" >পেপল</td>\n",
       "      <td id=\"T_717c6_row1_col1\" class=\"data row1 col1\" >7</td>\n",
       "    </tr>\n",
       "    <tr>\n",
       "      <th id=\"T_717c6_level0_row2\" class=\"row_heading level0 row2\" >2</th>\n",
       "      <td id=\"T_717c6_row2_col0\" class=\"data row2 col0\" >ভালবাসার</td>\n",
       "      <td id=\"T_717c6_row2_col1\" class=\"data row2 col1\" >7</td>\n",
       "    </tr>\n",
       "    <tr>\n",
       "      <th id=\"T_717c6_level0_row3\" class=\"row_heading level0 row3\" >3</th>\n",
       "      <td id=\"T_717c6_row3_col0\" class=\"data row3 col0\" >এমএলএম</td>\n",
       "      <td id=\"T_717c6_row3_col1\" class=\"data row3 col1\" >7</td>\n",
       "    </tr>\n",
       "    <tr>\n",
       "      <th id=\"T_717c6_level0_row4\" class=\"row_heading level0 row4\" >4</th>\n",
       "      <td id=\"T_717c6_row4_col0\" class=\"data row4 col0\" >বৃত্তি</td>\n",
       "      <td id=\"T_717c6_row4_col1\" class=\"data row4 col1\" >6</td>\n",
       "    </tr>\n",
       "    <tr>\n",
       "      <th id=\"T_717c6_level0_row5\" class=\"row_heading level0 row5\" >5</th>\n",
       "      <td id=\"T_717c6_row5_col0\" class=\"data row5 col0\" >বিবেচ্য</td>\n",
       "      <td id=\"T_717c6_row5_col1\" class=\"data row5 col1\" >6</td>\n",
       "    </tr>\n",
       "    <tr>\n",
       "      <th id=\"T_717c6_level0_row6\" class=\"row_heading level0 row6\" >6</th>\n",
       "      <td id=\"T_717c6_row6_col0\" class=\"data row6 col0\" >তামিমকে</td>\n",
       "      <td id=\"T_717c6_row6_col1\" class=\"data row6 col1\" >6</td>\n",
       "    </tr>\n",
       "    <tr>\n",
       "      <th id=\"T_717c6_level0_row7\" class=\"row_heading level0 row7\" >7</th>\n",
       "      <td id=\"T_717c6_row7_col0\" class=\"data row7 col0\" >ভিজে</td>\n",
       "      <td id=\"T_717c6_row7_col1\" class=\"data row7 col1\" >5</td>\n",
       "    </tr>\n",
       "    <tr>\n",
       "      <th id=\"T_717c6_level0_row8\" class=\"row_heading level0 row8\" >8</th>\n",
       "      <td id=\"T_717c6_row8_col0\" class=\"data row8 col0\" >জন</td>\n",
       "      <td id=\"T_717c6_row8_col1\" class=\"data row8 col1\" >5</td>\n",
       "    </tr>\n",
       "    <tr>\n",
       "      <th id=\"T_717c6_level0_row9\" class=\"row_heading level0 row9\" >9</th>\n",
       "      <td id=\"T_717c6_row9_col0\" class=\"data row9 col0\" >এসিসিএ</td>\n",
       "      <td id=\"T_717c6_row9_col1\" class=\"data row9 col1\" >5</td>\n",
       "    </tr>\n",
       "    <tr>\n",
       "      <th id=\"T_717c6_level0_row10\" class=\"row_heading level0 row10\" >10</th>\n",
       "      <td id=\"T_717c6_row10_col0\" class=\"data row10 col0\" >সম্মানজনক</td>\n",
       "      <td id=\"T_717c6_row10_col1\" class=\"data row10 col1\" >5</td>\n",
       "    </tr>\n",
       "    <tr>\n",
       "      <th id=\"T_717c6_level0_row11\" class=\"row_heading level0 row11\" >11</th>\n",
       "      <td id=\"T_717c6_row11_col0\" class=\"data row11 col0\" >মনোবল</td>\n",
       "      <td id=\"T_717c6_row11_col1\" class=\"data row11 col1\" >5</td>\n",
       "    </tr>\n",
       "    <tr>\n",
       "      <th id=\"T_717c6_level0_row12\" class=\"row_heading level0 row12\" >12</th>\n",
       "      <td id=\"T_717c6_row12_col0\" class=\"data row12 col0\" >৤</td>\n",
       "      <td id=\"T_717c6_row12_col1\" class=\"data row12 col1\" >5</td>\n",
       "    </tr>\n",
       "    <tr>\n",
       "      <th id=\"T_717c6_level0_row13\" class=\"row_heading level0 row13\" >13</th>\n",
       "      <td id=\"T_717c6_row13_col0\" class=\"data row13 col0\" >প্রশংসার</td>\n",
       "      <td id=\"T_717c6_row13_col1\" class=\"data row13 col1\" >4</td>\n",
       "    </tr>\n",
       "    <tr>\n",
       "      <th id=\"T_717c6_level0_row14\" class=\"row_heading level0 row14\" >14</th>\n",
       "      <td id=\"T_717c6_row14_col0\" class=\"data row14 col0\" >হাসিনাই</td>\n",
       "      <td id=\"T_717c6_row14_col1\" class=\"data row14 col1\" >4</td>\n",
       "    </tr>\n",
       "    <tr>\n",
       "      <th id=\"T_717c6_level0_row15\" class=\"row_heading level0 row15\" >15</th>\n",
       "      <td id=\"T_717c6_row15_col0\" class=\"data row15 col0\" >বিনিয়োগ</td>\n",
       "      <td id=\"T_717c6_row15_col1\" class=\"data row15 col1\" >4</td>\n",
       "    </tr>\n",
       "    <tr>\n",
       "      <th id=\"T_717c6_level0_row16\" class=\"row_heading level0 row16\" >16</th>\n",
       "      <td id=\"T_717c6_row16_col0\" class=\"data row16 col0\" >এনার্জি</td>\n",
       "      <td id=\"T_717c6_row16_col1\" class=\"data row16 col1\" >4</td>\n",
       "    </tr>\n",
       "    <tr>\n",
       "      <th id=\"T_717c6_level0_row17\" class=\"row_heading level0 row17\" >17</th>\n",
       "      <td id=\"T_717c6_row17_col0\" class=\"data row17 col0\" >আত্মবিশ্বাসী</td>\n",
       "      <td id=\"T_717c6_row17_col1\" class=\"data row17 col1\" >4</td>\n",
       "    </tr>\n",
       "    <tr>\n",
       "      <th id=\"T_717c6_level0_row18\" class=\"row_heading level0 row18\" >18</th>\n",
       "      <td id=\"T_717c6_row18_col0\" class=\"data row18 col0\" >আমদানিতে</td>\n",
       "      <td id=\"T_717c6_row18_col1\" class=\"data row18 col1\" >4</td>\n",
       "    </tr>\n",
       "    <tr>\n",
       "      <th id=\"T_717c6_level0_row19\" class=\"row_heading level0 row19\" >19</th>\n",
       "      <td id=\"T_717c6_row19_col0\" class=\"data row19 col0\" >লেখায়</td>\n",
       "      <td id=\"T_717c6_row19_col1\" class=\"data row19 col1\" >4</td>\n",
       "    </tr>\n",
       "  </tbody>\n",
       "</table>\n"
      ],
      "text/plain": [
       "<pandas.io.formats.style.Styler at 0x196064b7190>"
      ]
     },
     "execution_count": 429,
     "metadata": {},
     "output_type": "execute_result"
    }
   ],
   "source": [
    "Unique_Positive= words_unique('Positive', 20, raw_text)\n",
    "print(\"The top 20 unique words in Positive Tweets are:\")\n",
    "Unique_Positive.style.background_gradient(cmap='Greens')"
   ]
  },
  {
   "cell_type": "markdown",
   "id": "687799ac",
   "metadata": {},
   "source": [
    "#### Negative unique"
   ]
  },
  {
   "cell_type": "code",
   "execution_count": 432,
   "id": "3140c325",
   "metadata": {},
   "outputs": [
    {
     "name": "stdout",
     "output_type": "stream",
     "text": [
      "The top 10 unique words in Negative Tweets are:\n"
     ]
    },
    {
     "data": {
      "text/html": [
       "<style type=\"text/css\">\n",
       "#T_456d6_row0_col1 {\n",
       "  background-color: #67000d;\n",
       "  color: #f1f1f1;\n",
       "}\n",
       "#T_456d6_row1_col1 {\n",
       "  background-color: #bc141a;\n",
       "  color: #f1f1f1;\n",
       "}\n",
       "#T_456d6_row2_col1 {\n",
       "  background-color: #f14432;\n",
       "  color: #f1f1f1;\n",
       "}\n",
       "#T_456d6_row3_col1, #T_456d6_row4_col1, #T_456d6_row5_col1 {\n",
       "  background-color: #fc8a6a;\n",
       "  color: #f1f1f1;\n",
       "}\n",
       "#T_456d6_row6_col1, #T_456d6_row7_col1, #T_456d6_row8_col1, #T_456d6_row9_col1 {\n",
       "  background-color: #fff5f0;\n",
       "  color: #000000;\n",
       "}\n",
       "</style>\n",
       "<table id=\"T_456d6\">\n",
       "  <thead>\n",
       "    <tr>\n",
       "      <th class=\"blank level0\" >&nbsp;</th>\n",
       "      <th id=\"T_456d6_level0_col0\" class=\"col_heading level0 col0\" >words</th>\n",
       "      <th id=\"T_456d6_level0_col1\" class=\"col_heading level0 col1\" >count</th>\n",
       "    </tr>\n",
       "  </thead>\n",
       "  <tbody>\n",
       "    <tr>\n",
       "      <th id=\"T_456d6_level0_row0\" class=\"row_heading level0 row0\" >0</th>\n",
       "      <td id=\"T_456d6_row0_col0\" class=\"data row0 col0\" >মগের</td>\n",
       "      <td id=\"T_456d6_row0_col1\" class=\"data row0 col1\" >13</td>\n",
       "    </tr>\n",
       "    <tr>\n",
       "      <th id=\"T_456d6_level0_row1\" class=\"row_heading level0 row1\" >1</th>\n",
       "      <td id=\"T_456d6_row1_col0\" class=\"data row1 col0\" >হাড়ে</td>\n",
       "      <td id=\"T_456d6_row1_col1\" class=\"data row1 col1\" >12</td>\n",
       "    </tr>\n",
       "    <tr>\n",
       "      <th id=\"T_456d6_level0_row2\" class=\"row_heading level0 row2\" >2</th>\n",
       "      <td id=\"T_456d6_row2_col0\" class=\"data row2 col0\" >পোক্ত</td>\n",
       "      <td id=\"T_456d6_row2_col1\" class=\"data row2 col1\" >11</td>\n",
       "    </tr>\n",
       "    <tr>\n",
       "      <th id=\"T_456d6_level0_row3\" class=\"row_heading level0 row3\" >3</th>\n",
       "      <td id=\"T_456d6_row3_col0\" class=\"data row3 col0\" >কাস্টমার</td>\n",
       "      <td id=\"T_456d6_row3_col1\" class=\"data row3 col1\" >10</td>\n",
       "    </tr>\n",
       "    <tr>\n",
       "      <th id=\"T_456d6_level0_row4\" class=\"row_heading level0 row4\" >4</th>\n",
       "      <td id=\"T_456d6_row4_col0\" class=\"data row4 col0\" >এদিকে</td>\n",
       "      <td id=\"T_456d6_row4_col1\" class=\"data row4 col1\" >10</td>\n",
       "    </tr>\n",
       "    <tr>\n",
       "      <th id=\"T_456d6_level0_row5\" class=\"row_heading level0 row5\" >5</th>\n",
       "      <td id=\"T_456d6_row5_col0\" class=\"data row5 col0\" >মানবাধিকার</td>\n",
       "      <td id=\"T_456d6_row5_col1\" class=\"data row5 col1\" >10</td>\n",
       "    </tr>\n",
       "    <tr>\n",
       "      <th id=\"T_456d6_level0_row6\" class=\"row_heading level0 row6\" >6</th>\n",
       "      <td id=\"T_456d6_row6_col0\" class=\"data row6 col0\" >আরকি</td>\n",
       "      <td id=\"T_456d6_row6_col1\" class=\"data row6 col1\" >8</td>\n",
       "    </tr>\n",
       "    <tr>\n",
       "      <th id=\"T_456d6_level0_row7\" class=\"row_heading level0 row7\" >7</th>\n",
       "      <td id=\"T_456d6_row7_col0\" class=\"data row7 col0\" >চামড়া</td>\n",
       "      <td id=\"T_456d6_row7_col1\" class=\"data row7 col1\" >8</td>\n",
       "    </tr>\n",
       "    <tr>\n",
       "      <th id=\"T_456d6_level0_row8\" class=\"row_heading level0 row8\" >8</th>\n",
       "      <td id=\"T_456d6_row8_col0\" class=\"data row8 col0\" >তলা</td>\n",
       "      <td id=\"T_456d6_row8_col1\" class=\"data row8 col1\" >8</td>\n",
       "    </tr>\n",
       "    <tr>\n",
       "      <th id=\"T_456d6_level0_row9\" class=\"row_heading level0 row9\" >9</th>\n",
       "      <td id=\"T_456d6_row9_col0\" class=\"data row9 col0\" >ঝুলিয়ে</td>\n",
       "      <td id=\"T_456d6_row9_col1\" class=\"data row9 col1\" >8</td>\n",
       "    </tr>\n",
       "  </tbody>\n",
       "</table>\n"
      ],
      "text/plain": [
       "<pandas.io.formats.style.Styler at 0x19605871110>"
      ]
     },
     "execution_count": 432,
     "metadata": {},
     "output_type": "execute_result"
    }
   ],
   "source": [
    "Unique_Negative= words_unique('Negative', 10, raw_text)\n",
    "print(\"The top 10 unique words in Negative Tweets are:\")\n",
    "Unique_Negative.style.background_gradient(cmap='Reds')"
   ]
  },
  {
   "cell_type": "markdown",
   "id": "7b6caa82",
   "metadata": {},
   "source": [
    "#### Neutral Unique"
   ]
  },
  {
   "cell_type": "code",
   "execution_count": 433,
   "id": "5294183a",
   "metadata": {},
   "outputs": [
    {
     "name": "stdout",
     "output_type": "stream",
     "text": [
      "The top 10 unique words in Neutral Tweets are:\n"
     ]
    },
    {
     "data": {
      "text/html": [
       "<style type=\"text/css\">\n",
       "#T_0d0ea_row0_col1 {\n",
       "  background-color: #7f2704;\n",
       "  color: #f1f1f1;\n",
       "}\n",
       "#T_0d0ea_row1_col1, #T_0d0ea_row2_col1, #T_0d0ea_row3_col1, #T_0d0ea_row4_col1, #T_0d0ea_row5_col1 {\n",
       "  background-color: #fd8c3b;\n",
       "  color: #f1f1f1;\n",
       "}\n",
       "#T_0d0ea_row6_col1, #T_0d0ea_row7_col1, #T_0d0ea_row8_col1, #T_0d0ea_row9_col1 {\n",
       "  background-color: #fff5eb;\n",
       "  color: #000000;\n",
       "}\n",
       "</style>\n",
       "<table id=\"T_0d0ea\">\n",
       "  <thead>\n",
       "    <tr>\n",
       "      <th class=\"blank level0\" >&nbsp;</th>\n",
       "      <th id=\"T_0d0ea_level0_col0\" class=\"col_heading level0 col0\" >words</th>\n",
       "      <th id=\"T_0d0ea_level0_col1\" class=\"col_heading level0 col1\" >count</th>\n",
       "    </tr>\n",
       "  </thead>\n",
       "  <tbody>\n",
       "    <tr>\n",
       "      <th id=\"T_0d0ea_level0_row0\" class=\"row_heading level0 row0\" >0</th>\n",
       "      <td id=\"T_0d0ea_row0_col0\" class=\"data row0 col0\" >বরখেলাপ</td>\n",
       "      <td id=\"T_0d0ea_row0_col1\" class=\"data row0 col1\" >6</td>\n",
       "    </tr>\n",
       "    <tr>\n",
       "      <th id=\"T_0d0ea_level0_row1\" class=\"row_heading level0 row1\" >1</th>\n",
       "      <td id=\"T_0d0ea_row1_col0\" class=\"data row1 col0\" >মেসেজ</td>\n",
       "      <td id=\"T_0d0ea_row1_col1\" class=\"data row1 col1\" >5</td>\n",
       "    </tr>\n",
       "    <tr>\n",
       "      <th id=\"T_0d0ea_level0_row2\" class=\"row_heading level0 row2\" >2</th>\n",
       "      <td id=\"T_0d0ea_row2_col0\" class=\"data row2 col0\" >পাল্টানোর</td>\n",
       "      <td id=\"T_0d0ea_row2_col1\" class=\"data row2 col1\" >5</td>\n",
       "    </tr>\n",
       "    <tr>\n",
       "      <th id=\"T_0d0ea_level0_row3\" class=\"row_heading level0 row3\" >3</th>\n",
       "      <td id=\"T_0d0ea_row3_col0\" class=\"data row3 col0\" >হৈ</td>\n",
       "      <td id=\"T_0d0ea_row3_col1\" class=\"data row3 col1\" >5</td>\n",
       "    </tr>\n",
       "    <tr>\n",
       "      <th id=\"T_0d0ea_level0_row4\" class=\"row_heading level0 row4\" >4</th>\n",
       "      <td id=\"T_0d0ea_row4_col0\" class=\"data row4 col0\" >এসিস্ট</td>\n",
       "      <td id=\"T_0d0ea_row4_col1\" class=\"data row4 col1\" >5</td>\n",
       "    </tr>\n",
       "    <tr>\n",
       "      <th id=\"T_0d0ea_level0_row5\" class=\"row_heading level0 row5\" >5</th>\n",
       "      <td id=\"T_0d0ea_row5_col0\" class=\"data row5 col0\" >মুর্তজা</td>\n",
       "      <td id=\"T_0d0ea_row5_col1\" class=\"data row5 col1\" >5</td>\n",
       "    </tr>\n",
       "    <tr>\n",
       "      <th id=\"T_0d0ea_level0_row6\" class=\"row_heading level0 row6\" >6</th>\n",
       "      <td id=\"T_0d0ea_row6_col0\" class=\"data row6 col0\" >এলিট</td>\n",
       "      <td id=\"T_0d0ea_row6_col1\" class=\"data row6 col1\" >4</td>\n",
       "    </tr>\n",
       "    <tr>\n",
       "      <th id=\"T_0d0ea_level0_row7\" class=\"row_heading level0 row7\" >7</th>\n",
       "      <td id=\"T_0d0ea_row7_col0\" class=\"data row7 col0\" >মাস্টার্স</td>\n",
       "      <td id=\"T_0d0ea_row7_col1\" class=\"data row7 col1\" >4</td>\n",
       "    </tr>\n",
       "    <tr>\n",
       "      <th id=\"T_0d0ea_level0_row8\" class=\"row_heading level0 row8\" >8</th>\n",
       "      <td id=\"T_0d0ea_row8_col0\" class=\"data row8 col0\" >গার্মেণ্টস</td>\n",
       "      <td id=\"T_0d0ea_row8_col1\" class=\"data row8 col1\" >4</td>\n",
       "    </tr>\n",
       "    <tr>\n",
       "      <th id=\"T_0d0ea_level0_row9\" class=\"row_heading level0 row9\" >9</th>\n",
       "      <td id=\"T_0d0ea_row9_col0\" class=\"data row9 col0\" >দোভাষী</td>\n",
       "      <td id=\"T_0d0ea_row9_col1\" class=\"data row9 col1\" >4</td>\n",
       "    </tr>\n",
       "  </tbody>\n",
       "</table>\n"
      ],
      "text/plain": [
       "<pandas.io.formats.style.Styler at 0x19608bd8350>"
      ]
     },
     "execution_count": 433,
     "metadata": {},
     "output_type": "execute_result"
    }
   ],
   "source": [
    "Unique_Neutral= words_unique('Neutral', 10, raw_text)\n",
    "print(\"The top 10 unique words in Neutral Tweets are:\")\n",
    "Unique_Neutral.style.background_gradient(cmap='Oranges')"
   ]
  },
  {
   "cell_type": "code",
   "execution_count": 435,
   "id": "8744f270",
   "metadata": {},
   "outputs": [],
   "source": [
    "def plot_wordcloud(text, mask=None, max_words=200, max_font_size=100, figure_size=(24.0,16.0), color = 'white',\n",
    "                   title = None, title_size=40, image_color=False):\n",
    "    stopwords = set(STOPWORDS)\n",
    "    more_stopwords = {'u', \"im\"}\n",
    "    stopwords = stopwords.union(more_stopwords)\n",
    "\n",
    "    wordcloud = WordCloud(background_color=color,\n",
    "                    stopwords = stopwords,\n",
    "                    max_words = max_words,\n",
    "                    max_font_size = max_font_size, \n",
    "                    random_state = 42,\n",
    "                    width=400, \n",
    "                    height=200,\n",
    "                    mask = mask)\n",
    "    wordcloud.generate(str(text))\n",
    "    \n",
    "    plt.figure(figsize=figure_size)\n",
    "    if image_color:\n",
    "        image_colors = ImageColorGenerator(mask);\n",
    "        plt.imshow(wordcloud.recolor(color_func=image_colors), interpolation=\"bilinear\");\n",
    "        plt.title(title, fontdict={'size': title_size,  \n",
    "                                  'verticalalignment': 'bottom'})\n",
    "    else:\n",
    "        plt.imshow(wordcloud);\n",
    "        plt.title(title, fontdict={'size': title_size, 'color': 'black', \n",
    "                                  'verticalalignment': 'bottom'})\n",
    "    plt.axis('off');\n",
    "    plt.tight_layout() "
   ]
  }
 ],
 "metadata": {
  "kernelspec": {
   "display_name": "base",
   "language": "python",
   "name": "python3"
  },
  "language_info": {
   "codemirror_mode": {
    "name": "ipython",
    "version": 3
   },
   "file_extension": ".py",
   "mimetype": "text/x-python",
   "name": "python",
   "nbconvert_exporter": "python",
   "pygments_lexer": "ipython3",
   "version": "3.11.5"
  }
 },
 "nbformat": 4,
 "nbformat_minor": 5
}
