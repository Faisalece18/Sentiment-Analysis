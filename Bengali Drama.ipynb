{
 "cells": [
  {
   "cell_type": "code",
   "execution_count": 1,
   "id": "e4f6e598",
   "metadata": {},
   "outputs": [],
   "source": [
    "import numpy as np\n",
    "import pandas as pd\n",
    "import seaborn as sns\n",
    "from plotly import graph_objects as go\n",
    "from nltk.corpus import stopwords\n",
    "import re\n",
    "from matplotlib import pyplot as plt"
   ]
  },
  {
   "cell_type": "code",
   "execution_count": 20,
   "id": "ccf381d7",
   "metadata": {},
   "outputs": [],
   "source": [
    "#read .txt data\n",
    "df_neg = pd.read_csv(\"Datasets/Bengali Drama/all_negative_3307.txt\", sep=\"\\t\", names=[\"text\"], encoding=\"utf-8\", on_bad_lines='skip')\n",
    "df_pos = pd.read_csv(\"Datasets/Bengali Drama/all_positive_8500.txt\", sep=\"\\t\", names=[\"text\"], encoding=\"utf-8\", on_bad_lines='skip')\n",
    "df_neg['sentiment'] = 0\n",
    "df_pos['sentiment'] = 1\n",
    "df_neg['Tag'] = 'negative'\n",
    "df_pos['Tag'] = 'positive'\n",
    "\n",
    "\n"
   ]
  },
  {
   "cell_type": "code",
   "execution_count": 22,
   "id": "e81d9e4c",
   "metadata": {},
   "outputs": [],
   "source": [
    "\n",
    "#Merge the two dataframes\n",
    "df = pd.concat([df_pos, df_neg], ignore_index=True)\n",
    "#Shuffle the dataframe\n",
    "df = df.sample(frac=1).reset_index(drop=True) \n",
    "\n"
   ]
  },
  {
   "cell_type": "code",
   "execution_count": 24,
   "id": "b20ceae7",
   "metadata": {},
   "outputs": [
    {
     "data": {
      "text/html": [
       "<div>\n",
       "<style scoped>\n",
       "    .dataframe tbody tr th:only-of-type {\n",
       "        vertical-align: middle;\n",
       "    }\n",
       "\n",
       "    .dataframe tbody tr th {\n",
       "        vertical-align: top;\n",
       "    }\n",
       "\n",
       "    .dataframe thead th {\n",
       "        text-align: right;\n",
       "    }\n",
       "</style>\n",
       "<table border=\"1\" class=\"dataframe\">\n",
       "  <thead>\n",
       "    <tr style=\"text-align: right;\">\n",
       "      <th></th>\n",
       "      <th>text</th>\n",
       "      <th>sentiment</th>\n",
       "      <th>Tag</th>\n",
       "    </tr>\n",
       "  </thead>\n",
       "  <tbody>\n",
       "    <tr>\n",
       "      <th>0</th>\n",
       "      <td>ভালোই লাগলো নাটকটা</td>\n",
       "      <td>1</td>\n",
       "      <td>positive</td>\n",
       "    </tr>\n",
       "    <tr>\n",
       "      <th>1</th>\n",
       "      <td>নামাজের প্রতি সম্মান দেখানোটা খুব ভাল লাগলো।।।</td>\n",
       "      <td>1</td>\n",
       "      <td>positive</td>\n",
       "    </tr>\n",
       "    <tr>\n",
       "      <th>2</th>\n",
       "      <td>বস্তাপচা নাটক।</td>\n",
       "      <td>0</td>\n",
       "      <td>negative</td>\n",
       "    </tr>\n",
       "    <tr>\n",
       "      <th>3</th>\n",
       "      <td>অসাধারণ হইছে</td>\n",
       "      <td>1</td>\n",
       "      <td>positive</td>\n",
       "    </tr>\n",
       "    <tr>\n",
       "      <th>4</th>\n",
       "      <td>সত্যি নিশো ভাই তুমি বাংলা নাটকের কিংবদন্তি আর...</td>\n",
       "      <td>1</td>\n",
       "      <td>positive</td>\n",
       "    </tr>\n",
       "  </tbody>\n",
       "</table>\n",
       "</div>"
      ],
      "text/plain": [
       "                                                text  sentiment       Tag\n",
       "0                                 ভালোই লাগলো নাটকটা          1  positive\n",
       "1     নামাজের প্রতি সম্মান দেখানোটা খুব ভাল লাগলো।।।          1  positive\n",
       "2                                     বস্তাপচা নাটক।          0  negative\n",
       "3                                       অসাধারণ হইছে          1  positive\n",
       "4   সত্যি নিশো ভাই তুমি বাংলা নাটকের কিংবদন্তি আর...          1  positive"
      ]
     },
     "execution_count": 24,
     "metadata": {},
     "output_type": "execute_result"
    }
   ],
   "source": [
    "df.head(5)\n"
   ]
  },
  {
   "cell_type": "code",
   "execution_count": 26,
   "id": "dd37893a",
   "metadata": {},
   "outputs": [
    {
     "data": {
      "text/plain": [
       "text         0\n",
       "sentiment    0\n",
       "Tag          0\n",
       "dtype: int64"
      ]
     },
     "execution_count": 26,
     "metadata": {},
     "output_type": "execute_result"
    }
   ],
   "source": [
    "#check null values\n",
    "df.isnull().sum()"
   ]
  },
  {
   "cell_type": "code",
   "execution_count": 27,
   "id": "6d094868",
   "metadata": {},
   "outputs": [],
   "source": [
    "df.to_csv(\"processed_Bengali-Drama_data.csv\", index=False)\n"
   ]
  },
  {
   "cell_type": "markdown",
   "id": "685d93d8",
   "metadata": {},
   "source": [
    "### EDA"
   ]
  },
  {
   "cell_type": "code",
   "execution_count": 32,
   "id": "31c445e1",
   "metadata": {},
   "outputs": [
    {
     "data": {
      "text/html": [
       "<div>\n",
       "<style scoped>\n",
       "    .dataframe tbody tr th:only-of-type {\n",
       "        vertical-align: middle;\n",
       "    }\n",
       "\n",
       "    .dataframe tbody tr th {\n",
       "        vertical-align: top;\n",
       "    }\n",
       "\n",
       "    .dataframe thead th {\n",
       "        text-align: right;\n",
       "    }\n",
       "</style>\n",
       "<table border=\"1\" class=\"dataframe\">\n",
       "  <thead>\n",
       "    <tr style=\"text-align: right;\">\n",
       "      <th></th>\n",
       "      <th>text</th>\n",
       "      <th>sentiment</th>\n",
       "      <th>Tag</th>\n",
       "    </tr>\n",
       "  </thead>\n",
       "  <tbody>\n",
       "    <tr>\n",
       "      <th>count</th>\n",
       "      <td>11806</td>\n",
       "      <td>11806</td>\n",
       "      <td>11806</td>\n",
       "    </tr>\n",
       "    <tr>\n",
       "      <th>unique</th>\n",
       "      <td>10765</td>\n",
       "      <td>2</td>\n",
       "      <td>2</td>\n",
       "    </tr>\n",
       "    <tr>\n",
       "      <th>top</th>\n",
       "      <td>ফালতু নাটক</td>\n",
       "      <td>1</td>\n",
       "      <td>positive</td>\n",
       "    </tr>\n",
       "    <tr>\n",
       "      <th>freq</th>\n",
       "      <td>100</td>\n",
       "      <td>8499</td>\n",
       "      <td>8499</td>\n",
       "    </tr>\n",
       "  </tbody>\n",
       "</table>\n",
       "</div>"
      ],
      "text/plain": [
       "               text  sentiment       Tag\n",
       "count         11806      11806     11806\n",
       "unique        10765          2         2\n",
       "top      ফালতু নাটক          1  positive\n",
       "freq            100       8499      8499"
      ]
     },
     "execution_count": 32,
     "metadata": {},
     "output_type": "execute_result"
    }
   ],
   "source": [
    "# Convert sentiment to a categorical type temporarily\n",
    "df['sentiment'] = df['sentiment'].astype('category')\n",
    "\n",
    "# Call describe again\n",
    "df.describe(include='all')"
   ]
  },
  {
   "cell_type": "code",
   "execution_count": 33,
   "id": "159476b8",
   "metadata": {},
   "outputs": [
    {
     "data": {
      "text/html": [
       "<style type=\"text/css\">\n",
       "#T_39563_row0_col1 {\n",
       "  background-color: #fcfbfd;\n",
       "  color: #000000;\n",
       "}\n",
       "#T_39563_row1_col1 {\n",
       "  background-color: #3f007d;\n",
       "  color: #f1f1f1;\n",
       "}\n",
       "</style>\n",
       "<table id=\"T_39563\">\n",
       "  <thead>\n",
       "    <tr>\n",
       "      <th class=\"blank level0\" >&nbsp;</th>\n",
       "      <th id=\"T_39563_level0_col0\" class=\"col_heading level0 col0\" >sentiment</th>\n",
       "      <th id=\"T_39563_level0_col1\" class=\"col_heading level0 col1\" >text</th>\n",
       "    </tr>\n",
       "  </thead>\n",
       "  <tbody>\n",
       "    <tr>\n",
       "      <th id=\"T_39563_level0_row0\" class=\"row_heading level0 row0\" >0</th>\n",
       "      <td id=\"T_39563_row0_col0\" class=\"data row0 col0\" >negative</td>\n",
       "      <td id=\"T_39563_row0_col1\" class=\"data row0 col1\" >3307</td>\n",
       "    </tr>\n",
       "    <tr>\n",
       "      <th id=\"T_39563_level0_row1\" class=\"row_heading level0 row1\" >1</th>\n",
       "      <td id=\"T_39563_row1_col0\" class=\"data row1 col0\" >positive</td>\n",
       "      <td id=\"T_39563_row1_col1\" class=\"data row1 col1\" >8499</td>\n",
       "    </tr>\n",
       "  </tbody>\n",
       "</table>\n"
      ],
      "text/plain": [
       "<pandas.io.formats.style.Styler at 0x20cb7ccd350>"
      ]
     },
     "execution_count": 33,
     "metadata": {},
     "output_type": "execute_result"
    }
   ],
   "source": [
    "\n",
    "temp = df.groupby('sentiment').count()['text'].reset_index()\n",
    "\n",
    "\n",
    "sentiment_mapping = {0: 'negative', 1: 'positive', 2: 'neutral'}\n",
    "temp['sentiment'] = temp['sentiment'].map(sentiment_mapping)\n",
    "\n",
    "\n",
    "temp = temp.sort_values(by='sentiment')\n",
    "\n",
    "temp.style.background_gradient(cmap='Purples')"
   ]
  },
  {
   "cell_type": "code",
   "execution_count": 34,
   "id": "12c222dc",
   "metadata": {},
   "outputs": [
    {
     "data": {
      "image/png": "[encoded data removed]",
      "text/plain": [
       "<Figure size 800x500 with 1 Axes>"
      ]
     },
     "metadata": {},
     "output_type": "display_data"
    }
   ],
   "source": [
    "\n",
    "plt.figure(figsize=(8, 5))\n",
    "sns.countplot(x='sentiment', data=df, palette='viridis')\n",
    "plt.title('Distribution of Types')\n",
    "plt.xlabel('sentiment')\n",
    "plt.ylabel('Count')\n",
    "plt.show()"
   ]
  },
  {
   "cell_type": "code",
   "execution_count": 35,
   "id": "874ba7f5",
   "metadata": {},
   "outputs": [
    {
     "data": {
      "image/png": "[encoded data removed]",
      "text/plain": [
       "<Figure size 1000x600 with 1 Axes>"
      ]
     },
     "metadata": {},
     "output_type": "display_data"
    }
   ],
   "source": [
    "plt.figure(figsize=(10, 6))\n",
    "sns.countplot(y='Tag', data=df, palette='viridis', order=df['Tag'].value_counts().index)\n",
    "plt.title('Distribution of Tags')\n",
    "plt.xlabel('Count')\n",
    "plt.ylabel('Tag')\n",
    "plt.show()"
   ]
  },
  {
   "cell_type": "code",
   "execution_count": 36,
   "id": "ec0dc361",
   "metadata": {},
   "outputs": [
    {
     "data": {
      "application/vnd.plotly.v1+json": {
       "config": {
        "plotlyServerURL": "https://plot.ly"
       },
       "data": [
        {
         "text": [
          "negative",
          "positive"
         ],
         "title": {
          "position": "top center",
          "text": "Funnel-Chart of Sentiment Distribution"
         },
         "type": "funnelarea",
         "values": {
          "bdata": "6wwzIQ==",
          "dtype": "i2"
         }
        }
       ],
       "layout": {
        "template": {
         "data": {
          "bar": [
           {
            "error_x": {
             "color": "#2a3f5f"
            },
            "error_y": {
             "color": "#2a3f5f"
            },
            "marker": {
             "line": {
              "color": "#E5ECF6",
              "width": 0.5
             },
             "pattern": {
              "fillmode": "overlay",
              "size": 10,
              "solidity": 0.2
             }
            },
            "type": "bar"
           }
          ],
          "barpolar": [
           {
            "marker": {
             "line": {
              "color": "#E5ECF6",
              "width": 0.5
             },
             "pattern": {
              "fillmode": "overlay",
              "size": 10,
              "solidity": 0.2
             }
            },
            "type": "barpolar"
           }
          ],
          "carpet": [
           {
            "aaxis": {
             "endlinecolor": "#2a3f5f",
             "gridcolor": "white",
             "linecolor": "white",
             "minorgridcolor": "white",
             "startlinecolor": "#2a3f5f"
            },
            "baxis": {
             "endlinecolor": "#2a3f5f",
             "gridcolor": "white",
             "linecolor": "white",
             "minorgridcolor": "white",
             "startlinecolor": "#2a3f5f"
            },
            "type": "carpet"
           }
          ],
          "choropleth": [
           {
            "colorbar": {
             "outlinewidth": 0,
             "ticks": ""
            },
            "type": "choropleth"
           }
          ],
          "contour": [
           {
            "colorbar": {
             "outlinewidth": 0,
             "ticks": ""
            },
            "colorscale": [
             [
              0,
              "#0d0887"
             ],
             [
              0.1111111111111111,
              "#46039f"
             ],
             [
              0.2222222222222222,
              "#7201a8"
             ],
             [
              0.3333333333333333,
              "#9c179e"
             ],
             [
              0.4444444444444444,
              "#bd3786"
             ],
             [
              0.5555555555555556,
              "#d8576b"
             ],
             [
              0.6666666666666666,
              "#ed7953"
             ],
             [
              0.7777777777777778,
              "#fb9f3a"
             ],
             [
              0.8888888888888888,
              "#fdca26"
             ],
             [
              1,
              "#f0f921"
             ]
            ],
            "type": "contour"
           }
          ],
          "contourcarpet": [
           {
            "colorbar": {
             "outlinewidth": 0,
             "ticks": ""
            },
            "type": "contourcarpet"
           }
          ],
          "heatmap": [
           {
            "colorbar": {
             "outlinewidth": 0,
             "ticks": ""
            },
            "colorscale": [
             [
              0,
              "#0d0887"
             ],
             [
              0.1111111111111111,
              "#46039f"
             ],
             [
              0.2222222222222222,
              "#7201a8"
             ],
             [
              0.3333333333333333,
              "#9c179e"
             ],
             [
              0.4444444444444444,
              "#bd3786"
             ],
             [
              0.5555555555555556,
              "#d8576b"
             ],
             [
              0.6666666666666666,
              "#ed7953"
             ],
             [
              0.7777777777777778,
              "#fb9f3a"
             ],
             [
              0.8888888888888888,
              "#fdca26"
             ],
             [
              1,
              "#f0f921"
             ]
            ],
            "type": "heatmap"
           }
          ],
          "histogram": [
           {
            "marker": {
             "pattern": {
              "fillmode": "overlay",
              "size": 10,
              "solidity": 0.2
             }
            },
            "type": "histogram"
           }
          ],
          "histogram2d": [
           {
            "colorbar": {
             "outlinewidth": 0,
             "ticks": ""
            },
            "colorscale": [
             [
              0,
              "#0d0887"
             ],
             [
              0.1111111111111111,
              "#46039f"
             ],
             [
              0.2222222222222222,
              "#7201a8"
             ],
             [
              0.3333333333333333,
              "#9c179e"
             ],
             [
              0.4444444444444444,
              "#bd3786"
             ],
             [
              0.5555555555555556,
              "#d8576b"
             ],
             [
              0.6666666666666666,
              "#ed7953"
             ],
             [
              0.7777777777777778,
              "#fb9f3a"
             ],
             [
              0.8888888888888888,
              "#fdca26"
             ],
             [
              1,
              "#f0f921"
             ]
            ],
            "type": "histogram2d"
           }
          ],
          "histogram2dcontour": [
           {
            "colorbar": {
             "outlinewidth": 0,
             "ticks": ""
            },
            "colorscale": [
             [
              0,
              "#0d0887"
             ],
             [
              0.1111111111111111,
              "#46039f"
             ],
             [
              0.2222222222222222,
              "#7201a8"
             ],
             [
              0.3333333333333333,
              "#9c179e"
             ],
             [
              0.4444444444444444,
              "#bd3786"
             ],
             [
              0.5555555555555556,
              "#d8576b"
             ],
             [
              0.6666666666666666,
              "#ed7953"
             ],
             [
              0.7777777777777778,
              "#fb9f3a"
             ],
             [
              0.8888888888888888,
              "#fdca26"
             ],
             [
              1,
              "#f0f921"
             ]
            ],
            "type": "histogram2dcontour"
           }
          ],
          "mesh3d": [
           {
            "colorbar": {
             "outlinewidth": 0,
             "ticks": ""
            },
            "type": "mesh3d"
           }
          ],
          "parcoords": [
           {
            "line": {
             "colorbar": {
              "outlinewidth": 0,
              "ticks": ""
             }
            },
            "type": "parcoords"
           }
          ],
          "pie": [
           {
            "automargin": true,
            "type": "pie"
           }
          ],
          "scatter": [
           {
            "fillpattern": {
             "fillmode": "overlay",
             "size": 10,
             "solidity": 0.2
            },
            "type": "scatter"
           }
          ],
          "scatter3d": [
           {
            "line": {
             "colorbar": {
              "outlinewidth": 0,
              "ticks": ""
             }
            },
            "marker": {
             "colorbar": {
              "outlinewidth": 0,
              "ticks": ""
             }
            },
            "type": "scatter3d"
           }
          ],
          "scattercarpet": [
           {
            "marker": {
             "colorbar": {
              "outlinewidth": 0,
              "ticks": ""
             }
            },
            "type": "scattercarpet"
           }
          ],
          "scattergeo": [
           {
            "marker": {
             "colorbar": {
              "outlinewidth": 0,
              "ticks": ""
             }
            },
            "type": "scattergeo"
           }
          ],
          "scattergl": [
           {
            "marker": {
             "colorbar": {
              "outlinewidth": 0,
              "ticks": ""
             }
            },
            "type": "scattergl"
           }
          ],
          "scattermap": [
           {
            "marker": {
             "colorbar": {
              "outlinewidth": 0,
              "ticks": ""
             }
            },
            "type": "scattermap"
           }
          ],
          "scattermapbox": [
           {
            "marker": {
             "colorbar": {
              "outlinewidth": 0,
              "ticks": ""
             }
            },
            "type": "scattermapbox"
           }
          ],
          "scatterpolar": [
           {
            "marker": {
             "colorbar": {
              "outlinewidth": 0,
              "ticks": ""
             }
            },
            "type": "scatterpolar"
           }
          ],
          "scatterpolargl": [
           {
            "marker": {
             "colorbar": {
              "outlinewidth": 0,
              "ticks": ""
             }
            },
            "type": "scatterpolargl"
           }
          ],
          "scatterternary": [
           {
            "marker": {
             "colorbar": {
              "outlinewidth": 0,
              "ticks": ""
             }
            },
            "type": "scatterternary"
           }
          ],
          "surface": [
           {
            "colorbar": {
             "outlinewidth": 0,
             "ticks": ""
            },
            "colorscale": [
             [
              0,
              "#0d0887"
             ],
             [
              0.1111111111111111,
              "#46039f"
             ],
             [
              0.2222222222222222,
              "#7201a8"
             ],
             [
              0.3333333333333333,
              "#9c179e"
             ],
             [
              0.4444444444444444,
              "#bd3786"
             ],
             [
              0.5555555555555556,
              "#d8576b"
             ],
             [
              0.6666666666666666,
              "#ed7953"
             ],
             [
              0.7777777777777778,
              "#fb9f3a"
             ],
             [
              0.8888888888888888,
              "#fdca26"
             ],
             [
              1,
              "#f0f921"
             ]
            ],
            "type": "surface"
           }
          ],
          "table": [
           {
            "cells": {
             "fill": {
              "color": "#EBF0F8"
             },
             "line": {
              "color": "white"
             }
            },
            "header": {
             "fill": {
              "color": "#C8D4E3"
             },
             "line": {
              "color": "white"
             }
            },
            "type": "table"
           }
          ]
         },
         "layout": {
          "annotationdefaults": {
           "arrowcolor": "#2a3f5f",
           "arrowhead": 0,
           "arrowwidth": 1
          },
          "autotypenumbers": "strict",
          "coloraxis": {
           "colorbar": {
            "outlinewidth": 0,
            "ticks": ""
           }
          },
          "colorscale": {
           "diverging": [
            [
             0,
             "#8e0152"
            ],
            [
             0.1,
             "#c51b7d"
            ],
            [
             0.2,
             "#de77ae"
            ],
            [
             0.3,
             "#f1b6da"
            ],
            [
             0.4,
             "#fde0ef"
            ],
            [
             0.5,
             "#f7f7f7"
            ],
            [
             0.6,
             "#e6f5d0"
            ],
            [
             0.7,
             "#b8e186"
            ],
            [
             0.8,
             "#7fbc41"
            ],
            [
             0.9,
             "#4d9221"
            ],
            [
             1,
             "#276419"
            ]
           ],
           "sequential": [
            [
             0,
             "#0d0887"
            ],
            [
             0.1111111111111111,
             "#46039f"
            ],
            [
             0.2222222222222222,
             "#7201a8"
            ],
            [
             0.3333333333333333,
             "#9c179e"
            ],
            [
             0.4444444444444444,
             "#bd3786"
            ],
            [
             0.5555555555555556,
             "#d8576b"
            ],
            [
             0.6666666666666666,
             "#ed7953"
            ],
            [
             0.7777777777777778,
             "#fb9f3a"
            ],
            [
             0.8888888888888888,
             "#fdca26"
            ],
            [
             1,
             "#f0f921"
            ]
           ],
           "sequentialminus": [
            [
             0,
             "#0d0887"
            ],
            [
             0.1111111111111111,
             "#46039f"
            ],
            [
             0.2222222222222222,
             "#7201a8"
            ],
            [
             0.3333333333333333,
             "#9c179e"
            ],
            [
             0.4444444444444444,
             "#bd3786"
            ],
            [
             0.5555555555555556,
             "#d8576b"
            ],
            [
             0.6666666666666666,
             "#ed7953"
            ],
            [
             0.7777777777777778,
             "#fb9f3a"
            ],
            [
             0.8888888888888888,
             "#fdca26"
            ],
            [
             1,
             "#f0f921"
            ]
           ]
          },
          "colorway": [
           "#636efa",
           "#EF553B",
           "#00cc96",
           "#ab63fa",
           "#FFA15A",
           "#19d3f3",
           "#FF6692",
           "#B6E880",
           "#FF97FF",
           "#FECB52"
          ],
          "font": {
           "color": "#2a3f5f"
          },
          "geo": {
           "bgcolor": "white",
           "lakecolor": "white",
           "landcolor": "#E5ECF6",
           "showlakes": true,
           "showland": true,
           "subunitcolor": "white"
          },
          "hoverlabel": {
           "align": "left"
          },
          "hovermode": "closest",
          "mapbox": {
           "style": "light"
          },
          "paper_bgcolor": "white",
          "plot_bgcolor": "#E5ECF6",
          "polar": {
           "angularaxis": {
            "gridcolor": "white",
            "linecolor": "white",
            "ticks": ""
           },
           "bgcolor": "#E5ECF6",
           "radialaxis": {
            "gridcolor": "white",
            "linecolor": "white",
            "ticks": ""
           }
          },
          "scene": {
           "xaxis": {
            "backgroundcolor": "#E5ECF6",
            "gridcolor": "white",
            "gridwidth": 2,
            "linecolor": "white",
            "showbackground": true,
            "ticks": "",
            "zerolinecolor": "white"
           },
           "yaxis": {
            "backgroundcolor": "#E5ECF6",
            "gridcolor": "white",
            "gridwidth": 2,
            "linecolor": "white",
            "showbackground": true,
            "ticks": "",
            "zerolinecolor": "white"
           },
           "zaxis": {
            "backgroundcolor": "#E5ECF6",
            "gridcolor": "white",
            "gridwidth": 2,
            "linecolor": "white",
            "showbackground": true,
            "ticks": "",
            "zerolinecolor": "white"
           }
          },
          "shapedefaults": {
           "line": {
            "color": "#2a3f5f"
           }
          },
          "ternary": {
           "aaxis": {
            "gridcolor": "white",
            "linecolor": "white",
            "ticks": ""
           },
           "baxis": {
            "gridcolor": "white",
            "linecolor": "white",
            "ticks": ""
           },
           "bgcolor": "#E5ECF6",
           "caxis": {
            "gridcolor": "white",
            "linecolor": "white",
            "ticks": ""
           }
          },
          "title": {
           "x": 0.05
          },
          "xaxis": {
           "automargin": true,
           "gridcolor": "white",
           "linecolor": "white",
           "ticks": "",
           "title": {
            "standoff": 15
           },
           "zerolinecolor": "white",
           "zerolinewidth": 2
          },
          "yaxis": {
           "automargin": true,
           "gridcolor": "white",
           "linecolor": "white",
           "ticks": "",
           "title": {
            "standoff": 15
           },
           "zerolinecolor": "white",
           "zerolinewidth": 2
          }
         }
        }
       }
      }
     },
     "metadata": {},
     "output_type": "display_data"
    }
   ],
   "source": [
    "from plotly import graph_objs as go\n",
    "\n",
    "fig = go.Figure(go.Funnelarea(\n",
    "    text=temp.sentiment,\n",
    "    values=temp.text,\n",
    "    title={\"position\": \"top center\", \"text\": \"Funnel-Chart of Sentiment Distribution\"}\n",
    "))\n",
    "fig.show()"
   ]
  },
  {
   "cell_type": "markdown",
   "id": "5f7dd0a2",
   "metadata": {},
   "source": [
    "#### Most common WOrds"
   ]
  },
  {
   "cell_type": "code",
   "execution_count": 37,
   "id": "60835a66",
   "metadata": {},
   "outputs": [
    {
     "data": {
      "text/html": [
       "<style type=\"text/css\">\n",
       "#T_370bc_row0_col1 {\n",
       "  background-color: #08306b;\n",
       "  color: #f1f1f1;\n",
       "}\n",
       "#T_370bc_row1_col1 {\n",
       "  background-color: #7fb9da;\n",
       "  color: #000000;\n",
       "}\n",
       "#T_370bc_row2_col1 {\n",
       "  background-color: #94c4df;\n",
       "  color: #000000;\n",
       "}\n",
       "#T_370bc_row3_col1 {\n",
       "  background-color: #c7dcef;\n",
       "  color: #000000;\n",
       "}\n",
       "#T_370bc_row4_col1 {\n",
       "  background-color: #c8dcf0;\n",
       "  color: #000000;\n",
       "}\n",
       "#T_370bc_row5_col1 {\n",
       "  background-color: #c9ddf0;\n",
       "  color: #000000;\n",
       "}\n",
       "#T_370bc_row6_col1 {\n",
       "  background-color: #d9e8f5;\n",
       "  color: #000000;\n",
       "}\n",
       "#T_370bc_row7_col1 {\n",
       "  background-color: #dbe9f6;\n",
       "  color: #000000;\n",
       "}\n",
       "#T_370bc_row8_col1 {\n",
       "  background-color: #ddeaf7;\n",
       "  color: #000000;\n",
       "}\n",
       "#T_370bc_row9_col1 {\n",
       "  background-color: #deebf7;\n",
       "  color: #000000;\n",
       "}\n",
       "#T_370bc_row10_col1 {\n",
       "  background-color: #e3eef9;\n",
       "  color: #000000;\n",
       "}\n",
       "#T_370bc_row11_col1 {\n",
       "  background-color: #e4eff9;\n",
       "  color: #000000;\n",
       "}\n",
       "#T_370bc_row12_col1, #T_370bc_row13_col1 {\n",
       "  background-color: #e7f0fa;\n",
       "  color: #000000;\n",
       "}\n",
       "#T_370bc_row14_col1 {\n",
       "  background-color: #f2f8fd;\n",
       "  color: #000000;\n",
       "}\n",
       "#T_370bc_row15_col1 {\n",
       "  background-color: #f5f9fe;\n",
       "  color: #000000;\n",
       "}\n",
       "#T_370bc_row16_col1, #T_370bc_row17_col1 {\n",
       "  background-color: #f6faff;\n",
       "  color: #000000;\n",
       "}\n",
       "#T_370bc_row18_col1, #T_370bc_row19_col1 {\n",
       "  background-color: #f7fbff;\n",
       "  color: #000000;\n",
       "}\n",
       "</style>\n",
       "<table id=\"T_370bc\">\n",
       "  <thead>\n",
       "    <tr>\n",
       "      <th class=\"blank level0\" >&nbsp;</th>\n",
       "      <th id=\"T_370bc_level0_col0\" class=\"col_heading level0 col0\" >Common_words</th>\n",
       "      <th id=\"T_370bc_level0_col1\" class=\"col_heading level0 col1\" >count</th>\n",
       "    </tr>\n",
       "  </thead>\n",
       "  <tbody>\n",
       "    <tr>\n",
       "      <th id=\"T_370bc_level0_row0\" class=\"row_heading level0 row0\" >0</th>\n",
       "      <td id=\"T_370bc_row0_col0\" class=\"data row0 col0\" >নাটক</td>\n",
       "      <td id=\"T_370bc_row0_col1\" class=\"data row0 col1\" >4992</td>\n",
       "    </tr>\n",
       "    <tr>\n",
       "      <th id=\"T_370bc_level0_row1\" class=\"row_heading level0 row1\" >1</th>\n",
       "      <td id=\"T_370bc_row1_col0\" class=\"data row1 col0\" >ভালো</td>\n",
       "      <td id=\"T_370bc_row1_col1\" class=\"data row1 col1\" >2607</td>\n",
       "    </tr>\n",
       "    <tr>\n",
       "      <th id=\"T_370bc_level0_row2\" class=\"row_heading level0 row2\" >2</th>\n",
       "      <td id=\"T_370bc_row2_col0\" class=\"data row2 col0\" >অনেক</td>\n",
       "      <td id=\"T_370bc_row2_col1\" class=\"data row2 col1\" >2387</td>\n",
       "    </tr>\n",
       "    <tr>\n",
       "      <th id=\"T_370bc_level0_row3\" class=\"row_heading level0 row3\" >3</th>\n",
       "      <td id=\"T_370bc_row3_col0\" class=\"data row3 col0\" >একটা</td>\n",
       "      <td id=\"T_370bc_row3_col1\" class=\"data row3 col1\" >1703</td>\n",
       "    </tr>\n",
       "    <tr>\n",
       "      <th id=\"T_370bc_level0_row4\" class=\"row_heading level0 row4\" >4</th>\n",
       "      <td id=\"T_370bc_row4_col0\" class=\"data row4 col0\" >সুন্দর</td>\n",
       "      <td id=\"T_370bc_row4_col1\" class=\"data row4 col1\" >1697</td>\n",
       "    </tr>\n",
       "    <tr>\n",
       "      <th id=\"T_370bc_level0_row5\" class=\"row_heading level0 row5\" >5</th>\n",
       "      <td id=\"T_370bc_row5_col0\" class=\"data row5 col0\" >অসাধারণ</td>\n",
       "      <td id=\"T_370bc_row5_col1\" class=\"data row5 col1\" >1677</td>\n",
       "    </tr>\n",
       "    <tr>\n",
       "      <th id=\"T_370bc_level0_row6\" class=\"row_heading level0 row6\" >6</th>\n",
       "      <td id=\"T_370bc_row6_col0\" class=\"data row6 col0\" >খুব</td>\n",
       "      <td id=\"T_370bc_row6_col1\" class=\"data row6 col1\" >1302</td>\n",
       "    </tr>\n",
       "    <tr>\n",
       "      <th id=\"T_370bc_level0_row7\" class=\"row_heading level0 row7\" >7</th>\n",
       "      <td id=\"T_370bc_row7_col0\" class=\"data row7 col0\" >এই</td>\n",
       "      <td id=\"T_370bc_row7_col1\" class=\"data row7 col1\" >1267</td>\n",
       "    </tr>\n",
       "    <tr>\n",
       "      <th id=\"T_370bc_level0_row8\" class=\"row_heading level0 row8\" >8</th>\n",
       "      <td id=\"T_370bc_row8_col0\" class=\"data row8 col0\" >ভাই</td>\n",
       "      <td id=\"T_370bc_row8_col1\" class=\"data row8 col1\" >1209</td>\n",
       "    </tr>\n",
       "    <tr>\n",
       "      <th id=\"T_370bc_level0_row9\" class=\"row_heading level0 row9\" >9</th>\n",
       "      <td id=\"T_370bc_row9_col0\" class=\"data row9 col0\" >আর</td>\n",
       "      <td id=\"T_370bc_row9_col1\" class=\"data row9 col1\" >1206</td>\n",
       "    </tr>\n",
       "    <tr>\n",
       "      <th id=\"T_370bc_level0_row10\" class=\"row_heading level0 row10\" >10</th>\n",
       "      <td id=\"T_370bc_row10_col0\" class=\"data row10 col0\" >আমার</td>\n",
       "      <td id=\"T_370bc_row10_col1\" class=\"data row10 col1\" >1073</td>\n",
       "    </tr>\n",
       "    <tr>\n",
       "      <th id=\"T_370bc_level0_row11\" class=\"row_heading level0 row11\" >11</th>\n",
       "      <td id=\"T_370bc_row11_col0\" class=\"data row11 col0\" >টা</td>\n",
       "      <td id=\"T_370bc_row11_col1\" class=\"data row11 col1\" >1065</td>\n",
       "    </tr>\n",
       "    <tr>\n",
       "      <th id=\"T_370bc_level0_row12\" class=\"row_heading level0 row12\" >12</th>\n",
       "      <td id=\"T_370bc_row12_col0\" class=\"data row12 col0\" >ভাল</td>\n",
       "      <td id=\"T_370bc_row12_col1\" class=\"data row12 col1\" >1011</td>\n",
       "    </tr>\n",
       "    <tr>\n",
       "      <th id=\"T_370bc_level0_row13\" class=\"row_heading level0 row13\" >13</th>\n",
       "      <td id=\"T_370bc_row13_col0\" class=\"data row13 col0\" >না</td>\n",
       "      <td id=\"T_370bc_row13_col1\" class=\"data row13 col1\" >1003</td>\n",
       "    </tr>\n",
       "    <tr>\n",
       "      <th id=\"T_370bc_level0_row14\" class=\"row_heading level0 row14\" >14</th>\n",
       "      <td id=\"T_370bc_row14_col0\" class=\"data row14 col0\" >নাটকের</td>\n",
       "      <td id=\"T_370bc_row14_col1\" class=\"data row14 col1\" >749</td>\n",
       "    </tr>\n",
       "    <tr>\n",
       "      <th id=\"T_370bc_level0_row15\" class=\"row_heading level0 row15\" >15</th>\n",
       "      <td id=\"T_370bc_row15_col0\" class=\"data row15 col0\" >করে</td>\n",
       "      <td id=\"T_370bc_row15_col1\" class=\"data row15 col1\" >709</td>\n",
       "    </tr>\n",
       "    <tr>\n",
       "      <th id=\"T_370bc_level0_row16\" class=\"row_heading level0 row16\" >16</th>\n",
       "      <td id=\"T_370bc_row16_col0\" class=\"data row16 col0\" >ফালতু</td>\n",
       "      <td id=\"T_370bc_row16_col1\" class=\"data row16 col1\" >667</td>\n",
       "    </tr>\n",
       "    <tr>\n",
       "      <th id=\"T_370bc_level0_row17\" class=\"row_heading level0 row17\" >17</th>\n",
       "      <td id=\"T_370bc_row17_col0\" class=\"data row17 col0\" >কি</td>\n",
       "      <td id=\"T_370bc_row17_col1\" class=\"data row17 col1\" >667</td>\n",
       "    </tr>\n",
       "    <tr>\n",
       "      <th id=\"T_370bc_level0_row18\" class=\"row_heading level0 row18\" >18</th>\n",
       "      <td id=\"T_370bc_row18_col0\" class=\"data row18 col0\" >নিশো</td>\n",
       "      <td id=\"T_370bc_row18_col1\" class=\"data row18 col1\" >653</td>\n",
       "    </tr>\n",
       "    <tr>\n",
       "      <th id=\"T_370bc_level0_row19\" class=\"row_heading level0 row19\" >19</th>\n",
       "      <td id=\"T_370bc_row19_col0\" class=\"data row19 col0\" >সব</td>\n",
       "      <td id=\"T_370bc_row19_col1\" class=\"data row19 col1\" >646</td>\n",
       "    </tr>\n",
       "  </tbody>\n",
       "</table>\n"
      ],
      "text/plain": [
       "<pandas.io.formats.style.Styler at 0x20cbee48e10>"
      ]
     },
     "execution_count": 37,
     "metadata": {},
     "output_type": "execute_result"
    }
   ],
   "source": [
    "from collections import Counter\n",
    "\n",
    "df['temp_list'] = df['text'].apply(lambda x:str(x).split())\n",
    "top = Counter([item for sublist in df['temp_list'] for item in sublist])\n",
    "temp = pd.DataFrame(top.most_common(20))\n",
    "temp.columns = ['Common_words','count']\n",
    "temp.style.background_gradient(cmap='Blues')"
   ]
  },
  {
   "cell_type": "code",
   "execution_count": 38,
   "id": "bf9ba1a2",
   "metadata": {},
   "outputs": [],
   "source": [
    "df['temp_list'] = df['text'].apply(lambda x: str(x).split())\n",
    "def remove_stopword(x):\n",
    "    return [y for y in x if y not in stopwords.words('bengali')]\n",
    "df['temp_list'] = df['temp_list'].apply(remove_stopword)"
   ]
  },
  {
   "cell_type": "code",
   "execution_count": 39,
   "id": "86ef8147",
   "metadata": {},
   "outputs": [],
   "source": [
    "# Remove punctuation\n",
    "def remove_punctuation(temp_list):\n",
    "    return [re.sub(r'[“”\"\\'।।.,!?()\\[\\]{}<>;:।‘’–—…]', '', word) for word in temp_list]\n",
    "\n",
    "df['temp_list'] = df['temp_list'].apply(remove_punctuation)"
   ]
  },
  {
   "cell_type": "markdown",
   "id": "58f188d9",
   "metadata": {},
   "source": [
    "#### Most common words after removing stopwords"
   ]
  },
  {
   "cell_type": "code",
   "execution_count": 40,
   "id": "c2c59551",
   "metadata": {},
   "outputs": [],
   "source": [
    "def remove_space(x):\n",
    "    return [y for y in x if y != '']\n",
    "df['temp_list'] = df['temp_list'].apply(remove_space)"
   ]
  },
  {
   "cell_type": "code",
   "execution_count": 41,
   "id": "4281835b",
   "metadata": {},
   "outputs": [
    {
     "data": {
      "text/html": [
       "<style type=\"text/css\">\n",
       "#T_0cab4_row0_col1 {\n",
       "  background-color: #08306b;\n",
       "  color: #f1f1f1;\n",
       "}\n",
       "#T_0cab4_row1_col1 {\n",
       "  background-color: #91c3de;\n",
       "  color: #000000;\n",
       "}\n",
       "#T_0cab4_row2_col1 {\n",
       "  background-color: #bed8ec;\n",
       "  color: #000000;\n",
       "}\n",
       "#T_0cab4_row3_col1 {\n",
       "  background-color: #c7dcef;\n",
       "  color: #000000;\n",
       "}\n",
       "#T_0cab4_row4_col1 {\n",
       "  background-color: #caddf0;\n",
       "  color: #000000;\n",
       "}\n",
       "#T_0cab4_row5_col1 {\n",
       "  background-color: #d6e6f4;\n",
       "  color: #000000;\n",
       "}\n",
       "#T_0cab4_row6_col1 {\n",
       "  background-color: #e0ecf8;\n",
       "  color: #000000;\n",
       "}\n",
       "#T_0cab4_row7_col1 {\n",
       "  background-color: #e3eef9;\n",
       "  color: #000000;\n",
       "}\n",
       "#T_0cab4_row8_col1, #T_0cab4_row9_col1, #T_0cab4_row10_col1 {\n",
       "  background-color: #eef5fc;\n",
       "  color: #000000;\n",
       "}\n",
       "#T_0cab4_row11_col1 {\n",
       "  background-color: #eff6fc;\n",
       "  color: #000000;\n",
       "}\n",
       "#T_0cab4_row12_col1, #T_0cab4_row13_col1, #T_0cab4_row14_col1 {\n",
       "  background-color: #f1f7fd;\n",
       "  color: #000000;\n",
       "}\n",
       "#T_0cab4_row15_col1, #T_0cab4_row16_col1 {\n",
       "  background-color: #f5f9fe;\n",
       "  color: #000000;\n",
       "}\n",
       "#T_0cab4_row17_col1 {\n",
       "  background-color: #f5fafe;\n",
       "  color: #000000;\n",
       "}\n",
       "#T_0cab4_row18_col1, #T_0cab4_row19_col1 {\n",
       "  background-color: #f7fbff;\n",
       "  color: #000000;\n",
       "}\n",
       "</style>\n",
       "<table id=\"T_0cab4\">\n",
       "  <thead>\n",
       "    <tr>\n",
       "      <th class=\"blank level0\" >&nbsp;</th>\n",
       "      <th id=\"T_0cab4_level0_col0\" class=\"col_heading level0 col0\" >Common_words</th>\n",
       "      <th id=\"T_0cab4_level0_col1\" class=\"col_heading level0 col1\" >count</th>\n",
       "    </tr>\n",
       "  </thead>\n",
       "  <tbody>\n",
       "    <tr>\n",
       "      <th id=\"T_0cab4_level0_row0\" class=\"row_heading level0 row0\" >0</th>\n",
       "      <td id=\"T_0cab4_row0_col0\" class=\"data row0 col0\" >নাটক</td>\n",
       "      <td id=\"T_0cab4_row0_col1\" class=\"data row0 col1\" >5798</td>\n",
       "    </tr>\n",
       "    <tr>\n",
       "      <th id=\"T_0cab4_level0_row1\" class=\"row_heading level0 row1\" >1</th>\n",
       "      <td id=\"T_0cab4_row1_col0\" class=\"data row1 col0\" >ভালো</td>\n",
       "      <td id=\"T_0cab4_row1_col1\" class=\"data row1 col1\" >2655</td>\n",
       "    </tr>\n",
       "    <tr>\n",
       "      <th id=\"T_0cab4_level0_row2\" class=\"row_heading level0 row2\" >2</th>\n",
       "      <td id=\"T_0cab4_row2_col0\" class=\"data row2 col0\" >অসাধারণ</td>\n",
       "      <td id=\"T_0cab4_row2_col1\" class=\"data row2 col1\" >1952</td>\n",
       "    </tr>\n",
       "    <tr>\n",
       "      <th id=\"T_0cab4_level0_row3\" class=\"row_heading level0 row3\" >3</th>\n",
       "      <td id=\"T_0cab4_row3_col0\" class=\"data row3 col0\" >সুন্দর</td>\n",
       "      <td id=\"T_0cab4_row3_col1\" class=\"data row3 col1\" >1799</td>\n",
       "    </tr>\n",
       "    <tr>\n",
       "      <th id=\"T_0cab4_level0_row4\" class=\"row_heading level0 row4\" >4</th>\n",
       "      <td id=\"T_0cab4_row4_col0\" class=\"data row4 col0\" >একটা</td>\n",
       "      <td id=\"T_0cab4_row4_col1\" class=\"data row4 col1\" >1727</td>\n",
       "    </tr>\n",
       "    <tr>\n",
       "      <th id=\"T_0cab4_level0_row5\" class=\"row_heading level0 row5\" >5</th>\n",
       "      <td id=\"T_0cab4_row5_col0\" class=\"data row5 col0\" >ভাই</td>\n",
       "      <td id=\"T_0cab4_row5_col1\" class=\"data row5 col1\" >1392</td>\n",
       "    </tr>\n",
       "    <tr>\n",
       "      <th id=\"T_0cab4_level0_row6\" class=\"row_heading level0 row6\" >6</th>\n",
       "      <td id=\"T_0cab4_row6_col0\" class=\"data row6 col0\" >টা</td>\n",
       "      <td id=\"T_0cab4_row6_col1\" class=\"data row6 col1\" >1104</td>\n",
       "    </tr>\n",
       "    <tr>\n",
       "      <th id=\"T_0cab4_level0_row7\" class=\"row_heading level0 row7\" >7</th>\n",
       "      <td id=\"T_0cab4_row7_col0\" class=\"data row7 col0\" >ভাল</td>\n",
       "      <td id=\"T_0cab4_row7_col1\" class=\"data row7 col1\" >1029</td>\n",
       "    </tr>\n",
       "    <tr>\n",
       "      <th id=\"T_0cab4_level0_row8\" class=\"row_heading level0 row8\" >8</th>\n",
       "      <td id=\"T_0cab4_row8_col0\" class=\"data row8 col0\" >নাটকের</td>\n",
       "      <td id=\"T_0cab4_row8_col1\" class=\"data row8 col1\" >757</td>\n",
       "    </tr>\n",
       "    <tr>\n",
       "      <th id=\"T_0cab4_level0_row9\" class=\"row_heading level0 row9\" >9</th>\n",
       "      <td id=\"T_0cab4_row9_col0\" class=\"data row9 col0\" >লাগলো</td>\n",
       "      <td id=\"T_0cab4_row9_col1\" class=\"data row9 col1\" >741</td>\n",
       "    </tr>\n",
       "    <tr>\n",
       "      <th id=\"T_0cab4_level0_row10\" class=\"row_heading level0 row10\" >10</th>\n",
       "      <td id=\"T_0cab4_row10_col0\" class=\"data row10 col0\" >ধন্যবাদ</td>\n",
       "      <td id=\"T_0cab4_row10_col1\" class=\"data row10 col1\" >739</td>\n",
       "    </tr>\n",
       "    <tr>\n",
       "      <th id=\"T_0cab4_level0_row11\" class=\"row_heading level0 row11\" >11</th>\n",
       "      <td id=\"T_0cab4_row11_col0\" class=\"data row11 col0\" >ফালতু</td>\n",
       "      <td id=\"T_0cab4_row11_col1\" class=\"data row11 col1\" >722</td>\n",
       "    </tr>\n",
       "    <tr>\n",
       "      <th id=\"T_0cab4_level0_row12\" class=\"row_heading level0 row12\" >12</th>\n",
       "      <td id=\"T_0cab4_row12_col0\" class=\"data row12 col0\" >অভিনয়</td>\n",
       "      <td id=\"T_0cab4_row12_col1\" class=\"data row12 col1\" >684</td>\n",
       "    </tr>\n",
       "    <tr>\n",
       "      <th id=\"T_0cab4_level0_row13\" class=\"row_heading level0 row13\" >13</th>\n",
       "      <td id=\"T_0cab4_row13_col0\" class=\"data row13 col0\" >নিশো</td>\n",
       "      <td id=\"T_0cab4_row13_col1\" class=\"data row13 col1\" >677</td>\n",
       "    </tr>\n",
       "    <tr>\n",
       "      <th id=\"T_0cab4_level0_row14\" class=\"row_heading level0 row14\" >14</th>\n",
       "      <td id=\"T_0cab4_row14_col0\" class=\"data row14 col0\" >সেরা</td>\n",
       "      <td id=\"T_0cab4_row14_col1\" class=\"data row14 col1\" >677</td>\n",
       "    </tr>\n",
       "    <tr>\n",
       "      <th id=\"T_0cab4_level0_row15\" class=\"row_heading level0 row15\" >15</th>\n",
       "      <td id=\"T_0cab4_row15_col0\" class=\"data row15 col0\" >না</td>\n",
       "      <td id=\"T_0cab4_row15_col1\" class=\"data row15 col1\" >581</td>\n",
       "    </tr>\n",
       "    <tr>\n",
       "      <th id=\"T_0cab4_level0_row16\" class=\"row_heading level0 row16\" >16</th>\n",
       "      <td id=\"T_0cab4_row16_col0\" class=\"data row16 col0\" >অসাধারন</td>\n",
       "      <td id=\"T_0cab4_row16_col1\" class=\"data row16 col1\" >581</td>\n",
       "    </tr>\n",
       "    <tr>\n",
       "      <th id=\"T_0cab4_level0_row17\" class=\"row_heading level0 row17\" >17</th>\n",
       "      <td id=\"T_0cab4_row17_col0\" class=\"data row17 col0\" >এক</td>\n",
       "      <td id=\"T_0cab4_row17_col1\" class=\"data row17 col1\" >548</td>\n",
       "    </tr>\n",
       "    <tr>\n",
       "      <th id=\"T_0cab4_level0_row18\" class=\"row_heading level0 row18\" >18</th>\n",
       "      <td id=\"T_0cab4_row18_col0\" class=\"data row18 col0\" >নাটকটা</td>\n",
       "      <td id=\"T_0cab4_row18_col1\" class=\"data row18 col1\" >513</td>\n",
       "    </tr>\n",
       "    <tr>\n",
       "      <th id=\"T_0cab4_level0_row19\" class=\"row_heading level0 row19\" >19</th>\n",
       "      <td id=\"T_0cab4_row19_col0\" class=\"data row19 col0\" >লাগছে</td>\n",
       "      <td id=\"T_0cab4_row19_col1\" class=\"data row19 col1\" >503</td>\n",
       "    </tr>\n",
       "  </tbody>\n",
       "</table>\n"
      ],
      "text/plain": [
       "<pandas.io.formats.style.Styler at 0x20cbedb9ad0>"
      ]
     },
     "execution_count": 41,
     "metadata": {},
     "output_type": "execute_result"
    }
   ],
   "source": [
    "top = Counter([item for sublist in df['temp_list'] for item in sublist])\n",
    "temp = pd.DataFrame(top.most_common(20))\n",
    "temp.columns = ['Common_words','count']\n",
    "temp.style.background_gradient(cmap='Blues')"
   ]
  },
  {
   "cell_type": "markdown",
   "id": "e8e3cd3a",
   "metadata": {},
   "source": [
    "#### Most common words Sentiments Wise"
   ]
  },
  {
   "cell_type": "code",
   "execution_count": 42,
   "id": "092bef10",
   "metadata": {},
   "outputs": [
    {
     "data": {
      "text/html": [
       "<div>\n",
       "<style scoped>\n",
       "    .dataframe tbody tr th:only-of-type {\n",
       "        vertical-align: middle;\n",
       "    }\n",
       "\n",
       "    .dataframe tbody tr th {\n",
       "        vertical-align: top;\n",
       "    }\n",
       "\n",
       "    .dataframe thead th {\n",
       "        text-align: right;\n",
       "    }\n",
       "</style>\n",
       "<table border=\"1\" class=\"dataframe\">\n",
       "  <thead>\n",
       "    <tr style=\"text-align: right;\">\n",
       "      <th></th>\n",
       "      <th>text</th>\n",
       "      <th>sentiment</th>\n",
       "      <th>Tag</th>\n",
       "      <th>temp_list</th>\n",
       "    </tr>\n",
       "  </thead>\n",
       "  <tbody>\n",
       "    <tr>\n",
       "      <th>0</th>\n",
       "      <td>ভালোই লাগলো নাটকটা</td>\n",
       "      <td>1</td>\n",
       "      <td>positive</td>\n",
       "      <td>[ভালোই, লাগলো, নাটকটা]</td>\n",
       "    </tr>\n",
       "    <tr>\n",
       "      <th>1</th>\n",
       "      <td>নামাজের প্রতি সম্মান দেখানোটা খুব ভাল লাগলো।।।</td>\n",
       "      <td>1</td>\n",
       "      <td>positive</td>\n",
       "      <td>[নামাজের, সম্মান, দেখানোটা, ভাল, লাগলো]</td>\n",
       "    </tr>\n",
       "    <tr>\n",
       "      <th>2</th>\n",
       "      <td>বস্তাপচা নাটক।</td>\n",
       "      <td>0</td>\n",
       "      <td>negative</td>\n",
       "      <td>[বস্তাপচা, নাটক]</td>\n",
       "    </tr>\n",
       "    <tr>\n",
       "      <th>3</th>\n",
       "      <td>অসাধারণ হইছে</td>\n",
       "      <td>1</td>\n",
       "      <td>positive</td>\n",
       "      <td>[অসাধারণ, হইছে]</td>\n",
       "    </tr>\n",
       "    <tr>\n",
       "      <th>4</th>\n",
       "      <td>সত্যি নিশো ভাই তুমি বাংলা নাটকের কিংবদন্তি আর...</td>\n",
       "      <td>1</td>\n",
       "      <td>positive</td>\n",
       "      <td>[সত্যি, নিশো, ভাই, বাংলা, নাটকের, কিংবদন্তি, ম...</td>\n",
       "    </tr>\n",
       "  </tbody>\n",
       "</table>\n",
       "</div>"
      ],
      "text/plain": [
       "                                                text sentiment       Tag  \\\n",
       "0                                 ভালোই লাগলো নাটকটা         1  positive   \n",
       "1     নামাজের প্রতি সম্মান দেখানোটা খুব ভাল লাগলো।।।         1  positive   \n",
       "2                                     বস্তাপচা নাটক।         0  negative   \n",
       "3                                       অসাধারণ হইছে         1  positive   \n",
       "4   সত্যি নিশো ভাই তুমি বাংলা নাটকের কিংবদন্তি আর...         1  positive   \n",
       "\n",
       "                                           temp_list  \n",
       "0                             [ভালোই, লাগলো, নাটকটা]  \n",
       "1            [নামাজের, সম্মান, দেখানোটা, ভাল, লাগলো]  \n",
       "2                                   [বস্তাপচা, নাটক]  \n",
       "3                                    [অসাধারণ, হইছে]  \n",
       "4  [সত্যি, নিশো, ভাই, বাংলা, নাটকের, কিংবদন্তি, ম...  "
      ]
     },
     "execution_count": 42,
     "metadata": {},
     "output_type": "execute_result"
    }
   ],
   "source": [
    "df.head(5)"
   ]
  },
  {
   "cell_type": "code",
   "execution_count": 44,
   "id": "7484f3d0",
   "metadata": {},
   "outputs": [],
   "source": [
    "Positive_sent = df[df['Tag']=='positive']\n",
    "Negative_sent = df[df['Tag']=='negative']"
   ]
  },
  {
   "cell_type": "code",
   "execution_count": 45,
   "id": "7de7e855",
   "metadata": {},
   "outputs": [
    {
     "data": {
      "text/html": [
       "<style type=\"text/css\">\n",
       "#T_23a69_row0_col1 {\n",
       "  background-color: #3f007d;\n",
       "  color: #f1f1f1;\n",
       "}\n",
       "#T_23a69_row1_col1 {\n",
       "  background-color: #928fc3;\n",
       "  color: #f1f1f1;\n",
       "}\n",
       "#T_23a69_row2_col1 {\n",
       "  background-color: #aeacd2;\n",
       "  color: #000000;\n",
       "}\n",
       "#T_23a69_row3_col1 {\n",
       "  background-color: #b9b9da;\n",
       "  color: #000000;\n",
       "}\n",
       "#T_23a69_row4_col1 {\n",
       "  background-color: #d6d6e9;\n",
       "  color: #000000;\n",
       "}\n",
       "#T_23a69_row5_col1 {\n",
       "  background-color: #ddddec;\n",
       "  color: #000000;\n",
       "}\n",
       "#T_23a69_row6_col1, #T_23a69_row7_col1 {\n",
       "  background-color: #eceaf3;\n",
       "  color: #000000;\n",
       "}\n",
       "#T_23a69_row8_col1 {\n",
       "  background-color: #f1f0f6;\n",
       "  color: #000000;\n",
       "}\n",
       "#T_23a69_row9_col1 {\n",
       "  background-color: #f3f1f7;\n",
       "  color: #000000;\n",
       "}\n",
       "#T_23a69_row10_col1 {\n",
       "  background-color: #f4f2f8;\n",
       "  color: #000000;\n",
       "}\n",
       "#T_23a69_row11_col1 {\n",
       "  background-color: #f5f4f9;\n",
       "  color: #000000;\n",
       "}\n",
       "#T_23a69_row12_col1 {\n",
       "  background-color: #f6f4f9;\n",
       "  color: #000000;\n",
       "}\n",
       "#T_23a69_row13_col1 {\n",
       "  background-color: #f8f6fa;\n",
       "  color: #000000;\n",
       "}\n",
       "#T_23a69_row14_col1, #T_23a69_row15_col1 {\n",
       "  background-color: #f9f7fb;\n",
       "  color: #000000;\n",
       "}\n",
       "#T_23a69_row16_col1 {\n",
       "  background-color: #f9f8fb;\n",
       "  color: #000000;\n",
       "}\n",
       "#T_23a69_row17_col1 {\n",
       "  background-color: #faf9fc;\n",
       "  color: #000000;\n",
       "}\n",
       "#T_23a69_row18_col1, #T_23a69_row19_col1 {\n",
       "  background-color: #fcfbfd;\n",
       "  color: #000000;\n",
       "}\n",
       "</style>\n",
       "<table id=\"T_23a69\">\n",
       "  <thead>\n",
       "    <tr>\n",
       "      <th class=\"blank level0\" >&nbsp;</th>\n",
       "      <th id=\"T_23a69_level0_col0\" class=\"col_heading level0 col0\" >Common_words</th>\n",
       "      <th id=\"T_23a69_level0_col1\" class=\"col_heading level0 col1\" >count</th>\n",
       "    </tr>\n",
       "  </thead>\n",
       "  <tbody>\n",
       "    <tr>\n",
       "      <th id=\"T_23a69_level0_row0\" class=\"row_heading level0 row0\" >0</th>\n",
       "      <td id=\"T_23a69_row0_col0\" class=\"data row0 col0\" >নাটক</td>\n",
       "      <td id=\"T_23a69_row0_col1\" class=\"data row0 col1\" >3990</td>\n",
       "    </tr>\n",
       "    <tr>\n",
       "      <th id=\"T_23a69_level0_row1\" class=\"row_heading level0 row1\" >1</th>\n",
       "      <td id=\"T_23a69_row1_col0\" class=\"data row1 col0\" >ভালো</td>\n",
       "      <td id=\"T_23a69_row1_col1\" class=\"data row1 col1\" >2354</td>\n",
       "    </tr>\n",
       "    <tr>\n",
       "      <th id=\"T_23a69_level0_row2\" class=\"row_heading level0 row2\" >2</th>\n",
       "      <td id=\"T_23a69_row2_col0\" class=\"data row2 col0\" >অসাধারণ</td>\n",
       "      <td id=\"T_23a69_row2_col1\" class=\"data row2 col1\" >1939</td>\n",
       "    </tr>\n",
       "    <tr>\n",
       "      <th id=\"T_23a69_level0_row3\" class=\"row_heading level0 row3\" >3</th>\n",
       "      <td id=\"T_23a69_row3_col0\" class=\"data row3 col0\" >সুন্দর</td>\n",
       "      <td id=\"T_23a69_row3_col1\" class=\"data row3 col1\" >1768</td>\n",
       "    </tr>\n",
       "    <tr>\n",
       "      <th id=\"T_23a69_level0_row4\" class=\"row_heading level0 row4\" >4</th>\n",
       "      <td id=\"T_23a69_row4_col0\" class=\"data row4 col0\" >একটা</td>\n",
       "      <td id=\"T_23a69_row4_col1\" class=\"data row4 col1\" >1327</td>\n",
       "    </tr>\n",
       "    <tr>\n",
       "      <th id=\"T_23a69_level0_row5\" class=\"row_heading level0 row5\" >5</th>\n",
       "      <td id=\"T_23a69_row5_col0\" class=\"data row5 col0\" >ভাই</td>\n",
       "      <td id=\"T_23a69_row5_col1\" class=\"data row5 col1\" >1207</td>\n",
       "    </tr>\n",
       "    <tr>\n",
       "      <th id=\"T_23a69_level0_row6\" class=\"row_heading level0 row6\" >6</th>\n",
       "      <td id=\"T_23a69_row6_col0\" class=\"data row6 col0\" >ভাল</td>\n",
       "      <td id=\"T_23a69_row6_col1\" class=\"data row6 col1\" >895</td>\n",
       "    </tr>\n",
       "    <tr>\n",
       "      <th id=\"T_23a69_level0_row7\" class=\"row_heading level0 row7\" >7</th>\n",
       "      <td id=\"T_23a69_row7_col0\" class=\"data row7 col0\" >টা</td>\n",
       "      <td id=\"T_23a69_row7_col1\" class=\"data row7 col1\" >890</td>\n",
       "    </tr>\n",
       "    <tr>\n",
       "      <th id=\"T_23a69_level0_row8\" class=\"row_heading level0 row8\" >8</th>\n",
       "      <td id=\"T_23a69_row8_col0\" class=\"data row8 col0\" >ধন্যবাদ</td>\n",
       "      <td id=\"T_23a69_row8_col1\" class=\"data row8 col1\" >734</td>\n",
       "    </tr>\n",
       "    <tr>\n",
       "      <th id=\"T_23a69_level0_row9\" class=\"row_heading level0 row9\" >9</th>\n",
       "      <td id=\"T_23a69_row9_col0\" class=\"data row9 col0\" >লাগলো</td>\n",
       "      <td id=\"T_23a69_row9_col1\" class=\"data row9 col1\" >695</td>\n",
       "    </tr>\n",
       "    <tr>\n",
       "      <th id=\"T_23a69_level0_row10\" class=\"row_heading level0 row10\" >10</th>\n",
       "      <td id=\"T_23a69_row10_col0\" class=\"data row10 col0\" >সেরা</td>\n",
       "      <td id=\"T_23a69_row10_col1\" class=\"data row10 col1\" >656</td>\n",
       "    </tr>\n",
       "    <tr>\n",
       "      <th id=\"T_23a69_level0_row11\" class=\"row_heading level0 row11\" >11</th>\n",
       "      <td id=\"T_23a69_row11_col0\" class=\"data row11 col0\" >নিশো</td>\n",
       "      <td id=\"T_23a69_row11_col1\" class=\"data row11 col1\" >594</td>\n",
       "    </tr>\n",
       "    <tr>\n",
       "      <th id=\"T_23a69_level0_row12\" class=\"row_heading level0 row12\" >12</th>\n",
       "      <td id=\"T_23a69_row12_col0\" class=\"data row12 col0\" >অসাধারন</td>\n",
       "      <td id=\"T_23a69_row12_col1\" class=\"data row12 col1\" >579</td>\n",
       "    </tr>\n",
       "    <tr>\n",
       "      <th id=\"T_23a69_level0_row13\" class=\"row_heading level0 row13\" >13</th>\n",
       "      <td id=\"T_23a69_row13_col0\" class=\"data row13 col0\" >অভিনয়</td>\n",
       "      <td id=\"T_23a69_row13_col1\" class=\"data row13 col1\" >524</td>\n",
       "    </tr>\n",
       "    <tr>\n",
       "      <th id=\"T_23a69_level0_row14\" class=\"row_heading level0 row14\" >14</th>\n",
       "      <td id=\"T_23a69_row14_col0\" class=\"data row14 col0\" >নাটকের</td>\n",
       "      <td id=\"T_23a69_row14_col1\" class=\"data row14 col1\" >481</td>\n",
       "    </tr>\n",
       "    <tr>\n",
       "      <th id=\"T_23a69_level0_row15\" class=\"row_heading level0 row15\" >15</th>\n",
       "      <td id=\"T_23a69_row15_col0\" class=\"data row15 col0\" >লাগছে</td>\n",
       "      <td id=\"T_23a69_row15_col1\" class=\"data row15 col1\" >476</td>\n",
       "    </tr>\n",
       "    <tr>\n",
       "      <th id=\"T_23a69_level0_row16\" class=\"row_heading level0 row16\" >16</th>\n",
       "      <td id=\"T_23a69_row16_col0\" class=\"data row16 col0\" >এক</td>\n",
       "      <td id=\"T_23a69_row16_col1\" class=\"data row16 col1\" >460</td>\n",
       "    </tr>\n",
       "    <tr>\n",
       "      <th id=\"T_23a69_level0_row17\" class=\"row_heading level0 row17\" >17</th>\n",
       "      <td id=\"T_23a69_row17_col0\" class=\"data row17 col0\" >নাটকটা</td>\n",
       "      <td id=\"T_23a69_row17_col1\" class=\"data row17 col1\" >443</td>\n",
       "    </tr>\n",
       "    <tr>\n",
       "      <th id=\"T_23a69_level0_row18\" class=\"row_heading level0 row18\" >18</th>\n",
       "      <td id=\"T_23a69_row18_col0\" class=\"data row18 col0\" >সত্যি</td>\n",
       "      <td id=\"T_23a69_row18_col1\" class=\"data row18 col1\" >363</td>\n",
       "    </tr>\n",
       "    <tr>\n",
       "      <th id=\"T_23a69_level0_row19\" class=\"row_heading level0 row19\" >19</th>\n",
       "      <td id=\"T_23a69_row19_col0\" class=\"data row19 col0\" >উপহার</td>\n",
       "      <td id=\"T_23a69_row19_col1\" class=\"data row19 col1\" >359</td>\n",
       "    </tr>\n",
       "  </tbody>\n",
       "</table>\n"
      ],
      "text/plain": [
       "<pandas.io.formats.style.Styler at 0x20cbe905650>"
      ]
     },
     "execution_count": 45,
     "metadata": {},
     "output_type": "execute_result"
    }
   ],
   "source": [
    "#MosT common positive words\n",
    "top = Counter([item for sublist in Positive_sent['temp_list'] for item in sublist])\n",
    "temp_positive = pd.DataFrame(top.most_common(20))\n",
    "temp_positive.columns = ['Common_words','count']\n",
    "temp_positive.style.background_gradient(cmap='Purples')"
   ]
  },
  {
   "cell_type": "code",
   "execution_count": 46,
   "id": "0bc0e40f",
   "metadata": {},
   "outputs": [
    {
     "data": {
      "text/html": [
       "<style type=\"text/css\">\n",
       "#T_2635c_row0_col1 {\n",
       "  background-color: #00441b;\n",
       "  color: #f1f1f1;\n",
       "}\n",
       "#T_2635c_row1_col1 {\n",
       "  background-color: #a7dba0;\n",
       "  color: #000000;\n",
       "}\n",
       "#T_2635c_row2_col1 {\n",
       "  background-color: #dbf1d5;\n",
       "  color: #000000;\n",
       "}\n",
       "#T_2635c_row3_col1 {\n",
       "  background-color: #e7f6e3;\n",
       "  color: #000000;\n",
       "}\n",
       "#T_2635c_row4_col1 {\n",
       "  background-color: #e8f6e4;\n",
       "  color: #000000;\n",
       "}\n",
       "#T_2635c_row5_col1 {\n",
       "  background-color: #e9f7e5;\n",
       "  color: #000000;\n",
       "}\n",
       "#T_2635c_row6_col1 {\n",
       "  background-color: #ebf7e7;\n",
       "  color: #000000;\n",
       "}\n",
       "#T_2635c_row7_col1 {\n",
       "  background-color: #ecf8e8;\n",
       "  color: #000000;\n",
       "}\n",
       "#T_2635c_row8_col1 {\n",
       "  background-color: #eff9eb;\n",
       "  color: #000000;\n",
       "}\n",
       "#T_2635c_row9_col1 {\n",
       "  background-color: #f1faee;\n",
       "  color: #000000;\n",
       "}\n",
       "#T_2635c_row10_col1 {\n",
       "  background-color: #f2faf0;\n",
       "  color: #000000;\n",
       "}\n",
       "#T_2635c_row11_col1 {\n",
       "  background-color: #f3faf0;\n",
       "  color: #000000;\n",
       "}\n",
       "#T_2635c_row12_col1 {\n",
       "  background-color: #f4fbf2;\n",
       "  color: #000000;\n",
       "}\n",
       "#T_2635c_row13_col1, #T_2635c_row14_col1, #T_2635c_row15_col1 {\n",
       "  background-color: #f5fbf3;\n",
       "  color: #000000;\n",
       "}\n",
       "#T_2635c_row16_col1, #T_2635c_row17_col1 {\n",
       "  background-color: #f6fcf4;\n",
       "  color: #000000;\n",
       "}\n",
       "#T_2635c_row18_col1, #T_2635c_row19_col1 {\n",
       "  background-color: #f7fcf5;\n",
       "  color: #000000;\n",
       "}\n",
       "</style>\n",
       "<table id=\"T_2635c\">\n",
       "  <thead>\n",
       "    <tr>\n",
       "      <th class=\"blank level0\" >&nbsp;</th>\n",
       "      <th id=\"T_2635c_level0_col0\" class=\"col_heading level0 col0\" >Common_words</th>\n",
       "      <th id=\"T_2635c_level0_col1\" class=\"col_heading level0 col1\" >count</th>\n",
       "    </tr>\n",
       "  </thead>\n",
       "  <tbody>\n",
       "    <tr>\n",
       "      <th id=\"T_2635c_level0_row0\" class=\"row_heading level0 row0\" >0</th>\n",
       "      <td id=\"T_2635c_row0_col0\" class=\"data row0 col0\" >নাটক</td>\n",
       "      <td id=\"T_2635c_row0_col1\" class=\"data row0 col1\" >1808</td>\n",
       "    </tr>\n",
       "    <tr>\n",
       "      <th id=\"T_2635c_level0_row1\" class=\"row_heading level0 row1\" >1</th>\n",
       "      <td id=\"T_2635c_row1_col0\" class=\"data row1 col0\" >ফালতু</td>\n",
       "      <td id=\"T_2635c_row1_col1\" class=\"data row1 col1\" >719</td>\n",
       "    </tr>\n",
       "    <tr>\n",
       "      <th id=\"T_2635c_level0_row2\" class=\"row_heading level0 row2\" >2</th>\n",
       "      <td id=\"T_2635c_row2_col0\" class=\"data row2 col0\" >একটা</td>\n",
       "      <td id=\"T_2635c_row2_col1\" class=\"data row2 col1\" >400</td>\n",
       "    </tr>\n",
       "    <tr>\n",
       "      <th id=\"T_2635c_level0_row3\" class=\"row_heading level0 row3\" >3</th>\n",
       "      <td id=\"T_2635c_row3_col0\" class=\"data row3 col0\" >ভালো</td>\n",
       "      <td id=\"T_2635c_row3_col1\" class=\"data row3 col1\" >301</td>\n",
       "    </tr>\n",
       "    <tr>\n",
       "      <th id=\"T_2635c_level0_row4\" class=\"row_heading level0 row4\" >4</th>\n",
       "      <td id=\"T_2635c_row4_col0\" class=\"data row4 col0\" >না</td>\n",
       "      <td id=\"T_2635c_row4_col1\" class=\"data row4 col1\" >287</td>\n",
       "    </tr>\n",
       "    <tr>\n",
       "      <th id=\"T_2635c_level0_row5\" class=\"row_heading level0 row5\" >5</th>\n",
       "      <td id=\"T_2635c_row5_col0\" class=\"data row5 col0\" >নাটকের</td>\n",
       "      <td id=\"T_2635c_row5_col1\" class=\"data row5 col1\" >276</td>\n",
       "    </tr>\n",
       "    <tr>\n",
       "      <th id=\"T_2635c_level0_row6\" class=\"row_heading level0 row6\" >6</th>\n",
       "      <td id=\"T_2635c_row6_col0\" class=\"data row6 col0\" >বাজে</td>\n",
       "      <td id=\"T_2635c_row6_col1\" class=\"data row6 col1\" >262</td>\n",
       "    </tr>\n",
       "    <tr>\n",
       "      <th id=\"T_2635c_level0_row7\" class=\"row_heading level0 row7\" >7</th>\n",
       "      <td id=\"T_2635c_row7_col0\" class=\"data row7 col0\" >বালের</td>\n",
       "      <td id=\"T_2635c_row7_col1\" class=\"data row7 col1\" >237</td>\n",
       "    </tr>\n",
       "    <tr>\n",
       "      <th id=\"T_2635c_level0_row8\" class=\"row_heading level0 row8\" >8</th>\n",
       "      <td id=\"T_2635c_row8_col0\" class=\"data row8 col0\" >টা</td>\n",
       "      <td id=\"T_2635c_row8_col1\" class=\"data row8 col1\" >214</td>\n",
       "    </tr>\n",
       "    <tr>\n",
       "      <th id=\"T_2635c_level0_row9\" class=\"row_heading level0 row9\" >9</th>\n",
       "      <td id=\"T_2635c_row9_col0\" class=\"data row9 col0\" >ভাই</td>\n",
       "      <td id=\"T_2635c_row9_col1\" class=\"data row9 col1\" >185</td>\n",
       "    </tr>\n",
       "    <tr>\n",
       "      <th id=\"T_2635c_level0_row10\" class=\"row_heading level0 row10\" >10</th>\n",
       "      <td id=\"T_2635c_row10_col0\" class=\"data row10 col0\" >নাটকে</td>\n",
       "      <td id=\"T_2635c_row10_col1\" class=\"data row10 col1\" >167</td>\n",
       "    </tr>\n",
       "    <tr>\n",
       "      <th id=\"T_2635c_level0_row11\" class=\"row_heading level0 row11\" >11</th>\n",
       "      <td id=\"T_2635c_row11_col0\" class=\"data row11 col0\" >অভিনয়</td>\n",
       "      <td id=\"T_2635c_row11_col1\" class=\"data row11 col1\" >160</td>\n",
       "    </tr>\n",
       "    <tr>\n",
       "      <th id=\"T_2635c_level0_row12\" class=\"row_heading level0 row12\" >12</th>\n",
       "      <td id=\"T_2635c_row12_col0\" class=\"data row12 col0\" >খারাপ</td>\n",
       "      <td id=\"T_2635c_row12_col1\" class=\"data row12 col1\" >145</td>\n",
       "    </tr>\n",
       "    <tr>\n",
       "      <th id=\"T_2635c_level0_row13\" class=\"row_heading level0 row13\" >13</th>\n",
       "      <td id=\"T_2635c_row13_col0\" class=\"data row13 col0\" >ভাল</td>\n",
       "      <td id=\"T_2635c_row13_col1\" class=\"data row13 col1\" >134</td>\n",
       "    </tr>\n",
       "    <tr>\n",
       "      <th id=\"T_2635c_level0_row14\" class=\"row_heading level0 row14\" >14</th>\n",
       "      <td id=\"T_2635c_row14_col0\" class=\"data row14 col0\" >লাগে</td>\n",
       "      <td id=\"T_2635c_row14_col1\" class=\"data row14 col1\" >132</td>\n",
       "    </tr>\n",
       "    <tr>\n",
       "      <th id=\"T_2635c_level0_row15\" class=\"row_heading level0 row15\" >15</th>\n",
       "      <td id=\"T_2635c_row15_col0\" class=\"data row15 col0\" >নষ্ট</td>\n",
       "      <td id=\"T_2635c_row15_col1\" class=\"data row15 col1\" >132</td>\n",
       "    </tr>\n",
       "    <tr>\n",
       "      <th id=\"T_2635c_level0_row16\" class=\"row_heading level0 row16\" >16</th>\n",
       "      <td id=\"T_2635c_row16_col0\" class=\"data row16 col0\" >হয়ে</td>\n",
       "      <td id=\"T_2635c_row16_col1\" class=\"data row16 col1\" >123</td>\n",
       "    </tr>\n",
       "    <tr>\n",
       "      <th id=\"T_2635c_level0_row17\" class=\"row_heading level0 row17\" >17</th>\n",
       "      <td id=\"T_2635c_row17_col0\" class=\"data row17 col0\" >পরিচালক</td>\n",
       "      <td id=\"T_2635c_row17_col1\" class=\"data row17 col1\" >123</td>\n",
       "    </tr>\n",
       "    <tr>\n",
       "      <th id=\"T_2635c_level0_row18\" class=\"row_heading level0 row18\" >18</th>\n",
       "      <td id=\"T_2635c_row18_col0\" class=\"data row18 col0\" >কথা</td>\n",
       "      <td id=\"T_2635c_row18_col1\" class=\"data row18 col1\" >111</td>\n",
       "    </tr>\n",
       "    <tr>\n",
       "      <th id=\"T_2635c_level0_row19\" class=\"row_heading level0 row19\" >19</th>\n",
       "      <td id=\"T_2635c_row19_col0\" class=\"data row19 col0\" >নাই</td>\n",
       "      <td id=\"T_2635c_row19_col1\" class=\"data row19 col1\" >110</td>\n",
       "    </tr>\n",
       "  </tbody>\n",
       "</table>\n"
      ],
      "text/plain": [
       "<pandas.io.formats.style.Styler at 0x20cbea67950>"
      ]
     },
     "execution_count": 46,
     "metadata": {},
     "output_type": "execute_result"
    }
   ],
   "source": [
    "#MosT common negative words\n",
    "top = Counter([item for sublist in Negative_sent['temp_list'] for item in sublist])\n",
    "temp_negative = pd.DataFrame(top.most_common(20))\n",
    "temp_negative.columns = ['Common_words','count']\n",
    "temp_negative.style.background_gradient(cmap='Greens')"
   ]
  },
  {
   "cell_type": "markdown",
   "id": "9029be1e",
   "metadata": {},
   "source": [
    "### Look at Unique Words in each Segment"
   ]
  },
  {
   "cell_type": "code",
   "execution_count": 47,
   "id": "95b99cf4",
   "metadata": {},
   "outputs": [],
   "source": [
    "raw_text = [word for word_list in df['temp_list'] for word in word_list]"
   ]
  },
  {
   "cell_type": "code",
   "execution_count": 48,
   "id": "6296fc39",
   "metadata": {},
   "outputs": [],
   "source": [
    "def words_unique(Tag, numwords, raw_words):\n",
    "    allother = []\n",
    "    for item in df[df.Tag != Tag]['temp_list']:\n",
    "        for word in item:\n",
    "            allother.append(word)\n",
    "    allother = list(set(allother))\n",
    "    \n",
    "    specificnonly = [x for x in raw_text if x not in allother]\n",
    "    \n",
    "    mycounter = Counter()\n",
    "    \n",
    "    for item in df[df.Tag == Tag]['temp_list']:\n",
    "        for word in item:\n",
    "            mycounter[word] += 1\n",
    "    keep = list(specificnonly)\n",
    "    \n",
    "    for word in list(mycounter):\n",
    "        if word not in keep:\n",
    "            del mycounter[word]\n",
    "    \n",
    "    Unique_words = pd.DataFrame(mycounter.most_common(numwords), columns=['words', 'count'])\n",
    "    \n",
    "    return Unique_words"
   ]
  },
  {
   "cell_type": "markdown",
   "id": "f2f57ac1",
   "metadata": {},
   "source": [
    "#### Positive"
   ]
  },
  {
   "cell_type": "code",
   "execution_count": 49,
   "id": "3e9e9fe6",
   "metadata": {},
   "outputs": [
    {
     "name": "stdout",
     "output_type": "stream",
     "text": [
      "The top 20 unique words in Positive Tweets are:\n"
     ]
    },
    {
     "data": {
      "text/html": [
       "<style type=\"text/css\">\n",
       "#T_7f8d7_row0_col1 {\n",
       "  background-color: #00441b;\n",
       "  color: #f1f1f1;\n",
       "}\n",
       "#T_7f8d7_row1_col1 {\n",
       "  background-color: #80ca80;\n",
       "  color: #000000;\n",
       "}\n",
       "#T_7f8d7_row2_col1 {\n",
       "  background-color: #83cb82;\n",
       "  color: #000000;\n",
       "}\n",
       "#T_7f8d7_row3_col1 {\n",
       "  background-color: #99d595;\n",
       "  color: #000000;\n",
       "}\n",
       "#T_7f8d7_row4_col1 {\n",
       "  background-color: #c7e9c0;\n",
       "  color: #000000;\n",
       "}\n",
       "#T_7f8d7_row5_col1 {\n",
       "  background-color: #cdecc7;\n",
       "  color: #000000;\n",
       "}\n",
       "#T_7f8d7_row6_col1 {\n",
       "  background-color: #d5efcf;\n",
       "  color: #000000;\n",
       "}\n",
       "#T_7f8d7_row7_col1 {\n",
       "  background-color: #e4f5df;\n",
       "  color: #000000;\n",
       "}\n",
       "#T_7f8d7_row8_col1 {\n",
       "  background-color: #e8f6e4;\n",
       "  color: #000000;\n",
       "}\n",
       "#T_7f8d7_row9_col1 {\n",
       "  background-color: #ebf7e7;\n",
       "  color: #000000;\n",
       "}\n",
       "#T_7f8d7_row10_col1 {\n",
       "  background-color: #edf8e9;\n",
       "  color: #000000;\n",
       "}\n",
       "#T_7f8d7_row11_col1, #T_7f8d7_row12_col1 {\n",
       "  background-color: #edf8ea;\n",
       "  color: #000000;\n",
       "}\n",
       "#T_7f8d7_row13_col1 {\n",
       "  background-color: #eff9eb;\n",
       "  color: #000000;\n",
       "}\n",
       "#T_7f8d7_row14_col1 {\n",
       "  background-color: #f0f9ed;\n",
       "  color: #000000;\n",
       "}\n",
       "#T_7f8d7_row15_col1 {\n",
       "  background-color: #f5fbf2;\n",
       "  color: #000000;\n",
       "}\n",
       "#T_7f8d7_row16_col1, #T_7f8d7_row17_col1, #T_7f8d7_row18_col1 {\n",
       "  background-color: #f6fcf4;\n",
       "  color: #000000;\n",
       "}\n",
       "#T_7f8d7_row19_col1 {\n",
       "  background-color: #f7fcf5;\n",
       "  color: #000000;\n",
       "}\n",
       "</style>\n",
       "<table id=\"T_7f8d7\">\n",
       "  <thead>\n",
       "    <tr>\n",
       "      <th class=\"blank level0\" >&nbsp;</th>\n",
       "      <th id=\"T_7f8d7_level0_col0\" class=\"col_heading level0 col0\" >words</th>\n",
       "      <th id=\"T_7f8d7_level0_col1\" class=\"col_heading level0 col1\" >count</th>\n",
       "    </tr>\n",
       "  </thead>\n",
       "  <tbody>\n",
       "    <tr>\n",
       "      <th id=\"T_7f8d7_level0_row0\" class=\"row_heading level0 row0\" >0</th>\n",
       "      <td id=\"T_7f8d7_row0_col0\" class=\"data row0 col0\" >আরিয়ান</td>\n",
       "      <td id=\"T_7f8d7_row0_col1\" class=\"data row0 col1\" >275</td>\n",
       "    </tr>\n",
       "    <tr>\n",
       "      <th id=\"T_7f8d7_level0_row1\" class=\"row_heading level0 row1\" >1</th>\n",
       "      <td id=\"T_7f8d7_row1_col0\" class=\"data row1 col0\" >রহমান</td>\n",
       "      <td id=\"T_7f8d7_row1_col1\" class=\"data row1 col1\" >144</td>\n",
       "    </tr>\n",
       "    <tr>\n",
       "      <th id=\"T_7f8d7_level0_row2\" class=\"row_heading level0 row2\" >2</th>\n",
       "      <td id=\"T_7f8d7_row2_col0\" class=\"data row2 col0\" >মিজানুর</td>\n",
       "      <td id=\"T_7f8d7_row2_col1\" class=\"data row2 col1\" >142</td>\n",
       "    </tr>\n",
       "    <tr>\n",
       "      <th id=\"T_7f8d7_level0_row3\" class=\"row_heading level0 row3\" >3</th>\n",
       "      <td id=\"T_7f8d7_row3_col0\" class=\"data row3 col0\" >ইউ</td>\n",
       "      <td id=\"T_7f8d7_row3_col1\" class=\"data row3 col1\" >127</td>\n",
       "    </tr>\n",
       "    <tr>\n",
       "      <th id=\"T_7f8d7_level0_row4\" class=\"row_heading level0 row4\" >4</th>\n",
       "      <td id=\"T_7f8d7_row4_col0\" class=\"data row4 col0\" >দারুণ</td>\n",
       "      <td id=\"T_7f8d7_row4_col1\" class=\"data row4 col1\" >91</td>\n",
       "    </tr>\n",
       "    <tr>\n",
       "      <th id=\"T_7f8d7_level0_row5\" class=\"row_heading level0 row5\" >5</th>\n",
       "      <td id=\"T_7f8d7_row5_col0\" class=\"data row5 col0\" >রাখতে</td>\n",
       "      <td id=\"T_7f8d7_row5_col1\" class=\"data row5 col1\" >84</td>\n",
       "    </tr>\n",
       "    <tr>\n",
       "      <th id=\"T_7f8d7_level0_row6\" class=\"row_heading level0 row6\" >6</th>\n",
       "      <td id=\"T_7f8d7_row6_col0\" class=\"data row6 col0\" >বৃন্দাবন</td>\n",
       "      <td id=\"T_7f8d7_row6_col1\" class=\"data row6 col1\" >77</td>\n",
       "    </tr>\n",
       "    <tr>\n",
       "      <th id=\"T_7f8d7_level0_row7\" class=\"row_heading level0 row7\" >7</th>\n",
       "      <td id=\"T_7f8d7_row7_col0\" class=\"data row7 col0\" >মিলিয়ে</td>\n",
       "      <td id=\"T_7f8d7_row7_col1\" class=\"data row7 col1\" >61</td>\n",
       "    </tr>\n",
       "    <tr>\n",
       "      <th id=\"T_7f8d7_level0_row8\" class=\"row_heading level0 row8\" >8</th>\n",
       "      <td id=\"T_7f8d7_row8_col0\" class=\"data row8 col0\" >অবিরাম</td>\n",
       "      <td id=\"T_7f8d7_row8_col1\" class=\"data row8 col1\" >54</td>\n",
       "    </tr>\n",
       "    <tr>\n",
       "      <th id=\"T_7f8d7_level0_row9\" class=\"row_heading level0 row9\" >9</th>\n",
       "      <td id=\"T_7f8d7_row9_col0\" class=\"data row9 col0\" >থাকুক</td>\n",
       "      <td id=\"T_7f8d7_row9_col1\" class=\"data row9 col1\" >51</td>\n",
       "    </tr>\n",
       "    <tr>\n",
       "      <th id=\"T_7f8d7_level0_row10\" class=\"row_heading level0 row10\" >10</th>\n",
       "      <td id=\"T_7f8d7_row10_col0\" class=\"data row10 col0\" >লাগার</td>\n",
       "      <td id=\"T_7f8d7_row10_col1\" class=\"data row10 col1\" >47</td>\n",
       "    </tr>\n",
       "    <tr>\n",
       "      <th id=\"T_7f8d7_level0_row11\" class=\"row_heading level0 row11\" >11</th>\n",
       "      <td id=\"T_7f8d7_row11_col0\" class=\"data row11 col0\" >মুগ্ধ</td>\n",
       "      <td id=\"T_7f8d7_row11_col1\" class=\"data row11 col1\" >46</td>\n",
       "    </tr>\n",
       "    <tr>\n",
       "      <th id=\"T_7f8d7_level0_row12\" class=\"row_heading level0 row12\" >12</th>\n",
       "      <td id=\"T_7f8d7_row12_col0\" class=\"data row12 col0\" >শাহনাজ</td>\n",
       "      <td id=\"T_7f8d7_row12_col1\" class=\"data row12 col1\" >46</td>\n",
       "    </tr>\n",
       "    <tr>\n",
       "      <th id=\"T_7f8d7_level0_row13\" class=\"row_heading level0 row13\" >13</th>\n",
       "      <td id=\"T_7f8d7_row13_col0\" class=\"data row13 col0\" >দাস</td>\n",
       "      <td id=\"T_7f8d7_row13_col1\" class=\"data row13 col1\" >44</td>\n",
       "    </tr>\n",
       "    <tr>\n",
       "      <th id=\"T_7f8d7_level0_row14\" class=\"row_heading level0 row14\" >14</th>\n",
       "      <td id=\"T_7f8d7_row14_col0\" class=\"data row14 col0\" >আরিয়ান</td>\n",
       "      <td id=\"T_7f8d7_row14_col1\" class=\"data row14 col1\" >41</td>\n",
       "    </tr>\n",
       "    <tr>\n",
       "      <th id=\"T_7f8d7_level0_row15\" class=\"row_heading level0 row15\" >15</th>\n",
       "      <td id=\"T_7f8d7_row15_col0\" class=\"data row15 col0\" >উপদেশ</td>\n",
       "      <td id=\"T_7f8d7_row15_col1\" class=\"data row15 col1\" >33</td>\n",
       "    </tr>\n",
       "    <tr>\n",
       "      <th id=\"T_7f8d7_level0_row16\" class=\"row_heading level0 row16\" >16</th>\n",
       "      <td id=\"T_7f8d7_row16_col0\" class=\"data row16 col0\" >নামাযের</td>\n",
       "      <td id=\"T_7f8d7_row16_col1\" class=\"data row16 col1\" >31</td>\n",
       "    </tr>\n",
       "    <tr>\n",
       "      <th id=\"T_7f8d7_level0_row17\" class=\"row_heading level0 row17\" >17</th>\n",
       "      <td id=\"T_7f8d7_row17_col0\" class=\"data row17 col0\" >আমারই</td>\n",
       "      <td id=\"T_7f8d7_row17_col1\" class=\"data row17 col1\" >30</td>\n",
       "    </tr>\n",
       "    <tr>\n",
       "      <th id=\"T_7f8d7_level0_row18\" class=\"row_heading level0 row18\" >18</th>\n",
       "      <td id=\"T_7f8d7_row18_col0\" class=\"data row18 col0\" >ছুঁয়ে</td>\n",
       "      <td id=\"T_7f8d7_row18_col1\" class=\"data row18 col1\" >30</td>\n",
       "    </tr>\n",
       "    <tr>\n",
       "      <th id=\"T_7f8d7_level0_row19\" class=\"row_heading level0 row19\" >19</th>\n",
       "      <td id=\"T_7f8d7_row19_col0\" class=\"data row19 col0\" >nice</td>\n",
       "      <td id=\"T_7f8d7_row19_col1\" class=\"data row19 col1\" >29</td>\n",
       "    </tr>\n",
       "  </tbody>\n",
       "</table>\n"
      ],
      "text/plain": [
       "<pandas.io.formats.style.Styler at 0x20cbe4bda10>"
      ]
     },
     "execution_count": 49,
     "metadata": {},
     "output_type": "execute_result"
    }
   ],
   "source": [
    "Unique_Positive= words_unique('positive', 20, raw_text)\n",
    "print(\"The top 20 unique words in Positive Tweets are:\")\n",
    "Unique_Positive.style.background_gradient(cmap='Greens')"
   ]
  },
  {
   "cell_type": "markdown",
   "id": "5fbf6504",
   "metadata": {},
   "source": [
    "#### Negative unique"
   ]
  },
  {
   "cell_type": "code",
   "execution_count": 50,
   "id": "f92104ed",
   "metadata": {},
   "outputs": [
    {
     "name": "stdout",
     "output_type": "stream",
     "text": [
      "The top 10 unique words in Negative Tweets are:\n"
     ]
    },
    {
     "data": {
      "text/html": [
       "<style type=\"text/css\">\n",
       "#T_bb333_row0_col1 {\n",
       "  background-color: #67000d;\n",
       "  color: #f1f1f1;\n",
       "}\n",
       "#T_bb333_row1_col1 {\n",
       "  background-color: #9c0d14;\n",
       "  color: #f1f1f1;\n",
       "}\n",
       "#T_bb333_row2_col1 {\n",
       "  background-color: #fc9b7c;\n",
       "  color: #000000;\n",
       "}\n",
       "#T_bb333_row3_col1 {\n",
       "  background-color: #fdc5ae;\n",
       "  color: #000000;\n",
       "}\n",
       "#T_bb333_row4_col1 {\n",
       "  background-color: #fdcbb6;\n",
       "  color: #000000;\n",
       "}\n",
       "#T_bb333_row5_col1, #T_bb333_row6_col1 {\n",
       "  background-color: #ffeee6;\n",
       "  color: #000000;\n",
       "}\n",
       "#T_bb333_row7_col1, #T_bb333_row8_col1, #T_bb333_row9_col1 {\n",
       "  background-color: #fff5f0;\n",
       "  color: #000000;\n",
       "}\n",
       "</style>\n",
       "<table id=\"T_bb333\">\n",
       "  <thead>\n",
       "    <tr>\n",
       "      <th class=\"blank level0\" >&nbsp;</th>\n",
       "      <th id=\"T_bb333_level0_col0\" class=\"col_heading level0 col0\" >words</th>\n",
       "      <th id=\"T_bb333_level0_col1\" class=\"col_heading level0 col1\" >count</th>\n",
       "    </tr>\n",
       "  </thead>\n",
       "  <tbody>\n",
       "    <tr>\n",
       "      <th id=\"T_bb333_level0_row0\" class=\"row_heading level0 row0\" >0</th>\n",
       "      <td id=\"T_bb333_row0_col0\" class=\"data row0 col0\" >খোর</td>\n",
       "      <td id=\"T_bb333_row0_col1\" class=\"data row0 col1\" >61</td>\n",
       "    </tr>\n",
       "    <tr>\n",
       "      <th id=\"T_bb333_level0_row1\" class=\"row_heading level0 row1\" >1</th>\n",
       "      <td id=\"T_bb333_row1_col0\" class=\"data row1 col0\" >করিমের</td>\n",
       "      <td id=\"T_bb333_row1_col1\" class=\"data row1 col1\" >56</td>\n",
       "    </tr>\n",
       "    <tr>\n",
       "      <th id=\"T_bb333_level0_row2\" class=\"row_heading level0 row2\" >2</th>\n",
       "      <td id=\"T_bb333_row2_col0\" class=\"data row2 col0\" >সালা</td>\n",
       "      <td id=\"T_bb333_row2_col1\" class=\"data row2 col1\" >31</td>\n",
       "    </tr>\n",
       "    <tr>\n",
       "      <th id=\"T_bb333_level0_row3\" class=\"row_heading level0 row3\" >3</th>\n",
       "      <td id=\"T_bb333_row3_col0\" class=\"data row3 col0\" >কাচ্চি</td>\n",
       "      <td id=\"T_bb333_row3_col1\" class=\"data row3 col1\" >25</td>\n",
       "    </tr>\n",
       "    <tr>\n",
       "      <th id=\"T_bb333_level0_row4\" class=\"row_heading level0 row4\" >4</th>\n",
       "      <td id=\"T_bb333_row4_col0\" class=\"data row4 col0\" >পালতু</td>\n",
       "      <td id=\"T_bb333_row4_col1\" class=\"data row4 col1\" >24</td>\n",
       "    </tr>\n",
       "    <tr>\n",
       "      <th id=\"T_bb333_level0_row5\" class=\"row_heading level0 row5\" >5</th>\n",
       "      <td id=\"T_bb333_row5_col0\" class=\"data row5 col0\" >গাজা</td>\n",
       "      <td id=\"T_bb333_row5_col1\" class=\"data row5 col1\" >17</td>\n",
       "    </tr>\n",
       "    <tr>\n",
       "      <th id=\"T_bb333_level0_row6\" class=\"row_heading level0 row6\" >6</th>\n",
       "      <td id=\"T_bb333_row6_col0\" class=\"data row6 col0\" >এমবি</td>\n",
       "      <td id=\"T_bb333_row6_col1\" class=\"data row6 col1\" >17</td>\n",
       "    </tr>\n",
       "    <tr>\n",
       "      <th id=\"T_bb333_level0_row7\" class=\"row_heading level0 row7\" >7</th>\n",
       "      <td id=\"T_bb333_row7_col0\" class=\"data row7 col0\" >আগা</td>\n",
       "      <td id=\"T_bb333_row7_col1\" class=\"data row7 col1\" >15</td>\n",
       "    </tr>\n",
       "    <tr>\n",
       "      <th id=\"T_bb333_level0_row8\" class=\"row_heading level0 row8\" >8</th>\n",
       "      <td id=\"T_bb333_row8_col0\" class=\"data row8 col0\" >যত্তসব</td>\n",
       "      <td id=\"T_bb333_row8_col1\" class=\"data row8 col1\" >15</td>\n",
       "    </tr>\n",
       "    <tr>\n",
       "      <th id=\"T_bb333_level0_row9\" class=\"row_heading level0 row9\" >9</th>\n",
       "      <td id=\"T_bb333_row9_col0\" class=\"data row9 col0\" >ক্লাস</td>\n",
       "      <td id=\"T_bb333_row9_col1\" class=\"data row9 col1\" >15</td>\n",
       "    </tr>\n",
       "  </tbody>\n",
       "</table>\n"
      ],
      "text/plain": [
       "<pandas.io.formats.style.Styler at 0x20cbe405210>"
      ]
     },
     "execution_count": 50,
     "metadata": {},
     "output_type": "execute_result"
    }
   ],
   "source": [
    "Unique_Negative= words_unique('negative', 10, raw_text)\n",
    "print(\"The top 10 unique words in Negative Tweets are:\")\n",
    "Unique_Negative.style.background_gradient(cmap='Reds')"
   ]
  }
 ],
 "metadata": {
  "kernelspec": {
   "display_name": "base",
   "language": "python",
   "name": "python3"
  },
  "language_info": {
   "codemirror_mode": {
    "name": "ipython",
    "version": 3
   },
   "file_extension": ".py",
   "mimetype": "text/x-python",
   "name": "python",
   "nbconvert_exporter": "python",
   "pygments_lexer": "ipython3",
   "version": "3.11.5"
  }
 },
 "nbformat": 4,
 "nbformat_minor": 5
}
